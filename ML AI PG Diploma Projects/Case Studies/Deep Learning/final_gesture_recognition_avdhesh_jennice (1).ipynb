{
 "cells": [
  {
   "cell_type": "markdown",
   "metadata": {
    "id": "bq-u6E-ZL157"
   },
   "source": [
    "# Gesture Recognition\n",
    "In this group project, you are going to build a 3D Conv model that will be able to predict the 5 gestures correctly. Please import the following libraries to get started."
   ]
  },
  {
   "cell_type": "code",
   "execution_count": 1,
   "metadata": {
    "colab": {
     "base_uri": "https://localhost:8080/"
    },
    "id": "gbDCI2zJK_FG",
    "outputId": "0f1b8180-8e97-449c-fb9d-9a7c139f3d23"
   },
   "outputs": [],
   "source": [
    "# from google.colab import drive\n",
    "# drive.mount('/content/drive')"
   ]
  },
  {
   "cell_type": "code",
   "execution_count": 2,
   "metadata": {
    "id": "W4RtGvpnL16C"
   },
   "outputs": [],
   "source": [
    "import numpy as np\n",
    "import os\n",
    "#!pip3 install Pillow\n",
    "# !pip install scipy\n",
    "#!pip install scipy==1.1.0\n",
    "# from scipy.misc import  imresize\n",
    "from skimage.transform import rescale, resize\n",
    "from imageio import imread\n",
    "import datetime\n",
    "import os\n",
    "import pathlib\n",
    "import pandas as pd"
   ]
  },
  {
   "cell_type": "markdown",
   "metadata": {
    "id": "09Bs3A9ZL16D"
   },
   "source": [
    "We set the random seed so that the results don't vary drastically."
   ]
  },
  {
   "cell_type": "code",
   "execution_count": 3,
   "metadata": {
    "id": "fUFEQVGWL16D"
   },
   "outputs": [],
   "source": [
    "np.random.seed(30)\n",
    "import random as rn\n",
    "rn.seed(30)\n",
    "from keras import backend as K\n",
    "import tensorflow as tf\n",
    "tf.random.set_seed(30)"
   ]
  },
  {
   "cell_type": "markdown",
   "metadata": {
    "id": "W_dPZkCkjcpK"
   },
   "source": [
    "Adding goggle drive mount\n"
   ]
  },
  {
   "cell_type": "code",
   "execution_count": 4,
   "metadata": {
    "colab": {
     "base_uri": "https://localhost:8080/"
    },
    "id": "yYxnuNkujb4P",
    "outputId": "2fcc6d44-5f58-4e45-dd2d-2dda466813b9"
   },
   "outputs": [],
   "source": [
    "# ## If you are using the data by mounting the google drive, use the following :\n",
    "# from google.colab import drive\n",
    "# drive.mount('/content/gdrive')"
   ]
  },
  {
   "cell_type": "markdown",
   "metadata": {
    "id": "w-mvwycZL16D"
   },
   "source": [
    "In this block, you read the folder names for training and validation. You also set the `batch_size` here. Note that you set the batch size in such a way that you are able to use the GPU in full capacity. You keep increasing the batch size until the machine throws an error."
   ]
  },
  {
   "cell_type": "code",
   "execution_count": 5,
   "metadata": {
    "id": "R85tGTsVL16E"
   },
   "outputs": [],
   "source": [
    "#train_doc = np.random.permutation(open('/notebooks/storage/Final_data/Collated_training/train.csv').readlines())\n",
    "#val_doc = np.random.permutation(open('/notebooks/storage/Final_data/Collated_training/val.csv').readlines())\n",
    "train_data= pathlib.Path('Project_data/train.csv')\n",
    "test_data= pathlib.Path('Project_data/val.csv')"
   ]
  },
  {
   "cell_type": "code",
   "execution_count": 6,
   "metadata": {
    "id": "RXpzEsO0-rnw"
   },
   "outputs": [],
   "source": [
    "\n",
    "train_doc= np.random.permutation(open(train_data).readlines())\n",
    "test_doc = np.random.permutation(open(test_data).readlines())\n",
    "\n",
    "batch_size = 20"
   ]
  },
  {
   "cell_type": "markdown",
   "metadata": {
    "id": "2KMKt7O5L16E"
   },
   "source": [
    "## Generator\n",
    "This is one of the most important part of the code. The overall structure of the generator has been given. In the generator, you are going to preprocess the images as you have images of 2 different dimensions as well as create a batch of video frames. You have to experiment with `img_idx`, `y`,`z` and normalization such that you get high accuracy."
   ]
  },
  {
   "cell_type": "code",
   "execution_count": 7,
   "metadata": {
    "id": "jQNmQOD0kKLO"
   },
   "outputs": [],
   "source": [
    "image_width, image_height = 100, 100\n",
    "num_classes=5\n",
    "\n",
    "def generator(source_path, folder_list, batch_size):\n",
    "    img_idx = [0,2,4,6,8,10,18,20,21,23,24,26,28,29] #create a list of image numbers you want to use for a particular video\n",
    "    while True:\n",
    "        t = np.random.permutation(folder_list)\n",
    "        num_batches = len(t)//batch_size # calculate the number of batches\n",
    "        for batch in range(num_batches): # we iterate over the number of batches\n",
    "            batch_data = np.zeros((batch_size, len(img_idx), image_height, image_width,3)) # x is the number of images you use for each video, (y,z) is the final size of the input images and 3 is the number of channels RGB\n",
    "            batch_labels = np.zeros((batch_size,5)) # batch_labels is the one hot representation of the output\n",
    "            for folder in range(batch_size): # iterate over the batch_size\n",
    "                imgs = os.listdir(source_path+'/'+ t[folder + (batch*batch_size)].split(';')[0]) # read all the images in the folder\n",
    "                for idx,item in enumerate(img_idx): #  Iterate iver the frames/images of a folder to read them in\n",
    "                    image = imread(source_path+'/'+ t[folder + (batch*batch_size)].strip().split(';')[0]+'/'+imgs[item]).astype(np.float32)\n",
    "                    \n",
    "                    # cropping the image\n",
    "                    image = image[10:10+image.shape[0], 20:20+image.shape[1]]\n",
    "                    image_resized = resize(image, (image_height, image_width)).astype(np.float32)\n",
    "                    \n",
    "                    batch_data[folder,idx,:,:,0] = (image_resized[:,:,0])/255\n",
    "                    batch_data[folder,idx,:,:,1] = (image_resized[:,:,1])/255\n",
    "                    batch_data[folder,idx,:,:,2] = (image_resized[:,:,2])/255\n",
    "                batch_labels[folder, int(t[folder + (batch*batch_size)].strip().split(';')[2])] = 1\n",
    "\n",
    "            yield batch_data, batch_labels #you yield the batch_data and the batch_labels, remember what does yield do\n",
    "       \n",
    "        remaining_seq=len(t)%batch_size\n",
    "        \n",
    "        # write the code for the remaining data points which are left after full batches\n",
    "        if (remaining_seq != 0):\n",
    "            batch_data = np.zeros((remaining_seq, len(img_idx), image_height, image_width,3)) # x is the number of images you use for each video, (y,z) is the final size of the input images and 3 is the number of channels RGB\n",
    "            batch_labels = np.zeros((remaining_seq,5)) # batch_labels is the one hot representation of the output\n",
    "            for folder in range(remaining_seq): # iterate over the batch_size\n",
    "                imgs = os.listdir(source_path+'/'+ t[folder + (num_batches*remaining_seq)].split(';')[0]) # read all the images in the folder\n",
    "                for idx,item in enumerate(img_idx): #  Iterate iver the frames/images of a folder to read them in\n",
    "                    image = imread(source_path+'/'+ t[folder + (num_batches*remaining_seq)].strip().split(';')[0]+'/'+imgs[item]).astype(np.float32)\n",
    "\n",
    "                    image_resized = resize(image, (image_height, image_width)).astype(np.float32)\n",
    "                    #crop the images and resize them. Note that the images are of 2 different shape \n",
    "                    #and the conv3D will throw error if the inputs in a batch have different shapes\n",
    "\n",
    "                    batch_data[folder,idx,:,:,0] = (image_resized[:,:,0])/255\n",
    "                    batch_data[folder,idx,:,:,1] = (image_resized[:,:,1])/255\n",
    "                    batch_data[folder,idx,:,:,2] = (image_resized[:,:,2])/255\n",
    "            yield batch_data, batch_labels"
   ]
  },
  {
   "cell_type": "markdown",
   "metadata": {
    "id": "WaaFDR5IL16F"
   },
   "source": [
    "Note here that a video is represented above in the generator as (number of images, height, width, number of channels). Take this into consideration while creating the model architecture."
   ]
  },
  {
   "cell_type": "code",
   "execution_count": 8,
   "metadata": {
    "colab": {
     "base_uri": "https://localhost:8080/"
    },
    "id": "Bkh0RcHLL16G",
    "outputId": "5b5878f8-53f5-455a-a8ce-b91e5e789d5c"
   },
   "outputs": [
    {
     "name": "stdout",
     "output_type": "stream",
     "text": [
      "# training sequences = 663\n",
      "# validation sequences = 100\n",
      "# epochs = 20\n"
     ]
    }
   ],
   "source": [
    "curr_dt_time = datetime.datetime.now()\n",
    "train_path = pathlib.Path('Project_data/train')\n",
    "val_path = pathlib.Path('Project_data/val')\n",
    "num_train_sequences = len(train_doc)\n",
    "print('# training sequences =', num_train_sequences)\n",
    "num_val_sequences = len(test_doc)\n",
    "print('# validation sequences =', num_val_sequences)\n",
    "num_epochs = 20 # choose the number of epochs\n",
    "print ('# epochs =', num_epochs)"
   ]
  },
  {
   "cell_type": "markdown",
   "metadata": {
    "id": "fkVdYxKHL16G"
   },
   "source": [
    "## Model\n",
    "Here you make the model using different functionalities that Keras provides. Remember to use `Conv3D` and `MaxPooling3D` and not `Conv2D` and `Maxpooling2D` for a 3D convolution model. You would want to use `TimeDistributed` while building a Conv2D + RNN model. Also remember that the last layer is the softmax. Design the network in such a way that the model is able to give good accuracy on the least number of parameters so that it can fit in the memory of the webcam."
   ]
  },
  {
   "cell_type": "code",
   "execution_count": 9,
   "metadata": {
    "id": "fGS6j6NgL16G"
   },
   "outputs": [],
   "source": [
    "def create_model():\n",
    "    from keras.models import Sequential, Model\n",
    "    from keras.layers import Dense, GRU, Flatten, TimeDistributed, Flatten, BatchNormalization, Activation, Dropout\n",
    "    from keras.layers.convolutional import Conv3D, MaxPooling3D\n",
    "    from keras.callbacks import ModelCheckpoint, ReduceLROnPlateau\n",
    "    from keras import optimizers\n",
    "\n",
    "    model = Sequential()\n",
    "    model.add(Conv3D(16, (3,3,3), padding ='same',\n",
    "                    input_shape=(14,image_height, image_width, 3)))\n",
    "    model.add(Activation('relu'))\n",
    "    model.add(BatchNormalization())\n",
    "    model.add(MaxPooling3D(pool_size=(2,2,2)))\n",
    "\n",
    "    model.add(Conv3D(32, (3, 3, 3), padding='same'))\n",
    "    model.add(Activation('relu'))\n",
    "    model.add(BatchNormalization())\n",
    "    model.add(MaxPooling3D(pool_size=(2, 2, 2)))\n",
    "\n",
    "    model.add(Conv3D(64, (3, 3, 3), padding='same'))\n",
    "    model.add(Activation('relu'))\n",
    "    model.add(BatchNormalization())\n",
    "    model.add(MaxPooling3D(pool_size=(2, 2, 2)))\n",
    "\n",
    "    model.add(Conv3D(128, (3, 3, 3), padding='same'))\n",
    "    model.add(Activation('relu'))\n",
    "    model.add(BatchNormalization())\n",
    "#     model.add(MaxPooling3D(pool_size=(2,2,2), strides=(2,2,2)))\n",
    "\n",
    "\n",
    "    model.add(Flatten())\n",
    "    model.add(Dense(64,activation='relu'))\n",
    "    model.add(BatchNormalization())\n",
    "    model.add(Dropout(0.25))\n",
    "\n",
    "    model.add(Dense(128,activation='relu'))\n",
    "    model.add(BatchNormalization())\n",
    "    model.add(Dropout(0.25))\n",
    "\n",
    "\n",
    "    model.add(Dense(5 ,activation='softmax'))\n",
    "\n",
    "    optimiser = optimizers.Adam()\n",
    "    model.compile(optimizer=optimiser, loss='categorical_crossentropy', metrics=['categorical_accuracy'])\n",
    "    return model"
   ]
  },
  {
   "cell_type": "markdown",
   "metadata": {
    "id": "bjN_9_BbL16H"
   },
   "source": [
    "Now that you have written the model, the next step is to `compile` the model. When you print the `summary` of the model, you'll see the total number of parameters you have to train."
   ]
  },
  {
   "cell_type": "code",
   "execution_count": 10,
   "metadata": {
    "colab": {
     "base_uri": "https://localhost:8080/"
    },
    "id": "YhxkwypKL16H",
    "outputId": "a8109bac-b1fd-4c34-b5da-b1f30a742e5b",
    "scrolled": true
   },
   "outputs": [
    {
     "name": "stdout",
     "output_type": "stream",
     "text": [
      "Model: \"sequential\"\n",
      "_________________________________________________________________\n",
      "Layer (type)                 Output Shape              Param #   \n",
      "=================================================================\n",
      "conv3d (Conv3D)              (None, 14, 100, 100, 16)  1312      \n",
      "_________________________________________________________________\n",
      "activation (Activation)      (None, 14, 100, 100, 16)  0         \n",
      "_________________________________________________________________\n",
      "batch_normalization (BatchNo (None, 14, 100, 100, 16)  64        \n",
      "_________________________________________________________________\n",
      "max_pooling3d (MaxPooling3D) (None, 7, 50, 50, 16)     0         \n",
      "_________________________________________________________________\n",
      "conv3d_1 (Conv3D)            (None, 7, 50, 50, 32)     13856     \n",
      "_________________________________________________________________\n",
      "activation_1 (Activation)    (None, 7, 50, 50, 32)     0         \n",
      "_________________________________________________________________\n",
      "batch_normalization_1 (Batch (None, 7, 50, 50, 32)     128       \n",
      "_________________________________________________________________\n",
      "max_pooling3d_1 (MaxPooling3 (None, 3, 25, 25, 32)     0         \n",
      "_________________________________________________________________\n",
      "conv3d_2 (Conv3D)            (None, 3, 25, 25, 64)     55360     \n",
      "_________________________________________________________________\n",
      "activation_2 (Activation)    (None, 3, 25, 25, 64)     0         \n",
      "_________________________________________________________________\n",
      "batch_normalization_2 (Batch (None, 3, 25, 25, 64)     256       \n",
      "_________________________________________________________________\n",
      "max_pooling3d_2 (MaxPooling3 (None, 1, 12, 12, 64)     0         \n",
      "_________________________________________________________________\n",
      "conv3d_3 (Conv3D)            (None, 1, 12, 12, 128)    221312    \n",
      "_________________________________________________________________\n",
      "activation_3 (Activation)    (None, 1, 12, 12, 128)    0         \n",
      "_________________________________________________________________\n",
      "batch_normalization_3 (Batch (None, 1, 12, 12, 128)    512       \n",
      "_________________________________________________________________\n",
      "flatten (Flatten)            (None, 18432)             0         \n",
      "_________________________________________________________________\n",
      "dense (Dense)                (None, 64)                1179712   \n",
      "_________________________________________________________________\n",
      "batch_normalization_4 (Batch (None, 64)                256       \n",
      "_________________________________________________________________\n",
      "dropout (Dropout)            (None, 64)                0         \n",
      "_________________________________________________________________\n",
      "dense_1 (Dense)              (None, 128)               8320      \n",
      "_________________________________________________________________\n",
      "batch_normalization_5 (Batch (None, 128)               512       \n",
      "_________________________________________________________________\n",
      "dropout_1 (Dropout)          (None, 128)               0         \n",
      "_________________________________________________________________\n",
      "dense_2 (Dense)              (None, 5)                 645       \n",
      "=================================================================\n",
      "Total params: 1,482,245\n",
      "Trainable params: 1,481,381\n",
      "Non-trainable params: 864\n",
      "_________________________________________________________________\n",
      "None\n"
     ]
    }
   ],
   "source": [
    "model = create_model()\n",
    "print (model.summary())"
   ]
  },
  {
   "cell_type": "markdown",
   "metadata": {
    "id": "_NufdeTbL16I"
   },
   "source": [
    "Let us create the `train_generator` and the `val_generator` which will be used in `.fit_generator`."
   ]
  },
  {
   "cell_type": "code",
   "execution_count": 11,
   "metadata": {
    "id": "TaGUqLYOL16I"
   },
   "outputs": [],
   "source": [
    "train_generator = generator(str(train_path), train_doc, batch_size)\n",
    "val_generator = generator(str(val_path), test_doc, batch_size)"
   ]
  },
  {
   "cell_type": "code",
   "execution_count": 12,
   "metadata": {
    "colab": {
     "base_uri": "https://localhost:8080/"
    },
    "id": "8dhFtMehL16I",
    "outputId": "89606d78-8506-42d6-d672-627cbe1bd860"
   },
   "outputs": [
    {
     "name": "stderr",
     "output_type": "stream",
     "text": [
      "WARNING: Logging before flag parsing goes to stderr.\n",
      "W0504 17:36:34.844055 139747823560512 callbacks.py:1071] `period` argument is deprecated. Please use `save_freq` to specify the frequency in number of batches seen.\n"
     ]
    }
   ],
   "source": [
    "model_name = 'model_init' + '_' + str(curr_dt_time).replace(' ','').replace(':','_') + '/'\n",
    "    \n",
    "if not os.path.exists(model_name):\n",
    "    os.mkdir(model_name)\n",
    "        \n",
    "filepath = model_name + 'model-{epoch:05d}-{loss:.5f}-{categorical_accuracy:.5f}-{val_loss:.5f}-{val_categorical_accuracy:.5f}.h5'\n",
    "\n",
    "checkpoint = tf.keras.callbacks.ModelCheckpoint(filepath, monitor='val_loss', verbose=1, save_best_only=False, save_weights_only=False, mode='auto', period=1)\n",
    "\n",
    "LR = tf.keras.callbacks.ReduceLROnPlateau(monitor='val_loss', factor=0.2, verbose=1, patience=5, min_lr=0.0001)\n",
    "callbacks_list = [checkpoint, LR]"
   ]
  },
  {
   "cell_type": "markdown",
   "metadata": {
    "id": "5GIVXH_LL16J"
   },
   "source": [
    "The `steps_per_epoch` and `validation_steps` are used by `fit_generator` to decide the number of next() calls it need to make."
   ]
  },
  {
   "cell_type": "code",
   "execution_count": 13,
   "metadata": {
    "id": "9ex2FtNmL16J"
   },
   "outputs": [],
   "source": [
    "if (num_train_sequences%batch_size) == 0:\n",
    "    steps_per_epoch = int(num_train_sequences/batch_size)\n",
    "else:\n",
    "    steps_per_epoch = (num_train_sequences//batch_size) + 1\n",
    "\n",
    "if (num_val_sequences%batch_size) == 0:\n",
    "    validation_steps = int(num_val_sequences/batch_size)\n",
    "else:\n",
    "    validation_steps = (num_val_sequences//batch_size) + 1"
   ]
  },
  {
   "cell_type": "markdown",
   "metadata": {
    "id": "24KmYTrbL16J"
   },
   "source": [
    "Let us now fit the model. This will start training the model and with the help of the checkpoints, you'll be able to save the model at the end of each epoch."
   ]
  },
  {
   "cell_type": "code",
   "execution_count": 14,
   "metadata": {
    "colab": {
     "base_uri": "https://localhost:8080/"
    },
    "id": "w9OgAA-tL16J",
    "outputId": "3afc0cf8-93d4-4799-c8ca-3e130063b81e"
   },
   "outputs": [
    {
     "name": "stderr",
     "output_type": "stream",
     "text": [
      "W0504 17:36:34.861360 139747823560512 deprecation.py:323] From <ipython-input-14-e0e1f23e4705>:4: Model.fit_generator (from tensorflow.python.keras.engine.training) is deprecated and will be removed in a future version.\n",
      "Instructions for updating:\n",
      "Please use Model.fit, which supports generators.\n",
      "/mnt/disks/user/anaconda3/lib/python3.7/site-packages/skimage/transform/_warps.py:105: UserWarning: The default mode, 'constant', will be changed to 'reflect' in skimage 0.15.\n",
      "  warn(\"The default mode, 'constant', will be changed to 'reflect' in \"\n",
      "/mnt/disks/user/anaconda3/lib/python3.7/site-packages/skimage/transform/_warps.py:110: UserWarning: Anti-aliasing will be enabled by default in skimage 0.15 to avoid aliasing artifacts when down-sampling images.\n",
      "  warn(\"Anti-aliasing will be enabled by default in skimage 0.15 to \"\n"
     ]
    },
    {
     "name": "stdout",
     "output_type": "stream",
     "text": [
      "Epoch 1/20\n",
      "34/34 [==============================] - ETA: 0s - loss: 1.5904 - categorical_accuracy: 0.4208\n",
      "Epoch 00001: saving model to model_init_2021-05-0417_36_31.522840/model-00001-1.59040-0.42081-2.06961-0.18000.h5\n",
      "34/34 [==============================] - 186s 5s/step - loss: 1.5904 - categorical_accuracy: 0.4208 - val_loss: 2.0696 - val_categorical_accuracy: 0.1800 - lr: 0.0010\n",
      "Epoch 2/20\n",
      "34/34 [==============================] - ETA: 0s - loss: 1.1607 - categorical_accuracy: 0.5475\n",
      "Epoch 00002: saving model to model_init_2021-05-0417_36_31.522840/model-00002-1.16073-0.54751-3.40999-0.19000.h5\n",
      "34/34 [==============================] - 93s 3s/step - loss: 1.1607 - categorical_accuracy: 0.5475 - val_loss: 3.4100 - val_categorical_accuracy: 0.1900 - lr: 0.0010\n",
      "Epoch 3/20\n",
      "34/34 [==============================] - ETA: 0s - loss: 1.0067 - categorical_accuracy: 0.6048\n",
      "Epoch 00003: saving model to model_init_2021-05-0417_36_31.522840/model-00003-1.00674-0.60483-2.94616-0.30000.h5\n",
      "34/34 [==============================] - 93s 3s/step - loss: 1.0067 - categorical_accuracy: 0.6048 - val_loss: 2.9462 - val_categorical_accuracy: 0.3000 - lr: 0.0010\n",
      "Epoch 4/20\n",
      "34/34 [==============================] - ETA: 0s - loss: 0.9560 - categorical_accuracy: 0.6320\n",
      "Epoch 00004: saving model to model_init_2021-05-0417_36_31.522840/model-00004-0.95598-0.63198-4.41716-0.21000.h5\n",
      "34/34 [==============================] - 92s 3s/step - loss: 0.9560 - categorical_accuracy: 0.6320 - val_loss: 4.4172 - val_categorical_accuracy: 0.2100 - lr: 0.0010\n",
      "Epoch 5/20\n",
      "34/34 [==============================] - ETA: 0s - loss: 1.1030 - categorical_accuracy: 0.5716\n",
      "Epoch 00005: saving model to model_init_2021-05-0417_36_31.522840/model-00005-1.10304-0.57164-4.62811-0.27000.h5\n",
      "34/34 [==============================] - 93s 3s/step - loss: 1.1030 - categorical_accuracy: 0.5716 - val_loss: 4.6281 - val_categorical_accuracy: 0.2700 - lr: 0.0010\n",
      "Epoch 6/20\n",
      "34/34 [==============================] - ETA: 0s - loss: 0.8842 - categorical_accuracy: 0.6501\n",
      "Epoch 00006: saving model to model_init_2021-05-0417_36_31.522840/model-00006-0.88418-0.65008-3.84473-0.24000.h5\n",
      "\n",
      "Epoch 00006: ReduceLROnPlateau reducing learning rate to 0.00020000000949949026.\n",
      "34/34 [==============================] - 92s 3s/step - loss: 0.8842 - categorical_accuracy: 0.6501 - val_loss: 3.8447 - val_categorical_accuracy: 0.2400 - lr: 0.0010\n",
      "Epoch 7/20\n",
      "34/34 [==============================] - ETA: 0s - loss: 0.6785 - categorical_accuracy: 0.7466\n",
      "Epoch 00007: saving model to model_init_2021-05-0417_36_31.522840/model-00007-0.67851-0.74661-3.50069-0.25000.h5\n",
      "34/34 [==============================] - 93s 3s/step - loss: 0.6785 - categorical_accuracy: 0.7466 - val_loss: 3.5007 - val_categorical_accuracy: 0.2500 - lr: 2.0000e-04\n",
      "Epoch 8/20\n",
      "34/34 [==============================] - ETA: 0s - loss: 0.5800 - categorical_accuracy: 0.7813\n",
      "Epoch 00008: saving model to model_init_2021-05-0417_36_31.522840/model-00008-0.58000-0.78130-3.79859-0.17000.h5\n",
      "34/34 [==============================] - 94s 3s/step - loss: 0.5800 - categorical_accuracy: 0.7813 - val_loss: 3.7986 - val_categorical_accuracy: 0.1700 - lr: 2.0000e-04\n",
      "Epoch 9/20\n",
      "34/34 [==============================] - ETA: 0s - loss: 0.5709 - categorical_accuracy: 0.7964\n",
      "Epoch 00009: saving model to model_init_2021-05-0417_36_31.522840/model-00009-0.57087-0.79638-2.54671-0.35000.h5\n",
      "34/34 [==============================] - 92s 3s/step - loss: 0.5709 - categorical_accuracy: 0.7964 - val_loss: 2.5467 - val_categorical_accuracy: 0.3500 - lr: 2.0000e-04\n",
      "Epoch 10/20\n",
      "34/34 [==============================] - ETA: 0s - loss: 0.5474 - categorical_accuracy: 0.7783\n",
      "Epoch 00010: saving model to model_init_2021-05-0417_36_31.522840/model-00010-0.54738-0.77828-3.47667-0.20000.h5\n",
      "34/34 [==============================] - 94s 3s/step - loss: 0.5474 - categorical_accuracy: 0.7783 - val_loss: 3.4767 - val_categorical_accuracy: 0.2000 - lr: 2.0000e-04\n",
      "Epoch 11/20\n",
      "34/34 [==============================] - ETA: 2s - loss: 0.5616 - categorical_accuracy: 0.79 - ETA: 0s - loss: 0.5591 - categorical_accuracy: 0.7888\n",
      "Epoch 00011: saving model to model_init_2021-05-0417_36_31.522840/model-00011-0.55908-0.78884-2.29166-0.28000.h5\n",
      "\n",
      "Epoch 00011: ReduceLROnPlateau reducing learning rate to 0.0001.\n",
      "34/34 [==============================] - 93s 3s/step - loss: 0.5591 - categorical_accuracy: 0.7888 - val_loss: 2.2917 - val_categorical_accuracy: 0.2800 - lr: 2.0000e-04\n",
      "Epoch 12/20\n",
      "34/34 [==============================] - ETA: 0s - loss: 0.5076 - categorical_accuracy: 0.8130\n",
      "Epoch 00012: saving model to model_init_2021-05-0417_36_31.522840/model-00012-0.50760-0.81297-2.01423-0.30000.h5\n",
      "34/34 [==============================] - 93s 3s/step - loss: 0.5076 - categorical_accuracy: 0.8130 - val_loss: 2.0142 - val_categorical_accuracy: 0.3000 - lr: 1.0000e-04\n",
      "Epoch 13/20\n",
      "34/34 [==============================] - ETA: 0s - loss: 0.4668 - categorical_accuracy: 0.8311\n",
      "Epoch 00013: saving model to model_init_2021-05-0417_36_31.522840/model-00013-0.46681-0.83107-1.71439-0.40000.h5\n",
      "34/34 [==============================] - 92s 3s/step - loss: 0.4668 - categorical_accuracy: 0.8311 - val_loss: 1.7144 - val_categorical_accuracy: 0.4000 - lr: 1.0000e-04\n",
      "Epoch 14/20\n",
      "34/34 [==============================] - ETA: 0s - loss: 0.4790 - categorical_accuracy: 0.8084\n",
      "Epoch 00014: saving model to model_init_2021-05-0417_36_31.522840/model-00014-0.47898-0.80845-1.26792-0.48000.h5\n",
      "34/34 [==============================] - 93s 3s/step - loss: 0.4790 - categorical_accuracy: 0.8084 - val_loss: 1.2679 - val_categorical_accuracy: 0.4800 - lr: 1.0000e-04\n",
      "Epoch 15/20\n",
      "34/34 [==============================] - ETA: 0s - loss: 0.4213 - categorical_accuracy: 0.8522\n",
      "Epoch 00015: saving model to model_init_2021-05-0417_36_31.522840/model-00015-0.42131-0.85219-1.16154-0.59000.h5\n",
      "34/34 [==============================] - 93s 3s/step - loss: 0.4213 - categorical_accuracy: 0.8522 - val_loss: 1.1615 - val_categorical_accuracy: 0.5900 - lr: 1.0000e-04\n",
      "Epoch 16/20\n",
      "34/34 [==============================] - ETA: 0s - loss: 0.3932 - categorical_accuracy: 0.8446\n",
      "Epoch 00016: saving model to model_init_2021-05-0417_36_31.522840/model-00016-0.39321-0.84465-0.90270-0.66000.h5\n",
      "34/34 [==============================] - 92s 3s/step - loss: 0.3932 - categorical_accuracy: 0.8446 - val_loss: 0.9027 - val_categorical_accuracy: 0.6600 - lr: 1.0000e-04\n",
      "Epoch 17/20\n",
      "34/34 [==============================] - ETA: 0s - loss: 0.3860 - categorical_accuracy: 0.8567\n",
      "Epoch 00017: saving model to model_init_2021-05-0417_36_31.522840/model-00017-0.38604-0.85671-0.73475-0.73000.h5\n",
      "34/34 [==============================] - 93s 3s/step - loss: 0.3860 - categorical_accuracy: 0.8567 - val_loss: 0.7347 - val_categorical_accuracy: 0.7300 - lr: 1.0000e-04\n",
      "Epoch 18/20\n",
      "34/34 [==============================] - ETA: 0s - loss: 0.3637 - categorical_accuracy: 0.8869\n",
      "Epoch 00018: saving model to model_init_2021-05-0417_36_31.522840/model-00018-0.36368-0.88688-0.68930-0.78000.h5\n",
      "34/34 [==============================] - 93s 3s/step - loss: 0.3637 - categorical_accuracy: 0.8869 - val_loss: 0.6893 - val_categorical_accuracy: 0.7800 - lr: 1.0000e-04\n",
      "Epoch 19/20\n",
      "34/34 [==============================] - ETA: 0s - loss: 0.3539 - categorical_accuracy: 0.8854\n",
      "Epoch 00019: saving model to model_init_2021-05-0417_36_31.522840/model-00019-0.35391-0.88537-0.78884-0.70000.h5\n",
      "34/34 [==============================] - 93s 3s/step - loss: 0.3539 - categorical_accuracy: 0.8854 - val_loss: 0.7888 - val_categorical_accuracy: 0.7000 - lr: 1.0000e-04\n",
      "Epoch 20/20\n",
      "34/34 [==============================] - ETA: 0s - loss: 0.3455 - categorical_accuracy: 0.8793\n",
      "Epoch 00020: saving model to model_init_2021-05-0417_36_31.522840/model-00020-0.34553-0.87934-0.64692-0.74000.h5\n",
      "34/34 [==============================] - 94s 3s/step - loss: 0.3455 - categorical_accuracy: 0.8793 - val_loss: 0.6469 - val_categorical_accuracy: 0.7400 - lr: 1.0000e-04\n"
     ]
    },
    {
     "data": {
      "text/plain": [
       "<tensorflow.python.keras.callbacks.History at 0x7f18f0282208>"
      ]
     },
     "execution_count": 14,
     "metadata": {},
     "output_type": "execute_result"
    }
   ],
   "source": [
    "from keras.models import Model\n",
    "model.fit_generator(train_generator, steps_per_epoch=steps_per_epoch, epochs=num_epochs, verbose=1, \n",
    "                    callbacks=callbacks_list, validation_data=val_generator, \n",
    "                    validation_steps=validation_steps, class_weight=None, workers=1, initial_epoch=0)"
   ]
  },
  {
   "cell_type": "code",
   "execution_count": null,
   "metadata": {
    "id": "NcGnH4Ucv-f6"
   },
   "outputs": [],
   "source": []
  },
  {
   "cell_type": "code",
   "execution_count": null,
   "metadata": {
    "id": "yfR5ckF7L16K"
   },
   "outputs": [],
   "source": []
  }
 ],
 "metadata": {
  "accelerator": "GPU",
  "colab": {
   "collapsed_sections": [],
   "name": "CLEAN Neural_Nets_Project_Starter_Code.ipynb",
   "provenance": []
  },
  "kernelspec": {
   "display_name": "Python 3",
   "language": "python",
   "name": "python3"
  },
  "language_info": {
   "codemirror_mode": {
    "name": "ipython",
    "version": 3
   },
   "file_extension": ".py",
   "mimetype": "text/x-python",
   "name": "python",
   "nbconvert_exporter": "python",
   "pygments_lexer": "ipython3",
   "version": "3.7.3"
  }
 },
 "nbformat": 4,
 "nbformat_minor": 1
}
