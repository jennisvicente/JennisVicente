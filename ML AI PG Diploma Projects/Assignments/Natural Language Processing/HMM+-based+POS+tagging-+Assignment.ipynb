{
 "cells": [
  {
   "cell_type": "markdown",
   "metadata": {},
   "source": [
    "## POS tagging using modified Viterbi - Jennis Marie Vicente-Feliciano"
   ]
  },
  {
   "cell_type": "markdown",
   "metadata": {},
   "source": [
    "### Data Preparation"
   ]
  },
  {
   "cell_type": "code",
   "execution_count": 1,
   "metadata": {},
   "outputs": [],
   "source": [
    "#Importing libraries\n",
    "import nltk\n",
    "import numpy as np\n",
    "import pandas as pd\n",
    "import requests\n",
    "import matplotlib.pyplot as plt\n",
    "import seaborn as sns\n",
    "import pprint, time\n",
    "import random\n",
    "from sklearn.model_selection import train_test_split\n",
    "from nltk.tokenize import word_tokenize\n",
    "from nltk.stem import WordNetLemmatizer"
   ]
  },
  {
   "cell_type": "code",
   "execution_count": 2,
   "metadata": {},
   "outputs": [],
   "source": [
    "#nltk.download('universal_tagset')"
   ]
  },
  {
   "cell_type": "code",
   "execution_count": 3,
   "metadata": {},
   "outputs": [],
   "source": [
    "# reading the Treebank tagged sentences\n",
    "nltk_data = list(nltk.corpus.treebank.tagged_sents(tagset='universal'))"
   ]
  },
  {
   "cell_type": "code",
   "execution_count": 4,
   "metadata": {},
   "outputs": [
    {
     "name": "stdout",
     "output_type": "stream",
     "text": [
      "[[('Pierre', 'NOUN'), ('Vinken', 'NOUN'), (',', '.'), ('61', 'NUM'), ('years', 'NOUN'), ('old', 'ADJ'), (',', '.'), ('will', 'VERB'), ('join', 'VERB'), ('the', 'DET'), ('board', 'NOUN'), ('as', 'ADP'), ('a', 'DET'), ('nonexecutive', 'ADJ'), ('director', 'NOUN'), ('Nov.', 'NOUN'), ('29', 'NUM'), ('.', '.')], [('Mr.', 'NOUN'), ('Vinken', 'NOUN'), ('is', 'VERB'), ('chairman', 'NOUN'), ('of', 'ADP'), ('Elsevier', 'NOUN'), ('N.V.', 'NOUN'), (',', '.'), ('the', 'DET'), ('Dutch', 'NOUN'), ('publishing', 'VERB'), ('group', 'NOUN'), ('.', '.')], [('Rudolph', 'NOUN'), ('Agnew', 'NOUN'), (',', '.'), ('55', 'NUM'), ('years', 'NOUN'), ('old', 'ADJ'), ('and', 'CONJ'), ('former', 'ADJ'), ('chairman', 'NOUN'), ('of', 'ADP'), ('Consolidated', 'NOUN'), ('Gold', 'NOUN'), ('Fields', 'NOUN'), ('PLC', 'NOUN'), (',', '.'), ('was', 'VERB'), ('named', 'VERB'), ('*-1', 'X'), ('a', 'DET'), ('nonexecutive', 'ADJ'), ('director', 'NOUN'), ('of', 'ADP'), ('this', 'DET'), ('British', 'ADJ'), ('industrial', 'ADJ'), ('conglomerate', 'NOUN'), ('.', '.')], [('A', 'DET'), ('form', 'NOUN'), ('of', 'ADP'), ('asbestos', 'NOUN'), ('once', 'ADV'), ('used', 'VERB'), ('*', 'X'), ('*', 'X'), ('to', 'PRT'), ('make', 'VERB'), ('Kent', 'NOUN'), ('cigarette', 'NOUN'), ('filters', 'NOUN'), ('has', 'VERB'), ('caused', 'VERB'), ('a', 'DET'), ('high', 'ADJ'), ('percentage', 'NOUN'), ('of', 'ADP'), ('cancer', 'NOUN'), ('deaths', 'NOUN'), ('among', 'ADP'), ('a', 'DET'), ('group', 'NOUN'), ('of', 'ADP'), ('workers', 'NOUN'), ('exposed', 'VERB'), ('*', 'X'), ('to', 'PRT'), ('it', 'PRON'), ('more', 'ADV'), ('than', 'ADP'), ('30', 'NUM'), ('years', 'NOUN'), ('ago', 'ADP'), (',', '.'), ('researchers', 'NOUN'), ('reported', 'VERB'), ('0', 'X'), ('*T*-1', 'X'), ('.', '.')], [('The', 'DET'), ('asbestos', 'NOUN'), ('fiber', 'NOUN'), (',', '.'), ('crocidolite', 'NOUN'), (',', '.'), ('is', 'VERB'), ('unusually', 'ADV'), ('resilient', 'ADJ'), ('once', 'ADP'), ('it', 'PRON'), ('enters', 'VERB'), ('the', 'DET'), ('lungs', 'NOUN'), (',', '.'), ('with', 'ADP'), ('even', 'ADV'), ('brief', 'ADJ'), ('exposures', 'NOUN'), ('to', 'PRT'), ('it', 'PRON'), ('causing', 'VERB'), ('symptoms', 'NOUN'), ('that', 'DET'), ('*T*-1', 'X'), ('show', 'VERB'), ('up', 'PRT'), ('decades', 'NOUN'), ('later', 'ADJ'), (',', '.'), ('researchers', 'NOUN'), ('said', 'VERB'), ('0', 'X'), ('*T*-2', 'X'), ('.', '.')], [('Lorillard', 'NOUN'), ('Inc.', 'NOUN'), (',', '.'), ('the', 'DET'), ('unit', 'NOUN'), ('of', 'ADP'), ('New', 'ADJ'), ('York-based', 'ADJ'), ('Loews', 'NOUN'), ('Corp.', 'NOUN'), ('that', 'DET'), ('*T*-2', 'X'), ('makes', 'VERB'), ('Kent', 'NOUN'), ('cigarettes', 'NOUN'), (',', '.'), ('stopped', 'VERB'), ('using', 'VERB'), ('crocidolite', 'NOUN'), ('in', 'ADP'), ('its', 'PRON'), ('Micronite', 'NOUN'), ('cigarette', 'NOUN'), ('filters', 'NOUN'), ('in', 'ADP'), ('1956', 'NUM'), ('.', '.')], [('Although', 'ADP'), ('preliminary', 'ADJ'), ('findings', 'NOUN'), ('were', 'VERB'), ('reported', 'VERB'), ('*-2', 'X'), ('more', 'ADV'), ('than', 'ADP'), ('a', 'DET'), ('year', 'NOUN'), ('ago', 'ADP'), (',', '.'), ('the', 'DET'), ('latest', 'ADJ'), ('results', 'NOUN'), ('appear', 'VERB'), ('in', 'ADP'), ('today', 'NOUN'), (\"'s\", 'PRT'), ('New', 'NOUN'), ('England', 'NOUN'), ('Journal', 'NOUN'), ('of', 'ADP'), ('Medicine', 'NOUN'), (',', '.'), ('a', 'DET'), ('forum', 'NOUN'), ('likely', 'ADJ'), ('*', 'X'), ('to', 'PRT'), ('bring', 'VERB'), ('new', 'ADJ'), ('attention', 'NOUN'), ('to', 'PRT'), ('the', 'DET'), ('problem', 'NOUN'), ('.', '.')], [('A', 'DET'), ('Lorillard', 'NOUN'), ('spokewoman', 'NOUN'), ('said', 'VERB'), (',', '.'), ('``', '.'), ('This', 'DET'), ('is', 'VERB'), ('an', 'DET'), ('old', 'ADJ'), ('story', 'NOUN'), ('.', '.')], [('We', 'PRON'), (\"'re\", 'VERB'), ('talking', 'VERB'), ('about', 'ADP'), ('years', 'NOUN'), ('ago', 'ADP'), ('before', 'ADP'), ('anyone', 'NOUN'), ('heard', 'VERB'), ('of', 'ADP'), ('asbestos', 'NOUN'), ('having', 'VERB'), ('any', 'DET'), ('questionable', 'ADJ'), ('properties', 'NOUN'), ('.', '.')], [('There', 'DET'), ('is', 'VERB'), ('no', 'DET'), ('asbestos', 'NOUN'), ('in', 'ADP'), ('our', 'PRON'), ('products', 'NOUN'), ('now', 'ADV'), ('.', '.'), (\"''\", '.')], [('Neither', 'DET'), ('Lorillard', 'NOUN'), ('nor', 'CONJ'), ('the', 'DET'), ('researchers', 'NOUN'), ('who', 'PRON'), ('*T*-3', 'X'), ('studied', 'VERB'), ('the', 'DET'), ('workers', 'NOUN'), ('were', 'VERB'), ('aware', 'ADJ'), ('of', 'ADP'), ('any', 'DET'), ('research', 'NOUN'), ('on', 'ADP'), ('smokers', 'NOUN'), ('of', 'ADP'), ('the', 'DET'), ('Kent', 'NOUN'), ('cigarettes', 'NOUN'), ('.', '.')], [('``', '.'), ('We', 'PRON'), ('have', 'VERB'), ('no', 'DET'), ('useful', 'ADJ'), ('information', 'NOUN'), ('on', 'ADP'), ('whether', 'ADP'), ('users', 'NOUN'), ('are', 'VERB'), ('at', 'ADP'), ('risk', 'NOUN'), (',', '.'), (\"''\", '.'), ('said', 'VERB'), ('*T*-1', 'X'), ('James', 'NOUN'), ('A.', 'NOUN'), ('Talcott', 'NOUN'), ('of', 'ADP'), ('Boston', 'NOUN'), (\"'s\", 'PRT'), ('Dana-Farber', 'NOUN'), ('Cancer', 'NOUN'), ('Institute', 'NOUN'), ('.', '.')], [('Dr.', 'NOUN'), ('Talcott', 'NOUN'), ('led', 'VERB'), ('a', 'DET'), ('team', 'NOUN'), ('of', 'ADP'), ('researchers', 'NOUN'), ('from', 'ADP'), ('the', 'DET'), ('National', 'NOUN'), ('Cancer', 'NOUN'), ('Institute', 'NOUN'), ('and', 'CONJ'), ('the', 'DET'), ('medical', 'ADJ'), ('schools', 'NOUN'), ('of', 'ADP'), ('Harvard', 'NOUN'), ('University', 'NOUN'), ('and', 'CONJ'), ('Boston', 'NOUN'), ('University', 'NOUN'), ('.', '.')], [('The', 'DET'), ('Lorillard', 'NOUN'), ('spokeswoman', 'NOUN'), ('said', 'VERB'), ('0', 'X'), ('asbestos', 'NOUN'), ('was', 'VERB'), ('used', 'VERB'), ('*-1', 'X'), ('in', 'ADP'), ('``', '.'), ('very', 'ADV'), ('modest', 'ADJ'), ('amounts', 'NOUN'), (\"''\", '.'), ('in', 'ADP'), ('*', 'X'), ('making', 'VERB'), ('paper', 'NOUN'), ('for', 'ADP'), ('the', 'DET'), ('filters', 'NOUN'), ('in', 'ADP'), ('the', 'DET'), ('early', 'ADJ'), ('1950s', 'NUM'), ('and', 'CONJ'), ('replaced', 'VERB'), ('*-1', 'X'), ('with', 'ADP'), ('a', 'DET'), ('different', 'ADJ'), ('type', 'NOUN'), ('of', 'ADP'), ('filter', 'NOUN'), ('in', 'ADP'), ('1956', 'NUM'), ('.', '.')], [('From', 'ADP'), ('1953', 'NUM'), ('to', 'PRT'), ('1955', 'NUM'), (',', '.'), ('9.8', 'NUM'), ('billion', 'NUM'), ('Kent', 'NOUN'), ('cigarettes', 'NOUN'), ('with', 'ADP'), ('the', 'DET'), ('filters', 'NOUN'), ('were', 'VERB'), ('sold', 'VERB'), ('*-3', 'X'), (',', '.'), ('the', 'DET'), ('company', 'NOUN'), ('said', 'VERB'), ('0', 'X'), ('*T*-1', 'X'), ('.', '.')], [('Among', 'ADP'), ('33', 'NUM'), ('men', 'NOUN'), ('who', 'PRON'), ('*T*-4', 'X'), ('worked', 'VERB'), ('closely', 'ADV'), ('with', 'ADP'), ('the', 'DET'), ('substance', 'NOUN'), (',', '.'), ('28', 'NUM'), ('*ICH*-1', 'X'), ('have', 'VERB'), ('died', 'VERB'), ('--', '.'), ('more', 'ADJ'), ('than', 'ADP'), ('three', 'NUM'), ('times', 'NOUN'), ('the', 'DET'), ('expected', 'VERB'), ('number', 'NOUN'), ('.', '.')], [('Four', 'NUM'), ('of', 'ADP'), ('the', 'DET'), ('five', 'NUM'), ('surviving', 'VERB'), ('workers', 'NOUN'), ('have', 'VERB'), ('asbestos-related', 'ADJ'), ('diseases', 'NOUN'), (',', '.'), ('including', 'VERB'), ('three', 'NUM'), ('with', 'ADP'), ('recently', 'ADV'), ('diagnosed', 'VERB'), ('cancer', 'NOUN'), ('.', '.')], [('The', 'DET'), ('total', 'NOUN'), ('of', 'ADP'), ('18', 'NUM'), ('deaths', 'NOUN'), ('from', 'ADP'), ('malignant', 'ADJ'), ('mesothelioma', 'NOUN'), (',', '.'), ('lung', 'NOUN'), ('cancer', 'NOUN'), ('and', 'CONJ'), ('asbestosis', 'NOUN'), ('was', 'VERB'), ('far', 'ADV'), ('higher', 'ADJ'), ('than', 'ADP'), ('*', 'X'), ('expected', 'VERB'), ('*?*', 'X'), (',', '.'), ('the', 'DET'), ('researchers', 'NOUN'), ('said', 'VERB'), ('0', 'X'), ('*T*-1', 'X'), ('.', '.')], [('``', '.'), ('The', 'DET'), ('morbidity', 'NOUN'), ('rate', 'NOUN'), ('is', 'VERB'), ('a', 'DET'), ('striking', 'ADJ'), ('finding', 'NOUN'), ('among', 'ADP'), ('those', 'DET'), ('of', 'ADP'), ('us', 'PRON'), ('who', 'PRON'), ('*T*-5', 'X'), ('study', 'VERB'), ('asbestos-related', 'ADJ'), ('diseases', 'NOUN'), (',', '.'), (\"''\", '.'), ('said', 'VERB'), ('*T*-1', 'X'), ('Dr.', 'NOUN'), ('Talcott', 'NOUN'), ('.', '.')], [('The', 'DET'), ('percentage', 'NOUN'), ('of', 'ADP'), ('lung', 'NOUN'), ('cancer', 'NOUN'), ('deaths', 'NOUN'), ('among', 'ADP'), ('the', 'DET'), ('workers', 'NOUN'), ('at', 'ADP'), ('the', 'DET'), ('West', 'NOUN'), ('Groton', 'NOUN'), (',', '.'), ('Mass.', 'NOUN'), (',', '.'), ('paper', 'NOUN'), ('factory', 'NOUN'), ('appears', 'VERB'), ('*-1', 'X'), ('to', 'PRT'), ('be', 'VERB'), ('the', 'DET'), ('highest', 'ADJ'), ('for', 'ADP'), ('any', 'DET'), ('asbestos', 'NOUN'), ('workers', 'NOUN'), ('studied', 'VERB'), ('*', 'X'), ('in', 'ADP'), ('Western', 'ADJ'), ('industrialized', 'VERB'), ('countries', 'NOUN'), (',', '.'), ('he', 'PRON'), ('said', 'VERB'), ('0', 'X'), ('*T*-2', 'X'), ('.', '.')], [('The', 'DET'), ('plant', 'NOUN'), (',', '.'), ('which', 'DET'), ('*T*-1', 'X'), ('is', 'VERB'), ('owned', 'VERB'), ('*-4', 'X'), ('by', 'ADP'), ('Hollingsworth', 'NOUN'), ('&', 'CONJ'), ('Vose', 'NOUN'), ('Co.', 'NOUN'), (',', '.'), ('was', 'VERB'), ('under', 'ADP'), ('contract', 'NOUN'), ('*ICH*-2', 'X'), ('with', 'ADP'), ('Lorillard', 'NOUN'), ('*', 'X'), ('to', 'PRT'), ('make', 'VERB'), ('the', 'DET'), ('cigarette', 'NOUN'), ('filters', 'NOUN'), ('.', '.')], [('The', 'DET'), ('finding', 'NOUN'), ('probably', 'ADV'), ('will', 'VERB'), ('support', 'VERB'), ('those', 'DET'), ('who', 'PRON'), ('*T*-6', 'X'), ('argue', 'VERB'), ('that', 'ADP'), ('the', 'DET'), ('U.S.', 'NOUN'), ('should', 'VERB'), ('regulate', 'VERB'), ('the', 'DET'), ('class', 'NOUN'), ('of', 'ADP'), ('asbestos', 'NOUN'), ('including', 'VERB'), ('crocidolite', 'NOUN'), ('more', 'ADV'), ('stringently', 'ADV'), ('than', 'ADP'), ('the', 'DET'), ('common', 'ADJ'), ('kind', 'NOUN'), ('of', 'ADP'), ('asbestos', 'NOUN'), (',', '.'), ('chrysotile', 'NOUN'), (',', '.'), ('found', 'VERB'), ('*', 'X'), ('in', 'ADP'), ('most', 'ADJ'), ('schools', 'NOUN'), ('and', 'CONJ'), ('other', 'ADJ'), ('buildings', 'NOUN'), (',', '.'), ('Dr.', 'NOUN'), ('Talcott', 'NOUN'), ('said', 'VERB'), ('0', 'X'), ('*T*-1', 'X'), ('.', '.')], [('The', 'DET'), ('U.S.', 'NOUN'), ('is', 'VERB'), ('one', 'NUM'), ('of', 'ADP'), ('the', 'DET'), ('few', 'ADJ'), ('industrialized', 'VERB'), ('nations', 'NOUN'), ('that', 'DET'), ('*T*-7', 'X'), ('does', 'VERB'), (\"n't\", 'ADV'), ('have', 'VERB'), ('a', 'DET'), ('higher', 'ADJ'), ('standard', 'NOUN'), ('of', 'ADP'), ('regulation', 'NOUN'), ('for', 'ADP'), ('the', 'DET'), ('smooth', 'ADJ'), (',', '.'), ('needle-like', 'ADJ'), ('fibers', 'NOUN'), ('such', 'ADJ'), ('as', 'ADP'), ('crocidolite', 'NOUN'), ('that', 'DET'), ('*T*-1', 'X'), ('are', 'VERB'), ('classified', 'VERB'), ('*-5', 'X'), ('as', 'ADP'), ('amphobiles', 'NOUN'), (',', '.'), ('according', 'VERB'), ('to', 'PRT'), ('Brooke', 'NOUN'), ('T.', 'NOUN'), ('Mossman', 'NOUN'), (',', '.'), ('a', 'DET'), ('professor', 'NOUN'), ('of', 'ADP'), ('pathlogy', 'NOUN'), ('at', 'ADP'), ('the', 'DET'), ('University', 'NOUN'), ('of', 'ADP'), ('Vermont', 'NOUN'), ('College', 'NOUN'), ('of', 'ADP'), ('Medicine', 'NOUN'), ('.', '.')], [('More', 'ADV'), ('common', 'ADJ'), ('chrysotile', 'NOUN'), ('fibers', 'NOUN'), ('are', 'VERB'), ('curly', 'ADJ'), ('and', 'CONJ'), ('are', 'VERB'), ('more', 'ADV'), ('easily', 'ADV'), ('rejected', 'VERB'), ('*-1', 'X'), ('by', 'ADP'), ('the', 'DET'), ('body', 'NOUN'), (',', '.'), ('Dr.', 'NOUN'), ('Mossman', 'NOUN'), ('explained', 'VERB'), ('0', 'X'), ('*T*-2', 'X'), ('.', '.')], [('In', 'ADP'), ('July', 'NOUN'), (',', '.'), ('the', 'DET'), ('Environmental', 'NOUN'), ('Protection', 'NOUN'), ('Agency', 'NOUN'), ('imposed', 'VERB'), ('a', 'DET'), ('gradual', 'ADJ'), ('ban', 'NOUN'), ('on', 'ADP'), ('virtually', 'ADV'), ('all', 'DET'), ('uses', 'NOUN'), ('of', 'ADP'), ('asbestos', 'NOUN'), ('.', '.')], [('By', 'ADP'), ('1997', 'NUM'), (',', '.'), ('almost', 'ADV'), ('all', 'DET'), ('remaining', 'VERB'), ('uses', 'NOUN'), ('of', 'ADP'), ('cancer-causing', 'ADJ'), ('asbestos', 'NOUN'), ('will', 'VERB'), ('be', 'VERB'), ('outlawed', 'VERB'), ('*-6', 'X'), ('.', '.')], [('About', 'ADP'), ('160', 'NUM'), ('workers', 'NOUN'), ('at', 'ADP'), ('a', 'DET'), ('factory', 'NOUN'), ('that', 'DET'), ('*T*-8', 'X'), ('made', 'VERB'), ('paper', 'NOUN'), ('for', 'ADP'), ('the', 'DET'), ('Kent', 'NOUN'), ('filters', 'NOUN'), ('were', 'VERB'), ('exposed', 'VERB'), ('*-7', 'X'), ('to', 'PRT'), ('asbestos', 'NOUN'), ('in', 'ADP'), ('the', 'DET'), ('1950s', 'NUM'), ('.', '.')], [('Areas', 'NOUN'), ('of', 'ADP'), ('the', 'DET'), ('factory', 'NOUN'), ('*ICH*-2', 'X'), ('were', 'VERB'), ('particularly', 'ADV'), ('dusty', 'ADJ'), ('where', 'ADV'), ('the', 'DET'), ('crocidolite', 'NOUN'), ('was', 'VERB'), ('used', 'VERB'), ('*-8', 'X'), ('*T*-1', 'X'), ('.', '.')], [('Workers', 'NOUN'), ('dumped', 'VERB'), ('large', 'ADJ'), ('burlap', 'NOUN'), ('sacks', 'NOUN'), ('of', 'ADP'), ('the', 'DET'), ('imported', 'VERB'), ('material', 'NOUN'), ('into', 'ADP'), ('a', 'DET'), ('huge', 'ADJ'), ('bin', 'NOUN'), (',', '.'), ('poured', 'VERB'), ('in', 'PRT'), ('cotton', 'NOUN'), ('and', 'CONJ'), ('acetate', 'NOUN'), ('fibers', 'NOUN'), ('and', 'CONJ'), ('mechanically', 'ADV'), ('mixed', 'VERB'), ('the', 'DET'), ('dry', 'ADJ'), ('fibers', 'NOUN'), ('in', 'ADP'), ('a', 'DET'), ('process', 'NOUN'), ('used', 'VERB'), ('*', 'X'), ('*', 'X'), ('to', 'PRT'), ('make', 'VERB'), ('filters', 'NOUN'), ('.', '.')], [('Workers', 'NOUN'), ('described', 'VERB'), ('``', '.'), ('clouds', 'NOUN'), ('of', 'ADP'), ('blue', 'ADJ'), ('dust', 'NOUN'), (\"''\", '.'), ('that', 'DET'), ('*T*-1', 'X'), ('hung', 'VERB'), ('over', 'ADP'), ('parts', 'NOUN'), ('of', 'ADP'), ('the', 'DET'), ('factory', 'NOUN'), (',', '.'), ('even', 'ADV'), ('though', 'ADP'), ('exhaust', 'NOUN'), ('fans', 'NOUN'), ('ventilated', 'VERB'), ('the', 'DET'), ('area', 'NOUN'), ('.', '.')], [('``', '.'), ('There', 'DET'), (\"'s\", 'VERB'), ('no', 'DET'), ('question', 'NOUN'), ('that', 'ADP'), ('some', 'DET'), ('of', 'ADP'), ('those', 'DET'), ('workers', 'NOUN'), ('and', 'CONJ'), ('managers', 'NOUN'), ('contracted', 'VERB'), ('asbestos-related', 'ADJ'), ('diseases', 'NOUN'), (',', '.'), (\"''\", '.'), ('said', 'VERB'), ('*T*-1', 'X'), ('Darrell', 'NOUN'), ('Phillips', 'NOUN'), (',', '.'), ('vice', 'NOUN'), ('president', 'NOUN'), ('of', 'ADP'), ('human', 'ADJ'), ('resources', 'NOUN'), ('for', 'ADP'), ('Hollingsworth', 'NOUN'), ('&', 'CONJ'), ('Vose', 'NOUN'), ('.', '.')], [('``', '.'), ('But', 'CONJ'), ('you', 'PRON'), ('have', 'VERB'), ('*-1', 'X'), ('to', 'PRT'), ('recognize', 'VERB'), ('that', 'ADP'), ('these', 'DET'), ('events', 'NOUN'), ('took', 'VERB'), ('place', 'NOUN'), ('35', 'NUM'), ('years', 'NOUN'), ('ago', 'ADP'), ('.', '.')], [('It', 'PRON'), ('has', 'VERB'), ('no', 'DET'), ('bearing', 'NOUN'), ('on', 'ADP'), ('our', 'PRON'), ('work', 'NOUN'), ('force', 'NOUN'), ('today', 'NOUN'), ('.', '.')], [('Yields', 'NOUN'), ('on', 'ADP'), ('money-market', 'ADJ'), ('mutual', 'ADJ'), ('funds', 'NOUN'), ('continued', 'VERB'), ('*-1', 'X'), ('to', 'PRT'), ('slide', 'VERB'), (',', '.'), ('amid', 'ADP'), ('signs', 'NOUN'), ('that', 'ADP'), ('portfolio', 'NOUN'), ('managers', 'NOUN'), ('expect', 'VERB'), ('further', 'ADJ'), ('declines', 'NOUN'), ('in', 'ADP'), ('interest', 'NOUN'), ('rates', 'NOUN'), ('.', '.')], [('The', 'DET'), ('average', 'ADJ'), ('seven-day', 'ADJ'), ('compound', 'NOUN'), ('yield', 'NOUN'), ('of', 'ADP'), ('the', 'DET'), ('400', 'NUM'), ('taxable', 'ADJ'), ('funds', 'NOUN'), ('tracked', 'VERB'), ('*', 'X'), ('by', 'ADP'), ('IBC', 'NOUN'), (\"'s\", 'PRT'), ('Money', 'NOUN'), ('Fund', 'NOUN'), ('Report', 'NOUN'), ('eased', 'VERB'), ('a', 'DET'), ('fraction', 'NOUN'), ('of', 'ADP'), ('a', 'DET'), ('percentage', 'NOUN'), ('point', 'NOUN'), ('to', 'PRT'), ('8.45', 'NUM'), ('%', 'NOUN'), ('from', 'ADP'), ('8.47', 'NUM'), ('%', 'NOUN'), ('for', 'ADP'), ('the', 'DET'), ('week', 'NOUN'), ('ended', 'VERB'), ('Tuesday', 'NOUN'), ('.', '.')], [('Compound', 'NOUN'), ('yields', 'NOUN'), ('assume', 'VERB'), ('reinvestment', 'NOUN'), ('of', 'ADP'), ('dividends', 'NOUN'), ('and', 'CONJ'), ('that', 'ADP'), ('the', 'DET'), ('current', 'ADJ'), ('yield', 'NOUN'), ('continues', 'VERB'), ('for', 'ADP'), ('a', 'DET'), ('year', 'NOUN'), ('.', '.')], [('Average', 'ADJ'), ('maturity', 'NOUN'), ('of', 'ADP'), ('the', 'DET'), ('funds', 'NOUN'), (\"'\", 'PRT'), ('investments', 'NOUN'), ('lengthened', 'VERB'), ('by', 'ADP'), ('a', 'DET'), ('day', 'NOUN'), ('to', 'PRT'), ('41', 'NUM'), ('days', 'NOUN'), (',', '.'), ('the', 'DET'), ('longest', 'ADJ'), ('since', 'ADP'), ('early', 'ADJ'), ('August', 'NOUN'), (',', '.'), ('according', 'VERB'), ('to', 'PRT'), ('Donoghue', 'NOUN'), (\"'s\", 'PRT'), ('.', '.')], [('Longer', 'ADJ'), ('maturities', 'NOUN'), ('are', 'VERB'), ('thought', 'VERB'), ('*-1', 'X'), ('to', 'PRT'), ('indicate', 'VERB'), ('declining', 'VERB'), ('interest', 'NOUN'), ('rates', 'NOUN'), ('because', 'ADP'), ('they', 'PRON'), ('permit', 'VERB'), ('portfolio', 'NOUN'), ('managers', 'NOUN'), ('to', 'PRT'), ('retain', 'VERB'), ('relatively', 'ADV'), ('higher', 'ADJ'), ('rates', 'NOUN'), ('for', 'ADP'), ('a', 'DET'), ('longer', 'ADJ'), ('period', 'NOUN'), ('.', '.')], [('Shorter', 'ADJ'), ('maturities', 'NOUN'), ('are', 'VERB'), ('considered', 'VERB'), ('*-9', 'X'), ('a', 'DET'), ('sign', 'NOUN'), ('of', 'ADP'), ('rising', 'VERB'), ('rates', 'NOUN'), ('because', 'ADP'), ('portfolio', 'NOUN'), ('managers', 'NOUN'), ('can', 'VERB'), ('capture', 'VERB'), ('higher', 'ADJ'), ('rates', 'NOUN'), ('sooner', 'ADV'), ('.', '.')], [('The', 'DET'), ('average', 'ADJ'), ('maturity', 'NOUN'), ('for', 'ADP'), ('funds', 'NOUN'), ('open', 'ADJ'), ('only', 'ADV'), ('to', 'PRT'), ('institutions', 'NOUN'), (',', '.'), ('considered', 'VERB'), ('by', 'ADP'), ('some', 'DET'), ('*', 'X'), ('to', 'PRT'), ('be', 'VERB'), ('a', 'DET'), ('stronger', 'ADJ'), ('indicator', 'NOUN'), ('because', 'ADP'), ('those', 'DET'), ('managers', 'NOUN'), ('watch', 'VERB'), ('the', 'DET'), ('market', 'NOUN'), ('closely', 'ADV'), (',', '.'), ('reached', 'VERB'), ('a', 'DET'), ('high', 'ADJ'), ('point', 'NOUN'), ('for', 'ADP'), ('the', 'DET'), ('year', 'NOUN'), ('--', '.'), ('33', 'NUM'), ('days', 'NOUN'), ('.', '.')]]\n"
     ]
    }
   ],
   "source": [
    "#print some of the tagged sentences\n",
    "print(nltk_data[:40])"
   ]
  },
  {
   "cell_type": "markdown",
   "metadata": {},
   "source": [
    "### Build the vanilla Viterbi based POS tagger"
   ]
  },
  {
   "cell_type": "code",
   "execution_count": 5,
   "metadata": {},
   "outputs": [
    {
     "name": "stdout",
     "output_type": "stream",
     "text": [
      "3718\n",
      "196\n"
     ]
    }
   ],
   "source": [
    "random.seed(1234)\n",
    "train_set, test_set = train_test_split(nltk_data,test_size=0.05)\n",
    "print(len(train_set))\n",
    "print(len(test_set))"
   ]
  },
  {
   "cell_type": "code",
   "execution_count": 6,
   "metadata": {},
   "outputs": [
    {
     "name": "stdout",
     "output_type": "stream",
     "text": [
      "[[('Wedtech', 'NOUN'), (\"'s\", 'PRT'), ('scammers', 'NOUN'), ('simply', 'ADV'), ('bribed', 'VERB'), ('them', 'PRON'), ('to', 'PRT'), ('shut', 'VERB'), ('up', 'ADP'), ('.', '.')], [('Why', 'ADV'), ('did', 'VERB'), (\"n't\", 'ADV'), ('you', 'PRON'), ('mention', 'VERB'), ('the', 'DET'), ('YMCA', 'NOUN'), ('or', 'CONJ'), ('the', 'DET'), ('YWCA', 'NOUN'), ('or', 'CONJ'), ('Catholic', 'NOUN'), ('Charities', 'NOUN'), ('USA', 'NOUN'), ('or', 'CONJ'), ('a', 'DET'), ('hundred', 'NUM'), ('other', 'ADJ'), ('nonprofit', 'ADJ'), ('organizations', 'NOUN'), ('that', 'DET'), ('*T*-17', 'X'), ('participated', 'VERB'), ('in', 'ADP'), ('the', 'DET'), ('march', 'NOUN'), ('*T*-1', 'X'), ('?', '.')], [('The', 'DET'), ('insurance', 'NOUN'), ('and', 'CONJ'), ('financial', 'ADJ'), ('services', 'NOUN'), ('concern', 'NOUN'), ('said', 'VERB'), ('0', 'X'), ('profit', 'NOUN'), ('for', 'ADP'), ('the', 'DET'), ('quarter', 'NOUN'), ('rose', 'VERB'), ('1.1', 'NUM'), ('%', 'NOUN'), ('to', 'PRT'), ('$', '.'), ('93.9', 'NUM'), ('million', 'NUM'), ('*U*', 'X'), (',', '.'), ('or', 'CONJ'), ('$', '.'), ('1.19', 'NUM'), ('*U*', 'X'), ('a', 'DET'), ('share', 'NOUN'), (',', '.'), ('compared', 'VERB'), ('with', 'ADP'), ('$', '.'), ('92.9', 'NUM'), ('million', 'NUM'), ('*U*', 'X'), (',', '.'), ('or', 'CONJ'), ('$', '.'), ('1.18', 'NUM'), ('*U*', 'X'), ('a', 'DET'), ('share', 'NOUN'), (',', '.'), ('the', 'DET'), ('year', 'NOUN'), ('earlier', 'ADJ'), ('.', '.')], [('Taiwan', 'NOUN'), ('has', 'VERB'), ('improved', 'VERB'), ('its', 'PRON'), ('standing', 'NOUN'), ('with', 'ADP'), ('the', 'DET'), ('U.S.', 'NOUN'), ('by', 'ADP'), ('*-2', 'X'), ('initialing', 'VERB'), ('a', 'DET'), ('bilateral', 'ADJ'), ('copyright', 'NOUN'), ('agreement', 'NOUN'), (',', '.'), ('amending', 'VERB'), ('its', 'PRON'), ('trademark', 'NOUN'), ('law', 'NOUN'), ('and', 'CONJ'), ('introducing', 'VERB'), ('legislation', 'NOUN'), ('0', 'X'), ('*', 'X'), ('to', 'PRT'), ('protect', 'VERB'), ('foreign', 'ADJ'), ('movie', 'NOUN'), ('producers', 'NOUN'), ('from', 'ADP'), ('unauthorized', 'ADJ'), ('showings', 'NOUN'), ('of', 'ADP'), ('their', 'PRON'), ('films', 'NOUN'), ('*T*-1', 'X'), ('.', '.')], [('Your', 'PRON'), ('$', '.'), ('15,000', 'NUM'), ('*U*', 'X'), ('will', 'VERB'), ('help', 'VERB'), ('*-1', 'X'), ('keep', 'VERB'), ('a', 'DET'), ('needy', 'ADJ'), ('savings', 'NOUN'), ('and', 'CONJ'), ('loan', 'NOUN'), ('solvent', 'ADJ'), ('--', '.'), ('and', 'CONJ'), ('out', 'ADP'), ('of', 'ADP'), ('the', 'DET'), ('federal', 'ADJ'), ('budget', 'NOUN'), ('deficit', 'NOUN'), ('.', '.')], [('``', '.'), ('The', 'DET'), ('First', 'NOUN'), ('Amendment', 'NOUN'), ('proscribes', 'VERB'), ('the', 'DET'), ('government', 'NOUN'), ('from', 'ADP'), ('*-2', 'X'), ('passing', 'VERB'), ('laws', 'NOUN'), ('abridging', 'VERB'), ('the', 'DET'), ('right', 'NOUN'), ('to', 'PRT'), ('free', 'ADJ'), ('speech', 'NOUN'), (',', '.'), (\"''\", '.'), ('Judge', 'NOUN'), ('Donald', 'NOUN'), (\"O'Brien\", 'NOUN'), ('ruled', 'VERB'), ('*T*-1', 'X'), ('.', '.')], [('Centerbank', 'NOUN'), ('added', 'VERB'), ('5\\\\/8', 'NUM'), ('to', 'PRT'), ('8', 'NUM'), ('3\\\\/4', 'NUM'), (';', '.'), ('shares', 'NOUN'), ('of', 'ADP'), ('NESB', 'NOUN'), (',', '.'), ('a', 'DET'), ('New', 'NOUN'), ('London-based', 'ADJ'), ('bank', 'NOUN'), ('holding', 'VERB'), ('company', 'NOUN'), (',', '.'), ('rose', 'VERB'), ('5\\\\/8', 'NUM'), ('to', 'PRT'), ('5', 'NUM'), ('7\\\\/8', 'NUM'), ('.', '.')], [('She', 'PRON'), ('was', 'VERB'), ('an', 'DET'), ('unstinting', 'ADJ'), ('teacher', 'NOUN'), ('who', 'PRON'), ('*T*-80', 'X'), ('won', 'VERB'), ('laurels', 'NOUN'), ('and', 'CONJ'), ('inspired', 'VERB'), ('students', 'NOUN'), (',', '.'), ('but', 'CONJ'), ('she', 'PRON'), ('will', 'VERB'), ('probably', 'ADV'), ('never', 'ADV'), ('teach', 'VERB'), ('again', 'ADV'), ('.', '.')], [('LONDON', 'NOUN'), ('LATE', 'ADV'), ('EURODOLLARS', 'NOUN'), (':', '.'), ('8', 'NUM'), ('3\\\\/4', 'NUM'), ('%', 'NOUN'), ('to', 'PRT'), ('8', 'NUM'), ('5\\\\/8', 'NUM'), ('%', 'NOUN'), ('*U*', 'X'), ('one', 'NUM'), ('month', 'NOUN'), (';', '.'), ('8', 'NUM'), ('13\\\\/16', 'NUM'), ('%', 'NOUN'), ('to', 'PRT'), ('8', 'NUM'), ('11\\\\/16', 'NUM'), ('%', 'NOUN'), ('*U*', 'X'), ('two', 'NUM'), ('months', 'NOUN'), (';', '.'), ('8', 'NUM'), ('3\\\\/4', 'NUM'), ('%', 'NOUN'), ('to', 'PRT'), ('8', 'NUM'), ('5\\\\/8', 'NUM'), ('%', 'NOUN'), ('*U*', 'X'), ('three', 'NUM'), ('months', 'NOUN'), (';', '.'), ('8', 'NUM'), ('5\\\\/8', 'NUM'), ('%', 'NOUN'), ('to', 'PRT'), ('8', 'NUM'), ('1\\\\/2', 'NUM'), ('%', 'NOUN'), ('*U*', 'X'), ('four', 'NUM'), ('months', 'NOUN'), (';', '.'), ('8', 'NUM'), ('1\\\\/2', 'NUM'), ('%', 'NOUN'), ('to', 'PRT'), ('8', 'NUM'), ('7\\\\/16', 'NUM'), ('%', 'NOUN'), ('*U*', 'X'), ('five', 'NUM'), ('months', 'NOUN'), (';', '.'), ('8', 'NUM'), ('1\\\\/2', 'NUM'), ('%', 'NOUN'), ('to', 'PRT'), ('8', 'NUM'), ('3\\\\/8', 'NUM'), ('%', 'NOUN'), ('*U*', 'X'), ('six', 'NUM'), ('months', 'NOUN'), ('.', '.')], [('Says', 'VERB'), ('*ICH*-1', 'X'), ('Gayle', 'NOUN'), ('Key', 'NOUN'), (',', '.'), ('a', 'DET'), ('mathematics', 'NOUN'), ('teacher', 'NOUN'), (',', '.'), ('``', '.'), ('The', 'DET'), ('incentive', 'NOUN'), ('pay', 'NOUN'), ('thing', 'NOUN'), ('has', 'VERB'), ('opened', 'VERB'), ('up', 'PRT'), ('a', 'DET'), ('can', 'NOUN'), ('of', 'ADP'), ('worms', 'NOUN'), ('.', '.')], [('Inventories', 'NOUN'), ('are', 'VERB'), ('closely', 'ADV'), ('watched', 'VERB'), ('*-1', 'X'), ('for', 'ADP'), ('such', 'ADJ'), ('clues', 'NOUN'), (',', '.'), ('for', 'ADP'), ('instance', 'NOUN'), ('.', '.')], [('For', 'ADP'), ('people', 'NOUN'), ('who', 'PRON'), ('*T*-45', 'X'), ('insist', 'VERB'), ('on', 'PRT'), ('*-5', 'X'), ('jumping', 'VERB'), ('in', 'ADV'), ('now', 'ADV'), ('*-1', 'X'), ('to', 'PRT'), ('buy', 'VERB'), ('the', 'DET'), ('funds', 'NOUN'), (',', '.'), ('Newgate', 'NOUN'), (\"'s\", 'PRT'), ('Mr.', 'NOUN'), ('Foot', 'NOUN'), ('says', 'VERB'), (':', '.'), ('``', '.'), ('The', 'DET'), ('only', 'ADJ'), ('advice', 'NOUN'), ('0', 'X'), ('I', 'PRON'), ('have', 'VERB'), ('*T*-2', 'X'), ('for', 'ADP'), ('these', 'DET'), ('folks', 'NOUN'), ('is', 'VERB'), ('that', 'ADP'), ('those', 'DET'), ('who', 'PRON'), ('*T*-3', 'X'), ('come', 'VERB'), ('to', 'PRT'), ('the', 'DET'), ('party', 'NOUN'), ('late', 'ADV'), ('had', 'VERB'), ('better', 'ADV'), ('*-4', 'X'), ('be', 'VERB'), ('ready', 'ADJ'), ('*-4', 'X'), ('to', 'PRT'), ('leave', 'VERB'), ('quickly', 'ADV'), ('.', '.')], [('It', 'PRON'), ('said', 'VERB'), ('0', 'X'), ('that', 'DET'), ('volume', 'NOUN'), ('makes', 'VERB'), ('it', 'PRON'), ('the', 'DET'), ('largest', 'ADJ'), ('supplier', 'NOUN'), ('of', 'ADP'), ('original', 'ADJ'), ('TV', 'NOUN'), ('programming', 'NOUN'), ('in', 'ADP'), ('Europe', 'NOUN'), ('.', '.')], [('``', '.'), ('Unemployment', 'NOUN'), ('continues', 'VERB'), ('at', 'ADP'), ('a', 'DET'), ('relatively', 'ADV'), ('low', 'ADJ'), ('level', 'NOUN'), (',', '.'), ('*', 'X'), ('providing', 'VERB'), ('a', 'DET'), ('sense', 'NOUN'), ('of', 'ADP'), ('job', 'NOUN'), ('security', 'NOUN'), (',', '.'), ('and', 'CONJ'), ('a', 'DET'), ('low', 'ADJ'), ('inflation', 'NOUN'), ('rate', 'NOUN'), ('has', 'VERB'), ('kept', 'VERB'), ('the', 'DET'), ('purchasing', 'VERB'), ('power', 'NOUN'), ('of', 'ADP'), ('the', 'DET'), ('weekly', 'ADJ'), ('paycheck', 'NOUN'), ('reasonably', 'ADV'), ('strong', 'ADJ'), ('.', '.'), (\"''\", '.')], [('Like', 'ADP'), ('most', 'ADJ'), ('of', 'ADP'), ('the', 'DET'), ('other', 'ADJ'), ('6,000', 'NUM'), ('churches', 'NOUN'), ('in', 'ADP'), ('Britain', 'NOUN'), ('with', 'ADP'), ('sets', 'NOUN'), ('of', 'ADP'), ('bells', 'NOUN'), (',', '.'), ('St.', 'NOUN'), ('Michael', 'NOUN'), ('once', 'ADV'), ('had', 'VERB'), ('its', 'PRON'), ('own', 'ADJ'), ('``', '.'), ('band', 'NOUN'), (\"''\", '.'), ('of', 'ADP'), ('ringers', 'NOUN'), (',', '.'), ('who', 'PRON'), ('*T*-221', 'X'), ('would', 'VERB'), ('herald', 'VERB'), ('every', 'DET'), ('Sunday', 'NOUN'), ('morning', 'NOUN'), ('and', 'CONJ'), ('evening', 'NOUN'), ('service', 'NOUN'), ('.', '.')], [('J.L.', 'NOUN'), ('Henry', 'NOUN'), ('&', 'CONJ'), ('Co.', 'NOUN'), (',', '.'), ('Miami', 'NOUN'), (',', '.'), ('and', 'CONJ'), ('a', 'DET'), ('principal', 'NOUN'), ('of', 'ADP'), ('the', 'DET'), ('firm', 'NOUN'), (',', '.'), ('Henry', 'NOUN'), ('I.', 'NOUN'), ('Otero', 'NOUN'), ('of', 'ADP'), ('Miami', 'NOUN'), (',', '.'), ('were', 'VERB'), ('jointly', 'ADV'), ('fined', 'VERB'), ('*-1', 'X'), ('$', '.'), ('30,000', 'NUM'), ('*U*', 'X'), ('and', 'CONJ'), ('expelled', 'VERB'), ('*-1', 'X'), (',', '.'), ('for', 'ADP'), ('alleged', 'ADJ'), ('improper', 'ADJ'), ('use', 'NOUN'), ('of', 'ADP'), ('a', 'DET'), ('customer', 'NOUN'), (\"'s\", 'PRT'), ('funds', 'NOUN'), (',', '.'), ('among', 'ADP'), ('other', 'ADJ'), ('things', 'NOUN'), ('.', '.')], [('Midwest', 'NOUN'), ('Financial', 'NOUN'), ('has', 'VERB'), ('$', '.'), ('2.3', 'NUM'), ('billion', 'NUM'), ('*U*', 'X'), ('in', 'ADP'), ('assets', 'NOUN'), ('and', 'CONJ'), ('eight', 'NUM'), ('banks', 'NOUN'), ('.', '.')], [('``', '.'), ('It', 'PRON'), ('*EXP*-1', 'X'), (\"'s\", 'VERB'), ('not', 'ADV'), ('easy', 'ADJ'), ('*', 'X'), ('to', 'PRT'), ('roll', 'VERB'), ('out', 'PRT'), ('something', 'NOUN'), ('that', 'ADV'), ('comprehensive', 'ADJ'), (',', '.'), ('and', 'CONJ'), ('make', 'VERB'), ('it', 'PRON'), ('pay', 'VERB'), (',', '.'), (\"''\", '.'), ('Mr.', 'NOUN'), ('Jacob', 'NOUN'), ('says', 'VERB'), ('*T*-2', 'X'), ('.', '.')], [('The', 'DET'), ('record', 'ADJ'), ('price', 'NOUN'), ('for', 'ADP'), ('a', 'DET'), ('full', 'ADJ'), ('membership', 'NOUN'), ('on', 'ADP'), ('the', 'DET'), ('exchange', 'NOUN'), ('is', 'VERB'), ('$', '.'), ('550,000', 'NUM'), ('*U*', 'X'), (',', '.'), ('*-2', 'X'), ('set', 'VERB'), ('*-1', 'X'), ('Aug.', 'NOUN'), ('31', 'NUM'), (',', '.'), ('1987', 'NUM'), ('.', '.')], [('The', 'DET'), ('action', 'NOUN'), ('came', 'VERB'), ('in', 'ADP'), ('response', 'NOUN'), ('to', 'PRT'), ('a', 'DET'), ('petition', 'NOUN'), ('filed', 'VERB'), ('*', 'X'), ('by', 'ADP'), ('Timex', 'NOUN'), ('Inc.', 'NOUN'), ('for', 'ADP'), ('changes', 'NOUN'), ('in', 'ADP'), ('the', 'DET'), ('U.S.', 'NOUN'), ('Generalized', 'NOUN'), ('System', 'NOUN'), ('of', 'ADP'), ('Preferences', 'NOUN'), ('for', 'ADP'), ('imports', 'NOUN'), ('from', 'ADP'), ('developing', 'VERB'), ('nations', 'NOUN'), ('.', '.')], [('Carnival', 'NOUN'), ('Cruise', 'NOUN'), ('Lines', 'NOUN'), ('Inc.', 'NOUN'), ('said', 'VERB'), ('0', 'X'), ('potential', 'ADJ'), ('problems', 'NOUN'), ('with', 'ADP'), ('the', 'DET'), ('construction', 'NOUN'), ('of', 'ADP'), ('two', 'NUM'), ('big', 'ADJ'), ('cruise', 'NOUN'), ('ships', 'NOUN'), ('from', 'ADP'), ('Finland', 'NOUN'), ('have', 'VERB'), ('been', 'VERB'), ('averted', 'VERB'), ('*-1', 'X'), ('.', '.')], [('A', 'DET'), ('spokesman', 'NOUN'), ('for', 'ADP'), ('Visa', 'NOUN'), ('International', 'NOUN'), (\"'s\", 'PRT'), ('U.S.', 'NOUN'), ('subsidiary', 'NOUN'), ('says', 'VERB'), ('0', 'X'), ('his', 'PRON'), ('company', 'NOUN'), ('is', 'VERB'), ('using', 'VERB'), ('promotions', 'NOUN'), ('*-1', 'X'), ('to', 'PRT'), ('increase', 'VERB'), ('use', 'NOUN'), ('of', 'ADP'), ('its', 'PRON'), ('cards', 'NOUN'), (',', '.'), ('but', 'CONJ'), ('does', 'VERB'), (\"n't\", 'ADV'), ('have', 'VERB'), ('plans', 'NOUN'), ('for', 'ADP'), ('a', 'DET'), ('tie-in', 'NOUN'), ('similar', 'ADJ'), ('to', 'PRT'), ('the', 'DET'), ('American', 'NOUN'), ('Express-Buick', 'NOUN'), ('link', 'NOUN'), ('.', '.')], [('Prices', 'NOUN'), ('also', 'ADV'), ('were', 'VERB'), ('boosted', 'VERB'), ('*-1', 'X'), ('by', 'ADP'), ('another', 'DET'), ('rumor', 'NOUN'), ('that', 'ADP'), ('Mexico', 'NOUN'), (',', '.'), ('usually', 'ADV'), ('a', 'DET'), ('large', 'ADJ'), ('producer', 'NOUN'), ('and', 'CONJ'), ('exporter', 'NOUN'), (',', '.'), ('might', 'VERB'), ('have', 'VERB'), ('*-2', 'X'), ('to', 'PRT'), ('buy', 'VERB'), ('a', 'DET'), ('large', 'ADJ'), ('quantity', 'NOUN'), ('of', 'ADP'), ('sugar', 'NOUN'), ('.', '.')], [('The', 'DET'), ('report', 'NOUN'), ('offered', 'VERB'), ('new', 'ADJ'), ('evidence', 'NOUN'), ('that', 'ADP'), ('the', 'DET'), ('nation', 'NOUN'), (\"'s\", 'PRT'), ('export', 'NOUN'), ('growth', 'NOUN'), (',', '.'), ('though', 'ADP'), ('*-1', 'X'), ('still', 'ADV'), ('continuing', 'VERB'), (',', '.'), ('may', 'VERB'), ('be', 'VERB'), ('slowing', 'VERB'), ('.', '.')], [('Another', 'DET'), ('OTC', 'NOUN'), ('bank', 'NOUN'), ('stock', 'NOUN'), ('involved', 'VERB'), ('*', 'X'), ('in', 'ADP'), ('a', 'DET'), ('buy-out', 'NOUN'), ('deal', 'NOUN'), (',', '.'), ('First', 'NOUN'), ('Constitution', 'NOUN'), ('Financial', 'NOUN'), (',', '.'), ('was', 'VERB'), ('higher', 'ADJ'), ('.', '.')], [('Western', 'NOUN'), ('Gas', 'NOUN'), ('Resources', 'NOUN'), ('Inc.', 'NOUN'), (',', '.'), ('initial', 'ADJ'), ('offering', 'NOUN'), ('of', 'ADP'), ('3,250,000', 'NUM'), ('shares', 'NOUN'), ('of', 'ADP'), ('common', 'ADJ'), ('stock', 'NOUN'), (',', '.'), ('of', 'ADP'), ('which', 'DET'), ('3,040,000', 'NUM'), ('shares', 'NOUN'), ('*T*-2', 'X'), ('will', 'VERB'), ('be', 'VERB'), ('sold', 'VERB'), ('*-1', 'X'), ('by', 'ADP'), ('the', 'DET'), ('company', 'NOUN'), ('and', 'CONJ'), ('210,000', 'NUM'), ('shares', 'NOUN'), ('*T*-2', 'X'), ('by', 'ADP'), ('a', 'DET'), ('holder', 'NOUN'), (',', '.'), ('via', 'ADP'), ('Prudential-Bache', 'NOUN'), ('Capital', 'NOUN'), ('Funding', 'NOUN'), (',', '.'), ('Smith', 'NOUN'), ('Barney', 'NOUN'), (',', '.'), ('Harris', 'NOUN'), ('Upham', 'NOUN'), ('&', 'CONJ'), ('Co.', 'NOUN'), (',', '.'), ('and', 'CONJ'), ('Hanifen', 'NOUN'), (',', '.'), ('Imhoff', 'NOUN'), ('Inc', 'NOUN'), ('.', '.')], [('Stephen', 'NOUN'), ('Salmore', 'NOUN'), (',', '.'), ('a', 'DET'), ('political', 'ADJ'), ('scientist', 'NOUN'), ('at', 'ADP'), ('New', 'NOUN'), ('Jersey', 'NOUN'), (\"'s\", 'PRT'), ('Eagleton', 'NOUN'), ('Institute', 'NOUN'), (',', '.'), ('says', 'VERB'), ('0', 'X'), ('it', 'PRON'), (\"'s\", 'VERB'), ('another', 'DET'), ('example', 'NOUN'), ('of', 'ADP'), ('an', 'DET'), ('ad', 'NOUN'), ('that', 'DET'), ('*T*-1', 'X'), (\"'s\", 'VERB'), ('true', 'ADJ'), ('but', 'CONJ'), ('not', 'ADV'), ('fully', 'ADV'), ('accurate', 'ADJ'), ('.', '.')], [('``', '.'), ('When', 'ADV'), ('you', 'PRON'), ('do', 'VERB'), ('that', 'DET'), ('*T*-1', 'X'), (',', '.'), ('there', 'DET'), ('is', 'VERB'), ('not', 'ADV'), ('a', 'DET'), ('cut', 'NOUN'), (',', '.'), ('but', 'CONJ'), ('there', 'DET'), ('is', 'VERB'), ('in', 'ADP'), ('fact', 'NOUN'), ('a', 'DET'), ('program', 'NOUN'), ('increase', 'NOUN'), ('of', 'ADP'), ('$', '.'), ('5', 'NUM'), ('million', 'NUM'), ('*U*', 'X'), (\"''\", '.'), ('each', 'DET'), ('for', 'ADP'), ('the', 'DET'), ('FTC', 'NOUN'), ('and', 'CONJ'), ('the', 'DET'), ('Justice', 'NOUN'), ('Department', 'NOUN'), (',', '.'), ('Rep.', 'NOUN'), ('Neal', 'NOUN'), ('Smith', 'NOUN'), ('-LRB-', '.'), ('D.', 'NOUN'), (',', '.'), ('Iowa', 'NOUN'), ('-RRB-', '.'), ('said', 'VERB'), ('0', 'X'), ('*T*-2', 'X'), ('during', 'ADP'), ('House', 'NOUN'), ('debate', 'NOUN'), ('.', '.')], [('The', 'DET'), ('partners', 'NOUN'), ('said', 'VERB'), ('0', 'X'), ('they', 'PRON'), ('already', 'ADV'), ('hold', 'VERB'), ('15', 'NUM'), ('%', 'NOUN'), ('of', 'ADP'), ('all', 'DET'), ('shares', 'NOUN'), ('outstanding', 'ADJ'), ('.', '.')], [('Copperweld', 'NOUN'), ('said', 'VERB'), ('0', 'X'), ('it', 'PRON'), ('does', 'VERB'), (\"n't\", 'ADV'), ('expect', 'VERB'), ('a', 'DET'), ('protracted', 'ADJ'), ('strike', 'NOUN'), ('.', '.')]]\n"
     ]
    }
   ],
   "source": [
    "print(train_set[:30])"
   ]
  },
  {
   "cell_type": "code",
   "execution_count": 7,
   "metadata": {},
   "outputs": [
    {
     "name": "stdout",
     "output_type": "stream",
     "text": [
      "95742\n"
     ]
    }
   ],
   "source": [
    "# Getting list of tagged words\n",
    "train_tagged_words = [tup for sent in train_set for tup in sent]\n",
    "len(train_tagged_words)\n",
    "print(len(train_tagged_words))"
   ]
  },
  {
   "cell_type": "code",
   "execution_count": 8,
   "metadata": {},
   "outputs": [
    {
     "data": {
      "text/plain": [
       "['Wedtech',\n",
       " \"'s\",\n",
       " 'scammers',\n",
       " 'simply',\n",
       " 'bribed',\n",
       " 'them',\n",
       " 'to',\n",
       " 'shut',\n",
       " 'up',\n",
       " '.']"
      ]
     },
     "execution_count": 8,
     "metadata": {},
     "output_type": "execute_result"
    }
   ],
   "source": [
    "# tokens \n",
    "tokens = [pair[0] for pair in train_tagged_words]\n",
    "tokens[:10]"
   ]
  },
  {
   "cell_type": "code",
   "execution_count": 9,
   "metadata": {},
   "outputs": [
    {
     "name": "stdout",
     "output_type": "stream",
     "text": [
      "12050\n"
     ]
    }
   ],
   "source": [
    "# vocabulary\n",
    "V = set(tokens)\n",
    "print(len(V))"
   ]
  },
  {
   "cell_type": "code",
   "execution_count": 10,
   "metadata": {},
   "outputs": [
    {
     "data": {
      "text/plain": [
       "12"
      ]
     },
     "execution_count": 10,
     "metadata": {},
     "output_type": "execute_result"
    }
   ],
   "source": [
    "# number of tags\n",
    "T = set([pair[1] for pair in train_tagged_words])\n",
    "len(T)"
   ]
  },
  {
   "cell_type": "code",
   "execution_count": 11,
   "metadata": {},
   "outputs": [
    {
     "name": "stdout",
     "output_type": "stream",
     "text": [
      "{'CONJ', 'X', 'NOUN', 'VERB', 'ADJ', 'NUM', 'ADV', '.', 'DET', 'PRT', 'PRON', 'ADP'}\n"
     ]
    }
   ],
   "source": [
    "print(T)"
   ]
  },
  {
   "cell_type": "code",
   "execution_count": 12,
   "metadata": {},
   "outputs": [
    {
     "data": {
      "text/plain": [
       "[]"
      ]
     },
     "execution_count": 12,
     "metadata": {},
     "output_type": "execute_result"
    }
   ],
   "source": [
    "android= [pair for pair in train_tagged_words if pair[0].lower() == 'android']\n",
    "android"
   ]
  },
  {
   "cell_type": "markdown",
   "metadata": {},
   "source": [
    "### Emission Probabilities"
   ]
  },
  {
   "cell_type": "code",
   "execution_count": 13,
   "metadata": {},
   "outputs": [],
   "source": [
    "# computing P(w/t) and storing in T x V matrix\n",
    "t = len(T)\n",
    "v = len(V)\n",
    "w_given_t = np.zeros((t, v))"
   ]
  },
  {
   "cell_type": "code",
   "execution_count": 14,
   "metadata": {},
   "outputs": [],
   "source": [
    "# compute word given tag: Emission Probability\n",
    "def word_given_tag(word, tag, train_bag = train_tagged_words):\n",
    "    tag_list = [pair for pair in train_bag if pair[1]==tag]\n",
    "    count_tag = len(tag_list)\n",
    "    w_given_tag_list = [pair[0] for pair in tag_list if pair[0]==word]\n",
    "    count_w_given_tag = len(w_given_tag_list)\n",
    "    \n",
    "    return (count_w_given_tag, count_tag)"
   ]
  },
  {
   "cell_type": "code",
   "execution_count": 15,
   "metadata": {},
   "outputs": [
    {
     "name": "stdout",
     "output_type": "stream",
     "text": [
      "\n",
      " professor\n",
      "(0, 6073)\n",
      "(0, 12923)\n",
      "(8, 27484) \n",
      "\n",
      "\n",
      " access\n",
      "(0, 3013)\n",
      "(8, 27484)\n",
      "(0, 12923)\n",
      "\n",
      " definitely\n",
      "(0, 27484)\n",
      "(0, 12923)\n"
     ]
    }
   ],
   "source": [
    "# examples\n",
    "\n",
    "# professor\n",
    "print(\"\\n\", \"professor\")\n",
    "print(word_given_tag('professor', 'ADJ'))\n",
    "print(word_given_tag('professor', 'VERB'))\n",
    "print(word_given_tag('professor', 'NOUN'), \"\\n\")\n",
    "\n",
    "# access\n",
    "print(\"\\n\", \"access\")\n",
    "print(word_given_tag('access', 'ADV'))\n",
    "print(word_given_tag('access', 'NOUN'))\n",
    "print(word_given_tag('access', 'VERB'))\n",
    "\n",
    "# book\n",
    "print(\"\\n\", \"definitely\")\n",
    "print(word_given_tag('definitely', 'NOUN'))\n",
    "print(word_given_tag('definitely', 'VERB'))"
   ]
  },
  {
   "cell_type": "markdown",
   "metadata": {},
   "source": [
    "### Transition Probabilities"
   ]
  },
  {
   "cell_type": "code",
   "execution_count": 16,
   "metadata": {},
   "outputs": [],
   "source": [
    "# compute tag given tag: tag2(t2) given tag1 (t1), i.e. Transition Probability\n",
    "\n",
    "def t2_given_t1(t2, t1, train_bag = train_tagged_words):\n",
    "    tags = [pair[1] for pair in train_bag]\n",
    "    count_t1 = len([t for t in tags if t==t1])\n",
    "    count_t2_t1 = 0\n",
    "    for index in range(len(tags)-1):\n",
    "        if tags[index]==t1 and tags[index+1] == t2:\n",
    "            count_t2_t1 += 1\n",
    "    return (count_t2_t1, count_t1)"
   ]
  },
  {
   "cell_type": "code",
   "execution_count": 17,
   "metadata": {},
   "outputs": [
    {
     "name": "stdout",
     "output_type": "stream",
     "text": [
      "(4247, 6073)\n",
      "(4247, 6073)\n",
      "(5290, 8290)\n",
      "(1426, 12923)\n",
      "(0, 27484)\n",
      "(21, 2623)\n",
      "(4020, 27484)\n"
     ]
    }
   ],
   "source": [
    "# examples\n",
    "print(t2_given_t1(t2='NOUN', t1='ADJ'))\n",
    "print(t2_given_t1('NOUN', 'ADJ'))\n",
    "print(t2_given_t1('NOUN', 'DET'))\n",
    "print(t2_given_t1('NOUN', 'VERB'))\n",
    "print(t2_given_t1(',', 'NOUN'))\n",
    "print(t2_given_t1('PRON', 'PRON'))\n",
    "print(t2_given_t1('VERB', 'NOUN'))"
   ]
  },
  {
   "cell_type": "code",
   "execution_count": 18,
   "metadata": {},
   "outputs": [
    {
     "name": "stdout",
     "output_type": "stream",
     "text": [
      "(1931, 11147)\n",
      "(1000, 11147)\n",
      "(2469, 11147)\n",
      "(2469, 11147)\n"
     ]
    }
   ],
   "source": [
    "#Please note P(tag|start) is same as P(tag|'.')\n",
    "print(t2_given_t1('DET', '.'))\n",
    "print(t2_given_t1('VERB', '.'))\n",
    "print(t2_given_t1('NOUN', '.'))\n",
    "print(t2_given_t1('NOUN', '.'))\n"
   ]
  },
  {
   "cell_type": "code",
   "execution_count": 19,
   "metadata": {},
   "outputs": [],
   "source": [
    "# creating t x t transition matrix of tags\n",
    "# each column is t2, each row is t1\n",
    "# thus M(i, j) represents P(tj given ti)\n",
    "\n",
    "tags_matrix = np.zeros((len(T), len(T)), dtype='float32')\n",
    "for i, t1 in enumerate(list(T)):\n",
    "    for j, t2 in enumerate(list(T)): \n",
    "        tags_matrix[i, j] = t2_given_t1(t2, t1)[0]/t2_given_t1(t2, t1)[1]"
   ]
  },
  {
   "cell_type": "code",
   "execution_count": 20,
   "metadata": {},
   "outputs": [
    {
     "data": {
      "text/plain": [
       "array([[4.65116289e-04, 7.44186062e-03, 3.52093011e-01, 1.56279072e-01,\n",
       "        1.16279073e-01, 4.13953476e-02, 5.39534874e-02, 3.30232568e-02,\n",
       "        1.23255812e-01, 4.65116277e-03, 5.81395365e-02, 5.30232564e-02],\n",
       "       [9.99682676e-03, 7.47381747e-02, 6.22024760e-02, 2.05490321e-01,\n",
       "        1.68200564e-02, 2.85623618e-03, 2.57061254e-02, 1.64392263e-01,\n",
       "        5.55379242e-02, 1.84385911e-01, 5.58552854e-02, 1.42018408e-01],\n",
       "       [4.25338373e-02, 2.92533841e-02, 2.65099704e-01, 1.46266922e-01,\n",
       "        1.21161407e-02, 9.46004968e-03, 1.72100123e-02, 2.40430802e-01,\n",
       "        1.31349145e-02, 4.36981507e-02, 4.65725502e-03, 1.76138848e-01],\n",
       "       [5.26193622e-03, 2.18138203e-01, 1.10345893e-01, 1.68536723e-01,\n",
       "        6.53099120e-02, 2.29822788e-02, 8.18695351e-02, 3.47442552e-02,\n",
       "        1.34643659e-01, 3.11847087e-02, 3.60597372e-02, 9.09231603e-02],\n",
       "       [1.63016636e-02, 2.12415606e-02, 6.99324906e-01, 1.23497443e-02,\n",
       "        6.68532848e-02, 2.09122337e-02, 4.77523450e-03, 6.33953586e-02,\n",
       "        5.10456134e-03, 1.07031120e-02, 6.58653036e-04, 7.83797130e-02],\n",
       "       [1.34649910e-02, 2.08258525e-01, 3.56373429e-01, 1.88509878e-02,\n",
       "        3.32136452e-02, 1.83123872e-01, 2.99222022e-03, 1.16098143e-01,\n",
       "        3.59066436e-03, 2.66307592e-02, 1.49611011e-03, 3.59066427e-02],\n",
       "       [6.96979742e-03, 2.35645529e-02, 3.25257219e-02, 3.44175249e-01,\n",
       "        1.29770994e-01, 3.21938284e-02, 7.83272460e-02, 1.35413215e-01,\n",
       "        6.83703944e-02, 1.39395948e-02, 1.55990710e-02, 1.19150348e-01],\n",
       "       [5.84013648e-02, 2.73616221e-02, 2.21494570e-01, 8.97102356e-02,\n",
       "        4.43168581e-02, 8.02906603e-02, 5.21216467e-02, 9.41060409e-02,\n",
       "        1.73230469e-01, 2.51188665e-03, 6.62061572e-02, 9.01587903e-02],\n",
       "       [4.82509058e-04, 4.60796133e-02, 6.38118207e-01, 3.99276242e-02,\n",
       "        2.05186978e-01, 2.20747888e-02, 1.24246078e-02, 1.68878175e-02,\n",
       "        5.54885389e-03, 2.41254529e-04, 3.61881778e-03, 9.40892659e-03],\n",
       "       [2.29357788e-03, 1.40891215e-02, 2.47378767e-01, 4.03342068e-01,\n",
       "        8.38794261e-02, 5.53735271e-02, 9.82961990e-03, 4.32503261e-02,\n",
       "        1.01572737e-01, 1.63826998e-03, 1.80209707e-02, 1.93315856e-02],\n",
       "       [5.33739990e-03, 9.14982855e-02, 2.07014874e-01, 4.88372087e-01,\n",
       "        7.39611164e-02, 6.48112828e-03, 3.39306146e-02, 4.15554717e-02,\n",
       "        8.38734303e-03, 1.25810141e-02, 8.00609961e-03, 2.28745714e-02],\n",
       "       [8.56255996e-04, 3.48924324e-02, 3.24199945e-01, 8.13443214e-03,\n",
       "        1.05640590e-01, 6.18644990e-02, 1.34860324e-02, 3.98159064e-02,\n",
       "        3.22808534e-01, 1.28438405e-03, 6.97848648e-02, 1.72321517e-02]],\n",
       "      dtype=float32)"
      ]
     },
     "execution_count": 20,
     "metadata": {},
     "output_type": "execute_result"
    }
   ],
   "source": [
    "tags_matrix"
   ]
  },
  {
   "cell_type": "code",
   "execution_count": 21,
   "metadata": {},
   "outputs": [],
   "source": [
    "# convert the matrix to a df for better readability\n",
    "tags_df = pd.DataFrame(tags_matrix, columns = list(T), index=list(T))"
   ]
  },
  {
   "cell_type": "code",
   "execution_count": 22,
   "metadata": {},
   "outputs": [
    {
     "data": {
      "text/html": [
       "<div>\n",
       "<style scoped>\n",
       "    .dataframe tbody tr th:only-of-type {\n",
       "        vertical-align: middle;\n",
       "    }\n",
       "\n",
       "    .dataframe tbody tr th {\n",
       "        vertical-align: top;\n",
       "    }\n",
       "\n",
       "    .dataframe thead th {\n",
       "        text-align: right;\n",
       "    }\n",
       "</style>\n",
       "<table border=\"1\" class=\"dataframe\">\n",
       "  <thead>\n",
       "    <tr style=\"text-align: right;\">\n",
       "      <th></th>\n",
       "      <th>CONJ</th>\n",
       "      <th>X</th>\n",
       "      <th>NOUN</th>\n",
       "      <th>VERB</th>\n",
       "      <th>ADJ</th>\n",
       "      <th>NUM</th>\n",
       "      <th>ADV</th>\n",
       "      <th>.</th>\n",
       "      <th>DET</th>\n",
       "      <th>PRT</th>\n",
       "      <th>PRON</th>\n",
       "      <th>ADP</th>\n",
       "    </tr>\n",
       "  </thead>\n",
       "  <tbody>\n",
       "    <tr>\n",
       "      <th>CONJ</th>\n",
       "      <td>0.000465</td>\n",
       "      <td>0.007442</td>\n",
       "      <td>0.352093</td>\n",
       "      <td>0.156279</td>\n",
       "      <td>0.116279</td>\n",
       "      <td>0.041395</td>\n",
       "      <td>0.053953</td>\n",
       "      <td>0.033023</td>\n",
       "      <td>0.123256</td>\n",
       "      <td>0.004651</td>\n",
       "      <td>0.058140</td>\n",
       "      <td>0.053023</td>\n",
       "    </tr>\n",
       "    <tr>\n",
       "      <th>X</th>\n",
       "      <td>0.009997</td>\n",
       "      <td>0.074738</td>\n",
       "      <td>0.062202</td>\n",
       "      <td>0.205490</td>\n",
       "      <td>0.016820</td>\n",
       "      <td>0.002856</td>\n",
       "      <td>0.025706</td>\n",
       "      <td>0.164392</td>\n",
       "      <td>0.055538</td>\n",
       "      <td>0.184386</td>\n",
       "      <td>0.055855</td>\n",
       "      <td>0.142018</td>\n",
       "    </tr>\n",
       "    <tr>\n",
       "      <th>NOUN</th>\n",
       "      <td>0.042534</td>\n",
       "      <td>0.029253</td>\n",
       "      <td>0.265100</td>\n",
       "      <td>0.146267</td>\n",
       "      <td>0.012116</td>\n",
       "      <td>0.009460</td>\n",
       "      <td>0.017210</td>\n",
       "      <td>0.240431</td>\n",
       "      <td>0.013135</td>\n",
       "      <td>0.043698</td>\n",
       "      <td>0.004657</td>\n",
       "      <td>0.176139</td>\n",
       "    </tr>\n",
       "    <tr>\n",
       "      <th>VERB</th>\n",
       "      <td>0.005262</td>\n",
       "      <td>0.218138</td>\n",
       "      <td>0.110346</td>\n",
       "      <td>0.168537</td>\n",
       "      <td>0.065310</td>\n",
       "      <td>0.022982</td>\n",
       "      <td>0.081870</td>\n",
       "      <td>0.034744</td>\n",
       "      <td>0.134644</td>\n",
       "      <td>0.031185</td>\n",
       "      <td>0.036060</td>\n",
       "      <td>0.090923</td>\n",
       "    </tr>\n",
       "    <tr>\n",
       "      <th>ADJ</th>\n",
       "      <td>0.016302</td>\n",
       "      <td>0.021242</td>\n",
       "      <td>0.699325</td>\n",
       "      <td>0.012350</td>\n",
       "      <td>0.066853</td>\n",
       "      <td>0.020912</td>\n",
       "      <td>0.004775</td>\n",
       "      <td>0.063395</td>\n",
       "      <td>0.005105</td>\n",
       "      <td>0.010703</td>\n",
       "      <td>0.000659</td>\n",
       "      <td>0.078380</td>\n",
       "    </tr>\n",
       "    <tr>\n",
       "      <th>NUM</th>\n",
       "      <td>0.013465</td>\n",
       "      <td>0.208259</td>\n",
       "      <td>0.356373</td>\n",
       "      <td>0.018851</td>\n",
       "      <td>0.033214</td>\n",
       "      <td>0.183124</td>\n",
       "      <td>0.002992</td>\n",
       "      <td>0.116098</td>\n",
       "      <td>0.003591</td>\n",
       "      <td>0.026631</td>\n",
       "      <td>0.001496</td>\n",
       "      <td>0.035907</td>\n",
       "    </tr>\n",
       "    <tr>\n",
       "      <th>ADV</th>\n",
       "      <td>0.006970</td>\n",
       "      <td>0.023565</td>\n",
       "      <td>0.032526</td>\n",
       "      <td>0.344175</td>\n",
       "      <td>0.129771</td>\n",
       "      <td>0.032194</td>\n",
       "      <td>0.078327</td>\n",
       "      <td>0.135413</td>\n",
       "      <td>0.068370</td>\n",
       "      <td>0.013940</td>\n",
       "      <td>0.015599</td>\n",
       "      <td>0.119150</td>\n",
       "    </tr>\n",
       "    <tr>\n",
       "      <th>.</th>\n",
       "      <td>0.058401</td>\n",
       "      <td>0.027362</td>\n",
       "      <td>0.221495</td>\n",
       "      <td>0.089710</td>\n",
       "      <td>0.044317</td>\n",
       "      <td>0.080291</td>\n",
       "      <td>0.052122</td>\n",
       "      <td>0.094106</td>\n",
       "      <td>0.173230</td>\n",
       "      <td>0.002512</td>\n",
       "      <td>0.066206</td>\n",
       "      <td>0.090159</td>\n",
       "    </tr>\n",
       "    <tr>\n",
       "      <th>DET</th>\n",
       "      <td>0.000483</td>\n",
       "      <td>0.046080</td>\n",
       "      <td>0.638118</td>\n",
       "      <td>0.039928</td>\n",
       "      <td>0.205187</td>\n",
       "      <td>0.022075</td>\n",
       "      <td>0.012425</td>\n",
       "      <td>0.016888</td>\n",
       "      <td>0.005549</td>\n",
       "      <td>0.000241</td>\n",
       "      <td>0.003619</td>\n",
       "      <td>0.009409</td>\n",
       "    </tr>\n",
       "    <tr>\n",
       "      <th>PRT</th>\n",
       "      <td>0.002294</td>\n",
       "      <td>0.014089</td>\n",
       "      <td>0.247379</td>\n",
       "      <td>0.403342</td>\n",
       "      <td>0.083879</td>\n",
       "      <td>0.055374</td>\n",
       "      <td>0.009830</td>\n",
       "      <td>0.043250</td>\n",
       "      <td>0.101573</td>\n",
       "      <td>0.001638</td>\n",
       "      <td>0.018021</td>\n",
       "      <td>0.019332</td>\n",
       "    </tr>\n",
       "    <tr>\n",
       "      <th>PRON</th>\n",
       "      <td>0.005337</td>\n",
       "      <td>0.091498</td>\n",
       "      <td>0.207015</td>\n",
       "      <td>0.488372</td>\n",
       "      <td>0.073961</td>\n",
       "      <td>0.006481</td>\n",
       "      <td>0.033931</td>\n",
       "      <td>0.041555</td>\n",
       "      <td>0.008387</td>\n",
       "      <td>0.012581</td>\n",
       "      <td>0.008006</td>\n",
       "      <td>0.022875</td>\n",
       "    </tr>\n",
       "    <tr>\n",
       "      <th>ADP</th>\n",
       "      <td>0.000856</td>\n",
       "      <td>0.034892</td>\n",
       "      <td>0.324200</td>\n",
       "      <td>0.008134</td>\n",
       "      <td>0.105641</td>\n",
       "      <td>0.061864</td>\n",
       "      <td>0.013486</td>\n",
       "      <td>0.039816</td>\n",
       "      <td>0.322809</td>\n",
       "      <td>0.001284</td>\n",
       "      <td>0.069785</td>\n",
       "      <td>0.017232</td>\n",
       "    </tr>\n",
       "  </tbody>\n",
       "</table>\n",
       "</div>"
      ],
      "text/plain": [
       "          CONJ         X      NOUN      VERB       ADJ       NUM       ADV  \\\n",
       "CONJ  0.000465  0.007442  0.352093  0.156279  0.116279  0.041395  0.053953   \n",
       "X     0.009997  0.074738  0.062202  0.205490  0.016820  0.002856  0.025706   \n",
       "NOUN  0.042534  0.029253  0.265100  0.146267  0.012116  0.009460  0.017210   \n",
       "VERB  0.005262  0.218138  0.110346  0.168537  0.065310  0.022982  0.081870   \n",
       "ADJ   0.016302  0.021242  0.699325  0.012350  0.066853  0.020912  0.004775   \n",
       "NUM   0.013465  0.208259  0.356373  0.018851  0.033214  0.183124  0.002992   \n",
       "ADV   0.006970  0.023565  0.032526  0.344175  0.129771  0.032194  0.078327   \n",
       ".     0.058401  0.027362  0.221495  0.089710  0.044317  0.080291  0.052122   \n",
       "DET   0.000483  0.046080  0.638118  0.039928  0.205187  0.022075  0.012425   \n",
       "PRT   0.002294  0.014089  0.247379  0.403342  0.083879  0.055374  0.009830   \n",
       "PRON  0.005337  0.091498  0.207015  0.488372  0.073961  0.006481  0.033931   \n",
       "ADP   0.000856  0.034892  0.324200  0.008134  0.105641  0.061864  0.013486   \n",
       "\n",
       "             .       DET       PRT      PRON       ADP  \n",
       "CONJ  0.033023  0.123256  0.004651  0.058140  0.053023  \n",
       "X     0.164392  0.055538  0.184386  0.055855  0.142018  \n",
       "NOUN  0.240431  0.013135  0.043698  0.004657  0.176139  \n",
       "VERB  0.034744  0.134644  0.031185  0.036060  0.090923  \n",
       "ADJ   0.063395  0.005105  0.010703  0.000659  0.078380  \n",
       "NUM   0.116098  0.003591  0.026631  0.001496  0.035907  \n",
       "ADV   0.135413  0.068370  0.013940  0.015599  0.119150  \n",
       ".     0.094106  0.173230  0.002512  0.066206  0.090159  \n",
       "DET   0.016888  0.005549  0.000241  0.003619  0.009409  \n",
       "PRT   0.043250  0.101573  0.001638  0.018021  0.019332  \n",
       "PRON  0.041555  0.008387  0.012581  0.008006  0.022875  \n",
       "ADP   0.039816  0.322809  0.001284  0.069785  0.017232  "
      ]
     },
     "execution_count": 22,
     "metadata": {},
     "output_type": "execute_result"
    }
   ],
   "source": [
    "tags_df"
   ]
  },
  {
   "cell_type": "code",
   "execution_count": 23,
   "metadata": {},
   "outputs": [
    {
     "data": {
      "text/plain": [
       "CONJ    0.058401\n",
       "X       0.027362\n",
       "NOUN    0.221495\n",
       "VERB    0.089710\n",
       "ADJ     0.044317\n",
       "NUM     0.080291\n",
       "ADV     0.052122\n",
       ".       0.094106\n",
       "DET     0.173230\n",
       "PRT     0.002512\n",
       "PRON    0.066206\n",
       "ADP     0.090159\n",
       "Name: ., dtype: float32"
      ]
     },
     "execution_count": 23,
     "metadata": {},
     "output_type": "execute_result"
    }
   ],
   "source": [
    "tags_df.loc['.', :]"
   ]
  },
  {
   "cell_type": "code",
   "execution_count": 24,
   "metadata": {},
   "outputs": [
    {
     "data": {
      "image/png": "[encoded data removed]",
      "text/plain": [
       "<Figure size 1296x864 with 2 Axes>"
      ]
     },
     "metadata": {
      "needs_background": "light"
     },
     "output_type": "display_data"
    }
   ],
   "source": [
    "# heatmap of tags matrix\n",
    "# T(i, j) means P(tag j given tag i)\n",
    "plt.figure(figsize=(18, 12))\n",
    "sns.heatmap(tags_df)\n",
    "plt.show()\n"
   ]
  },
  {
   "cell_type": "code",
   "execution_count": 25,
   "metadata": {},
   "outputs": [
    {
     "data": {
      "image/png": "[encoded data removed]",
      "text/plain": [
       "<Figure size 1296x864 with 2 Axes>"
      ]
     },
     "metadata": {
      "needs_background": "light"
     },
     "output_type": "display_data"
    }
   ],
   "source": [
    "# frequent tags\n",
    "# filter the df to get P(t2, t1) > 0.1\n",
    "tags_frequent = tags_df[tags_df>0.1]\n",
    "plt.figure(figsize=(18, 12))\n",
    "sns.heatmap(tags_frequent)\n",
    "plt.show()"
   ]
  },
  {
   "cell_type": "markdown",
   "metadata": {},
   "source": [
    "### Virtebi Algorithm"
   ]
  },
  {
   "cell_type": "code",
   "execution_count": 26,
   "metadata": {},
   "outputs": [
    {
     "data": {
      "text/plain": [
       "95742"
      ]
     },
     "execution_count": 26,
     "metadata": {},
     "output_type": "execute_result"
    }
   ],
   "source": [
    "len(train_tagged_words)"
   ]
  },
  {
   "cell_type": "code",
   "execution_count": 27,
   "metadata": {},
   "outputs": [],
   "source": [
    "# Viterbi Heuristic\n",
    "def Viterbi(words, train_bag = train_tagged_words):\n",
    "    state = []\n",
    "    T = list(set([pair[1] for pair in train_bag]))\n",
    "    \n",
    "    for key, word in enumerate(words):\n",
    "        #initialise list of probability column for a given observation\n",
    "        p = [] \n",
    "        for tag in T:\n",
    "            if key == 0:\n",
    "                transition_p = tags_df.loc['.', tag]\n",
    "            else:\n",
    "                transition_p = tags_df.loc[state[-1], tag]\n",
    "                \n",
    "            # compute emission and state probabilities\n",
    "            emission_p = word_given_tag(words[key], tag)[0]/word_given_tag(words[key], tag)[1]\n",
    "            state_probability = emission_p * transition_p    \n",
    "            p.append(state_probability)\n",
    "            \n",
    "        pmax = max(p)\n",
    "        # getting state for which probability is maximum\n",
    "        state_max = T[p.index(pmax)] \n",
    "        state.append(state_max)\n",
    "    return list(zip(words, state))\n"
   ]
  },
  {
   "cell_type": "markdown",
   "metadata": {},
   "source": [
    "### Evaluating the test set"
   ]
  },
  {
   "cell_type": "code",
   "execution_count": 28,
   "metadata": {},
   "outputs": [
    {
     "data": {
      "text/plain": [
       "[[('In', 'ADP'),\n",
       "  ('the', 'DET'),\n",
       "  ('aftermath', 'NOUN'),\n",
       "  ('of', 'ADP'),\n",
       "  ('the', 'DET'),\n",
       "  ('stock', 'NOUN'),\n",
       "  ('market', 'NOUN'),\n",
       "  (\"'s\", 'PRT'),\n",
       "  ('gut-wrenching', 'ADJ'),\n",
       "  ('190-point', 'ADJ'),\n",
       "  ('drop', 'NOUN'),\n",
       "  ('on', 'ADP'),\n",
       "  ('Oct.', 'NOUN'),\n",
       "  ('13', 'NUM'),\n",
       "  (',', '.'),\n",
       "  ('Kidder', 'NOUN'),\n",
       "  (',', '.'),\n",
       "  ('Peabody', 'NOUN'),\n",
       "  ('&', 'CONJ'),\n",
       "  ('Co.', 'NOUN'),\n",
       "  (\"'s\", 'PRT'),\n",
       "  ('1,400', 'NUM'),\n",
       "  ('stockbrokers', 'NOUN'),\n",
       "  ('across', 'ADP'),\n",
       "  ('the', 'DET'),\n",
       "  ('country', 'NOUN'),\n",
       "  ('began', 'VERB'),\n",
       "  ('a', 'DET'),\n",
       "  ('telephone', 'NOUN'),\n",
       "  ('and', 'CONJ'),\n",
       "  ('letter-writing', 'ADJ'),\n",
       "  ('campaign', 'NOUN'),\n",
       "  ('aimed', 'VERB'),\n",
       "  ('*', 'X'),\n",
       "  ('at', 'ADP'),\n",
       "  ('*', 'X'),\n",
       "  ('quashing', 'VERB'),\n",
       "  ('the', 'DET'),\n",
       "  ('country', 'NOUN'),\n",
       "  (\"'s\", 'PRT'),\n",
       "  ('second-largest', 'ADJ'),\n",
       "  ('program', 'NOUN'),\n",
       "  ('trader', 'NOUN'),\n",
       "  ('.', '.')],\n",
       " [('In', 'ADP'),\n",
       "  ('his', 'PRON'),\n",
       "  ('ruling', 'NOUN'),\n",
       "  (',', '.'),\n",
       "  ('Judge', 'NOUN'),\n",
       "  ('Curry', 'NOUN'),\n",
       "  ('added', 'VERB'),\n",
       "  ('an', 'DET'),\n",
       "  ('additional', 'ADJ'),\n",
       "  ('$', '.'),\n",
       "  ('55', 'NUM'),\n",
       "  ('million', 'NUM'),\n",
       "  ('*U*', 'X'),\n",
       "  ('to', 'PRT'),\n",
       "  ('the', 'DET'),\n",
       "  ('commission', 'NOUN'),\n",
       "  (\"'s\", 'PRT'),\n",
       "  ('calculations', 'NOUN'),\n",
       "  ('.', '.')],\n",
       " [('The', 'DET'),\n",
       "  ('biggest', 'ADJ'),\n",
       "  ('beneficiary', 'NOUN'),\n",
       "  ('was', 'VERB'),\n",
       "  ('Northeast', 'NOUN'),\n",
       "  ('Bancorp', 'NOUN'),\n",
       "  (',', '.'),\n",
       "  ('which', 'DET'),\n",
       "  ('*T*-118', 'X'),\n",
       "  ('surged', 'VERB'),\n",
       "  ('7', 'NUM'),\n",
       "  ('3\\\\/4', 'NUM'),\n",
       "  ('to', 'PRT'),\n",
       "  ('69', 'NUM'),\n",
       "  ('.', '.')],\n",
       " [('Wednesday', 'NOUN'),\n",
       "  (',', '.'),\n",
       "  ('November', 'NOUN'),\n",
       "  ('1', 'NUM'),\n",
       "  (',', '.'),\n",
       "  ('1989', 'NUM')],\n",
       " [('In', 'ADP'),\n",
       "  ('a', 'DET'),\n",
       "  ('well-known', 'ADJ'),\n",
       "  ('detective-story', 'NOUN'),\n",
       "  ('involving', 'VERB'),\n",
       "  ('church', 'NOUN'),\n",
       "  ('bells', 'NOUN'),\n",
       "  (',', '.'),\n",
       "  ('English', 'ADJ'),\n",
       "  ('novelist', 'NOUN'),\n",
       "  ('Dorothy', 'NOUN'),\n",
       "  ('L.', 'NOUN'),\n",
       "  ('Sayers', 'NOUN'),\n",
       "  ('described', 'VERB'),\n",
       "  ('ringing', 'VERB'),\n",
       "  ('as', 'ADP'),\n",
       "  ('a', 'DET'),\n",
       "  ('``', '.'),\n",
       "  ('passion', 'NOUN'),\n",
       "  ('-LCB-', '.'),\n",
       "  ('that', 'DET'),\n",
       "  ('-RCB-', '.'),\n",
       "  ('*T*-1', 'X'),\n",
       "  ('finds', 'VERB'),\n",
       "  ('its', 'PRON'),\n",
       "  ('satisfaction', 'NOUN'),\n",
       "  ('in', 'ADP'),\n",
       "  ('mathematical', 'ADJ'),\n",
       "  ('completeness', 'NOUN'),\n",
       "  ('and', 'CONJ'),\n",
       "  ('mechanical', 'ADJ'),\n",
       "  ('perfection', 'NOUN'),\n",
       "  ('.', '.'),\n",
       "  (\"''\", '.')]]"
      ]
     },
     "execution_count": 28,
     "metadata": {},
     "output_type": "execute_result"
    }
   ],
   "source": [
    "random.seed(1234)\n",
    "\n",
    "# choose random 5 sents\n",
    "rndom = [random.randint(1,len(test_set)) for x in range(5)]\n",
    "\n",
    "# list of sents\n",
    "test_run = [test_set[i] for i in rndom]\n",
    "\n",
    "# list of tagged words\n",
    "test_run_base = [tup for sent in test_run for tup in sent]\n",
    "\n",
    "# list of untagged words\n",
    "test_tagged_words = [tup[0] for sent in test_run for tup in sent]\n",
    "test_run"
   ]
  },
  {
   "cell_type": "code",
   "execution_count": 29,
   "metadata": {},
   "outputs": [],
   "source": [
    "# tagging the test sentences\n",
    "start = time.time()\n",
    "tagged_seq = Viterbi(test_tagged_words)\n",
    "end = time.time()\n",
    "difference = end-start"
   ]
  },
  {
   "cell_type": "code",
   "execution_count": 30,
   "metadata": {},
   "outputs": [
    {
     "name": "stdout",
     "output_type": "stream",
     "text": [
      "Time taken in seconds:  40.168633222579956\n",
      "[('In', 'ADP'), ('the', 'DET'), ('aftermath', 'NOUN'), ('of', 'ADP'), ('the', 'DET'), ('stock', 'NOUN'), ('market', 'NOUN'), (\"'s\", 'PRT'), ('gut-wrenching', 'CONJ'), ('190-point', 'CONJ'), ('drop', 'NOUN'), ('on', 'ADP'), ('Oct.', 'NOUN'), ('13', 'NUM'), (',', '.'), ('Kidder', 'NOUN'), (',', '.'), ('Peabody', 'NOUN'), ('&', 'CONJ'), ('Co.', 'NOUN'), (\"'s\", 'PRT'), ('1,400', 'CONJ'), ('stockbrokers', 'NOUN'), ('across', 'ADP'), ('the', 'DET'), ('country', 'NOUN'), ('began', 'VERB'), ('a', 'DET'), ('telephone', 'NOUN'), ('and', 'CONJ'), ('letter-writing', 'CONJ'), ('campaign', 'NOUN'), ('aimed', 'VERB'), ('*', 'X'), ('at', 'ADP'), ('*', 'X'), ('quashing', 'CONJ'), ('the', 'DET'), ('country', 'NOUN'), (\"'s\", 'PRT'), ('second-largest', 'ADJ'), ('program', 'NOUN'), ('trader', 'NOUN'), ('.', '.'), ('In', 'ADP'), ('his', 'PRON'), ('ruling', 'NOUN'), (',', '.'), ('Judge', 'NOUN'), ('Curry', 'NOUN'), ('added', 'VERB'), ('an', 'DET'), ('additional', 'ADJ'), ('$', '.'), ('55', 'NUM'), ('million', 'NUM'), ('*U*', 'X'), ('to', 'PRT'), ('the', 'DET'), ('commission', 'NOUN'), (\"'s\", 'PRT'), ('calculations', 'CONJ'), ('.', '.'), ('The', 'DET'), ('biggest', 'ADJ'), ('beneficiary', 'CONJ'), ('was', 'VERB'), ('Northeast', 'NOUN'), ('Bancorp', 'NOUN'), (',', '.'), ('which', 'DET'), ('*T*-118', 'CONJ'), ('surged', 'VERB'), ('7', 'NUM'), ('3\\\\/4', 'NUM'), ('to', 'PRT'), ('69', 'NUM'), ('.', '.'), ('Wednesday', 'NOUN'), (',', '.'), ('November', 'NOUN'), ('1', 'NUM'), (',', '.'), ('1989', 'NUM'), ('In', 'ADP'), ('a', 'DET'), ('well-known', 'ADJ'), ('detective-story', 'CONJ'), ('involving', 'VERB'), ('church', 'NOUN'), ('bells', 'NOUN'), (',', '.'), ('English', 'NOUN'), ('novelist', 'CONJ'), ('Dorothy', 'NOUN'), ('L.', 'NOUN'), ('Sayers', 'NOUN'), ('described', 'VERB'), ('ringing', 'VERB'), ('as', 'ADP'), ('a', 'DET'), ('``', '.'), ('passion', 'NOUN'), ('-LCB-', '.'), ('that', 'DET'), ('-RCB-', '.'), ('*T*-1', 'X'), ('finds', 'CONJ'), ('its', 'PRON'), ('satisfaction', 'CONJ'), ('in', 'ADP'), ('mathematical', 'CONJ'), ('completeness', 'CONJ'), ('and', 'CONJ'), ('mechanical', 'ADJ'), ('perfection', 'CONJ'), ('.', '.'), (\"''\", '.')]\n"
     ]
    }
   ],
   "source": [
    "print(\"Time taken in seconds: \", difference)\n",
    "print(tagged_seq)"
   ]
  },
  {
   "cell_type": "code",
   "execution_count": 31,
   "metadata": {},
   "outputs": [],
   "source": [
    "# accuracy\n",
    "check = [i for i, j in zip(tagged_seq, test_run_base) if i == j]"
   ]
  },
  {
   "cell_type": "code",
   "execution_count": 32,
   "metadata": {},
   "outputs": [
    {
     "data": {
      "text/plain": [
       "0.864406779661017"
      ]
     },
     "execution_count": 32,
     "metadata": {},
     "output_type": "execute_result"
    }
   ],
   "source": [
    "accuracy = len(check)/len(tagged_seq)\n",
    "accuracy"
   ]
  },
  {
   "cell_type": "code",
   "execution_count": 33,
   "metadata": {},
   "outputs": [
    {
     "data": {
      "text/plain": [
       "[[(\"'s\", 'PRT'), (('gut-wrenching', 'CONJ'), ('gut-wrenching', 'ADJ'))],\n",
       " [('gut-wrenching', 'ADJ'), (('190-point', 'CONJ'), ('190-point', 'ADJ'))],\n",
       " [(\"'s\", 'PRT'), (('1,400', 'CONJ'), ('1,400', 'NUM'))],\n",
       " [('and', 'CONJ'), (('letter-writing', 'CONJ'), ('letter-writing', 'ADJ'))],\n",
       " [('*', 'X'), (('quashing', 'CONJ'), ('quashing', 'VERB'))],\n",
       " [(\"'s\", 'PRT'), (('calculations', 'CONJ'), ('calculations', 'NOUN'))],\n",
       " [('biggest', 'ADJ'), (('beneficiary', 'CONJ'), ('beneficiary', 'NOUN'))],\n",
       " [('which', 'DET'), (('*T*-118', 'CONJ'), ('*T*-118', 'X'))],\n",
       " [('well-known', 'ADJ'),\n",
       "  (('detective-story', 'CONJ'), ('detective-story', 'NOUN'))],\n",
       " [(',', '.'), (('English', 'NOUN'), ('English', 'ADJ'))],\n",
       " [('English', 'ADJ'), (('novelist', 'CONJ'), ('novelist', 'NOUN'))],\n",
       " [('*T*-1', 'X'), (('finds', 'CONJ'), ('finds', 'VERB'))],\n",
       " [('its', 'PRON'), (('satisfaction', 'CONJ'), ('satisfaction', 'NOUN'))],\n",
       " [('in', 'ADP'), (('mathematical', 'CONJ'), ('mathematical', 'ADJ'))],\n",
       " [('mathematical', 'ADJ'),\n",
       "  (('completeness', 'CONJ'), ('completeness', 'NOUN'))],\n",
       " [('mechanical', 'ADJ'), (('perfection', 'CONJ'), ('perfection', 'NOUN'))]]"
      ]
     },
     "execution_count": 33,
     "metadata": {},
     "output_type": "execute_result"
    }
   ],
   "source": [
    "incorrect_tagged_cases = [[test_run_base[i-1],j] for i, j in enumerate(zip(tagged_seq, test_run_base)) if j[0]!=j[1]]\n",
    "incorrect_tagged_cases"
   ]
  },
  {
   "cell_type": "code",
   "execution_count": 34,
   "metadata": {},
   "outputs": [],
   "source": [
    "#nltk.download('punkt')"
   ]
  },
  {
   "cell_type": "code",
   "execution_count": 78,
   "metadata": {},
   "outputs": [],
   "source": [
    "## Testing\n",
    "text = \"Android is a mobile operating system developed by Google. Android has been the best-selling OS worldwide on smartphones since 2011 and on tablets since 2013. Google and Twitter made a deal in 2015 that gave Google access to Twitter's firehose. Twitter is an online news and social networking service on which users post and interact with messages known as tweets. Before entering politics, Donald Trump was a domineering businessman and a television personality. The 2018 FIFA World Cup is the 21st FIFA World Cup, an international football tournament contested once every four years. This is the first World Cup to be held in Eastern Europe and the 11th time that it has been held in Europe. Show me the cheapest round trips from Dallas to Atlanta. I would like to see flights from Denver to Philadelphia. Show me the price of the flights leaving Atlanta at about 3 in the afternoon and arriving in San Francisco. NASA invited social media users to experience the launch of ICESAT-2 Satellite.\"\n",
    "words = word_tokenize(text)\n",
    "\n",
    "start = time.time()\n",
    "tagged_seq = Viterbi(words)\n",
    "end = time.time()\n",
    "difference = end-start"
   ]
  },
  {
   "cell_type": "code",
   "execution_count": 79,
   "metadata": {},
   "outputs": [
    {
     "name": "stdout",
     "output_type": "stream",
     "text": [
      "[('Android', 'CONJ'), ('is', 'VERB'), ('a', 'DET'), ('mobile', 'ADJ'), ('operating', 'NOUN'), ('system', 'NOUN'), ('developed', 'VERB'), ('by', 'ADP'), ('Google', 'CONJ'), ('.', '.'), ('Android', 'CONJ'), ('has', 'VERB'), ('been', 'VERB'), ('the', 'DET'), ('best-selling', 'ADJ'), ('OS', 'CONJ'), ('worldwide', 'CONJ'), ('on', 'ADP'), ('smartphones', 'CONJ'), ('since', 'ADP'), ('2011', 'CONJ'), ('and', 'CONJ'), ('on', 'ADP'), ('tablets', 'CONJ'), ('since', 'ADP'), ('2013', 'CONJ'), ('.', '.'), ('Google', 'CONJ'), ('and', 'CONJ'), ('Twitter', 'CONJ'), ('made', 'VERB'), ('a', 'DET'), ('deal', 'NOUN'), ('in', 'ADP'), ('2015', 'CONJ'), ('that', 'DET'), ('gave', 'VERB'), ('Google', 'CONJ'), ('access', 'NOUN'), ('to', 'PRT'), ('Twitter', 'CONJ'), (\"'s\", 'VERB'), ('firehose', 'CONJ'), ('.', '.'), ('Twitter', 'CONJ'), ('is', 'VERB'), ('an', 'DET'), ('online', 'CONJ'), ('news', 'NOUN'), ('and', 'CONJ'), ('social', 'ADJ'), ('networking', 'NOUN'), ('service', 'NOUN'), ('on', 'ADP'), ('which', 'DET'), ('users', 'NOUN'), ('post', 'NOUN'), ('and', 'CONJ'), ('interact', 'CONJ'), ('with', 'ADP'), ('messages', 'CONJ'), ('known', 'VERB'), ('as', 'ADP'), ('tweets', 'CONJ'), ('.', '.'), ('Before', 'ADP'), ('entering', 'VERB'), ('politics', 'NOUN'), (',', '.'), ('Donald', 'NOUN'), ('Trump', 'NOUN'), ('was', 'VERB'), ('a', 'DET'), ('domineering', 'CONJ'), ('businessman', 'CONJ'), ('and', 'CONJ'), ('a', 'DET'), ('television', 'NOUN'), ('personality', 'CONJ'), ('.', '.'), ('The', 'DET'), ('2018', 'CONJ'), ('FIFA', 'CONJ'), ('World', 'NOUN'), ('Cup', 'CONJ'), ('is', 'VERB'), ('the', 'DET'), ('21st', 'CONJ'), ('FIFA', 'CONJ'), ('World', 'NOUN'), ('Cup', 'CONJ'), (',', '.'), ('an', 'DET'), ('international', 'ADJ'), ('football', 'NOUN'), ('tournament', 'CONJ'), ('contested', 'CONJ'), ('once', 'ADV'), ('every', 'DET'), ('four', 'NUM'), ('years', 'NOUN'), ('.', '.'), ('This', 'DET'), ('is', 'VERB'), ('the', 'DET'), ('first', 'ADJ'), ('World', 'NOUN'), ('Cup', 'CONJ'), ('to', 'PRT'), ('be', 'VERB'), ('held', 'VERB'), ('in', 'ADP'), ('Eastern', 'NOUN'), ('Europe', 'NOUN'), ('and', 'CONJ'), ('the', 'DET'), ('11th', 'ADJ'), ('time', 'NOUN'), ('that', 'ADP'), ('it', 'PRON'), ('has', 'VERB'), ('been', 'VERB'), ('held', 'VERB'), ('in', 'ADP'), ('Europe', 'NOUN'), ('.', '.'), ('Show', 'NOUN'), ('me', 'PRON'), ('the', 'DET'), ('cheapest', 'ADJ'), ('round', 'NOUN'), ('trips', 'CONJ'), ('from', 'ADP'), ('Dallas', 'NOUN'), ('to', 'PRT'), ('Atlanta', 'NOUN'), ('.', '.'), ('I', 'PRON'), ('would', 'VERB'), ('like', 'ADP'), ('to', 'PRT'), ('see', 'VERB'), ('flights', 'NOUN'), ('from', 'ADP'), ('Denver', 'NOUN'), ('to', 'PRT'), ('Philadelphia', 'NOUN'), ('.', '.'), ('Show', 'NOUN'), ('me', 'PRON'), ('the', 'DET'), ('price', 'NOUN'), ('of', 'ADP'), ('the', 'DET'), ('flights', 'NOUN'), ('leaving', 'VERB'), ('Atlanta', 'NOUN'), ('at', 'ADP'), ('about', 'ADP'), ('3', 'NUM'), ('in', 'ADP'), ('the', 'DET'), ('afternoon', 'NOUN'), ('and', 'CONJ'), ('arriving', 'CONJ'), ('in', 'ADP'), ('San', 'NOUN'), ('Francisco', 'NOUN'), ('.', '.'), ('NASA', 'CONJ'), ('invited', 'CONJ'), ('social', 'ADJ'), ('media', 'NOUN'), ('users', 'NOUN'), ('to', 'PRT'), ('experience', 'NOUN'), ('the', 'DET'), ('launch', 'NOUN'), ('of', 'ADP'), ('ICESAT-2', 'CONJ'), ('Satellite', 'CONJ'), ('.', '.')]\n",
      "55.27354884147644\n"
     ]
    }
   ],
   "source": [
    "print(tagged_seq)\n",
    "print(difference)"
   ]
  },
  {
   "cell_type": "markdown",
   "metadata": {},
   "source": [
    "### Solve the problem of unknown words"
   ]
  },
  {
   "cell_type": "markdown",
   "metadata": {},
   "source": [
    "#### Regex Taggers "
   ]
  },
  {
   "cell_type": "code",
   "execution_count": 37,
   "metadata": {},
   "outputs": [],
   "source": [
    "patterns = [\n",
    "    (r'.*ing$', 'VERB'),              # gerund\n",
    "    (r'.*ed$', 'VERB'),               # past tense \n",
    "    (r'.*es$', 'VERB'),               # verb    \n",
    "    (r'.*\\'s$', 'NOUN'),              # possessive nouns\n",
    "    (r'.*s$', 'NOUN'),                # plural nouns\n",
    "    (r'\\*T?\\*?-[0-9]+$', 'X'),        # X\n",
    "    (r'^-?[0-9]+(.[0-9]+)?$', 'NUM'), # cardinal numbers\n",
    "    (r'.*', 'NOUN')                   # nouns\n",
    "]\n",
    "\n",
    "# rule based tagger\n",
    "regex_tagger = nltk.RegexpTagger(patterns)"
   ]
  },
  {
   "cell_type": "markdown",
   "metadata": {},
   "source": [
    "#### Lexicon, Unigram Taggers Combined"
   ]
  },
  {
   "cell_type": "code",
   "execution_count": 38,
   "metadata": {},
   "outputs": [],
   "source": [
    "#Combining taggers\n",
    "default_tagger = nltk.DefaultTagger('NOUN')"
   ]
  },
  {
   "cell_type": "code",
   "execution_count": 39,
   "metadata": {},
   "outputs": [],
   "source": [
    "unigram_tagger = nltk.UnigramTagger(train_set, backoff=default_tagger)"
   ]
  },
  {
   "cell_type": "code",
   "execution_count": 40,
   "metadata": {},
   "outputs": [],
   "source": [
    "bigram_tagger = nltk.BigramTagger(train_set, backoff=unigram_tagger)"
   ]
  },
  {
   "cell_type": "markdown",
   "metadata": {},
   "source": [
    "#### Evaluating tagging accuracy"
   ]
  },
  {
   "cell_type": "code",
   "execution_count": 41,
   "metadata": {},
   "outputs": [
    {
     "data": {
      "text/plain": [
       "0.3640048642075395"
      ]
     },
     "execution_count": 41,
     "metadata": {},
     "output_type": "execute_result"
    }
   ],
   "source": [
    "regex_tagger.evaluate(test_set)"
   ]
  },
  {
   "cell_type": "code",
   "execution_count": 42,
   "metadata": {},
   "outputs": [
    {
     "data": {
      "text/plain": [
       "0.9314957438184029"
      ]
     },
     "execution_count": 42,
     "metadata": {},
     "output_type": "execute_result"
    }
   ],
   "source": [
    "unigram_tagger.evaluate(test_set)"
   ]
  },
  {
   "cell_type": "code",
   "execution_count": 43,
   "metadata": {},
   "outputs": [
    {
     "data": {
      "text/plain": [
       "0.9341305229023105"
      ]
     },
     "execution_count": 43,
     "metadata": {},
     "output_type": "execute_result"
    }
   ],
   "source": [
    "bigram_tagger.evaluate(test_set)"
   ]
  },
  {
   "cell_type": "markdown",
   "metadata": {},
   "source": [
    "#### Viterbi using the Bigram Tagger, backoff method."
   ]
  },
  {
   "cell_type": "code",
   "execution_count": 44,
   "metadata": {},
   "outputs": [],
   "source": [
    "#Viterbi using the Bigram Tagger, backoff method.\n",
    "def Viterbi_1(words, train_bag = train_tagged_words):\n",
    "    state = []\n",
    "    T = list(set([pair[1] for pair in train_bag]))\n",
    "    \n",
    "    for key, word in enumerate(words):\n",
    "        #initialise list of probability column for a given observation\n",
    "        p = [] \n",
    "        for tag in T:\n",
    "            if key == 0:\n",
    "                transition_p = tags_df.loc['.', tag]\n",
    "            else:\n",
    "                transition_p = tags_df.loc[state[-1], tag]\n",
    "                \n",
    "            # compute emission and state probabilities\n",
    "            emission_p = word_given_tag(words[key], tag)[0]/word_given_tag(words[key], tag)[1]\n",
    "            state_probability = emission_p * transition_p    \n",
    "            p.append(state_probability)\n",
    "            \n",
    "        pmax = max(p)\n",
    "        state_max = bigram_tagger.tag([word])[0][1]     \n",
    "        if(pmax==0):\n",
    "            state_max = bigram_tagger.tag([word])[0][1] \n",
    "        else:\n",
    "            if state_max != 'X':\n",
    "                 state_max = T[p.index(pmax)]\n",
    "        state.append(state_max)\n",
    "    return list(zip(words, state))"
   ]
  },
  {
   "cell_type": "code",
   "execution_count": 45,
   "metadata": {},
   "outputs": [],
   "source": [
    "# tagging the test sentences\n",
    "start = time.time()\n",
    "tagged_seq = Viterbi_1(test_tagged_words)\n",
    "end = time.time()\n",
    "difference = end-start"
   ]
  },
  {
   "cell_type": "code",
   "execution_count": 46,
   "metadata": {},
   "outputs": [
    {
     "name": "stdout",
     "output_type": "stream",
     "text": [
      "Time taken in seconds:  35.8583779335022\n",
      "[('In', 'ADP'), ('the', 'DET'), ('aftermath', 'NOUN'), ('of', 'ADP'), ('the', 'DET'), ('stock', 'NOUN'), ('market', 'NOUN'), (\"'s\", 'PRT'), ('gut-wrenching', 'NOUN'), ('190-point', 'NOUN'), ('drop', 'NOUN'), ('on', 'ADP'), ('Oct.', 'NOUN'), ('13', 'NUM'), (',', '.'), ('Kidder', 'NOUN'), (',', '.'), ('Peabody', 'NOUN'), ('&', 'CONJ'), ('Co.', 'NOUN'), (\"'s\", 'PRT'), ('1,400', 'NOUN'), ('stockbrokers', 'NOUN'), ('across', 'ADP'), ('the', 'DET'), ('country', 'NOUN'), ('began', 'VERB'), ('a', 'X'), ('telephone', 'NOUN'), ('and', 'CONJ'), ('letter-writing', 'NOUN'), ('campaign', 'NOUN'), ('aimed', 'VERB'), ('*', 'X'), ('at', 'ADP'), ('*', 'X'), ('quashing', 'NOUN'), ('the', 'DET'), ('country', 'NOUN'), (\"'s\", 'PRT'), ('second-largest', 'ADJ'), ('program', 'NOUN'), ('trader', 'NOUN'), ('.', '.'), ('In', 'ADP'), ('his', 'PRON'), ('ruling', 'NOUN'), (',', '.'), ('Judge', 'NOUN'), ('Curry', 'NOUN'), ('added', 'VERB'), ('an', 'DET'), ('additional', 'ADJ'), ('$', '.'), ('55', 'NUM'), ('million', 'NUM'), ('*U*', 'X'), ('to', 'PRT'), ('the', 'DET'), ('commission', 'NOUN'), (\"'s\", 'PRT'), ('calculations', 'NOUN'), ('.', '.'), ('The', 'DET'), ('biggest', 'ADJ'), ('beneficiary', 'NOUN'), ('was', 'VERB'), ('Northeast', 'NOUN'), ('Bancorp', 'NOUN'), (',', '.'), ('which', 'DET'), ('*T*-118', 'NOUN'), ('surged', 'VERB'), ('7', 'NUM'), ('3\\\\/4', 'NUM'), ('to', 'PRT'), ('69', 'NUM'), ('.', '.'), ('Wednesday', 'NOUN'), (',', '.'), ('November', 'NOUN'), ('1', 'X'), (',', '.'), ('1989', 'NUM'), ('In', 'ADP'), ('a', 'X'), ('well-known', 'ADJ'), ('detective-story', 'NOUN'), ('involving', 'VERB'), ('church', 'NOUN'), ('bells', 'NOUN'), (',', '.'), ('English', 'NOUN'), ('novelist', 'NOUN'), ('Dorothy', 'NOUN'), ('L.', 'NOUN'), ('Sayers', 'NOUN'), ('described', 'VERB'), ('ringing', 'VERB'), ('as', 'ADP'), ('a', 'X'), ('``', '.'), ('passion', 'NOUN'), ('-LCB-', '.'), ('that', 'DET'), ('-RCB-', '.'), ('*T*-1', 'X'), ('finds', 'NOUN'), ('its', 'PRON'), ('satisfaction', 'NOUN'), ('in', 'ADP'), ('mathematical', 'NOUN'), ('completeness', 'NOUN'), ('and', 'CONJ'), ('mechanical', 'ADJ'), ('perfection', 'NOUN'), ('.', '.'), (\"''\", '.')]\n"
     ]
    }
   ],
   "source": [
    "print(\"Time taken in seconds: \", difference)\n",
    "print(tagged_seq)"
   ]
  },
  {
   "cell_type": "code",
   "execution_count": 47,
   "metadata": {},
   "outputs": [],
   "source": [
    "# accuracy\n",
    "check = [i for i, j in zip(tagged_seq, test_run_base) if i == j]"
   ]
  },
  {
   "cell_type": "code",
   "execution_count": 48,
   "metadata": {},
   "outputs": [
    {
     "data": {
      "text/plain": [
       "0.8898305084745762"
      ]
     },
     "execution_count": 48,
     "metadata": {},
     "output_type": "execute_result"
    }
   ],
   "source": [
    "accuracy = len(check)/len(tagged_seq)\n",
    "accuracy"
   ]
  },
  {
   "cell_type": "code",
   "execution_count": 49,
   "metadata": {},
   "outputs": [
    {
     "data": {
      "text/plain": [
       "[[(\"'s\", 'PRT'), (('gut-wrenching', 'NOUN'), ('gut-wrenching', 'ADJ'))],\n",
       " [('gut-wrenching', 'ADJ'), (('190-point', 'NOUN'), ('190-point', 'ADJ'))],\n",
       " [(\"'s\", 'PRT'), (('1,400', 'NOUN'), ('1,400', 'NUM'))],\n",
       " [('began', 'VERB'), (('a', 'X'), ('a', 'DET'))],\n",
       " [('and', 'CONJ'), (('letter-writing', 'NOUN'), ('letter-writing', 'ADJ'))],\n",
       " [('*', 'X'), (('quashing', 'NOUN'), ('quashing', 'VERB'))],\n",
       " [('which', 'DET'), (('*T*-118', 'NOUN'), ('*T*-118', 'X'))],\n",
       " [('November', 'NOUN'), (('1', 'X'), ('1', 'NUM'))],\n",
       " [('In', 'ADP'), (('a', 'X'), ('a', 'DET'))],\n",
       " [(',', '.'), (('English', 'NOUN'), ('English', 'ADJ'))],\n",
       " [('as', 'ADP'), (('a', 'X'), ('a', 'DET'))],\n",
       " [('*T*-1', 'X'), (('finds', 'NOUN'), ('finds', 'VERB'))],\n",
       " [('in', 'ADP'), (('mathematical', 'NOUN'), ('mathematical', 'ADJ'))]]"
      ]
     },
     "execution_count": 49,
     "metadata": {},
     "output_type": "execute_result"
    }
   ],
   "source": [
    "incorrect_tagged_cases = [[test_run_base[i-1],j] for i, j in enumerate(zip(tagged_seq, test_run_base)) if j[0]!=j[1]]\n",
    "incorrect_tagged_cases"
   ]
  },
  {
   "cell_type": "code",
   "execution_count": 80,
   "metadata": {},
   "outputs": [],
   "source": [
    "## Testing\n",
    "text = \"Android is a mobile operating system developed by Google. Android has been the best-selling OS worldwide on smartphones since 2011 and on tablets since 2013. Google and Twitter made a deal in 2015 that gave Google access to Twitter's firehose. Twitter is an online news and social networking service on which users post and interact with messages known as tweets. Before entering politics, Donald Trump was a domineering businessman and a television personality. The 2018 FIFA World Cup is the 21st FIFA World Cup, an international football tournament contested once every four years. This is the first World Cup to be held in Eastern Europe and the 11th time that it has been held in Europe. Show me the cheapest round trips from Dallas to Atlanta. I would like to see flights from Denver to Philadelphia. Show me the price of the flights leaving Atlanta at about 3 in the afternoon and arriving in San Francisco. NASA invited social media users to experience the launch of ICESAT-2 Satellite.\"\n",
    "words = word_tokenize(text)\n",
    "\n",
    "start = time.time()\n",
    "tagged_seq = Viterbi_1(words)\n",
    "end = time.time()\n",
    "difference = end-start"
   ]
  },
  {
   "cell_type": "code",
   "execution_count": 81,
   "metadata": {},
   "outputs": [
    {
     "name": "stdout",
     "output_type": "stream",
     "text": [
      "[('Android', 'NOUN'), ('is', 'VERB'), ('a', 'X'), ('mobile', 'ADJ'), ('operating', 'NOUN'), ('system', 'NOUN'), ('developed', 'VERB'), ('by', 'ADP'), ('Google', 'NOUN'), ('.', '.'), ('Android', 'NOUN'), ('has', 'VERB'), ('been', 'VERB'), ('the', 'DET'), ('best-selling', 'ADJ'), ('OS', 'NOUN'), ('worldwide', 'NOUN'), ('on', 'ADP'), ('smartphones', 'NOUN'), ('since', 'ADP'), ('2011', 'NOUN'), ('and', 'CONJ'), ('on', 'ADP'), ('tablets', 'NOUN'), ('since', 'ADP'), ('2013', 'NOUN'), ('.', '.'), ('Google', 'NOUN'), ('and', 'CONJ'), ('Twitter', 'NOUN'), ('made', 'VERB'), ('a', 'X'), ('deal', 'NOUN'), ('in', 'ADP'), ('2015', 'NOUN'), ('that', 'ADP'), ('gave', 'VERB'), ('Google', 'NOUN'), ('access', 'NOUN'), ('to', 'PRT'), ('Twitter', 'NOUN'), (\"'s\", 'PRT'), ('firehose', 'NOUN'), ('.', '.'), ('Twitter', 'NOUN'), ('is', 'VERB'), ('an', 'DET'), ('online', 'NOUN'), ('news', 'NOUN'), ('and', 'CONJ'), ('social', 'ADJ'), ('networking', 'NOUN'), ('service', 'NOUN'), ('on', 'ADP'), ('which', 'DET'), ('users', 'NOUN'), ('post', 'NOUN'), ('and', 'CONJ'), ('interact', 'NOUN'), ('with', 'ADP'), ('messages', 'NOUN'), ('known', 'VERB'), ('as', 'ADP'), ('tweets', 'NOUN'), ('.', '.'), ('Before', 'ADP'), ('entering', 'VERB'), ('politics', 'NOUN'), (',', '.'), ('Donald', 'NOUN'), ('Trump', 'NOUN'), ('was', 'VERB'), ('a', 'X'), ('domineering', 'NOUN'), ('businessman', 'NOUN'), ('and', 'CONJ'), ('a', 'X'), ('television', 'NOUN'), ('personality', 'NOUN'), ('.', '.'), ('The', 'DET'), ('2018', 'NOUN'), ('FIFA', 'NOUN'), ('World', 'NOUN'), ('Cup', 'NOUN'), ('is', 'VERB'), ('the', 'DET'), ('21st', 'NOUN'), ('FIFA', 'NOUN'), ('World', 'NOUN'), ('Cup', 'NOUN'), (',', '.'), ('an', 'DET'), ('international', 'ADJ'), ('football', 'NOUN'), ('tournament', 'NOUN'), ('contested', 'NOUN'), ('once', 'ADV'), ('every', 'DET'), ('four', 'NUM'), ('years', 'NOUN'), ('.', '.'), ('This', 'DET'), ('is', 'VERB'), ('the', 'DET'), ('first', 'ADJ'), ('World', 'NOUN'), ('Cup', 'NOUN'), ('to', 'PRT'), ('be', 'VERB'), ('held', 'VERB'), ('in', 'ADP'), ('Eastern', 'NOUN'), ('Europe', 'NOUN'), ('and', 'CONJ'), ('the', 'DET'), ('11th', 'ADJ'), ('time', 'NOUN'), ('that', 'ADP'), ('it', 'PRON'), ('has', 'VERB'), ('been', 'VERB'), ('held', 'VERB'), ('in', 'ADP'), ('Europe', 'NOUN'), ('.', '.'), ('Show', 'NOUN'), ('me', 'PRON'), ('the', 'DET'), ('cheapest', 'ADJ'), ('round', 'NOUN'), ('trips', 'NOUN'), ('from', 'ADP'), ('Dallas', 'NOUN'), ('to', 'PRT'), ('Atlanta', 'NOUN'), ('.', '.'), ('I', 'PRON'), ('would', 'VERB'), ('like', 'ADP'), ('to', 'PRT'), ('see', 'VERB'), ('flights', 'NOUN'), ('from', 'ADP'), ('Denver', 'NOUN'), ('to', 'PRT'), ('Philadelphia', 'NOUN'), ('.', '.'), ('Show', 'NOUN'), ('me', 'PRON'), ('the', 'DET'), ('price', 'NOUN'), ('of', 'ADP'), ('the', 'DET'), ('flights', 'NOUN'), ('leaving', 'VERB'), ('Atlanta', 'NOUN'), ('at', 'ADP'), ('about', 'ADP'), ('3', 'X'), ('in', 'ADP'), ('the', 'DET'), ('afternoon', 'NOUN'), ('and', 'CONJ'), ('arriving', 'NOUN'), ('in', 'ADP'), ('San', 'NOUN'), ('Francisco', 'NOUN'), ('.', '.'), ('NASA', 'NOUN'), ('invited', 'NOUN'), ('social', 'ADJ'), ('media', 'NOUN'), ('users', 'NOUN'), ('to', 'PRT'), ('experience', 'NOUN'), ('the', 'DET'), ('launch', 'NOUN'), ('of', 'ADP'), ('ICESAT-2', 'NOUN'), ('Satellite', 'NOUN'), ('.', '.')]\n",
      "56.13991403579712\n"
     ]
    }
   ],
   "source": [
    "print(tagged_seq)\n",
    "print(difference)"
   ]
  },
  {
   "cell_type": "markdown",
   "metadata": {},
   "source": [
    "#### Viterbi using the Unigram Tagger, backoff method."
   ]
  },
  {
   "cell_type": "code",
   "execution_count": 52,
   "metadata": {},
   "outputs": [],
   "source": [
    "#Viterbi using the Unigram Tagger, backoff method.\n",
    "def Viterbi_2(words, train_bag = train_tagged_words):\n",
    "    state = []\n",
    "    T = list(set([pair[1] for pair in train_bag]))\n",
    "    \n",
    "    for key, word in enumerate(words):\n",
    "        #initialise list of probability column for a given observation\n",
    "        p = [] \n",
    "        for tag in T:\n",
    "            if key == 0:\n",
    "                transition_p = tags_df.loc['.', tag]\n",
    "            else:\n",
    "                transition_p = tags_df.loc[state[-1], tag]\n",
    "                \n",
    "            # compute emission and state probabilities\n",
    "            emission_p = word_given_tag(words[key], tag)[0]/word_given_tag(words[key], tag)[1]\n",
    "            state_probability = emission_p * transition_p    \n",
    "            p.append(state_probability)\n",
    "            \n",
    "        pmax = max(p)\n",
    "        state_max = unigram_tagger.tag([word])[0][1]     \n",
    "        if(pmax==0):\n",
    "            state_max = unigram_tagger.tag([word])[0][1] \n",
    "        else:\n",
    "            if state_max != 'X':\n",
    "                 state_max = T[p.index(pmax)]\n",
    "        state.append(state_max)\n",
    "    return list(zip(words, state))"
   ]
  },
  {
   "cell_type": "code",
   "execution_count": 53,
   "metadata": {},
   "outputs": [],
   "source": [
    "# tagging the test sentences\n",
    "start = time.time()\n",
    "tagged_seq = Viterbi_2(test_tagged_words)\n",
    "end = time.time()\n",
    "difference = end-start"
   ]
  },
  {
   "cell_type": "code",
   "execution_count": 54,
   "metadata": {},
   "outputs": [
    {
     "name": "stdout",
     "output_type": "stream",
     "text": [
      "Time taken in seconds:  33.450490951538086\n",
      "[('In', 'ADP'), ('the', 'DET'), ('aftermath', 'NOUN'), ('of', 'ADP'), ('the', 'DET'), ('stock', 'NOUN'), ('market', 'NOUN'), (\"'s\", 'PRT'), ('gut-wrenching', 'NOUN'), ('190-point', 'NOUN'), ('drop', 'NOUN'), ('on', 'ADP'), ('Oct.', 'NOUN'), ('13', 'NUM'), (',', '.'), ('Kidder', 'NOUN'), (',', '.'), ('Peabody', 'NOUN'), ('&', 'CONJ'), ('Co.', 'NOUN'), (\"'s\", 'PRT'), ('1,400', 'NOUN'), ('stockbrokers', 'NOUN'), ('across', 'ADP'), ('the', 'DET'), ('country', 'NOUN'), ('began', 'VERB'), ('a', 'DET'), ('telephone', 'NOUN'), ('and', 'CONJ'), ('letter-writing', 'NOUN'), ('campaign', 'NOUN'), ('aimed', 'VERB'), ('*', 'X'), ('at', 'ADP'), ('*', 'X'), ('quashing', 'NOUN'), ('the', 'DET'), ('country', 'NOUN'), (\"'s\", 'PRT'), ('second-largest', 'ADJ'), ('program', 'NOUN'), ('trader', 'NOUN'), ('.', '.'), ('In', 'ADP'), ('his', 'PRON'), ('ruling', 'NOUN'), (',', '.'), ('Judge', 'NOUN'), ('Curry', 'NOUN'), ('added', 'VERB'), ('an', 'DET'), ('additional', 'ADJ'), ('$', '.'), ('55', 'NUM'), ('million', 'NUM'), ('*U*', 'X'), ('to', 'PRT'), ('the', 'DET'), ('commission', 'NOUN'), (\"'s\", 'PRT'), ('calculations', 'NOUN'), ('.', '.'), ('The', 'DET'), ('biggest', 'ADJ'), ('beneficiary', 'NOUN'), ('was', 'VERB'), ('Northeast', 'NOUN'), ('Bancorp', 'NOUN'), (',', '.'), ('which', 'DET'), ('*T*-118', 'NOUN'), ('surged', 'VERB'), ('7', 'NUM'), ('3\\\\/4', 'NUM'), ('to', 'PRT'), ('69', 'NUM'), ('.', '.'), ('Wednesday', 'NOUN'), (',', '.'), ('November', 'NOUN'), ('1', 'NUM'), (',', '.'), ('1989', 'NUM'), ('In', 'ADP'), ('a', 'DET'), ('well-known', 'ADJ'), ('detective-story', 'NOUN'), ('involving', 'VERB'), ('church', 'NOUN'), ('bells', 'NOUN'), (',', '.'), ('English', 'NOUN'), ('novelist', 'NOUN'), ('Dorothy', 'NOUN'), ('L.', 'NOUN'), ('Sayers', 'NOUN'), ('described', 'VERB'), ('ringing', 'VERB'), ('as', 'ADP'), ('a', 'DET'), ('``', '.'), ('passion', 'NOUN'), ('-LCB-', '.'), ('that', 'DET'), ('-RCB-', '.'), ('*T*-1', 'X'), ('finds', 'NOUN'), ('its', 'PRON'), ('satisfaction', 'NOUN'), ('in', 'ADP'), ('mathematical', 'NOUN'), ('completeness', 'NOUN'), ('and', 'CONJ'), ('mechanical', 'ADJ'), ('perfection', 'NOUN'), ('.', '.'), (\"''\", '.')]\n"
     ]
    }
   ],
   "source": [
    "print(\"Time taken in seconds: \", difference)\n",
    "print(tagged_seq)"
   ]
  },
  {
   "cell_type": "code",
   "execution_count": 55,
   "metadata": {},
   "outputs": [],
   "source": [
    "# accuracy\n",
    "check = [i for i, j in zip(tagged_seq, test_run_base) if i == j]"
   ]
  },
  {
   "cell_type": "code",
   "execution_count": 56,
   "metadata": {},
   "outputs": [
    {
     "data": {
      "text/plain": [
       "0.923728813559322"
      ]
     },
     "execution_count": 56,
     "metadata": {},
     "output_type": "execute_result"
    }
   ],
   "source": [
    "accuracy = len(check)/len(tagged_seq)\n",
    "accuracy"
   ]
  },
  {
   "cell_type": "code",
   "execution_count": 57,
   "metadata": {},
   "outputs": [
    {
     "data": {
      "text/plain": [
       "[[(\"'s\", 'PRT'), (('gut-wrenching', 'NOUN'), ('gut-wrenching', 'ADJ'))],\n",
       " [('gut-wrenching', 'ADJ'), (('190-point', 'NOUN'), ('190-point', 'ADJ'))],\n",
       " [(\"'s\", 'PRT'), (('1,400', 'NOUN'), ('1,400', 'NUM'))],\n",
       " [('and', 'CONJ'), (('letter-writing', 'NOUN'), ('letter-writing', 'ADJ'))],\n",
       " [('*', 'X'), (('quashing', 'NOUN'), ('quashing', 'VERB'))],\n",
       " [('which', 'DET'), (('*T*-118', 'NOUN'), ('*T*-118', 'X'))],\n",
       " [(',', '.'), (('English', 'NOUN'), ('English', 'ADJ'))],\n",
       " [('*T*-1', 'X'), (('finds', 'NOUN'), ('finds', 'VERB'))],\n",
       " [('in', 'ADP'), (('mathematical', 'NOUN'), ('mathematical', 'ADJ'))]]"
      ]
     },
     "execution_count": 57,
     "metadata": {},
     "output_type": "execute_result"
    }
   ],
   "source": [
    "incorrect_tagged_cases = [[test_run_base[i-1],j] for i, j in enumerate(zip(tagged_seq, test_run_base)) if j[0]!=j[1]]\n",
    "incorrect_tagged_cases"
   ]
  },
  {
   "cell_type": "code",
   "execution_count": 82,
   "metadata": {},
   "outputs": [],
   "source": [
    "## Testing\n",
    "text = \"Android is a mobile operating system developed by Google. Android has been the best-selling OS worldwide on smartphones since 2011 and on tablets since 2013. Google and Twitter made a deal in 2015 that gave Google access to Twitter's firehose. Twitter is an online news and social networking service on which users post and interact with messages known as tweets. Before entering politics, Donald Trump was a domineering businessman and a television personality. The 2018 FIFA World Cup is the 21st FIFA World Cup, an international football tournament contested once every four years. This is the first World Cup to be held in Eastern Europe and the 11th time that it has been held in Europe. Show me the cheapest round trips from Dallas to Atlanta. I would like to see flights from Denver to Philadelphia. Show me the price of the flights leaving Atlanta at about 3 in the afternoon and arriving in San Francisco. NASA invited social media users to experience the launch of ICESAT-2 Satellite.\"\n",
    "words = word_tokenize(text)\n",
    "\n",
    "start = time.time()\n",
    "tagged_seq = Viterbi_2(words)\n",
    "end = time.time()\n",
    "difference = end-start"
   ]
  },
  {
   "cell_type": "code",
   "execution_count": 83,
   "metadata": {},
   "outputs": [
    {
     "name": "stdout",
     "output_type": "stream",
     "text": [
      "[('Android', 'NOUN'), ('is', 'VERB'), ('a', 'DET'), ('mobile', 'ADJ'), ('operating', 'NOUN'), ('system', 'NOUN'), ('developed', 'VERB'), ('by', 'ADP'), ('Google', 'NOUN'), ('.', '.'), ('Android', 'NOUN'), ('has', 'VERB'), ('been', 'VERB'), ('the', 'DET'), ('best-selling', 'ADJ'), ('OS', 'NOUN'), ('worldwide', 'NOUN'), ('on', 'ADP'), ('smartphones', 'NOUN'), ('since', 'ADP'), ('2011', 'NOUN'), ('and', 'CONJ'), ('on', 'ADP'), ('tablets', 'NOUN'), ('since', 'ADP'), ('2013', 'NOUN'), ('.', '.'), ('Google', 'NOUN'), ('and', 'CONJ'), ('Twitter', 'NOUN'), ('made', 'VERB'), ('a', 'DET'), ('deal', 'NOUN'), ('in', 'ADP'), ('2015', 'NOUN'), ('that', 'ADP'), ('gave', 'VERB'), ('Google', 'NOUN'), ('access', 'NOUN'), ('to', 'PRT'), ('Twitter', 'NOUN'), (\"'s\", 'PRT'), ('firehose', 'NOUN'), ('.', '.'), ('Twitter', 'NOUN'), ('is', 'VERB'), ('an', 'DET'), ('online', 'NOUN'), ('news', 'NOUN'), ('and', 'CONJ'), ('social', 'ADJ'), ('networking', 'NOUN'), ('service', 'NOUN'), ('on', 'ADP'), ('which', 'DET'), ('users', 'NOUN'), ('post', 'NOUN'), ('and', 'CONJ'), ('interact', 'NOUN'), ('with', 'ADP'), ('messages', 'NOUN'), ('known', 'VERB'), ('as', 'ADP'), ('tweets', 'NOUN'), ('.', '.'), ('Before', 'ADP'), ('entering', 'VERB'), ('politics', 'NOUN'), (',', '.'), ('Donald', 'NOUN'), ('Trump', 'NOUN'), ('was', 'VERB'), ('a', 'DET'), ('domineering', 'NOUN'), ('businessman', 'NOUN'), ('and', 'CONJ'), ('a', 'DET'), ('television', 'NOUN'), ('personality', 'NOUN'), ('.', '.'), ('The', 'DET'), ('2018', 'NOUN'), ('FIFA', 'NOUN'), ('World', 'NOUN'), ('Cup', 'NOUN'), ('is', 'VERB'), ('the', 'DET'), ('21st', 'NOUN'), ('FIFA', 'NOUN'), ('World', 'NOUN'), ('Cup', 'NOUN'), (',', '.'), ('an', 'DET'), ('international', 'ADJ'), ('football', 'NOUN'), ('tournament', 'NOUN'), ('contested', 'NOUN'), ('once', 'ADV'), ('every', 'DET'), ('four', 'NUM'), ('years', 'NOUN'), ('.', '.'), ('This', 'DET'), ('is', 'VERB'), ('the', 'DET'), ('first', 'ADJ'), ('World', 'NOUN'), ('Cup', 'NOUN'), ('to', 'PRT'), ('be', 'VERB'), ('held', 'VERB'), ('in', 'ADP'), ('Eastern', 'NOUN'), ('Europe', 'NOUN'), ('and', 'CONJ'), ('the', 'DET'), ('11th', 'ADJ'), ('time', 'NOUN'), ('that', 'ADP'), ('it', 'PRON'), ('has', 'VERB'), ('been', 'VERB'), ('held', 'VERB'), ('in', 'ADP'), ('Europe', 'NOUN'), ('.', '.'), ('Show', 'NOUN'), ('me', 'PRON'), ('the', 'DET'), ('cheapest', 'ADJ'), ('round', 'NOUN'), ('trips', 'NOUN'), ('from', 'ADP'), ('Dallas', 'NOUN'), ('to', 'PRT'), ('Atlanta', 'NOUN'), ('.', '.'), ('I', 'PRON'), ('would', 'VERB'), ('like', 'ADP'), ('to', 'PRT'), ('see', 'VERB'), ('flights', 'NOUN'), ('from', 'ADP'), ('Denver', 'NOUN'), ('to', 'PRT'), ('Philadelphia', 'NOUN'), ('.', '.'), ('Show', 'NOUN'), ('me', 'PRON'), ('the', 'DET'), ('price', 'NOUN'), ('of', 'ADP'), ('the', 'DET'), ('flights', 'NOUN'), ('leaving', 'VERB'), ('Atlanta', 'NOUN'), ('at', 'ADP'), ('about', 'ADP'), ('3', 'NUM'), ('in', 'ADP'), ('the', 'DET'), ('afternoon', 'NOUN'), ('and', 'CONJ'), ('arriving', 'NOUN'), ('in', 'ADP'), ('San', 'NOUN'), ('Francisco', 'NOUN'), ('.', '.'), ('NASA', 'NOUN'), ('invited', 'NOUN'), ('social', 'ADJ'), ('media', 'NOUN'), ('users', 'NOUN'), ('to', 'PRT'), ('experience', 'NOUN'), ('the', 'DET'), ('launch', 'NOUN'), ('of', 'ADP'), ('ICESAT-2', 'NOUN'), ('Satellite', 'NOUN'), ('.', '.')]\n",
      "55.91071105003357\n"
     ]
    }
   ],
   "source": [
    "print(tagged_seq)\n",
    "print(difference)"
   ]
  },
  {
   "cell_type": "markdown",
   "metadata": {},
   "source": [
    "#### Viterbi using the Regex Tagger"
   ]
  },
  {
   "cell_type": "code",
   "execution_count": 60,
   "metadata": {},
   "outputs": [],
   "source": [
    "#Viterbi using the Regex Tagger\n",
    "def Viterbi_3(words, train_bag = train_tagged_words):\n",
    "    state = []\n",
    "    T = list(set([pair[1] for pair in train_bag]))\n",
    "    \n",
    "    for key, word in enumerate(words):\n",
    "        #initialise list of probability column for a given observation\n",
    "        p = [] \n",
    "        for tag in T:\n",
    "            if key == 0:\n",
    "                transition_p = tags_df.loc['.', tag]\n",
    "            else:\n",
    "                transition_p = tags_df.loc[state[-1], tag]\n",
    "                \n",
    "            # compute emission and state probabilities\n",
    "            emission_p = word_given_tag(words[key], tag)[0]/word_given_tag(words[key], tag)[1]\n",
    "            state_probability = emission_p * transition_p    \n",
    "            p.append(state_probability)\n",
    "            \n",
    "        pmax = max(p)\n",
    "        state_max = regex_tagger.tag([word])[0][1]     \n",
    "        if(pmax==0):\n",
    "            state_max = regex_tagger.tag([word])[0][1] \n",
    "        else:\n",
    "            if state_max != 'X':\n",
    "                 state_max = T[p.index(pmax)]\n",
    "        state.append(state_max)\n",
    "    return list(zip(words, state))"
   ]
  },
  {
   "cell_type": "code",
   "execution_count": 61,
   "metadata": {},
   "outputs": [],
   "source": [
    "# tagging the test sentences\n",
    "start = time.time()\n",
    "tagged_seq = Viterbi_3(test_tagged_words)\n",
    "end = time.time()\n",
    "difference = end-start"
   ]
  },
  {
   "cell_type": "code",
   "execution_count": 62,
   "metadata": {},
   "outputs": [
    {
     "name": "stdout",
     "output_type": "stream",
     "text": [
      "Time taken in seconds:  31.52274775505066\n",
      "[('In', 'ADP'), ('the', 'DET'), ('aftermath', 'NOUN'), ('of', 'ADP'), ('the', 'DET'), ('stock', 'NOUN'), ('market', 'NOUN'), (\"'s\", 'PRT'), ('gut-wrenching', 'VERB'), ('190-point', 'NOUN'), ('drop', 'NOUN'), ('on', 'ADP'), ('Oct.', 'NOUN'), ('13', 'NUM'), (',', '.'), ('Kidder', 'NOUN'), (',', '.'), ('Peabody', 'NOUN'), ('&', 'CONJ'), ('Co.', 'NOUN'), (\"'s\", 'PRT'), ('1,400', 'NUM'), ('stockbrokers', 'NOUN'), ('across', 'ADP'), ('the', 'DET'), ('country', 'NOUN'), ('began', 'VERB'), ('a', 'DET'), ('telephone', 'NOUN'), ('and', 'CONJ'), ('letter-writing', 'VERB'), ('campaign', 'NOUN'), ('aimed', 'VERB'), ('*', 'X'), ('at', 'ADP'), ('*', 'X'), ('quashing', 'VERB'), ('the', 'DET'), ('country', 'NOUN'), (\"'s\", 'PRT'), ('second-largest', 'ADJ'), ('program', 'NOUN'), ('trader', 'NOUN'), ('.', '.'), ('In', 'ADP'), ('his', 'PRON'), ('ruling', 'NOUN'), (',', '.'), ('Judge', 'NOUN'), ('Curry', 'NOUN'), ('added', 'VERB'), ('an', 'DET'), ('additional', 'ADJ'), ('$', '.'), ('55', 'NUM'), ('million', 'NUM'), ('*U*', 'X'), ('to', 'PRT'), ('the', 'DET'), ('commission', 'NOUN'), (\"'s\", 'PRT'), ('calculations', 'NOUN'), ('.', '.'), ('The', 'DET'), ('biggest', 'ADJ'), ('beneficiary', 'NOUN'), ('was', 'VERB'), ('Northeast', 'NOUN'), ('Bancorp', 'NOUN'), (',', '.'), ('which', 'DET'), ('*T*-118', 'X'), ('surged', 'VERB'), ('7', 'NUM'), ('3\\\\/4', 'NUM'), ('to', 'PRT'), ('69', 'NUM'), ('.', '.'), ('Wednesday', 'NOUN'), (',', '.'), ('November', 'NOUN'), ('1', 'NUM'), (',', '.'), ('1989', 'NUM'), ('In', 'ADP'), ('a', 'DET'), ('well-known', 'ADJ'), ('detective-story', 'NOUN'), ('involving', 'VERB'), ('church', 'NOUN'), ('bells', 'NOUN'), (',', '.'), ('English', 'NOUN'), ('novelist', 'NOUN'), ('Dorothy', 'NOUN'), ('L.', 'NOUN'), ('Sayers', 'NOUN'), ('described', 'VERB'), ('ringing', 'VERB'), ('as', 'ADP'), ('a', 'DET'), ('``', '.'), ('passion', 'NOUN'), ('-LCB-', '.'), ('that', 'DET'), ('-RCB-', '.'), ('*T*-1', 'X'), ('finds', 'NOUN'), ('its', 'PRON'), ('satisfaction', 'NOUN'), ('in', 'ADP'), ('mathematical', 'NOUN'), ('completeness', 'NOUN'), ('and', 'CONJ'), ('mechanical', 'ADJ'), ('perfection', 'NOUN'), ('.', '.'), (\"''\", '.')]\n"
     ]
    }
   ],
   "source": [
    "print(\"Time taken in seconds: \", difference)\n",
    "print(tagged_seq)"
   ]
  },
  {
   "cell_type": "code",
   "execution_count": 63,
   "metadata": {},
   "outputs": [],
   "source": [
    "# accuracy\n",
    "check = [i for i, j in zip(tagged_seq, test_run_base) if i == j]"
   ]
  },
  {
   "cell_type": "code",
   "execution_count": 64,
   "metadata": {},
   "outputs": [
    {
     "data": {
      "text/plain": [
       "0.9491525423728814"
      ]
     },
     "execution_count": 64,
     "metadata": {},
     "output_type": "execute_result"
    }
   ],
   "source": [
    "accuracy = len(check)/len(tagged_seq)\n",
    "accuracy"
   ]
  },
  {
   "cell_type": "code",
   "execution_count": 65,
   "metadata": {},
   "outputs": [
    {
     "data": {
      "text/plain": [
       "[[(\"'s\", 'PRT'), (('gut-wrenching', 'VERB'), ('gut-wrenching', 'ADJ'))],\n",
       " [('gut-wrenching', 'ADJ'), (('190-point', 'NOUN'), ('190-point', 'ADJ'))],\n",
       " [('and', 'CONJ'), (('letter-writing', 'VERB'), ('letter-writing', 'ADJ'))],\n",
       " [(',', '.'), (('English', 'NOUN'), ('English', 'ADJ'))],\n",
       " [('*T*-1', 'X'), (('finds', 'NOUN'), ('finds', 'VERB'))],\n",
       " [('in', 'ADP'), (('mathematical', 'NOUN'), ('mathematical', 'ADJ'))]]"
      ]
     },
     "execution_count": 65,
     "metadata": {},
     "output_type": "execute_result"
    }
   ],
   "source": [
    "incorrect_tagged_cases = [[test_run_base[i-1],j] for i, j in enumerate(zip(tagged_seq, test_run_base)) if j[0]!=j[1]]\n",
    "incorrect_tagged_cases"
   ]
  },
  {
   "cell_type": "code",
   "execution_count": 84,
   "metadata": {},
   "outputs": [],
   "source": [
    "## Testing\n",
    "text = \"Android is a mobile operating system developed by Google. Android has been the best-selling OS worldwide on smartphones since 2011 and on tablets since 2013. Google and Twitter made a deal in 2015 that gave Google access to Twitter's firehose. Twitter is an online news and social networking service on which users post and interact with messages known as tweets. Before entering politics, Donald Trump was a domineering businessman and a television personality. The 2018 FIFA World Cup is the 21st FIFA World Cup, an international football tournament contested once every four years. This is the first World Cup to be held in Eastern Europe and the 11th time that it has been held in Europe. Show me the cheapest round trips from Dallas to Atlanta. I would like to see flights from Denver to Philadelphia. Show me the price of the flights leaving Atlanta at about 3 in the afternoon and arriving in San Francisco. NASA invited social media users to experience the launch of ICESAT-2 Satellite.\"\n",
    "words = word_tokenize(text)\n",
    "\n",
    "start = time.time()\n",
    "tagged_seq = Viterbi_3(words)\n",
    "end = time.time()\n",
    "difference = end-start"
   ]
  },
  {
   "cell_type": "code",
   "execution_count": 85,
   "metadata": {},
   "outputs": [
    {
     "name": "stdout",
     "output_type": "stream",
     "text": [
      "[('Android', 'NOUN'), ('is', 'VERB'), ('a', 'DET'), ('mobile', 'ADJ'), ('operating', 'NOUN'), ('system', 'NOUN'), ('developed', 'VERB'), ('by', 'ADP'), ('Google', 'NOUN'), ('.', '.'), ('Android', 'NOUN'), ('has', 'VERB'), ('been', 'VERB'), ('the', 'DET'), ('best-selling', 'ADJ'), ('OS', 'NOUN'), ('worldwide', 'NOUN'), ('on', 'ADP'), ('smartphones', 'VERB'), ('since', 'ADP'), ('2011', 'NUM'), ('and', 'CONJ'), ('on', 'ADP'), ('tablets', 'NOUN'), ('since', 'ADP'), ('2013', 'NUM'), ('.', '.'), ('Google', 'NOUN'), ('and', 'CONJ'), ('Twitter', 'NOUN'), ('made', 'VERB'), ('a', 'DET'), ('deal', 'NOUN'), ('in', 'ADP'), ('2015', 'NUM'), ('that', 'ADP'), ('gave', 'VERB'), ('Google', 'NOUN'), ('access', 'NOUN'), ('to', 'PRT'), ('Twitter', 'NOUN'), (\"'s\", 'PRT'), ('firehose', 'NOUN'), ('.', '.'), ('Twitter', 'NOUN'), ('is', 'VERB'), ('an', 'DET'), ('online', 'NOUN'), ('news', 'NOUN'), ('and', 'CONJ'), ('social', 'ADJ'), ('networking', 'NOUN'), ('service', 'NOUN'), ('on', 'ADP'), ('which', 'DET'), ('users', 'NOUN'), ('post', 'NOUN'), ('and', 'CONJ'), ('interact', 'NOUN'), ('with', 'ADP'), ('messages', 'VERB'), ('known', 'VERB'), ('as', 'ADP'), ('tweets', 'NOUN'), ('.', '.'), ('Before', 'ADP'), ('entering', 'VERB'), ('politics', 'NOUN'), (',', '.'), ('Donald', 'NOUN'), ('Trump', 'NOUN'), ('was', 'VERB'), ('a', 'DET'), ('domineering', 'VERB'), ('businessman', 'NOUN'), ('and', 'CONJ'), ('a', 'DET'), ('television', 'NOUN'), ('personality', 'NOUN'), ('.', '.'), ('The', 'DET'), ('2018', 'NUM'), ('FIFA', 'NOUN'), ('World', 'NOUN'), ('Cup', 'NOUN'), ('is', 'VERB'), ('the', 'DET'), ('21st', 'NOUN'), ('FIFA', 'NOUN'), ('World', 'NOUN'), ('Cup', 'NOUN'), (',', '.'), ('an', 'DET'), ('international', 'ADJ'), ('football', 'NOUN'), ('tournament', 'NOUN'), ('contested', 'VERB'), ('once', 'ADV'), ('every', 'DET'), ('four', 'NUM'), ('years', 'NOUN'), ('.', '.'), ('This', 'DET'), ('is', 'VERB'), ('the', 'DET'), ('first', 'ADJ'), ('World', 'NOUN'), ('Cup', 'NOUN'), ('to', 'PRT'), ('be', 'VERB'), ('held', 'VERB'), ('in', 'ADP'), ('Eastern', 'NOUN'), ('Europe', 'NOUN'), ('and', 'CONJ'), ('the', 'DET'), ('11th', 'ADJ'), ('time', 'NOUN'), ('that', 'ADP'), ('it', 'PRON'), ('has', 'VERB'), ('been', 'VERB'), ('held', 'VERB'), ('in', 'ADP'), ('Europe', 'NOUN'), ('.', '.'), ('Show', 'NOUN'), ('me', 'PRON'), ('the', 'DET'), ('cheapest', 'ADJ'), ('round', 'NOUN'), ('trips', 'NOUN'), ('from', 'ADP'), ('Dallas', 'NOUN'), ('to', 'PRT'), ('Atlanta', 'NOUN'), ('.', '.'), ('I', 'PRON'), ('would', 'VERB'), ('like', 'ADP'), ('to', 'PRT'), ('see', 'VERB'), ('flights', 'NOUN'), ('from', 'ADP'), ('Denver', 'NOUN'), ('to', 'PRT'), ('Philadelphia', 'NOUN'), ('.', '.'), ('Show', 'NOUN'), ('me', 'PRON'), ('the', 'DET'), ('price', 'NOUN'), ('of', 'ADP'), ('the', 'DET'), ('flights', 'NOUN'), ('leaving', 'VERB'), ('Atlanta', 'NOUN'), ('at', 'ADP'), ('about', 'ADP'), ('3', 'NUM'), ('in', 'ADP'), ('the', 'DET'), ('afternoon', 'NOUN'), ('and', 'CONJ'), ('arriving', 'VERB'), ('in', 'ADP'), ('San', 'NOUN'), ('Francisco', 'NOUN'), ('.', '.'), ('NASA', 'NOUN'), ('invited', 'VERB'), ('social', 'ADJ'), ('media', 'NOUN'), ('users', 'NOUN'), ('to', 'PRT'), ('experience', 'NOUN'), ('the', 'DET'), ('launch', 'NOUN'), ('of', 'ADP'), ('ICESAT-2', 'NOUN'), ('Satellite', 'NOUN'), ('.', '.')]\n",
      "54.7674880027771\n"
     ]
    }
   ],
   "source": [
    "print(tagged_seq)\n",
    "print(difference)"
   ]
  },
  {
   "cell_type": "markdown",
   "metadata": {},
   "source": [
    "### Compare the tagging accuracies of the modifications with the vanilla Viterbi algorithm"
   ]
  },
  {
   "cell_type": "markdown",
   "metadata": {},
   "source": [
    "The tagging accuracy of the Vanilla Viterbi algorithm is: 86.4%"
   ]
  },
  {
   "cell_type": "markdown",
   "metadata": {},
   "source": [
    "The tagging accuracy of the Viterbi_1 algorithm is: 89.0%"
   ]
  },
  {
   "cell_type": "markdown",
   "metadata": {},
   "source": [
    "The tagging accuracy of the Viterbi_2 algorithm is: 92.3%"
   ]
  },
  {
   "cell_type": "markdown",
   "metadata": {},
   "source": [
    "The tagging accuracy of the Viterbi_3 algorithm is: 95.0%"
   ]
  },
  {
   "cell_type": "markdown",
   "metadata": {},
   "source": [
    "### List down cases which were incorrectly tagged by original POS tagger and got corrected by your modifications"
   ]
  },
  {
   "cell_type": "markdown",
   "metadata": {},
   "source": [
    "('Android', 'CONJ') was incorrectly tagged by the Vanilla Viterbi tagger and was corrected by Bigram tagger. "
   ]
  },
  {
   "cell_type": "markdown",
   "metadata": {},
   "source": [
    "('domineering', 'CONJ') was incorrectly tagged by the Vanilla Viterbi tagger and corrected by the Regex tagger."
   ]
  },
  {
   "cell_type": "markdown",
   "metadata": {},
   "source": [
    "('arriving', 'CONJ') was incorrectly tagged by the Vanilla Viterbi but corrected by the Regex tagger."
   ]
  },
  {
   "cell_type": "markdown",
   "metadata": {},
   "source": []
  }
 ],
 "metadata": {
  "kernelspec": {
   "display_name": "Python 3",
   "language": "python",
   "name": "python3"
  },
  "language_info": {
   "codemirror_mode": {
    "name": "ipython",
    "version": 3
   },
   "file_extension": ".py",
   "mimetype": "text/x-python",
   "name": "python",
   "nbconvert_exporter": "python",
   "pygments_lexer": "ipython3",
   "version": "3.8.5"
  }
 },
 "nbformat": 4,
 "nbformat_minor": 2
}
