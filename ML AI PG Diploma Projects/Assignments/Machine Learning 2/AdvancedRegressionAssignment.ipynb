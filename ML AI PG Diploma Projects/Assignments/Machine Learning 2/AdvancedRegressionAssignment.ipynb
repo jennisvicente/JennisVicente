{
 "cells": [
  {
   "cell_type": "code",
   "execution_count": 130,
   "metadata": {},
   "outputs": [],
   "source": [
    "#import libraries\n",
    "import pandas as pd\n",
    "import numpy as np\n",
    "import matplotlib.pyplot as plt\n",
    "import seaborn as sns\n",
    "from sklearn.preprocessing import PolynomialFeatures\n",
    "from sklearn.linear_model import LogisticRegression\n",
    "from sklearn.linear_model import LinearRegression\n",
    "from sklearn.pipeline import Pipeline\n",
    "from sklearn import metrics\n",
    "from sklearn.linear_model import Ridge\n",
    "from sklearn.linear_model import Lasso\n",
    "from sklearn.linear_model import ElasticNet\n",
    "from sklearn.model_selection import GridSearchCV\n",
    "from sklearn.metrics import mean_squared_error\n",
    "\n",
    "import os\n",
    "\n",
    "# hide warnings\n",
    "import warnings\n",
    "warnings.filterwarnings('ignore')"
   ]
  },
  {
   "cell_type": "code",
   "execution_count": 2,
   "metadata": {},
   "outputs": [
    {
     "data": {
      "text/html": [
       "<div>\n",
       "<style scoped>\n",
       "    .dataframe tbody tr th:only-of-type {\n",
       "        vertical-align: middle;\n",
       "    }\n",
       "\n",
       "    .dataframe tbody tr th {\n",
       "        vertical-align: top;\n",
       "    }\n",
       "\n",
       "    .dataframe thead th {\n",
       "        text-align: right;\n",
       "    }\n",
       "</style>\n",
       "<table border=\"1\" class=\"dataframe\">\n",
       "  <thead>\n",
       "    <tr style=\"text-align: right;\">\n",
       "      <th></th>\n",
       "      <th>Id</th>\n",
       "      <th>MSSubClass</th>\n",
       "      <th>MSZoning</th>\n",
       "      <th>LotFrontage</th>\n",
       "      <th>LotArea</th>\n",
       "      <th>Street</th>\n",
       "      <th>Alley</th>\n",
       "      <th>LotShape</th>\n",
       "      <th>LandContour</th>\n",
       "      <th>Utilities</th>\n",
       "      <th>...</th>\n",
       "      <th>PoolArea</th>\n",
       "      <th>PoolQC</th>\n",
       "      <th>Fence</th>\n",
       "      <th>MiscFeature</th>\n",
       "      <th>MiscVal</th>\n",
       "      <th>MoSold</th>\n",
       "      <th>YrSold</th>\n",
       "      <th>SaleType</th>\n",
       "      <th>SaleCondition</th>\n",
       "      <th>SalePrice</th>\n",
       "    </tr>\n",
       "  </thead>\n",
       "  <tbody>\n",
       "    <tr>\n",
       "      <td>0</td>\n",
       "      <td>1</td>\n",
       "      <td>60</td>\n",
       "      <td>RL</td>\n",
       "      <td>65.0</td>\n",
       "      <td>8450</td>\n",
       "      <td>Pave</td>\n",
       "      <td>NaN</td>\n",
       "      <td>Reg</td>\n",
       "      <td>Lvl</td>\n",
       "      <td>AllPub</td>\n",
       "      <td>...</td>\n",
       "      <td>0</td>\n",
       "      <td>NaN</td>\n",
       "      <td>NaN</td>\n",
       "      <td>NaN</td>\n",
       "      <td>0</td>\n",
       "      <td>2</td>\n",
       "      <td>2008</td>\n",
       "      <td>WD</td>\n",
       "      <td>Normal</td>\n",
       "      <td>208500</td>\n",
       "    </tr>\n",
       "    <tr>\n",
       "      <td>1</td>\n",
       "      <td>2</td>\n",
       "      <td>20</td>\n",
       "      <td>RL</td>\n",
       "      <td>80.0</td>\n",
       "      <td>9600</td>\n",
       "      <td>Pave</td>\n",
       "      <td>NaN</td>\n",
       "      <td>Reg</td>\n",
       "      <td>Lvl</td>\n",
       "      <td>AllPub</td>\n",
       "      <td>...</td>\n",
       "      <td>0</td>\n",
       "      <td>NaN</td>\n",
       "      <td>NaN</td>\n",
       "      <td>NaN</td>\n",
       "      <td>0</td>\n",
       "      <td>5</td>\n",
       "      <td>2007</td>\n",
       "      <td>WD</td>\n",
       "      <td>Normal</td>\n",
       "      <td>181500</td>\n",
       "    </tr>\n",
       "    <tr>\n",
       "      <td>2</td>\n",
       "      <td>3</td>\n",
       "      <td>60</td>\n",
       "      <td>RL</td>\n",
       "      <td>68.0</td>\n",
       "      <td>11250</td>\n",
       "      <td>Pave</td>\n",
       "      <td>NaN</td>\n",
       "      <td>IR1</td>\n",
       "      <td>Lvl</td>\n",
       "      <td>AllPub</td>\n",
       "      <td>...</td>\n",
       "      <td>0</td>\n",
       "      <td>NaN</td>\n",
       "      <td>NaN</td>\n",
       "      <td>NaN</td>\n",
       "      <td>0</td>\n",
       "      <td>9</td>\n",
       "      <td>2008</td>\n",
       "      <td>WD</td>\n",
       "      <td>Normal</td>\n",
       "      <td>223500</td>\n",
       "    </tr>\n",
       "    <tr>\n",
       "      <td>3</td>\n",
       "      <td>4</td>\n",
       "      <td>70</td>\n",
       "      <td>RL</td>\n",
       "      <td>60.0</td>\n",
       "      <td>9550</td>\n",
       "      <td>Pave</td>\n",
       "      <td>NaN</td>\n",
       "      <td>IR1</td>\n",
       "      <td>Lvl</td>\n",
       "      <td>AllPub</td>\n",
       "      <td>...</td>\n",
       "      <td>0</td>\n",
       "      <td>NaN</td>\n",
       "      <td>NaN</td>\n",
       "      <td>NaN</td>\n",
       "      <td>0</td>\n",
       "      <td>2</td>\n",
       "      <td>2006</td>\n",
       "      <td>WD</td>\n",
       "      <td>Abnorml</td>\n",
       "      <td>140000</td>\n",
       "    </tr>\n",
       "    <tr>\n",
       "      <td>4</td>\n",
       "      <td>5</td>\n",
       "      <td>60</td>\n",
       "      <td>RL</td>\n",
       "      <td>84.0</td>\n",
       "      <td>14260</td>\n",
       "      <td>Pave</td>\n",
       "      <td>NaN</td>\n",
       "      <td>IR1</td>\n",
       "      <td>Lvl</td>\n",
       "      <td>AllPub</td>\n",
       "      <td>...</td>\n",
       "      <td>0</td>\n",
       "      <td>NaN</td>\n",
       "      <td>NaN</td>\n",
       "      <td>NaN</td>\n",
       "      <td>0</td>\n",
       "      <td>12</td>\n",
       "      <td>2008</td>\n",
       "      <td>WD</td>\n",
       "      <td>Normal</td>\n",
       "      <td>250000</td>\n",
       "    </tr>\n",
       "  </tbody>\n",
       "</table>\n",
       "<p>5 rows × 81 columns</p>\n",
       "</div>"
      ],
      "text/plain": [
       "   Id  MSSubClass MSZoning  LotFrontage  LotArea Street Alley LotShape  \\\n",
       "0   1          60       RL         65.0     8450   Pave   NaN      Reg   \n",
       "1   2          20       RL         80.0     9600   Pave   NaN      Reg   \n",
       "2   3          60       RL         68.0    11250   Pave   NaN      IR1   \n",
       "3   4          70       RL         60.0     9550   Pave   NaN      IR1   \n",
       "4   5          60       RL         84.0    14260   Pave   NaN      IR1   \n",
       "\n",
       "  LandContour Utilities  ... PoolArea PoolQC Fence MiscFeature MiscVal MoSold  \\\n",
       "0         Lvl    AllPub  ...        0    NaN   NaN         NaN       0      2   \n",
       "1         Lvl    AllPub  ...        0    NaN   NaN         NaN       0      5   \n",
       "2         Lvl    AllPub  ...        0    NaN   NaN         NaN       0      9   \n",
       "3         Lvl    AllPub  ...        0    NaN   NaN         NaN       0      2   \n",
       "4         Lvl    AllPub  ...        0    NaN   NaN         NaN       0     12   \n",
       "\n",
       "  YrSold  SaleType  SaleCondition  SalePrice  \n",
       "0   2008        WD         Normal     208500  \n",
       "1   2007        WD         Normal     181500  \n",
       "2   2008        WD         Normal     223500  \n",
       "3   2006        WD        Abnorml     140000  \n",
       "4   2008        WD         Normal     250000  \n",
       "\n",
       "[5 rows x 81 columns]"
      ]
     },
     "execution_count": 2,
     "metadata": {},
     "output_type": "execute_result"
    }
   ],
   "source": [
    "#data\n",
    "data= pd.read_csv('train.csv')\n",
    "data.head()"
   ]
  },
  {
   "cell_type": "code",
   "execution_count": 3,
   "metadata": {},
   "outputs": [
    {
     "data": {
      "text/plain": [
       "(1460, 81)"
      ]
     },
     "execution_count": 3,
     "metadata": {},
     "output_type": "execute_result"
    }
   ],
   "source": [
    "data.shape"
   ]
  },
  {
   "cell_type": "code",
   "execution_count": 4,
   "metadata": {},
   "outputs": [
    {
     "name": "stdout",
     "output_type": "stream",
     "text": [
      "<class 'pandas.core.frame.DataFrame'>\n",
      "RangeIndex: 1460 entries, 0 to 1459\n",
      "Data columns (total 81 columns):\n",
      "Id               1460 non-null int64\n",
      "MSSubClass       1460 non-null int64\n",
      "MSZoning         1460 non-null object\n",
      "LotFrontage      1201 non-null float64\n",
      "LotArea          1460 non-null int64\n",
      "Street           1460 non-null object\n",
      "Alley            91 non-null object\n",
      "LotShape         1460 non-null object\n",
      "LandContour      1460 non-null object\n",
      "Utilities        1460 non-null object\n",
      "LotConfig        1460 non-null object\n",
      "LandSlope        1460 non-null object\n",
      "Neighborhood     1460 non-null object\n",
      "Condition1       1460 non-null object\n",
      "Condition2       1460 non-null object\n",
      "BldgType         1460 non-null object\n",
      "HouseStyle       1460 non-null object\n",
      "OverallQual      1460 non-null int64\n",
      "OverallCond      1460 non-null int64\n",
      "YearBuilt        1460 non-null int64\n",
      "YearRemodAdd     1460 non-null int64\n",
      "RoofStyle        1460 non-null object\n",
      "RoofMatl         1460 non-null object\n",
      "Exterior1st      1460 non-null object\n",
      "Exterior2nd      1460 non-null object\n",
      "MasVnrType       1452 non-null object\n",
      "MasVnrArea       1452 non-null float64\n",
      "ExterQual        1460 non-null object\n",
      "ExterCond        1460 non-null object\n",
      "Foundation       1460 non-null object\n",
      "BsmtQual         1423 non-null object\n",
      "BsmtCond         1423 non-null object\n",
      "BsmtExposure     1422 non-null object\n",
      "BsmtFinType1     1423 non-null object\n",
      "BsmtFinSF1       1460 non-null int64\n",
      "BsmtFinType2     1422 non-null object\n",
      "BsmtFinSF2       1460 non-null int64\n",
      "BsmtUnfSF        1460 non-null int64\n",
      "TotalBsmtSF      1460 non-null int64\n",
      "Heating          1460 non-null object\n",
      "HeatingQC        1460 non-null object\n",
      "CentralAir       1460 non-null object\n",
      "Electrical       1459 non-null object\n",
      "1stFlrSF         1460 non-null int64\n",
      "2ndFlrSF         1460 non-null int64\n",
      "LowQualFinSF     1460 non-null int64\n",
      "GrLivArea        1460 non-null int64\n",
      "BsmtFullBath     1460 non-null int64\n",
      "BsmtHalfBath     1460 non-null int64\n",
      "FullBath         1460 non-null int64\n",
      "HalfBath         1460 non-null int64\n",
      "BedroomAbvGr     1460 non-null int64\n",
      "KitchenAbvGr     1460 non-null int64\n",
      "KitchenQual      1460 non-null object\n",
      "TotRmsAbvGrd     1460 non-null int64\n",
      "Functional       1460 non-null object\n",
      "Fireplaces       1460 non-null int64\n",
      "FireplaceQu      770 non-null object\n",
      "GarageType       1379 non-null object\n",
      "GarageYrBlt      1379 non-null float64\n",
      "GarageFinish     1379 non-null object\n",
      "GarageCars       1460 non-null int64\n",
      "GarageArea       1460 non-null int64\n",
      "GarageQual       1379 non-null object\n",
      "GarageCond       1379 non-null object\n",
      "PavedDrive       1460 non-null object\n",
      "WoodDeckSF       1460 non-null int64\n",
      "OpenPorchSF      1460 non-null int64\n",
      "EnclosedPorch    1460 non-null int64\n",
      "3SsnPorch        1460 non-null int64\n",
      "ScreenPorch      1460 non-null int64\n",
      "PoolArea         1460 non-null int64\n",
      "PoolQC           7 non-null object\n",
      "Fence            281 non-null object\n",
      "MiscFeature      54 non-null object\n",
      "MiscVal          1460 non-null int64\n",
      "MoSold           1460 non-null int64\n",
      "YrSold           1460 non-null int64\n",
      "SaleType         1460 non-null object\n",
      "SaleCondition    1460 non-null object\n",
      "SalePrice        1460 non-null int64\n",
      "dtypes: float64(3), int64(35), object(43)\n",
      "memory usage: 924.0+ KB\n"
     ]
    }
   ],
   "source": [
    "data.info()"
   ]
  },
  {
   "cell_type": "code",
   "execution_count": 5,
   "metadata": {},
   "outputs": [],
   "source": [
    "corr=data.corr()"
   ]
  },
  {
   "cell_type": "code",
   "execution_count": 6,
   "metadata": {},
   "outputs": [
    {
     "data": {
      "image/png": "[encoded data removed]",
      "text/plain": [
       "<Figure size 1152x576 with 2 Axes>"
      ]
     },
     "metadata": {
      "needs_background": "light"
     },
     "output_type": "display_data"
    }
   ],
   "source": [
    "# plotting correlations on a heatmap\n",
    "\n",
    "# figure size\n",
    "plt.figure(figsize=(16,8))\n",
    "\n",
    "# heatmap\n",
    "sns.heatmap(corr, cmap=\"YlGnBu\")\n",
    "plt.show()"
   ]
  },
  {
   "cell_type": "code",
   "execution_count": 7,
   "metadata": {},
   "outputs": [
    {
     "data": {
      "image/png": "[encoded data removed]",
      "text/plain": [
       "<Figure size 432x288 with 1 Axes>"
      ]
     },
     "metadata": {
      "needs_background": "light"
     },
     "output_type": "display_data"
    }
   ],
   "source": [
    "plt.hist(data.SalePrice)\n",
    "plt.show()"
   ]
  },
  {
   "cell_type": "markdown",
   "metadata": {},
   "source": [
    "## Handling null values"
   ]
  },
  {
   "cell_type": "markdown",
   "metadata": {},
   "source": [
    "### Let's drop columns lots of with nulls on and don't add value to our data"
   ]
  },
  {
   "cell_type": "markdown",
   "metadata": {},
   "source": [
    "We can drop FireplaceQu, PoolQC. Most of them do not have a value and the quality do not necessarily affects the price of the property. Also, there are very little values to use to impute the missing values. "
   ]
  },
  {
   "cell_type": "code",
   "execution_count": 8,
   "metadata": {},
   "outputs": [
    {
     "data": {
      "text/html": [
       "<div>\n",
       "<style scoped>\n",
       "    .dataframe tbody tr th:only-of-type {\n",
       "        vertical-align: middle;\n",
       "    }\n",
       "\n",
       "    .dataframe tbody tr th {\n",
       "        vertical-align: top;\n",
       "    }\n",
       "\n",
       "    .dataframe thead th {\n",
       "        text-align: right;\n",
       "    }\n",
       "</style>\n",
       "<table border=\"1\" class=\"dataframe\">\n",
       "  <thead>\n",
       "    <tr style=\"text-align: right;\">\n",
       "      <th></th>\n",
       "      <th>FireplaceQu</th>\n",
       "      <th>PoolQC</th>\n",
       "    </tr>\n",
       "  </thead>\n",
       "  <tbody>\n",
       "    <tr>\n",
       "      <td>0</td>\n",
       "      <td>NaN</td>\n",
       "      <td>NaN</td>\n",
       "    </tr>\n",
       "    <tr>\n",
       "      <td>1</td>\n",
       "      <td>TA</td>\n",
       "      <td>NaN</td>\n",
       "    </tr>\n",
       "    <tr>\n",
       "      <td>2</td>\n",
       "      <td>TA</td>\n",
       "      <td>NaN</td>\n",
       "    </tr>\n",
       "    <tr>\n",
       "      <td>3</td>\n",
       "      <td>Gd</td>\n",
       "      <td>NaN</td>\n",
       "    </tr>\n",
       "    <tr>\n",
       "      <td>4</td>\n",
       "      <td>TA</td>\n",
       "      <td>NaN</td>\n",
       "    </tr>\n",
       "    <tr>\n",
       "      <td>...</td>\n",
       "      <td>...</td>\n",
       "      <td>...</td>\n",
       "    </tr>\n",
       "    <tr>\n",
       "      <td>1455</td>\n",
       "      <td>TA</td>\n",
       "      <td>NaN</td>\n",
       "    </tr>\n",
       "    <tr>\n",
       "      <td>1456</td>\n",
       "      <td>TA</td>\n",
       "      <td>NaN</td>\n",
       "    </tr>\n",
       "    <tr>\n",
       "      <td>1457</td>\n",
       "      <td>Gd</td>\n",
       "      <td>NaN</td>\n",
       "    </tr>\n",
       "    <tr>\n",
       "      <td>1458</td>\n",
       "      <td>NaN</td>\n",
       "      <td>NaN</td>\n",
       "    </tr>\n",
       "    <tr>\n",
       "      <td>1459</td>\n",
       "      <td>NaN</td>\n",
       "      <td>NaN</td>\n",
       "    </tr>\n",
       "  </tbody>\n",
       "</table>\n",
       "<p>1460 rows × 2 columns</p>\n",
       "</div>"
      ],
      "text/plain": [
       "     FireplaceQu PoolQC\n",
       "0            NaN    NaN\n",
       "1             TA    NaN\n",
       "2             TA    NaN\n",
       "3             Gd    NaN\n",
       "4             TA    NaN\n",
       "...          ...    ...\n",
       "1455          TA    NaN\n",
       "1456          TA    NaN\n",
       "1457          Gd    NaN\n",
       "1458         NaN    NaN\n",
       "1459         NaN    NaN\n",
       "\n",
       "[1460 rows x 2 columns]"
      ]
     },
     "execution_count": 8,
     "metadata": {},
     "output_type": "execute_result"
    }
   ],
   "source": [
    "off=data[['FireplaceQu', 'PoolQC']]\n",
    "off"
   ]
  },
  {
   "cell_type": "code",
   "execution_count": 9,
   "metadata": {},
   "outputs": [],
   "source": [
    "data=data.drop(off, axis=1)\n"
   ]
  },
  {
   "cell_type": "markdown",
   "metadata": {},
   "source": [
    "### Now let's look at Alley,  Fence, MiscFeature"
   ]
  },
  {
   "cell_type": "markdown",
   "metadata": {},
   "source": [
    "These columns are missing many values, but there are important characteristic about the home that might influence the price of each home. <br>\n",
    "\n",
    "Alley: Type of alley access to property<br>\n",
    "\n",
    "       Grvl\tGravel\n",
    "       Pave\tPaved\n",
    "       NA \tNo alley access\n",
    "<br>"
   ]
  },
  {
   "cell_type": "code",
   "execution_count": 10,
   "metadata": {},
   "outputs": [
    {
     "data": {
      "text/plain": [
       "Grvl    50\n",
       "Pave    41\n",
       "Name: Alley, dtype: int64"
      ]
     },
     "execution_count": 10,
     "metadata": {},
     "output_type": "execute_result"
    }
   ],
   "source": [
    "data.Alley.astype('category').value_counts()"
   ]
  },
  {
   "cell_type": "code",
   "execution_count": 11,
   "metadata": {},
   "outputs": [],
   "source": [
    "data['Alley']= data.Alley.fillna('None')"
   ]
  },
  {
   "cell_type": "code",
   "execution_count": 12,
   "metadata": {},
   "outputs": [
    {
     "data": {
      "text/plain": [
       "None    1369\n",
       "Grvl      50\n",
       "Pave      41\n",
       "Name: Alley, dtype: int64"
      ]
     },
     "execution_count": 12,
     "metadata": {},
     "output_type": "execute_result"
    }
   ],
   "source": [
    "data.Alley.astype('category').value_counts()"
   ]
  },
  {
   "cell_type": "markdown",
   "metadata": {},
   "source": [
    "Fence: Fence quality<br>\n",
    "\t\t\n",
    "       GdPrv\tGood Privacy\n",
    "       MnPrv\tMinimum Privacy\n",
    "       GdWo\tGood Wood\n",
    "       MnWw\tMinimum Wood/Wire\n",
    "       NA\tNo Fence\n",
    "<br>"
   ]
  },
  {
   "cell_type": "code",
   "execution_count": 13,
   "metadata": {},
   "outputs": [
    {
     "data": {
      "text/plain": [
       "MnPrv    157\n",
       "GdPrv     59\n",
       "GdWo      54\n",
       "MnWw      11\n",
       "Name: Fence, dtype: int64"
      ]
     },
     "execution_count": 13,
     "metadata": {},
     "output_type": "execute_result"
    }
   ],
   "source": [
    "data.Fence.astype('category').value_counts()"
   ]
  },
  {
   "cell_type": "code",
   "execution_count": 14,
   "metadata": {},
   "outputs": [],
   "source": [
    "data['Fence']= data.Fence.fillna('None')"
   ]
  },
  {
   "cell_type": "code",
   "execution_count": 15,
   "metadata": {},
   "outputs": [
    {
     "data": {
      "text/plain": [
       "None     1179\n",
       "MnPrv     157\n",
       "GdPrv      59\n",
       "GdWo       54\n",
       "MnWw       11\n",
       "Name: Fence, dtype: int64"
      ]
     },
     "execution_count": 15,
     "metadata": {},
     "output_type": "execute_result"
    }
   ],
   "source": [
    "data.Fence.astype('category').value_counts()"
   ]
  },
  {
   "cell_type": "markdown",
   "metadata": {},
   "source": [
    "MiscFeature: Miscellaneous feature not covered in other categories <br>\n",
    "\t\t\n",
    "       Elev\tElevator\n",
    "       Gar2\t2nd Garage (if not described in garage section)\n",
    "       Othr\tOther\n",
    "       Shed\tShed (over 100 SF)\n",
    "       TenC\tTennis Court\n",
    "       NA\tNone"
   ]
  },
  {
   "cell_type": "code",
   "execution_count": 16,
   "metadata": {},
   "outputs": [
    {
     "data": {
      "text/plain": [
       "Shed    49\n",
       "Othr     2\n",
       "Gar2     2\n",
       "TenC     1\n",
       "Name: MiscFeature, dtype: int64"
      ]
     },
     "execution_count": 16,
     "metadata": {},
     "output_type": "execute_result"
    }
   ],
   "source": [
    "data.MiscFeature.astype('category').value_counts()"
   ]
  },
  {
   "cell_type": "code",
   "execution_count": 17,
   "metadata": {},
   "outputs": [],
   "source": [
    "data['MiscFeature']= data.MiscFeature.fillna('None')"
   ]
  },
  {
   "cell_type": "code",
   "execution_count": 18,
   "metadata": {},
   "outputs": [
    {
     "data": {
      "text/plain": [
       "None    1406\n",
       "Shed      49\n",
       "Othr       2\n",
       "Gar2       2\n",
       "TenC       1\n",
       "Name: MiscFeature, dtype: int64"
      ]
     },
     "execution_count": 18,
     "metadata": {},
     "output_type": "execute_result"
    }
   ],
   "source": [
    "data.MiscFeature.astype('category').value_counts()"
   ]
  },
  {
   "cell_type": "code",
   "execution_count": 19,
   "metadata": {},
   "outputs": [
    {
     "name": "stdout",
     "output_type": "stream",
     "text": [
      "<class 'pandas.core.frame.DataFrame'>\n",
      "RangeIndex: 1460 entries, 0 to 1459\n",
      "Data columns (total 79 columns):\n",
      "Id               1460 non-null int64\n",
      "MSSubClass       1460 non-null int64\n",
      "MSZoning         1460 non-null object\n",
      "LotFrontage      1201 non-null float64\n",
      "LotArea          1460 non-null int64\n",
      "Street           1460 non-null object\n",
      "Alley            1460 non-null object\n",
      "LotShape         1460 non-null object\n",
      "LandContour      1460 non-null object\n",
      "Utilities        1460 non-null object\n",
      "LotConfig        1460 non-null object\n",
      "LandSlope        1460 non-null object\n",
      "Neighborhood     1460 non-null object\n",
      "Condition1       1460 non-null object\n",
      "Condition2       1460 non-null object\n",
      "BldgType         1460 non-null object\n",
      "HouseStyle       1460 non-null object\n",
      "OverallQual      1460 non-null int64\n",
      "OverallCond      1460 non-null int64\n",
      "YearBuilt        1460 non-null int64\n",
      "YearRemodAdd     1460 non-null int64\n",
      "RoofStyle        1460 non-null object\n",
      "RoofMatl         1460 non-null object\n",
      "Exterior1st      1460 non-null object\n",
      "Exterior2nd      1460 non-null object\n",
      "MasVnrType       1452 non-null object\n",
      "MasVnrArea       1452 non-null float64\n",
      "ExterQual        1460 non-null object\n",
      "ExterCond        1460 non-null object\n",
      "Foundation       1460 non-null object\n",
      "BsmtQual         1423 non-null object\n",
      "BsmtCond         1423 non-null object\n",
      "BsmtExposure     1422 non-null object\n",
      "BsmtFinType1     1423 non-null object\n",
      "BsmtFinSF1       1460 non-null int64\n",
      "BsmtFinType2     1422 non-null object\n",
      "BsmtFinSF2       1460 non-null int64\n",
      "BsmtUnfSF        1460 non-null int64\n",
      "TotalBsmtSF      1460 non-null int64\n",
      "Heating          1460 non-null object\n",
      "HeatingQC        1460 non-null object\n",
      "CentralAir       1460 non-null object\n",
      "Electrical       1459 non-null object\n",
      "1stFlrSF         1460 non-null int64\n",
      "2ndFlrSF         1460 non-null int64\n",
      "LowQualFinSF     1460 non-null int64\n",
      "GrLivArea        1460 non-null int64\n",
      "BsmtFullBath     1460 non-null int64\n",
      "BsmtHalfBath     1460 non-null int64\n",
      "FullBath         1460 non-null int64\n",
      "HalfBath         1460 non-null int64\n",
      "BedroomAbvGr     1460 non-null int64\n",
      "KitchenAbvGr     1460 non-null int64\n",
      "KitchenQual      1460 non-null object\n",
      "TotRmsAbvGrd     1460 non-null int64\n",
      "Functional       1460 non-null object\n",
      "Fireplaces       1460 non-null int64\n",
      "GarageType       1379 non-null object\n",
      "GarageYrBlt      1379 non-null float64\n",
      "GarageFinish     1379 non-null object\n",
      "GarageCars       1460 non-null int64\n",
      "GarageArea       1460 non-null int64\n",
      "GarageQual       1379 non-null object\n",
      "GarageCond       1379 non-null object\n",
      "PavedDrive       1460 non-null object\n",
      "WoodDeckSF       1460 non-null int64\n",
      "OpenPorchSF      1460 non-null int64\n",
      "EnclosedPorch    1460 non-null int64\n",
      "3SsnPorch        1460 non-null int64\n",
      "ScreenPorch      1460 non-null int64\n",
      "PoolArea         1460 non-null int64\n",
      "Fence            1460 non-null object\n",
      "MiscFeature      1460 non-null object\n",
      "MiscVal          1460 non-null int64\n",
      "MoSold           1460 non-null int64\n",
      "YrSold           1460 non-null int64\n",
      "SaleType         1460 non-null object\n",
      "SaleCondition    1460 non-null object\n",
      "SalePrice        1460 non-null int64\n",
      "dtypes: float64(3), int64(35), object(41)\n",
      "memory usage: 901.2+ KB\n"
     ]
    }
   ],
   "source": [
    "data.info()"
   ]
  },
  {
   "cell_type": "markdown",
   "metadata": {},
   "source": [
    "### Now imputing values we don't know as 'Undisclosed', 'None or 0"
   ]
  },
  {
   "cell_type": "markdown",
   "metadata": {},
   "source": [
    "LotFrontage: Linear feet of street connected to property <br>\n",
    "We will replace the NaN values with 0"
   ]
  },
  {
   "cell_type": "code",
   "execution_count": 20,
   "metadata": {},
   "outputs": [],
   "source": [
    "data['LotFrontage']= data.LotFrontage.fillna(0)"
   ]
  },
  {
   "cell_type": "markdown",
   "metadata": {},
   "source": [
    "MasVnrType: Masonry veneer type <br>\n",
    "\n",
    "       BrkCmn\tBrick Common\n",
    "       BrkFace\tBrick Face\n",
    "       CBlock\tCinder Block\n",
    "       None\tNone\n",
    "       Stone\tStone"
   ]
  },
  {
   "cell_type": "code",
   "execution_count": 21,
   "metadata": {},
   "outputs": [
    {
     "data": {
      "text/plain": [
       "None       864\n",
       "BrkFace    445\n",
       "Stone      128\n",
       "BrkCmn      15\n",
       "Name: MasVnrType, dtype: int64"
      ]
     },
     "execution_count": 21,
     "metadata": {},
     "output_type": "execute_result"
    }
   ],
   "source": [
    "data.MasVnrType.astype('category').value_counts()"
   ]
  },
  {
   "cell_type": "code",
   "execution_count": 22,
   "metadata": {},
   "outputs": [],
   "source": [
    "data['MasVnrType']= data.MasVnrType.fillna('Undisclosed')"
   ]
  },
  {
   "cell_type": "markdown",
   "metadata": {},
   "source": [
    "MasVnrArea: Masonry veneer area in square feet "
   ]
  },
  {
   "cell_type": "code",
   "execution_count": 23,
   "metadata": {},
   "outputs": [],
   "source": [
    "data['MasVnrArea']= data.MasVnrArea.fillna(0)"
   ]
  },
  {
   "cell_type": "markdown",
   "metadata": {},
   "source": [
    "BsmtQual: Evaluates the height of the basement <br>\n",
    "\n",
    "       Ex\tExcellent (100+ inches)\t\n",
    "       Gd\tGood (90-99 inches)\n",
    "       TA\tTypical (80-89 inches)\n",
    "       Fa\tFair (70-79 inches)\n",
    "       Po\tPoor (<70 inches\n",
    "       NA\tNo Basement"
   ]
  },
  {
   "cell_type": "code",
   "execution_count": 24,
   "metadata": {},
   "outputs": [
    {
     "data": {
      "text/plain": [
       "TA    649\n",
       "Gd    618\n",
       "Ex    121\n",
       "Fa     35\n",
       "Name: BsmtQual, dtype: int64"
      ]
     },
     "execution_count": 24,
     "metadata": {},
     "output_type": "execute_result"
    }
   ],
   "source": [
    "data.BsmtQual.astype('category').value_counts()"
   ]
  },
  {
   "cell_type": "code",
   "execution_count": 25,
   "metadata": {},
   "outputs": [],
   "source": [
    "data['BsmtQual']= data.BsmtQual.fillna('Undisclosed')"
   ]
  },
  {
   "cell_type": "markdown",
   "metadata": {},
   "source": [
    "BsmtCond: Evaluates the general condition of the basement <br>\n",
    "\n",
    "       Ex\tExcellent\n",
    "       Gd\tGood\n",
    "       TA\tTypical - slight dampness allowed\n",
    "       Fa\tFair - dampness or some cracking or settling\n",
    "       Po\tPoor - Severe cracking, settling, or wetness\n",
    "       NA\tNo Basement "
   ]
  },
  {
   "cell_type": "code",
   "execution_count": 26,
   "metadata": {},
   "outputs": [
    {
     "data": {
      "text/plain": [
       "TA    1311\n",
       "Gd      65\n",
       "Fa      45\n",
       "Po       2\n",
       "Name: BsmtCond, dtype: int64"
      ]
     },
     "execution_count": 26,
     "metadata": {},
     "output_type": "execute_result"
    }
   ],
   "source": [
    "data.BsmtCond.astype('category').value_counts()"
   ]
  },
  {
   "cell_type": "code",
   "execution_count": 27,
   "metadata": {},
   "outputs": [],
   "source": [
    "data['BsmtCond']= data.BsmtCond.fillna('Undisclosed')"
   ]
  },
  {
   "cell_type": "markdown",
   "metadata": {},
   "source": [
    "BsmtExposure: Refers to walkout or garden level walls <br>\n",
    "\n",
    "       Gd\tGood Exposure\n",
    "       Av\tAverage Exposure (split levels or foyers typically score average or above)\t\n",
    "       Mn\tMimimum Exposure\n",
    "       No\tNo Exposure\n",
    "       NA\tNo Basement"
   ]
  },
  {
   "cell_type": "code",
   "execution_count": 28,
   "metadata": {},
   "outputs": [
    {
     "data": {
      "text/plain": [
       "No    953\n",
       "Av    221\n",
       "Gd    134\n",
       "Mn    114\n",
       "Name: BsmtExposure, dtype: int64"
      ]
     },
     "execution_count": 28,
     "metadata": {},
     "output_type": "execute_result"
    }
   ],
   "source": [
    "data.BsmtExposure.astype('category').value_counts()"
   ]
  },
  {
   "cell_type": "code",
   "execution_count": 29,
   "metadata": {},
   "outputs": [],
   "source": [
    "data['BsmtExposure']= data.BsmtExposure.fillna('Undisclosed')"
   ]
  },
  {
   "cell_type": "markdown",
   "metadata": {},
   "source": [
    "BsmtFinType1: Rating of basement finished area <br>\n",
    "\n",
    "       GLQ\tGood Living Quarters\n",
    "       ALQ\tAverage Living Quarters\n",
    "       BLQ\tBelow Average Living Quarters\t\n",
    "       Rec\tAverage Rec Room\n",
    "       LwQ\tLow Quality\n",
    "       Unf\tUnfinshed\n",
    "       NA\tNo Basement"
   ]
  },
  {
   "cell_type": "code",
   "execution_count": 30,
   "metadata": {},
   "outputs": [
    {
     "data": {
      "text/plain": [
       "Unf    430\n",
       "GLQ    418\n",
       "ALQ    220\n",
       "BLQ    148\n",
       "Rec    133\n",
       "LwQ     74\n",
       "Name: BsmtFinType1, dtype: int64"
      ]
     },
     "execution_count": 30,
     "metadata": {},
     "output_type": "execute_result"
    }
   ],
   "source": [
    "data.BsmtFinType1.astype('category').value_counts()"
   ]
  },
  {
   "cell_type": "code",
   "execution_count": 31,
   "metadata": {},
   "outputs": [],
   "source": [
    "data['BsmtFinType1']= data.BsmtFinType1.fillna('Undisclosed')"
   ]
  },
  {
   "cell_type": "markdown",
   "metadata": {},
   "source": [
    "BsmtFinType2: Rating of basement finished area (if multiple types) <br>\n",
    "\n",
    "       GLQ\tGood Living Quarters\n",
    "       ALQ\tAverage Living Quarters\n",
    "       BLQ\tBelow Average Living Quarters\t\n",
    "       Rec\tAverage Rec Room\n",
    "       LwQ\tLow Quality\n",
    "       Unf\tUnfinshed\n",
    "       NA\tNo Basement"
   ]
  },
  {
   "cell_type": "code",
   "execution_count": 32,
   "metadata": {},
   "outputs": [
    {
     "data": {
      "text/plain": [
       "Unf    1256\n",
       "Rec      54\n",
       "LwQ      46\n",
       "BLQ      33\n",
       "ALQ      19\n",
       "GLQ      14\n",
       "Name: BsmtFinType2, dtype: int64"
      ]
     },
     "execution_count": 32,
     "metadata": {},
     "output_type": "execute_result"
    }
   ],
   "source": [
    "data.BsmtFinType2.astype('category').value_counts()"
   ]
  },
  {
   "cell_type": "code",
   "execution_count": 33,
   "metadata": {},
   "outputs": [],
   "source": [
    "data['BsmtFinType2']= data.BsmtFinType2.fillna('Undisclosed')"
   ]
  },
  {
   "cell_type": "markdown",
   "metadata": {},
   "source": [
    "Electrical: Electrical system <br>\n",
    "\n",
    "       SBrkr\tStandard Circuit Breakers & Romex\n",
    "       FuseA\tFuse Box over 60 AMP and all Romex wiring (Average)\t\n",
    "       FuseF\t60 AMP Fuse Box and mostly Romex wiring (Fair)\n",
    "       FuseP\t60 AMP Fuse Box and mostly knob & tube wiring (poor)\n",
    "       Mix\tMixed"
   ]
  },
  {
   "cell_type": "code",
   "execution_count": 34,
   "metadata": {},
   "outputs": [
    {
     "data": {
      "text/plain": [
       "SBrkr    1334\n",
       "FuseA      94\n",
       "FuseF      27\n",
       "FuseP       3\n",
       "Mix         1\n",
       "Name: Electrical, dtype: int64"
      ]
     },
     "execution_count": 34,
     "metadata": {},
     "output_type": "execute_result"
    }
   ],
   "source": [
    "data.Electrical.astype('category').value_counts()"
   ]
  },
  {
   "cell_type": "code",
   "execution_count": 35,
   "metadata": {},
   "outputs": [],
   "source": [
    "data['Electrical']= data.Electrical.fillna('Undisclosed')"
   ]
  },
  {
   "cell_type": "markdown",
   "metadata": {},
   "source": [
    "GarageType: Garage location <br>\n",
    "\t\t\n",
    "       2Types\tMore than one type of garage\n",
    "       Attchd\tAttached to home\n",
    "       Basment\tBasement Garage\n",
    "       BuiltIn\tBuilt-In (Garage part of house - typically has room above garage)\n",
    "       CarPort\tCar Port\n",
    "       Detchd\tDetached from home\n",
    "       NA\tNo Garage"
   ]
  },
  {
   "cell_type": "code",
   "execution_count": 36,
   "metadata": {},
   "outputs": [
    {
     "data": {
      "text/plain": [
       "Attchd     870\n",
       "Detchd     387\n",
       "BuiltIn     88\n",
       "Basment     19\n",
       "CarPort      9\n",
       "2Types       6\n",
       "Name: GarageType, dtype: int64"
      ]
     },
     "execution_count": 36,
     "metadata": {},
     "output_type": "execute_result"
    }
   ],
   "source": [
    "data.GarageType.astype('category').value_counts()"
   ]
  },
  {
   "cell_type": "code",
   "execution_count": 37,
   "metadata": {},
   "outputs": [],
   "source": [
    "data['GarageType']= data.GarageType.fillna('Undisclosed')"
   ]
  },
  {
   "cell_type": "markdown",
   "metadata": {},
   "source": [
    "GarageYrBlt: Year garage was built"
   ]
  },
  {
   "cell_type": "code",
   "execution_count": 38,
   "metadata": {},
   "outputs": [],
   "source": [
    "data['GarageYrBlt']= data.GarageYrBlt.fillna('0')"
   ]
  },
  {
   "cell_type": "markdown",
   "metadata": {},
   "source": [
    "GarageFinish: Interior finish of the garage <br>\n",
    "\n",
    "       Fin\tFinished\n",
    "       RFn\tRough Finished\t\n",
    "       Unf\tUnfinished\n",
    "       NA\tNo Garage"
   ]
  },
  {
   "cell_type": "code",
   "execution_count": 39,
   "metadata": {},
   "outputs": [
    {
     "data": {
      "text/plain": [
       "Unf    605\n",
       "RFn    422\n",
       "Fin    352\n",
       "Name: GarageFinish, dtype: int64"
      ]
     },
     "execution_count": 39,
     "metadata": {},
     "output_type": "execute_result"
    }
   ],
   "source": [
    "data.GarageFinish.astype('category').value_counts()"
   ]
  },
  {
   "cell_type": "code",
   "execution_count": 40,
   "metadata": {},
   "outputs": [],
   "source": [
    "data['GarageFinish']= data.GarageFinish.fillna('Undisclosed')"
   ]
  },
  {
   "cell_type": "markdown",
   "metadata": {},
   "source": [
    "GarageQual: Garage quality <br>\n",
    "\n",
    "       Ex\tExcellent\n",
    "       Gd\tGood\n",
    "       TA\tTypical/Average\n",
    "       Fa\tFair\n",
    "       Po\tPoor\n",
    "       NA\tNo Garage"
   ]
  },
  {
   "cell_type": "code",
   "execution_count": 41,
   "metadata": {},
   "outputs": [
    {
     "data": {
      "text/plain": [
       "TA    1311\n",
       "Fa      48\n",
       "Gd      14\n",
       "Po       3\n",
       "Ex       3\n",
       "Name: GarageQual, dtype: int64"
      ]
     },
     "execution_count": 41,
     "metadata": {},
     "output_type": "execute_result"
    }
   ],
   "source": [
    "data.GarageQual.astype('category').value_counts()"
   ]
  },
  {
   "cell_type": "code",
   "execution_count": 42,
   "metadata": {},
   "outputs": [],
   "source": [
    "data['GarageQual']= data.GarageQual.fillna('Undisclosed')"
   ]
  },
  {
   "cell_type": "markdown",
   "metadata": {},
   "source": [
    "GarageCond: Garage condition\n",
    "\n",
    "       Ex\tExcellent\n",
    "       Gd\tGood\n",
    "       TA\tTypical/Average\n",
    "       Fa\tFair\n",
    "       Po\tPoor\n",
    "       NA\tNo Garage"
   ]
  },
  {
   "cell_type": "code",
   "execution_count": 43,
   "metadata": {},
   "outputs": [
    {
     "data": {
      "text/plain": [
       "TA    1326\n",
       "Fa      35\n",
       "Gd       9\n",
       "Po       7\n",
       "Ex       2\n",
       "Name: GarageCond, dtype: int64"
      ]
     },
     "execution_count": 43,
     "metadata": {},
     "output_type": "execute_result"
    }
   ],
   "source": [
    "data.GarageCond.astype('category').value_counts()"
   ]
  },
  {
   "cell_type": "code",
   "execution_count": 44,
   "metadata": {},
   "outputs": [],
   "source": [
    "data['GarageCond']= data.GarageCond.fillna('Undisclosed')"
   ]
  },
  {
   "cell_type": "code",
   "execution_count": 45,
   "metadata": {},
   "outputs": [],
   "source": [
    "#Set to display all rows\n",
    "pd.set_option('display.max_rows', None)"
   ]
  },
  {
   "cell_type": "code",
   "execution_count": 46,
   "metadata": {
    "scrolled": true
   },
   "outputs": [
    {
     "name": "stdout",
     "output_type": "stream",
     "text": [
      "<class 'pandas.core.frame.DataFrame'>\n",
      "RangeIndex: 1460 entries, 0 to 1459\n",
      "Data columns (total 79 columns):\n",
      "Id               1460 non-null int64\n",
      "MSSubClass       1460 non-null int64\n",
      "MSZoning         1460 non-null object\n",
      "LotFrontage      1460 non-null float64\n",
      "LotArea          1460 non-null int64\n",
      "Street           1460 non-null object\n",
      "Alley            1460 non-null object\n",
      "LotShape         1460 non-null object\n",
      "LandContour      1460 non-null object\n",
      "Utilities        1460 non-null object\n",
      "LotConfig        1460 non-null object\n",
      "LandSlope        1460 non-null object\n",
      "Neighborhood     1460 non-null object\n",
      "Condition1       1460 non-null object\n",
      "Condition2       1460 non-null object\n",
      "BldgType         1460 non-null object\n",
      "HouseStyle       1460 non-null object\n",
      "OverallQual      1460 non-null int64\n",
      "OverallCond      1460 non-null int64\n",
      "YearBuilt        1460 non-null int64\n",
      "YearRemodAdd     1460 non-null int64\n",
      "RoofStyle        1460 non-null object\n",
      "RoofMatl         1460 non-null object\n",
      "Exterior1st      1460 non-null object\n",
      "Exterior2nd      1460 non-null object\n",
      "MasVnrType       1460 non-null object\n",
      "MasVnrArea       1460 non-null float64\n",
      "ExterQual        1460 non-null object\n",
      "ExterCond        1460 non-null object\n",
      "Foundation       1460 non-null object\n",
      "BsmtQual         1460 non-null object\n",
      "BsmtCond         1460 non-null object\n",
      "BsmtExposure     1460 non-null object\n",
      "BsmtFinType1     1460 non-null object\n",
      "BsmtFinSF1       1460 non-null int64\n",
      "BsmtFinType2     1460 non-null object\n",
      "BsmtFinSF2       1460 non-null int64\n",
      "BsmtUnfSF        1460 non-null int64\n",
      "TotalBsmtSF      1460 non-null int64\n",
      "Heating          1460 non-null object\n",
      "HeatingQC        1460 non-null object\n",
      "CentralAir       1460 non-null object\n",
      "Electrical       1460 non-null object\n",
      "1stFlrSF         1460 non-null int64\n",
      "2ndFlrSF         1460 non-null int64\n",
      "LowQualFinSF     1460 non-null int64\n",
      "GrLivArea        1460 non-null int64\n",
      "BsmtFullBath     1460 non-null int64\n",
      "BsmtHalfBath     1460 non-null int64\n",
      "FullBath         1460 non-null int64\n",
      "HalfBath         1460 non-null int64\n",
      "BedroomAbvGr     1460 non-null int64\n",
      "KitchenAbvGr     1460 non-null int64\n",
      "KitchenQual      1460 non-null object\n",
      "TotRmsAbvGrd     1460 non-null int64\n",
      "Functional       1460 non-null object\n",
      "Fireplaces       1460 non-null int64\n",
      "GarageType       1460 non-null object\n",
      "GarageYrBlt      1460 non-null object\n",
      "GarageFinish     1460 non-null object\n",
      "GarageCars       1460 non-null int64\n",
      "GarageArea       1460 non-null int64\n",
      "GarageQual       1460 non-null object\n",
      "GarageCond       1460 non-null object\n",
      "PavedDrive       1460 non-null object\n",
      "WoodDeckSF       1460 non-null int64\n",
      "OpenPorchSF      1460 non-null int64\n",
      "EnclosedPorch    1460 non-null int64\n",
      "3SsnPorch        1460 non-null int64\n",
      "ScreenPorch      1460 non-null int64\n",
      "PoolArea         1460 non-null int64\n",
      "Fence            1460 non-null object\n",
      "MiscFeature      1460 non-null object\n",
      "MiscVal          1460 non-null int64\n",
      "MoSold           1460 non-null int64\n",
      "YrSold           1460 non-null int64\n",
      "SaleType         1460 non-null object\n",
      "SaleCondition    1460 non-null object\n",
      "SalePrice        1460 non-null int64\n",
      "dtypes: float64(2), int64(35), object(42)\n",
      "memory usage: 901.2+ KB\n"
     ]
    }
   ],
   "source": [
    "data.info()"
   ]
  },
  {
   "cell_type": "code",
   "execution_count": 47,
   "metadata": {},
   "outputs": [
    {
     "data": {
      "text/plain": [
       "(1460, 79)"
      ]
     },
     "execution_count": 47,
     "metadata": {},
     "output_type": "execute_result"
    }
   ],
   "source": [
    "data.shape"
   ]
  },
  {
   "cell_type": "code",
   "execution_count": 48,
   "metadata": {},
   "outputs": [],
   "source": [
    "data=data.drop('Id',axis=1)"
   ]
  },
  {
   "cell_type": "markdown",
   "metadata": {},
   "source": [
    "### Data description "
   ]
  },
  {
   "cell_type": "code",
   "execution_count": 49,
   "metadata": {},
   "outputs": [
    {
     "data": {
      "text/html": [
       "<div>\n",
       "<style scoped>\n",
       "    .dataframe tbody tr th:only-of-type {\n",
       "        vertical-align: middle;\n",
       "    }\n",
       "\n",
       "    .dataframe tbody tr th {\n",
       "        vertical-align: top;\n",
       "    }\n",
       "\n",
       "    .dataframe thead th {\n",
       "        text-align: right;\n",
       "    }\n",
       "</style>\n",
       "<table border=\"1\" class=\"dataframe\">\n",
       "  <thead>\n",
       "    <tr style=\"text-align: right;\">\n",
       "      <th></th>\n",
       "      <th>MSSubClass</th>\n",
       "      <th>LotFrontage</th>\n",
       "      <th>LotArea</th>\n",
       "      <th>OverallQual</th>\n",
       "      <th>OverallCond</th>\n",
       "      <th>YearBuilt</th>\n",
       "      <th>YearRemodAdd</th>\n",
       "      <th>MasVnrArea</th>\n",
       "      <th>BsmtFinSF1</th>\n",
       "      <th>BsmtFinSF2</th>\n",
       "      <th>...</th>\n",
       "      <th>WoodDeckSF</th>\n",
       "      <th>OpenPorchSF</th>\n",
       "      <th>EnclosedPorch</th>\n",
       "      <th>3SsnPorch</th>\n",
       "      <th>ScreenPorch</th>\n",
       "      <th>PoolArea</th>\n",
       "      <th>MiscVal</th>\n",
       "      <th>MoSold</th>\n",
       "      <th>YrSold</th>\n",
       "      <th>SalePrice</th>\n",
       "    </tr>\n",
       "  </thead>\n",
       "  <tbody>\n",
       "    <tr>\n",
       "      <td>count</td>\n",
       "      <td>1460.000000</td>\n",
       "      <td>1460.000000</td>\n",
       "      <td>1460.000000</td>\n",
       "      <td>1460.000000</td>\n",
       "      <td>1460.000000</td>\n",
       "      <td>1460.000000</td>\n",
       "      <td>1460.000000</td>\n",
       "      <td>1460.000000</td>\n",
       "      <td>1460.000000</td>\n",
       "      <td>1460.000000</td>\n",
       "      <td>...</td>\n",
       "      <td>1460.000000</td>\n",
       "      <td>1460.000000</td>\n",
       "      <td>1460.000000</td>\n",
       "      <td>1460.000000</td>\n",
       "      <td>1460.000000</td>\n",
       "      <td>1460.000000</td>\n",
       "      <td>1460.000000</td>\n",
       "      <td>1460.000000</td>\n",
       "      <td>1460.000000</td>\n",
       "      <td>1460.000000</td>\n",
       "    </tr>\n",
       "    <tr>\n",
       "      <td>mean</td>\n",
       "      <td>56.897260</td>\n",
       "      <td>57.623288</td>\n",
       "      <td>10516.828082</td>\n",
       "      <td>6.099315</td>\n",
       "      <td>5.575342</td>\n",
       "      <td>1971.267808</td>\n",
       "      <td>1984.865753</td>\n",
       "      <td>103.117123</td>\n",
       "      <td>443.639726</td>\n",
       "      <td>46.549315</td>\n",
       "      <td>...</td>\n",
       "      <td>94.244521</td>\n",
       "      <td>46.660274</td>\n",
       "      <td>21.954110</td>\n",
       "      <td>3.409589</td>\n",
       "      <td>15.060959</td>\n",
       "      <td>2.758904</td>\n",
       "      <td>43.489041</td>\n",
       "      <td>6.321918</td>\n",
       "      <td>2007.815753</td>\n",
       "      <td>180921.195890</td>\n",
       "    </tr>\n",
       "    <tr>\n",
       "      <td>std</td>\n",
       "      <td>42.300571</td>\n",
       "      <td>34.664304</td>\n",
       "      <td>9981.264932</td>\n",
       "      <td>1.382997</td>\n",
       "      <td>1.112799</td>\n",
       "      <td>30.202904</td>\n",
       "      <td>20.645407</td>\n",
       "      <td>180.731373</td>\n",
       "      <td>456.098091</td>\n",
       "      <td>161.319273</td>\n",
       "      <td>...</td>\n",
       "      <td>125.338794</td>\n",
       "      <td>66.256028</td>\n",
       "      <td>61.119149</td>\n",
       "      <td>29.317331</td>\n",
       "      <td>55.757415</td>\n",
       "      <td>40.177307</td>\n",
       "      <td>496.123024</td>\n",
       "      <td>2.703626</td>\n",
       "      <td>1.328095</td>\n",
       "      <td>79442.502883</td>\n",
       "    </tr>\n",
       "    <tr>\n",
       "      <td>min</td>\n",
       "      <td>20.000000</td>\n",
       "      <td>0.000000</td>\n",
       "      <td>1300.000000</td>\n",
       "      <td>1.000000</td>\n",
       "      <td>1.000000</td>\n",
       "      <td>1872.000000</td>\n",
       "      <td>1950.000000</td>\n",
       "      <td>0.000000</td>\n",
       "      <td>0.000000</td>\n",
       "      <td>0.000000</td>\n",
       "      <td>...</td>\n",
       "      <td>0.000000</td>\n",
       "      <td>0.000000</td>\n",
       "      <td>0.000000</td>\n",
       "      <td>0.000000</td>\n",
       "      <td>0.000000</td>\n",
       "      <td>0.000000</td>\n",
       "      <td>0.000000</td>\n",
       "      <td>1.000000</td>\n",
       "      <td>2006.000000</td>\n",
       "      <td>34900.000000</td>\n",
       "    </tr>\n",
       "    <tr>\n",
       "      <td>25%</td>\n",
       "      <td>20.000000</td>\n",
       "      <td>42.000000</td>\n",
       "      <td>7553.500000</td>\n",
       "      <td>5.000000</td>\n",
       "      <td>5.000000</td>\n",
       "      <td>1954.000000</td>\n",
       "      <td>1967.000000</td>\n",
       "      <td>0.000000</td>\n",
       "      <td>0.000000</td>\n",
       "      <td>0.000000</td>\n",
       "      <td>...</td>\n",
       "      <td>0.000000</td>\n",
       "      <td>0.000000</td>\n",
       "      <td>0.000000</td>\n",
       "      <td>0.000000</td>\n",
       "      <td>0.000000</td>\n",
       "      <td>0.000000</td>\n",
       "      <td>0.000000</td>\n",
       "      <td>5.000000</td>\n",
       "      <td>2007.000000</td>\n",
       "      <td>129975.000000</td>\n",
       "    </tr>\n",
       "    <tr>\n",
       "      <td>50%</td>\n",
       "      <td>50.000000</td>\n",
       "      <td>63.000000</td>\n",
       "      <td>9478.500000</td>\n",
       "      <td>6.000000</td>\n",
       "      <td>5.000000</td>\n",
       "      <td>1973.000000</td>\n",
       "      <td>1994.000000</td>\n",
       "      <td>0.000000</td>\n",
       "      <td>383.500000</td>\n",
       "      <td>0.000000</td>\n",
       "      <td>...</td>\n",
       "      <td>0.000000</td>\n",
       "      <td>25.000000</td>\n",
       "      <td>0.000000</td>\n",
       "      <td>0.000000</td>\n",
       "      <td>0.000000</td>\n",
       "      <td>0.000000</td>\n",
       "      <td>0.000000</td>\n",
       "      <td>6.000000</td>\n",
       "      <td>2008.000000</td>\n",
       "      <td>163000.000000</td>\n",
       "    </tr>\n",
       "    <tr>\n",
       "      <td>75%</td>\n",
       "      <td>70.000000</td>\n",
       "      <td>79.000000</td>\n",
       "      <td>11601.500000</td>\n",
       "      <td>7.000000</td>\n",
       "      <td>6.000000</td>\n",
       "      <td>2000.000000</td>\n",
       "      <td>2004.000000</td>\n",
       "      <td>164.250000</td>\n",
       "      <td>712.250000</td>\n",
       "      <td>0.000000</td>\n",
       "      <td>...</td>\n",
       "      <td>168.000000</td>\n",
       "      <td>68.000000</td>\n",
       "      <td>0.000000</td>\n",
       "      <td>0.000000</td>\n",
       "      <td>0.000000</td>\n",
       "      <td>0.000000</td>\n",
       "      <td>0.000000</td>\n",
       "      <td>8.000000</td>\n",
       "      <td>2009.000000</td>\n",
       "      <td>214000.000000</td>\n",
       "    </tr>\n",
       "    <tr>\n",
       "      <td>max</td>\n",
       "      <td>190.000000</td>\n",
       "      <td>313.000000</td>\n",
       "      <td>215245.000000</td>\n",
       "      <td>10.000000</td>\n",
       "      <td>9.000000</td>\n",
       "      <td>2010.000000</td>\n",
       "      <td>2010.000000</td>\n",
       "      <td>1600.000000</td>\n",
       "      <td>5644.000000</td>\n",
       "      <td>1474.000000</td>\n",
       "      <td>...</td>\n",
       "      <td>857.000000</td>\n",
       "      <td>547.000000</td>\n",
       "      <td>552.000000</td>\n",
       "      <td>508.000000</td>\n",
       "      <td>480.000000</td>\n",
       "      <td>738.000000</td>\n",
       "      <td>15500.000000</td>\n",
       "      <td>12.000000</td>\n",
       "      <td>2010.000000</td>\n",
       "      <td>755000.000000</td>\n",
       "    </tr>\n",
       "  </tbody>\n",
       "</table>\n",
       "<p>8 rows × 36 columns</p>\n",
       "</div>"
      ],
      "text/plain": [
       "        MSSubClass  LotFrontage        LotArea  OverallQual  OverallCond  \\\n",
       "count  1460.000000  1460.000000    1460.000000  1460.000000  1460.000000   \n",
       "mean     56.897260    57.623288   10516.828082     6.099315     5.575342   \n",
       "std      42.300571    34.664304    9981.264932     1.382997     1.112799   \n",
       "min      20.000000     0.000000    1300.000000     1.000000     1.000000   \n",
       "25%      20.000000    42.000000    7553.500000     5.000000     5.000000   \n",
       "50%      50.000000    63.000000    9478.500000     6.000000     5.000000   \n",
       "75%      70.000000    79.000000   11601.500000     7.000000     6.000000   \n",
       "max     190.000000   313.000000  215245.000000    10.000000     9.000000   \n",
       "\n",
       "         YearBuilt  YearRemodAdd   MasVnrArea   BsmtFinSF1   BsmtFinSF2  ...  \\\n",
       "count  1460.000000   1460.000000  1460.000000  1460.000000  1460.000000  ...   \n",
       "mean   1971.267808   1984.865753   103.117123   443.639726    46.549315  ...   \n",
       "std      30.202904     20.645407   180.731373   456.098091   161.319273  ...   \n",
       "min    1872.000000   1950.000000     0.000000     0.000000     0.000000  ...   \n",
       "25%    1954.000000   1967.000000     0.000000     0.000000     0.000000  ...   \n",
       "50%    1973.000000   1994.000000     0.000000   383.500000     0.000000  ...   \n",
       "75%    2000.000000   2004.000000   164.250000   712.250000     0.000000  ...   \n",
       "max    2010.000000   2010.000000  1600.000000  5644.000000  1474.000000  ...   \n",
       "\n",
       "        WoodDeckSF  OpenPorchSF  EnclosedPorch    3SsnPorch  ScreenPorch  \\\n",
       "count  1460.000000  1460.000000    1460.000000  1460.000000  1460.000000   \n",
       "mean     94.244521    46.660274      21.954110     3.409589    15.060959   \n",
       "std     125.338794    66.256028      61.119149    29.317331    55.757415   \n",
       "min       0.000000     0.000000       0.000000     0.000000     0.000000   \n",
       "25%       0.000000     0.000000       0.000000     0.000000     0.000000   \n",
       "50%       0.000000    25.000000       0.000000     0.000000     0.000000   \n",
       "75%     168.000000    68.000000       0.000000     0.000000     0.000000   \n",
       "max     857.000000   547.000000     552.000000   508.000000   480.000000   \n",
       "\n",
       "          PoolArea       MiscVal       MoSold       YrSold      SalePrice  \n",
       "count  1460.000000   1460.000000  1460.000000  1460.000000    1460.000000  \n",
       "mean      2.758904     43.489041     6.321918  2007.815753  180921.195890  \n",
       "std      40.177307    496.123024     2.703626     1.328095   79442.502883  \n",
       "min       0.000000      0.000000     1.000000  2006.000000   34900.000000  \n",
       "25%       0.000000      0.000000     5.000000  2007.000000  129975.000000  \n",
       "50%       0.000000      0.000000     6.000000  2008.000000  163000.000000  \n",
       "75%       0.000000      0.000000     8.000000  2009.000000  214000.000000  \n",
       "max     738.000000  15500.000000    12.000000  2010.000000  755000.000000  \n",
       "\n",
       "[8 rows x 36 columns]"
      ]
     },
     "execution_count": 49,
     "metadata": {},
     "output_type": "execute_result"
    }
   ],
   "source": [
    "data.describe()"
   ]
  },
  {
   "cell_type": "code",
   "execution_count": 50,
   "metadata": {},
   "outputs": [
    {
     "data": {
      "text/plain": [
       "20     536\n",
       "60     299\n",
       "50     144\n",
       "120     87\n",
       "30      69\n",
       "160     63\n",
       "70      60\n",
       "80      58\n",
       "90      52\n",
       "190     30\n",
       "85      20\n",
       "75      16\n",
       "45      12\n",
       "180     10\n",
       "40       4\n",
       "Name: MSSubClass, dtype: int64"
      ]
     },
     "execution_count": 50,
     "metadata": {},
     "output_type": "execute_result"
    }
   ],
   "source": [
    "data['MSSubClass'].astype('category').value_counts()"
   ]
  },
  {
   "cell_type": "code",
   "execution_count": 51,
   "metadata": {},
   "outputs": [
    {
     "data": {
      "image/png": "[encoded data removed]",
      "text/plain": [
       "<Figure size 432x288 with 1 Axes>"
      ]
     },
     "metadata": {
      "needs_background": "light"
     },
     "output_type": "display_data"
    }
   ],
   "source": [
    "sns.distplot(data.MSSubClass)\n",
    "plt.show()"
   ]
  },
  {
   "cell_type": "markdown",
   "metadata": {},
   "source": [
    "Looks like most properties are 1946 or newer, 1 to 2 story homes."
   ]
  },
  {
   "cell_type": "markdown",
   "metadata": {},
   "source": [
    "OverallQual: Rates the overall material and finish of the house <br>\n",
    "OverallCond: Rates the overall condition of the house\n",
    "\n",
    "       10\tVery Excellent\n",
    "       9\tExcellent\n",
    "       8\tVery Good\n",
    "       7\tGood\n",
    "       6\tAbove Average\n",
    "       5\tAverage\n",
    "       4\tBelow Average\n",
    "       3\tFair\n",
    "       2\tPoor\n",
    "       1\tVery Poor"
   ]
  },
  {
   "cell_type": "code",
   "execution_count": 52,
   "metadata": {},
   "outputs": [
    {
     "data": {
      "text/plain": [
       "5     397\n",
       "6     374\n",
       "7     319\n",
       "8     168\n",
       "4     116\n",
       "9      43\n",
       "3      20\n",
       "10     18\n",
       "2       3\n",
       "1       2\n",
       "Name: OverallQual, dtype: int64"
      ]
     },
     "execution_count": 52,
     "metadata": {},
     "output_type": "execute_result"
    }
   ],
   "source": [
    "data['OverallQual'].astype('category').value_counts()"
   ]
  },
  {
   "cell_type": "code",
   "execution_count": 53,
   "metadata": {},
   "outputs": [
    {
     "data": {
      "image/png": "[encoded data removed]",
      "text/plain": [
       "<Figure size 432x288 with 1 Axes>"
      ]
     },
     "metadata": {
      "needs_background": "light"
     },
     "output_type": "display_data"
    }
   ],
   "source": [
    "sns.distplot(data.OverallQual, bins=10)\n",
    "plt.show()"
   ]
  },
  {
   "cell_type": "code",
   "execution_count": 54,
   "metadata": {},
   "outputs": [
    {
     "data": {
      "text/plain": [
       "5    821\n",
       "6    252\n",
       "7    205\n",
       "8     72\n",
       "4     57\n",
       "3     25\n",
       "9     22\n",
       "2      5\n",
       "1      1\n",
       "Name: OverallCond, dtype: int64"
      ]
     },
     "execution_count": 54,
     "metadata": {},
     "output_type": "execute_result"
    }
   ],
   "source": [
    "data['OverallCond'].astype('category').value_counts()"
   ]
  },
  {
   "cell_type": "code",
   "execution_count": 55,
   "metadata": {},
   "outputs": [
    {
     "data": {
      "image/png": "[encoded data removed]",
      "text/plain": [
       "<Figure size 432x288 with 1 Axes>"
      ]
     },
     "metadata": {
      "needs_background": "light"
     },
     "output_type": "display_data"
    }
   ],
   "source": [
    "sns.distplot(data.OverallCond, bins=10)\n",
    "plt.show()"
   ]
  },
  {
   "cell_type": "markdown",
   "metadata": {},
   "source": [
    "For Overall quality and overall condition, most of the houses were on average to very good condition."
   ]
  },
  {
   "cell_type": "markdown",
   "metadata": {},
   "source": [
    "### Dealing with Year columns"
   ]
  },
  {
   "cell_type": "markdown",
   "metadata": {},
   "source": [
    "We are going to use the Year data as categorical data. <br>\n",
    "YearBuilt: Original construction date <br>\n",
    "YearRemodAdd: Remodel date (same as construction date if no remodeling or additions)<br>\n",
    "GarageYrBlt: Year garage was built <br>\n",
    "YrSold: Year Sold (YYYY)\n"
   ]
  },
  {
   "cell_type": "code",
   "execution_count": 56,
   "metadata": {},
   "outputs": [
    {
     "data": {
      "text/plain": [
       "count    1460.000000\n",
       "mean     1971.267808\n",
       "std        30.202904\n",
       "min      1872.000000\n",
       "25%      1954.000000\n",
       "50%      1973.000000\n",
       "75%      2000.000000\n",
       "max      2010.000000\n",
       "Name: YearBuilt, dtype: float64"
      ]
     },
     "execution_count": 56,
     "metadata": {},
     "output_type": "execute_result"
    }
   ],
   "source": [
    "data['YearBuilt'].describe()"
   ]
  },
  {
   "cell_type": "code",
   "execution_count": 57,
   "metadata": {},
   "outputs": [
    {
     "data": {
      "image/png": "[encoded data removed]",
      "text/plain": [
       "<Figure size 432x288 with 1 Axes>"
      ]
     },
     "metadata": {
      "needs_background": "light"
     },
     "output_type": "display_data"
    }
   ],
   "source": [
    "sns.distplot(data.YearBuilt, bins=50)\n",
    "plt.show()"
   ]
  },
  {
   "cell_type": "markdown",
   "metadata": {},
   "source": [
    "Too many dates. We are going to create buckets for the years. By research, construction styles changes were more noticeable in 1900, 1940, 1960 and 2000s. "
   ]
  },
  {
   "cell_type": "code",
   "execution_count": 58,
   "metadata": {},
   "outputs": [],
   "source": [
    "a= [(data.YearBuilt<=1900) , \n",
    "    (data.YearBuilt>=1901) & (data.YearBuilt<=1940),\n",
    "    (data.YearBuilt>=1941) & (data.YearBuilt<=1960),\n",
    "    (data.YearBuilt>=1961) & (data.YearBuilt<=2000),\n",
    "    (data.YearBuilt>=2001)]\n",
    "b= ['Before 1900','1901-1940', '1941-1960','1961-2000', 'After 2000']    "
   ]
  },
  {
   "cell_type": "code",
   "execution_count": 59,
   "metadata": {},
   "outputs": [],
   "source": [
    "data['House_Era'] =  np.select(a,b)"
   ]
  },
  {
   "cell_type": "code",
   "execution_count": 60,
   "metadata": {},
   "outputs": [
    {
     "data": {
      "text/plain": [
       "1961-2000      594\n",
       "After 2000     364\n",
       "1941-1960      245\n",
       "1901-1940      232\n",
       "Before 1900     25\n",
       "Name: House_Era, dtype: int64"
      ]
     },
     "execution_count": 60,
     "metadata": {},
     "output_type": "execute_result"
    }
   ],
   "source": [
    "data.House_Era.value_counts()"
   ]
  },
  {
   "cell_type": "markdown",
   "metadata": {},
   "source": [
    "Let's create a binary column using  YearRemodAdd and YearBuilt to see if the property was remodeled. "
   ]
  },
  {
   "cell_type": "code",
   "execution_count": 61,
   "metadata": {},
   "outputs": [],
   "source": [
    "c= [((data.YearRemodAdd - data.YearBuilt)==0),\n",
    "     ((data.YearRemodAdd - data.YearBuilt)>0)]\n",
    "d=['No','Yes']"
   ]
  },
  {
   "cell_type": "code",
   "execution_count": 62,
   "metadata": {},
   "outputs": [],
   "source": [
    "data['Remodeled'] = np.select(c,d)"
   ]
  },
  {
   "cell_type": "markdown",
   "metadata": {},
   "source": [
    "Let's find out if a garage was added later."
   ]
  },
  {
   "cell_type": "code",
   "execution_count": 63,
   "metadata": {},
   "outputs": [],
   "source": [
    "data['GarageYrBlt']= data.GarageYrBlt.astype(int)"
   ]
  },
  {
   "cell_type": "code",
   "execution_count": 64,
   "metadata": {},
   "outputs": [],
   "source": [
    "e= [((data.GarageYrBlt - data.YearBuilt)==0),\n",
    "     ((data.GarageYrBlt - data.YearBuilt)>0)]\n",
    "f=['No','Yes']"
   ]
  },
  {
   "cell_type": "code",
   "execution_count": 65,
   "metadata": {},
   "outputs": [],
   "source": [
    "data['Garage_added']= np.select(e,f)"
   ]
  },
  {
   "cell_type": "markdown",
   "metadata": {},
   "source": [
    "Let's find out the age of the house at time of sale."
   ]
  },
  {
   "cell_type": "code",
   "execution_count": 66,
   "metadata": {},
   "outputs": [],
   "source": [
    "data['Age_Of House'] = data['YrSold'] - data['YearBuilt']"
   ]
  },
  {
   "cell_type": "markdown",
   "metadata": {},
   "source": [
    "### Convert Month sold number to month"
   ]
  },
  {
   "cell_type": "code",
   "execution_count": 67,
   "metadata": {},
   "outputs": [],
   "source": [
    "import calendar\n",
    "data['MoSold']=data.MoSold.apply(lambda x: calendar.month_abbr[x])"
   ]
  },
  {
   "cell_type": "code",
   "execution_count": 68,
   "metadata": {},
   "outputs": [
    {
     "name": "stdout",
     "output_type": "stream",
     "text": [
      "<class 'pandas.core.frame.DataFrame'>\n",
      "RangeIndex: 1460 entries, 0 to 1459\n",
      "Data columns (total 82 columns):\n",
      "MSSubClass       1460 non-null int64\n",
      "MSZoning         1460 non-null object\n",
      "LotFrontage      1460 non-null float64\n",
      "LotArea          1460 non-null int64\n",
      "Street           1460 non-null object\n",
      "Alley            1460 non-null object\n",
      "LotShape         1460 non-null object\n",
      "LandContour      1460 non-null object\n",
      "Utilities        1460 non-null object\n",
      "LotConfig        1460 non-null object\n",
      "LandSlope        1460 non-null object\n",
      "Neighborhood     1460 non-null object\n",
      "Condition1       1460 non-null object\n",
      "Condition2       1460 non-null object\n",
      "BldgType         1460 non-null object\n",
      "HouseStyle       1460 non-null object\n",
      "OverallQual      1460 non-null int64\n",
      "OverallCond      1460 non-null int64\n",
      "YearBuilt        1460 non-null int64\n",
      "YearRemodAdd     1460 non-null int64\n",
      "RoofStyle        1460 non-null object\n",
      "RoofMatl         1460 non-null object\n",
      "Exterior1st      1460 non-null object\n",
      "Exterior2nd      1460 non-null object\n",
      "MasVnrType       1460 non-null object\n",
      "MasVnrArea       1460 non-null float64\n",
      "ExterQual        1460 non-null object\n",
      "ExterCond        1460 non-null object\n",
      "Foundation       1460 non-null object\n",
      "BsmtQual         1460 non-null object\n",
      "BsmtCond         1460 non-null object\n",
      "BsmtExposure     1460 non-null object\n",
      "BsmtFinType1     1460 non-null object\n",
      "BsmtFinSF1       1460 non-null int64\n",
      "BsmtFinType2     1460 non-null object\n",
      "BsmtFinSF2       1460 non-null int64\n",
      "BsmtUnfSF        1460 non-null int64\n",
      "TotalBsmtSF      1460 non-null int64\n",
      "Heating          1460 non-null object\n",
      "HeatingQC        1460 non-null object\n",
      "CentralAir       1460 non-null object\n",
      "Electrical       1460 non-null object\n",
      "1stFlrSF         1460 non-null int64\n",
      "2ndFlrSF         1460 non-null int64\n",
      "LowQualFinSF     1460 non-null int64\n",
      "GrLivArea        1460 non-null int64\n",
      "BsmtFullBath     1460 non-null int64\n",
      "BsmtHalfBath     1460 non-null int64\n",
      "FullBath         1460 non-null int64\n",
      "HalfBath         1460 non-null int64\n",
      "BedroomAbvGr     1460 non-null int64\n",
      "KitchenAbvGr     1460 non-null int64\n",
      "KitchenQual      1460 non-null object\n",
      "TotRmsAbvGrd     1460 non-null int64\n",
      "Functional       1460 non-null object\n",
      "Fireplaces       1460 non-null int64\n",
      "GarageType       1460 non-null object\n",
      "GarageYrBlt      1460 non-null int64\n",
      "GarageFinish     1460 non-null object\n",
      "GarageCars       1460 non-null int64\n",
      "GarageArea       1460 non-null int64\n",
      "GarageQual       1460 non-null object\n",
      "GarageCond       1460 non-null object\n",
      "PavedDrive       1460 non-null object\n",
      "WoodDeckSF       1460 non-null int64\n",
      "OpenPorchSF      1460 non-null int64\n",
      "EnclosedPorch    1460 non-null int64\n",
      "3SsnPorch        1460 non-null int64\n",
      "ScreenPorch      1460 non-null int64\n",
      "PoolArea         1460 non-null int64\n",
      "Fence            1460 non-null object\n",
      "MiscFeature      1460 non-null object\n",
      "MiscVal          1460 non-null int64\n",
      "MoSold           1460 non-null object\n",
      "YrSold           1460 non-null int64\n",
      "SaleType         1460 non-null object\n",
      "SaleCondition    1460 non-null object\n",
      "SalePrice        1460 non-null int64\n",
      "House_Era        1460 non-null object\n",
      "Remodeled        1460 non-null object\n",
      "Garage_added     1460 non-null object\n",
      "Age_Of House     1460 non-null int64\n",
      "dtypes: float64(2), int64(35), object(45)\n",
      "memory usage: 935.4+ KB\n"
     ]
    }
   ],
   "source": [
    "#Let's look at data again\n",
    "data.info()"
   ]
  },
  {
   "cell_type": "markdown",
   "metadata": {},
   "source": [
    "### Split Data"
   ]
  },
  {
   "cell_type": "code",
   "execution_count": 69,
   "metadata": {},
   "outputs": [],
   "source": [
    "X=data.loc[:,['MSSubClass', 'MSZoning', 'LotFrontage', 'LotArea', 'Street', 'Alley',\n",
    "       'LotShape', 'LandContour', 'Utilities', 'LotConfig', 'LandSlope',\n",
    "       'Neighborhood', 'Condition1', 'Condition2', 'BldgType', 'HouseStyle',\n",
    "       'OverallQual', 'OverallCond', 'YearBuilt', 'YearRemodAdd', 'RoofStyle',\n",
    "       'RoofMatl', 'Exterior1st', 'Exterior2nd', 'MasVnrType', 'MasVnrArea',\n",
    "       'ExterQual', 'ExterCond', 'Foundation', 'BsmtQual', 'BsmtCond',\n",
    "       'BsmtExposure', 'BsmtFinType1', 'BsmtFinSF1', 'BsmtFinType2',\n",
    "       'BsmtFinSF2', 'BsmtUnfSF', 'TotalBsmtSF', 'Heating', 'HeatingQC',\n",
    "       'CentralAir', 'Electrical', '1stFlrSF', '2ndFlrSF', 'LowQualFinSF',\n",
    "       'GrLivArea', 'BsmtFullBath', 'BsmtHalfBath', 'FullBath', 'HalfBath',\n",
    "       'BedroomAbvGr', 'KitchenAbvGr', 'KitchenQual', 'TotRmsAbvGrd',\n",
    "       'Functional', 'Fireplaces', 'GarageType', 'GarageYrBlt', 'GarageFinish',\n",
    "       'GarageCars', 'GarageArea', 'GarageQual', 'GarageCond', 'PavedDrive',\n",
    "       'WoodDeckSF', 'OpenPorchSF', 'EnclosedPorch', '3SsnPorch',\n",
    "       'ScreenPorch', 'PoolArea', 'Fence', 'MiscFeature', 'MiscVal', 'MoSold',\n",
    "       'YrSold', 'SaleType', 'SaleCondition','House_Era',\n",
    "       'Remodeled', 'Garage_added', 'Age_Of House']]\n",
    "y= data.loc[:,['SalePrice']]"
   ]
  },
  {
   "cell_type": "markdown",
   "metadata": {},
   "source": [
    "### Binary Mapping"
   ]
  },
  {
   "cell_type": "code",
   "execution_count": 70,
   "metadata": {},
   "outputs": [],
   "source": [
    "varlist =  ['Remodeled', 'Garage_added']\n",
    "\n",
    "# Defining the map function\n",
    "def binary_map(x):\n",
    "    return x.map({'Yes': 1, \"No\": 0})\n",
    "\n",
    "# Applying the function to the housing list\n",
    "X[varlist] = X[varlist].apply(binary_map)"
   ]
  },
  {
   "cell_type": "markdown",
   "metadata": {},
   "source": [
    "### Create Dummies"
   ]
  },
  {
   "cell_type": "code",
   "execution_count": 71,
   "metadata": {},
   "outputs": [],
   "source": [
    "categorical= X[['MSSubClass', 'MSZoning', 'Street',\n",
    "       'Alley', 'LotShape', 'LandContour', 'Utilities', 'LotConfig',\n",
    "       'LandSlope', 'Neighborhood', 'Condition1', 'Condition2', 'BldgType',\n",
    "       'HouseStyle', 'OverallQual', 'OverallCond', 'YearBuilt', 'YearRemodAdd',\n",
    "       'RoofStyle', 'RoofMatl', 'Exterior1st', 'Exterior2nd', 'MasVnrType',\n",
    "        'ExterQual', 'ExterCond', 'Foundation', 'BsmtQual',\n",
    "       'BsmtCond', 'BsmtExposure', 'BsmtFinType1',\n",
    "       'BsmtFinType2', 'Heating',\n",
    "       'HeatingQC', 'CentralAir', 'Electrical', 'KitchenQual',\n",
    "       'Functional', 'GarageType', 'GarageYrBlt',\n",
    "       'GarageFinish', 'GarageQual', 'GarageCond',\n",
    "       'PavedDrive', 'Fence', 'MiscFeature', 'MoSold',\n",
    "       'YrSold', 'SaleType', 'SaleCondition', 'House_Era']]"
   ]
  },
  {
   "cell_type": "code",
   "execution_count": 72,
   "metadata": {},
   "outputs": [
    {
     "data": {
      "text/html": [
       "<div>\n",
       "<style scoped>\n",
       "    .dataframe tbody tr th:only-of-type {\n",
       "        vertical-align: middle;\n",
       "    }\n",
       "\n",
       "    .dataframe tbody tr th {\n",
       "        vertical-align: top;\n",
       "    }\n",
       "\n",
       "    .dataframe thead th {\n",
       "        text-align: right;\n",
       "    }\n",
       "</style>\n",
       "<table border=\"1\" class=\"dataframe\">\n",
       "  <thead>\n",
       "    <tr style=\"text-align: right;\">\n",
       "      <th></th>\n",
       "      <th>MSSubClass</th>\n",
       "      <th>OverallQual</th>\n",
       "      <th>OverallCond</th>\n",
       "      <th>YearBuilt</th>\n",
       "      <th>YearRemodAdd</th>\n",
       "      <th>GarageYrBlt</th>\n",
       "      <th>YrSold</th>\n",
       "      <th>MSZoning_FV</th>\n",
       "      <th>MSZoning_RH</th>\n",
       "      <th>MSZoning_RL</th>\n",
       "      <th>...</th>\n",
       "      <th>SaleType_WD</th>\n",
       "      <th>SaleCondition_AdjLand</th>\n",
       "      <th>SaleCondition_Alloca</th>\n",
       "      <th>SaleCondition_Family</th>\n",
       "      <th>SaleCondition_Normal</th>\n",
       "      <th>SaleCondition_Partial</th>\n",
       "      <th>House_Era_1941-1960</th>\n",
       "      <th>House_Era_1961-2000</th>\n",
       "      <th>House_Era_After 2000</th>\n",
       "      <th>House_Era_Before 1900</th>\n",
       "    </tr>\n",
       "  </thead>\n",
       "  <tbody>\n",
       "    <tr>\n",
       "      <td>0</td>\n",
       "      <td>60</td>\n",
       "      <td>7</td>\n",
       "      <td>5</td>\n",
       "      <td>2003</td>\n",
       "      <td>2003</td>\n",
       "      <td>2003</td>\n",
       "      <td>2008</td>\n",
       "      <td>0</td>\n",
       "      <td>0</td>\n",
       "      <td>1</td>\n",
       "      <td>...</td>\n",
       "      <td>1</td>\n",
       "      <td>0</td>\n",
       "      <td>0</td>\n",
       "      <td>0</td>\n",
       "      <td>1</td>\n",
       "      <td>0</td>\n",
       "      <td>0</td>\n",
       "      <td>0</td>\n",
       "      <td>1</td>\n",
       "      <td>0</td>\n",
       "    </tr>\n",
       "    <tr>\n",
       "      <td>1</td>\n",
       "      <td>20</td>\n",
       "      <td>6</td>\n",
       "      <td>8</td>\n",
       "      <td>1976</td>\n",
       "      <td>1976</td>\n",
       "      <td>1976</td>\n",
       "      <td>2007</td>\n",
       "      <td>0</td>\n",
       "      <td>0</td>\n",
       "      <td>1</td>\n",
       "      <td>...</td>\n",
       "      <td>1</td>\n",
       "      <td>0</td>\n",
       "      <td>0</td>\n",
       "      <td>0</td>\n",
       "      <td>1</td>\n",
       "      <td>0</td>\n",
       "      <td>0</td>\n",
       "      <td>1</td>\n",
       "      <td>0</td>\n",
       "      <td>0</td>\n",
       "    </tr>\n",
       "    <tr>\n",
       "      <td>2</td>\n",
       "      <td>60</td>\n",
       "      <td>7</td>\n",
       "      <td>5</td>\n",
       "      <td>2001</td>\n",
       "      <td>2002</td>\n",
       "      <td>2001</td>\n",
       "      <td>2008</td>\n",
       "      <td>0</td>\n",
       "      <td>0</td>\n",
       "      <td>1</td>\n",
       "      <td>...</td>\n",
       "      <td>1</td>\n",
       "      <td>0</td>\n",
       "      <td>0</td>\n",
       "      <td>0</td>\n",
       "      <td>1</td>\n",
       "      <td>0</td>\n",
       "      <td>0</td>\n",
       "      <td>0</td>\n",
       "      <td>1</td>\n",
       "      <td>0</td>\n",
       "    </tr>\n",
       "    <tr>\n",
       "      <td>3</td>\n",
       "      <td>70</td>\n",
       "      <td>7</td>\n",
       "      <td>5</td>\n",
       "      <td>1915</td>\n",
       "      <td>1970</td>\n",
       "      <td>1998</td>\n",
       "      <td>2006</td>\n",
       "      <td>0</td>\n",
       "      <td>0</td>\n",
       "      <td>1</td>\n",
       "      <td>...</td>\n",
       "      <td>1</td>\n",
       "      <td>0</td>\n",
       "      <td>0</td>\n",
       "      <td>0</td>\n",
       "      <td>0</td>\n",
       "      <td>0</td>\n",
       "      <td>0</td>\n",
       "      <td>0</td>\n",
       "      <td>0</td>\n",
       "      <td>0</td>\n",
       "    </tr>\n",
       "    <tr>\n",
       "      <td>4</td>\n",
       "      <td>60</td>\n",
       "      <td>8</td>\n",
       "      <td>5</td>\n",
       "      <td>2000</td>\n",
       "      <td>2000</td>\n",
       "      <td>2000</td>\n",
       "      <td>2008</td>\n",
       "      <td>0</td>\n",
       "      <td>0</td>\n",
       "      <td>1</td>\n",
       "      <td>...</td>\n",
       "      <td>1</td>\n",
       "      <td>0</td>\n",
       "      <td>0</td>\n",
       "      <td>0</td>\n",
       "      <td>1</td>\n",
       "      <td>0</td>\n",
       "      <td>0</td>\n",
       "      <td>1</td>\n",
       "      <td>0</td>\n",
       "      <td>0</td>\n",
       "    </tr>\n",
       "  </tbody>\n",
       "</table>\n",
       "<p>5 rows × 239 columns</p>\n",
       "</div>"
      ],
      "text/plain": [
       "   MSSubClass  OverallQual  OverallCond  YearBuilt  YearRemodAdd  GarageYrBlt  \\\n",
       "0          60            7            5       2003          2003         2003   \n",
       "1          20            6            8       1976          1976         1976   \n",
       "2          60            7            5       2001          2002         2001   \n",
       "3          70            7            5       1915          1970         1998   \n",
       "4          60            8            5       2000          2000         2000   \n",
       "\n",
       "   YrSold  MSZoning_FV  MSZoning_RH  MSZoning_RL  ...  SaleType_WD  \\\n",
       "0    2008            0            0            1  ...            1   \n",
       "1    2007            0            0            1  ...            1   \n",
       "2    2008            0            0            1  ...            1   \n",
       "3    2006            0            0            1  ...            1   \n",
       "4    2008            0            0            1  ...            1   \n",
       "\n",
       "   SaleCondition_AdjLand  SaleCondition_Alloca  SaleCondition_Family  \\\n",
       "0                      0                     0                     0   \n",
       "1                      0                     0                     0   \n",
       "2                      0                     0                     0   \n",
       "3                      0                     0                     0   \n",
       "4                      0                     0                     0   \n",
       "\n",
       "   SaleCondition_Normal  SaleCondition_Partial  House_Era_1941-1960  \\\n",
       "0                     1                      0                    0   \n",
       "1                     1                      0                    0   \n",
       "2                     1                      0                    0   \n",
       "3                     0                      0                    0   \n",
       "4                     1                      0                    0   \n",
       "\n",
       "   House_Era_1961-2000  House_Era_After 2000  House_Era_Before 1900  \n",
       "0                    0                     1                      0  \n",
       "1                    1                     0                      0  \n",
       "2                    0                     1                      0  \n",
       "3                    0                     0                      0  \n",
       "4                    1                     0                      0  \n",
       "\n",
       "[5 rows x 239 columns]"
      ]
     },
     "execution_count": 72,
     "metadata": {},
     "output_type": "execute_result"
    }
   ],
   "source": [
    "dummies = pd.get_dummies(categorical, drop_first=True)\n",
    "dummies.head()"
   ]
  },
  {
   "cell_type": "code",
   "execution_count": 73,
   "metadata": {},
   "outputs": [],
   "source": [
    "X= pd.concat([X,dummies],axis=1)"
   ]
  },
  {
   "cell_type": "code",
   "execution_count": 74,
   "metadata": {},
   "outputs": [
    {
     "data": {
      "text/html": [
       "<div>\n",
       "<style scoped>\n",
       "    .dataframe tbody tr th:only-of-type {\n",
       "        vertical-align: middle;\n",
       "    }\n",
       "\n",
       "    .dataframe tbody tr th {\n",
       "        vertical-align: top;\n",
       "    }\n",
       "\n",
       "    .dataframe thead th {\n",
       "        text-align: right;\n",
       "    }\n",
       "</style>\n",
       "<table border=\"1\" class=\"dataframe\">\n",
       "  <thead>\n",
       "    <tr style=\"text-align: right;\">\n",
       "      <th></th>\n",
       "      <th>MSSubClass</th>\n",
       "      <th>MSZoning</th>\n",
       "      <th>LotFrontage</th>\n",
       "      <th>LotArea</th>\n",
       "      <th>Street</th>\n",
       "      <th>Alley</th>\n",
       "      <th>LotShape</th>\n",
       "      <th>LandContour</th>\n",
       "      <th>Utilities</th>\n",
       "      <th>LotConfig</th>\n",
       "      <th>...</th>\n",
       "      <th>SaleType_WD</th>\n",
       "      <th>SaleCondition_AdjLand</th>\n",
       "      <th>SaleCondition_Alloca</th>\n",
       "      <th>SaleCondition_Family</th>\n",
       "      <th>SaleCondition_Normal</th>\n",
       "      <th>SaleCondition_Partial</th>\n",
       "      <th>House_Era_1941-1960</th>\n",
       "      <th>House_Era_1961-2000</th>\n",
       "      <th>House_Era_After 2000</th>\n",
       "      <th>House_Era_Before 1900</th>\n",
       "    </tr>\n",
       "  </thead>\n",
       "  <tbody>\n",
       "    <tr>\n",
       "      <td>0</td>\n",
       "      <td>60</td>\n",
       "      <td>RL</td>\n",
       "      <td>65.0</td>\n",
       "      <td>8450</td>\n",
       "      <td>Pave</td>\n",
       "      <td>None</td>\n",
       "      <td>Reg</td>\n",
       "      <td>Lvl</td>\n",
       "      <td>AllPub</td>\n",
       "      <td>Inside</td>\n",
       "      <td>...</td>\n",
       "      <td>1</td>\n",
       "      <td>0</td>\n",
       "      <td>0</td>\n",
       "      <td>0</td>\n",
       "      <td>1</td>\n",
       "      <td>0</td>\n",
       "      <td>0</td>\n",
       "      <td>0</td>\n",
       "      <td>1</td>\n",
       "      <td>0</td>\n",
       "    </tr>\n",
       "    <tr>\n",
       "      <td>1</td>\n",
       "      <td>20</td>\n",
       "      <td>RL</td>\n",
       "      <td>80.0</td>\n",
       "      <td>9600</td>\n",
       "      <td>Pave</td>\n",
       "      <td>None</td>\n",
       "      <td>Reg</td>\n",
       "      <td>Lvl</td>\n",
       "      <td>AllPub</td>\n",
       "      <td>FR2</td>\n",
       "      <td>...</td>\n",
       "      <td>1</td>\n",
       "      <td>0</td>\n",
       "      <td>0</td>\n",
       "      <td>0</td>\n",
       "      <td>1</td>\n",
       "      <td>0</td>\n",
       "      <td>0</td>\n",
       "      <td>1</td>\n",
       "      <td>0</td>\n",
       "      <td>0</td>\n",
       "    </tr>\n",
       "    <tr>\n",
       "      <td>2</td>\n",
       "      <td>60</td>\n",
       "      <td>RL</td>\n",
       "      <td>68.0</td>\n",
       "      <td>11250</td>\n",
       "      <td>Pave</td>\n",
       "      <td>None</td>\n",
       "      <td>IR1</td>\n",
       "      <td>Lvl</td>\n",
       "      <td>AllPub</td>\n",
       "      <td>Inside</td>\n",
       "      <td>...</td>\n",
       "      <td>1</td>\n",
       "      <td>0</td>\n",
       "      <td>0</td>\n",
       "      <td>0</td>\n",
       "      <td>1</td>\n",
       "      <td>0</td>\n",
       "      <td>0</td>\n",
       "      <td>0</td>\n",
       "      <td>1</td>\n",
       "      <td>0</td>\n",
       "    </tr>\n",
       "    <tr>\n",
       "      <td>3</td>\n",
       "      <td>70</td>\n",
       "      <td>RL</td>\n",
       "      <td>60.0</td>\n",
       "      <td>9550</td>\n",
       "      <td>Pave</td>\n",
       "      <td>None</td>\n",
       "      <td>IR1</td>\n",
       "      <td>Lvl</td>\n",
       "      <td>AllPub</td>\n",
       "      <td>Corner</td>\n",
       "      <td>...</td>\n",
       "      <td>1</td>\n",
       "      <td>0</td>\n",
       "      <td>0</td>\n",
       "      <td>0</td>\n",
       "      <td>0</td>\n",
       "      <td>0</td>\n",
       "      <td>0</td>\n",
       "      <td>0</td>\n",
       "      <td>0</td>\n",
       "      <td>0</td>\n",
       "    </tr>\n",
       "    <tr>\n",
       "      <td>4</td>\n",
       "      <td>60</td>\n",
       "      <td>RL</td>\n",
       "      <td>84.0</td>\n",
       "      <td>14260</td>\n",
       "      <td>Pave</td>\n",
       "      <td>None</td>\n",
       "      <td>IR1</td>\n",
       "      <td>Lvl</td>\n",
       "      <td>AllPub</td>\n",
       "      <td>FR2</td>\n",
       "      <td>...</td>\n",
       "      <td>1</td>\n",
       "      <td>0</td>\n",
       "      <td>0</td>\n",
       "      <td>0</td>\n",
       "      <td>1</td>\n",
       "      <td>0</td>\n",
       "      <td>0</td>\n",
       "      <td>1</td>\n",
       "      <td>0</td>\n",
       "      <td>0</td>\n",
       "    </tr>\n",
       "  </tbody>\n",
       "</table>\n",
       "<p>5 rows × 320 columns</p>\n",
       "</div>"
      ],
      "text/plain": [
       "   MSSubClass MSZoning  LotFrontage  LotArea Street Alley LotShape  \\\n",
       "0          60       RL         65.0     8450   Pave  None      Reg   \n",
       "1          20       RL         80.0     9600   Pave  None      Reg   \n",
       "2          60       RL         68.0    11250   Pave  None      IR1   \n",
       "3          70       RL         60.0     9550   Pave  None      IR1   \n",
       "4          60       RL         84.0    14260   Pave  None      IR1   \n",
       "\n",
       "  LandContour Utilities LotConfig  ... SaleType_WD SaleCondition_AdjLand  \\\n",
       "0         Lvl    AllPub    Inside  ...           1                     0   \n",
       "1         Lvl    AllPub       FR2  ...           1                     0   \n",
       "2         Lvl    AllPub    Inside  ...           1                     0   \n",
       "3         Lvl    AllPub    Corner  ...           1                     0   \n",
       "4         Lvl    AllPub       FR2  ...           1                     0   \n",
       "\n",
       "  SaleCondition_Alloca SaleCondition_Family SaleCondition_Normal  \\\n",
       "0                    0                    0                    1   \n",
       "1                    0                    0                    1   \n",
       "2                    0                    0                    1   \n",
       "3                    0                    0                    0   \n",
       "4                    0                    0                    1   \n",
       "\n",
       "  SaleCondition_Partial  House_Era_1941-1960  House_Era_1961-2000  \\\n",
       "0                     0                    0                    0   \n",
       "1                     0                    0                    1   \n",
       "2                     0                    0                    0   \n",
       "3                     0                    0                    0   \n",
       "4                     0                    0                    1   \n",
       "\n",
       "   House_Era_After 2000  House_Era_Before 1900  \n",
       "0                     1                      0  \n",
       "1                     0                      0  \n",
       "2                     1                      0  \n",
       "3                     0                      0  \n",
       "4                     0                      0  \n",
       "\n",
       "[5 rows x 320 columns]"
      ]
     },
     "execution_count": 74,
     "metadata": {},
     "output_type": "execute_result"
    }
   ],
   "source": [
    "X.head()"
   ]
  },
  {
   "cell_type": "code",
   "execution_count": 75,
   "metadata": {},
   "outputs": [],
   "source": [
    "X= X.drop(list(categorical.columns), axis=1)"
   ]
  },
  {
   "cell_type": "code",
   "execution_count": 76,
   "metadata": {},
   "outputs": [
    {
     "data": {
      "text/html": [
       "<div>\n",
       "<style scoped>\n",
       "    .dataframe tbody tr th:only-of-type {\n",
       "        vertical-align: middle;\n",
       "    }\n",
       "\n",
       "    .dataframe tbody tr th {\n",
       "        vertical-align: top;\n",
       "    }\n",
       "\n",
       "    .dataframe thead th {\n",
       "        text-align: right;\n",
       "    }\n",
       "</style>\n",
       "<table border=\"1\" class=\"dataframe\">\n",
       "  <thead>\n",
       "    <tr style=\"text-align: right;\">\n",
       "      <th></th>\n",
       "      <th>LotFrontage</th>\n",
       "      <th>LotArea</th>\n",
       "      <th>MasVnrArea</th>\n",
       "      <th>BsmtFinSF1</th>\n",
       "      <th>BsmtFinSF2</th>\n",
       "      <th>BsmtUnfSF</th>\n",
       "      <th>TotalBsmtSF</th>\n",
       "      <th>1stFlrSF</th>\n",
       "      <th>2ndFlrSF</th>\n",
       "      <th>LowQualFinSF</th>\n",
       "      <th>...</th>\n",
       "      <th>SaleType_WD</th>\n",
       "      <th>SaleCondition_AdjLand</th>\n",
       "      <th>SaleCondition_Alloca</th>\n",
       "      <th>SaleCondition_Family</th>\n",
       "      <th>SaleCondition_Normal</th>\n",
       "      <th>SaleCondition_Partial</th>\n",
       "      <th>House_Era_1941-1960</th>\n",
       "      <th>House_Era_1961-2000</th>\n",
       "      <th>House_Era_After 2000</th>\n",
       "      <th>House_Era_Before 1900</th>\n",
       "    </tr>\n",
       "  </thead>\n",
       "  <tbody>\n",
       "    <tr>\n",
       "      <td>0</td>\n",
       "      <td>65.0</td>\n",
       "      <td>8450</td>\n",
       "      <td>196.0</td>\n",
       "      <td>706</td>\n",
       "      <td>0</td>\n",
       "      <td>150</td>\n",
       "      <td>856</td>\n",
       "      <td>856</td>\n",
       "      <td>854</td>\n",
       "      <td>0</td>\n",
       "      <td>...</td>\n",
       "      <td>1</td>\n",
       "      <td>0</td>\n",
       "      <td>0</td>\n",
       "      <td>0</td>\n",
       "      <td>1</td>\n",
       "      <td>0</td>\n",
       "      <td>0</td>\n",
       "      <td>0</td>\n",
       "      <td>1</td>\n",
       "      <td>0</td>\n",
       "    </tr>\n",
       "    <tr>\n",
       "      <td>1</td>\n",
       "      <td>80.0</td>\n",
       "      <td>9600</td>\n",
       "      <td>0.0</td>\n",
       "      <td>978</td>\n",
       "      <td>0</td>\n",
       "      <td>284</td>\n",
       "      <td>1262</td>\n",
       "      <td>1262</td>\n",
       "      <td>0</td>\n",
       "      <td>0</td>\n",
       "      <td>...</td>\n",
       "      <td>1</td>\n",
       "      <td>0</td>\n",
       "      <td>0</td>\n",
       "      <td>0</td>\n",
       "      <td>1</td>\n",
       "      <td>0</td>\n",
       "      <td>0</td>\n",
       "      <td>1</td>\n",
       "      <td>0</td>\n",
       "      <td>0</td>\n",
       "    </tr>\n",
       "    <tr>\n",
       "      <td>2</td>\n",
       "      <td>68.0</td>\n",
       "      <td>11250</td>\n",
       "      <td>162.0</td>\n",
       "      <td>486</td>\n",
       "      <td>0</td>\n",
       "      <td>434</td>\n",
       "      <td>920</td>\n",
       "      <td>920</td>\n",
       "      <td>866</td>\n",
       "      <td>0</td>\n",
       "      <td>...</td>\n",
       "      <td>1</td>\n",
       "      <td>0</td>\n",
       "      <td>0</td>\n",
       "      <td>0</td>\n",
       "      <td>1</td>\n",
       "      <td>0</td>\n",
       "      <td>0</td>\n",
       "      <td>0</td>\n",
       "      <td>1</td>\n",
       "      <td>0</td>\n",
       "    </tr>\n",
       "    <tr>\n",
       "      <td>3</td>\n",
       "      <td>60.0</td>\n",
       "      <td>9550</td>\n",
       "      <td>0.0</td>\n",
       "      <td>216</td>\n",
       "      <td>0</td>\n",
       "      <td>540</td>\n",
       "      <td>756</td>\n",
       "      <td>961</td>\n",
       "      <td>756</td>\n",
       "      <td>0</td>\n",
       "      <td>...</td>\n",
       "      <td>1</td>\n",
       "      <td>0</td>\n",
       "      <td>0</td>\n",
       "      <td>0</td>\n",
       "      <td>0</td>\n",
       "      <td>0</td>\n",
       "      <td>0</td>\n",
       "      <td>0</td>\n",
       "      <td>0</td>\n",
       "      <td>0</td>\n",
       "    </tr>\n",
       "    <tr>\n",
       "      <td>4</td>\n",
       "      <td>84.0</td>\n",
       "      <td>14260</td>\n",
       "      <td>350.0</td>\n",
       "      <td>655</td>\n",
       "      <td>0</td>\n",
       "      <td>490</td>\n",
       "      <td>1145</td>\n",
       "      <td>1145</td>\n",
       "      <td>1053</td>\n",
       "      <td>0</td>\n",
       "      <td>...</td>\n",
       "      <td>1</td>\n",
       "      <td>0</td>\n",
       "      <td>0</td>\n",
       "      <td>0</td>\n",
       "      <td>1</td>\n",
       "      <td>0</td>\n",
       "      <td>0</td>\n",
       "      <td>1</td>\n",
       "      <td>0</td>\n",
       "      <td>0</td>\n",
       "    </tr>\n",
       "  </tbody>\n",
       "</table>\n",
       "<p>5 rows × 263 columns</p>\n",
       "</div>"
      ],
      "text/plain": [
       "   LotFrontage  LotArea  MasVnrArea  BsmtFinSF1  BsmtFinSF2  BsmtUnfSF  \\\n",
       "0         65.0     8450       196.0         706           0        150   \n",
       "1         80.0     9600         0.0         978           0        284   \n",
       "2         68.0    11250       162.0         486           0        434   \n",
       "3         60.0     9550         0.0         216           0        540   \n",
       "4         84.0    14260       350.0         655           0        490   \n",
       "\n",
       "   TotalBsmtSF  1stFlrSF  2ndFlrSF  LowQualFinSF  ...  SaleType_WD  \\\n",
       "0          856       856       854             0  ...            1   \n",
       "1         1262      1262         0             0  ...            1   \n",
       "2          920       920       866             0  ...            1   \n",
       "3          756       961       756             0  ...            1   \n",
       "4         1145      1145      1053             0  ...            1   \n",
       "\n",
       "   SaleCondition_AdjLand  SaleCondition_Alloca  SaleCondition_Family  \\\n",
       "0                      0                     0                     0   \n",
       "1                      0                     0                     0   \n",
       "2                      0                     0                     0   \n",
       "3                      0                     0                     0   \n",
       "4                      0                     0                     0   \n",
       "\n",
       "   SaleCondition_Normal  SaleCondition_Partial  House_Era_1941-1960  \\\n",
       "0                     1                      0                    0   \n",
       "1                     1                      0                    0   \n",
       "2                     1                      0                    0   \n",
       "3                     0                      0                    0   \n",
       "4                     1                      0                    0   \n",
       "\n",
       "   House_Era_1961-2000  House_Era_After 2000  House_Era_Before 1900  \n",
       "0                    0                     1                      0  \n",
       "1                    1                     0                      0  \n",
       "2                    0                     1                      0  \n",
       "3                    0                     0                      0  \n",
       "4                    1                     0                      0  \n",
       "\n",
       "[5 rows x 263 columns]"
      ]
     },
     "execution_count": 76,
     "metadata": {},
     "output_type": "execute_result"
    }
   ],
   "source": [
    "X.head()"
   ]
  },
  {
   "cell_type": "markdown",
   "metadata": {},
   "source": [
    "## scaling the features with Scaler"
   ]
  },
  {
   "cell_type": "code",
   "execution_count": 77,
   "metadata": {},
   "outputs": [],
   "source": [
    "# scaling the features with Scaler\n",
    "\n",
    "#from sklearn.preprocessing import scale\n",
    "\n",
    "# storing column names in cols, since column names are (annoyingly) lost after \n",
    "# scaling (the df is converted to a numpy array)\n",
    "#cols = X.columns\n",
    "#X = pd.DataFrame(scale(X))\n",
    "#X.columns = cols\n",
    "#X.columns"
   ]
  },
  {
   "cell_type": "code",
   "execution_count": 78,
   "metadata": {},
   "outputs": [],
   "source": [
    "#Checking for Nans an inf values\n",
    "#np.any(np.isnan(X))"
   ]
  },
  {
   "cell_type": "code",
   "execution_count": 79,
   "metadata": {},
   "outputs": [],
   "source": [
    "#X= X.fillna(X.mean())"
   ]
  },
  {
   "cell_type": "code",
   "execution_count": 80,
   "metadata": {},
   "outputs": [],
   "source": [
    "#X.shape"
   ]
  },
  {
   "cell_type": "markdown",
   "metadata": {},
   "source": [
    "## scaling the features with MinMaxScaler"
   ]
  },
  {
   "cell_type": "code",
   "execution_count": 81,
   "metadata": {},
   "outputs": [],
   "source": [
    "from sklearn.preprocessing import MinMaxScaler\n",
    "scaler = MinMaxScaler()"
   ]
  },
  {
   "cell_type": "code",
   "execution_count": 82,
   "metadata": {},
   "outputs": [
    {
     "data": {
      "text/html": [
       "<div>\n",
       "<style scoped>\n",
       "    .dataframe tbody tr th:only-of-type {\n",
       "        vertical-align: middle;\n",
       "    }\n",
       "\n",
       "    .dataframe tbody tr th {\n",
       "        vertical-align: top;\n",
       "    }\n",
       "\n",
       "    .dataframe thead th {\n",
       "        text-align: right;\n",
       "    }\n",
       "</style>\n",
       "<table border=\"1\" class=\"dataframe\">\n",
       "  <thead>\n",
       "    <tr style=\"text-align: right;\">\n",
       "      <th></th>\n",
       "      <th>LotFrontage</th>\n",
       "      <th>LotArea</th>\n",
       "      <th>MasVnrArea</th>\n",
       "      <th>BsmtFinSF1</th>\n",
       "      <th>BsmtFinSF2</th>\n",
       "      <th>BsmtUnfSF</th>\n",
       "      <th>TotalBsmtSF</th>\n",
       "      <th>1stFlrSF</th>\n",
       "      <th>2ndFlrSF</th>\n",
       "      <th>LowQualFinSF</th>\n",
       "      <th>...</th>\n",
       "      <th>SaleType_WD</th>\n",
       "      <th>SaleCondition_AdjLand</th>\n",
       "      <th>SaleCondition_Alloca</th>\n",
       "      <th>SaleCondition_Family</th>\n",
       "      <th>SaleCondition_Normal</th>\n",
       "      <th>SaleCondition_Partial</th>\n",
       "      <th>House_Era_1941-1960</th>\n",
       "      <th>House_Era_1961-2000</th>\n",
       "      <th>House_Era_After 2000</th>\n",
       "      <th>House_Era_Before 1900</th>\n",
       "    </tr>\n",
       "  </thead>\n",
       "  <tbody>\n",
       "    <tr>\n",
       "      <td>0</td>\n",
       "      <td>0.207668</td>\n",
       "      <td>0.033420</td>\n",
       "      <td>0.12250</td>\n",
       "      <td>0.125089</td>\n",
       "      <td>0.0</td>\n",
       "      <td>0.064212</td>\n",
       "      <td>0.140098</td>\n",
       "      <td>0.119780</td>\n",
       "      <td>0.413559</td>\n",
       "      <td>0.0</td>\n",
       "      <td>...</td>\n",
       "      <td>1</td>\n",
       "      <td>0</td>\n",
       "      <td>0</td>\n",
       "      <td>0</td>\n",
       "      <td>1</td>\n",
       "      <td>0</td>\n",
       "      <td>0</td>\n",
       "      <td>0</td>\n",
       "      <td>1</td>\n",
       "      <td>0</td>\n",
       "    </tr>\n",
       "    <tr>\n",
       "      <td>1</td>\n",
       "      <td>0.255591</td>\n",
       "      <td>0.038795</td>\n",
       "      <td>0.00000</td>\n",
       "      <td>0.173281</td>\n",
       "      <td>0.0</td>\n",
       "      <td>0.121575</td>\n",
       "      <td>0.206547</td>\n",
       "      <td>0.212942</td>\n",
       "      <td>0.000000</td>\n",
       "      <td>0.0</td>\n",
       "      <td>...</td>\n",
       "      <td>1</td>\n",
       "      <td>0</td>\n",
       "      <td>0</td>\n",
       "      <td>0</td>\n",
       "      <td>1</td>\n",
       "      <td>0</td>\n",
       "      <td>0</td>\n",
       "      <td>1</td>\n",
       "      <td>0</td>\n",
       "      <td>0</td>\n",
       "    </tr>\n",
       "    <tr>\n",
       "      <td>2</td>\n",
       "      <td>0.217252</td>\n",
       "      <td>0.046507</td>\n",
       "      <td>0.10125</td>\n",
       "      <td>0.086109</td>\n",
       "      <td>0.0</td>\n",
       "      <td>0.185788</td>\n",
       "      <td>0.150573</td>\n",
       "      <td>0.134465</td>\n",
       "      <td>0.419370</td>\n",
       "      <td>0.0</td>\n",
       "      <td>...</td>\n",
       "      <td>1</td>\n",
       "      <td>0</td>\n",
       "      <td>0</td>\n",
       "      <td>0</td>\n",
       "      <td>1</td>\n",
       "      <td>0</td>\n",
       "      <td>0</td>\n",
       "      <td>0</td>\n",
       "      <td>1</td>\n",
       "      <td>0</td>\n",
       "    </tr>\n",
       "    <tr>\n",
       "      <td>3</td>\n",
       "      <td>0.191693</td>\n",
       "      <td>0.038561</td>\n",
       "      <td>0.00000</td>\n",
       "      <td>0.038271</td>\n",
       "      <td>0.0</td>\n",
       "      <td>0.231164</td>\n",
       "      <td>0.123732</td>\n",
       "      <td>0.143873</td>\n",
       "      <td>0.366102</td>\n",
       "      <td>0.0</td>\n",
       "      <td>...</td>\n",
       "      <td>1</td>\n",
       "      <td>0</td>\n",
       "      <td>0</td>\n",
       "      <td>0</td>\n",
       "      <td>0</td>\n",
       "      <td>0</td>\n",
       "      <td>0</td>\n",
       "      <td>0</td>\n",
       "      <td>0</td>\n",
       "      <td>0</td>\n",
       "    </tr>\n",
       "    <tr>\n",
       "      <td>4</td>\n",
       "      <td>0.268371</td>\n",
       "      <td>0.060576</td>\n",
       "      <td>0.21875</td>\n",
       "      <td>0.116052</td>\n",
       "      <td>0.0</td>\n",
       "      <td>0.209760</td>\n",
       "      <td>0.187398</td>\n",
       "      <td>0.186095</td>\n",
       "      <td>0.509927</td>\n",
       "      <td>0.0</td>\n",
       "      <td>...</td>\n",
       "      <td>1</td>\n",
       "      <td>0</td>\n",
       "      <td>0</td>\n",
       "      <td>0</td>\n",
       "      <td>1</td>\n",
       "      <td>0</td>\n",
       "      <td>0</td>\n",
       "      <td>1</td>\n",
       "      <td>0</td>\n",
       "      <td>0</td>\n",
       "    </tr>\n",
       "  </tbody>\n",
       "</table>\n",
       "<p>5 rows × 263 columns</p>\n",
       "</div>"
      ],
      "text/plain": [
       "   LotFrontage   LotArea  MasVnrArea  BsmtFinSF1  BsmtFinSF2  BsmtUnfSF  \\\n",
       "0     0.207668  0.033420     0.12250    0.125089         0.0   0.064212   \n",
       "1     0.255591  0.038795     0.00000    0.173281         0.0   0.121575   \n",
       "2     0.217252  0.046507     0.10125    0.086109         0.0   0.185788   \n",
       "3     0.191693  0.038561     0.00000    0.038271         0.0   0.231164   \n",
       "4     0.268371  0.060576     0.21875    0.116052         0.0   0.209760   \n",
       "\n",
       "   TotalBsmtSF  1stFlrSF  2ndFlrSF  LowQualFinSF  ...  SaleType_WD  \\\n",
       "0     0.140098  0.119780  0.413559           0.0  ...            1   \n",
       "1     0.206547  0.212942  0.000000           0.0  ...            1   \n",
       "2     0.150573  0.134465  0.419370           0.0  ...            1   \n",
       "3     0.123732  0.143873  0.366102           0.0  ...            1   \n",
       "4     0.187398  0.186095  0.509927           0.0  ...            1   \n",
       "\n",
       "   SaleCondition_AdjLand  SaleCondition_Alloca  SaleCondition_Family  \\\n",
       "0                      0                     0                     0   \n",
       "1                      0                     0                     0   \n",
       "2                      0                     0                     0   \n",
       "3                      0                     0                     0   \n",
       "4                      0                     0                     0   \n",
       "\n",
       "   SaleCondition_Normal  SaleCondition_Partial  House_Era_1941-1960  \\\n",
       "0                     1                      0                    0   \n",
       "1                     1                      0                    0   \n",
       "2                     1                      0                    0   \n",
       "3                     0                      0                    0   \n",
       "4                     1                      0                    0   \n",
       "\n",
       "   House_Era_1961-2000  House_Era_After 2000  House_Era_Before 1900  \n",
       "0                    0                     1                      0  \n",
       "1                    1                     0                      0  \n",
       "2                    0                     1                      0  \n",
       "3                    0                     0                      0  \n",
       "4                    1                     0                      0  \n",
       "\n",
       "[5 rows x 263 columns]"
      ]
     },
     "execution_count": 82,
     "metadata": {},
     "output_type": "execute_result"
    }
   ],
   "source": [
    "# Apply scaler() to all the columns except the 'yes-no' and 'dummy' variables\n",
    "Xnum_vars = ['LotFrontage', 'LotArea', 'MasVnrArea', 'BsmtFinSF1', 'BsmtFinSF2',\n",
    "       'BsmtUnfSF', 'TotalBsmtSF', '1stFlrSF', '2ndFlrSF', 'LowQualFinSF','GrLivArea', 'BsmtFullBath', 'BsmtHalfBath', 'FullBath', 'HalfBath',\n",
    "       'BedroomAbvGr', 'KitchenAbvGr', 'TotRmsAbvGrd','Fireplaces','GarageCars', 'GarageArea', 'WoodDeckSF', 'OpenPorchSF', 'EnclosedPorch', '3SsnPorch',\n",
    "       'ScreenPorch', 'PoolArea', 'MiscVal', 'Age_Of House']\n",
    "X[Xnum_vars] = scaler.fit_transform(X[Xnum_vars])\n",
    "X.head()"
   ]
  },
  {
   "cell_type": "code",
   "execution_count": 83,
   "metadata": {},
   "outputs": [
    {
     "data": {
      "text/html": [
       "<div>\n",
       "<style scoped>\n",
       "    .dataframe tbody tr th:only-of-type {\n",
       "        vertical-align: middle;\n",
       "    }\n",
       "\n",
       "    .dataframe tbody tr th {\n",
       "        vertical-align: top;\n",
       "    }\n",
       "\n",
       "    .dataframe thead th {\n",
       "        text-align: right;\n",
       "    }\n",
       "</style>\n",
       "<table border=\"1\" class=\"dataframe\">\n",
       "  <thead>\n",
       "    <tr style=\"text-align: right;\">\n",
       "      <th></th>\n",
       "      <th>SalePrice</th>\n",
       "    </tr>\n",
       "  </thead>\n",
       "  <tbody>\n",
       "    <tr>\n",
       "      <td>0</td>\n",
       "      <td>0.241078</td>\n",
       "    </tr>\n",
       "    <tr>\n",
       "      <td>1</td>\n",
       "      <td>0.203583</td>\n",
       "    </tr>\n",
       "    <tr>\n",
       "      <td>2</td>\n",
       "      <td>0.261908</td>\n",
       "    </tr>\n",
       "    <tr>\n",
       "      <td>3</td>\n",
       "      <td>0.145952</td>\n",
       "    </tr>\n",
       "    <tr>\n",
       "      <td>4</td>\n",
       "      <td>0.298709</td>\n",
       "    </tr>\n",
       "  </tbody>\n",
       "</table>\n",
       "</div>"
      ],
      "text/plain": [
       "   SalePrice\n",
       "0   0.241078\n",
       "1   0.203583\n",
       "2   0.261908\n",
       "3   0.145952\n",
       "4   0.298709"
      ]
     },
     "execution_count": 83,
     "metadata": {},
     "output_type": "execute_result"
    }
   ],
   "source": [
    "ynum_vars = ['SalePrice']\n",
    "y[ynum_vars] = scaler.fit_transform(y[ynum_vars])\n",
    "y.head()"
   ]
  },
  {
   "cell_type": "code",
   "execution_count": 84,
   "metadata": {},
   "outputs": [
    {
     "data": {
      "text/plain": [
       "True"
      ]
     },
     "execution_count": 84,
     "metadata": {},
     "output_type": "execute_result"
    }
   ],
   "source": [
    "#Checking for Nans an inf values\n",
    "np.any(np.isnan(X))"
   ]
  },
  {
   "cell_type": "code",
   "execution_count": 85,
   "metadata": {},
   "outputs": [],
   "source": [
    "X= X.fillna(X.mean())"
   ]
  },
  {
   "cell_type": "code",
   "execution_count": 86,
   "metadata": {},
   "outputs": [],
   "source": [
    "# split into train and test\n",
    "from sklearn.model_selection import train_test_split\n",
    "X_train, X_test, y_train, y_test = train_test_split(X, y, \n",
    "                                                    train_size=0.7,\n",
    "                                                    test_size = 0.3, random_state=100)"
   ]
  },
  {
   "cell_type": "markdown",
   "metadata": {},
   "source": [
    "## Ridge and Lasso Regression"
   ]
  },
  {
   "cell_type": "code",
   "execution_count": 89,
   "metadata": {},
   "outputs": [
    {
     "name": "stdout",
     "output_type": "stream",
     "text": [
      "Fitting 5 folds for each of 28 candidates, totalling 140 fits\n"
     ]
    },
    {
     "name": "stderr",
     "output_type": "stream",
     "text": [
      "[Parallel(n_jobs=1)]: Using backend SequentialBackend with 1 concurrent workers.\n",
      "[Parallel(n_jobs=1)]: Done 140 out of 140 | elapsed:    1.9s finished\n"
     ]
    },
    {
     "data": {
      "text/plain": [
       "GridSearchCV(cv=5, error_score='raise-deprecating',\n",
       "             estimator=Ridge(alpha=1.0, copy_X=True, fit_intercept=True,\n",
       "                             max_iter=None, normalize=False, random_state=None,\n",
       "                             solver='auto', tol=0.001),\n",
       "             iid='warn', n_jobs=None,\n",
       "             param_grid={'alpha': [0.0001, 0.001, 0.01, 0.05, 0.1, 0.2, 0.3,\n",
       "                                   0.4, 0.5, 0.6, 0.7, 0.8, 0.9, 1.0, 2.0, 3.0,\n",
       "                                   4.0, 5.0, 6.0, 7.0, 8.0, 9.0, 10.0, 20, 50,\n",
       "                                   100, 500, 1000]},\n",
       "             pre_dispatch='2*n_jobs', refit=True, return_train_score=True,\n",
       "             scoring='neg_mean_absolute_error', verbose=1)"
      ]
     },
     "execution_count": 89,
     "metadata": {},
     "output_type": "execute_result"
    }
   ],
   "source": [
    "# list of alphas to tune\n",
    "params = {'alpha': [0.0001, 0.001, 0.01, 0.05, 0.1, \n",
    " 0.2, 0.3, 0.4, 0.5, 0.6, 0.7, 0.8, 0.9, 1.0, 2.0, 3.0, \n",
    " 4.0, 5.0, 6.0, 7.0, 8.0, 9.0, 10.0, 20, 50, 100, 500, 1000 ]}\n",
    "\n",
    "\n",
    "ridge = Ridge()\n",
    "\n",
    "# cross validation\n",
    "folds = 5\n",
    "model_cv = GridSearchCV(estimator = ridge, \n",
    "                        param_grid = params, \n",
    "                        scoring= 'neg_mean_absolute_error', \n",
    "                        cv = folds, \n",
    "                        return_train_score=True,\n",
    "                        verbose = 1)            \n",
    "model_cv.fit(X_train, y_train) "
   ]
  },
  {
   "cell_type": "code",
   "execution_count": 90,
   "metadata": {},
   "outputs": [
    {
     "data": {
      "text/html": [
       "<div>\n",
       "<style scoped>\n",
       "    .dataframe tbody tr th:only-of-type {\n",
       "        vertical-align: middle;\n",
       "    }\n",
       "\n",
       "    .dataframe tbody tr th {\n",
       "        vertical-align: top;\n",
       "    }\n",
       "\n",
       "    .dataframe thead th {\n",
       "        text-align: right;\n",
       "    }\n",
       "</style>\n",
       "<table border=\"1\" class=\"dataframe\">\n",
       "  <thead>\n",
       "    <tr style=\"text-align: right;\">\n",
       "      <th></th>\n",
       "      <th>mean_fit_time</th>\n",
       "      <th>std_fit_time</th>\n",
       "      <th>mean_score_time</th>\n",
       "      <th>std_score_time</th>\n",
       "      <th>param_alpha</th>\n",
       "      <th>params</th>\n",
       "      <th>split0_test_score</th>\n",
       "      <th>split1_test_score</th>\n",
       "      <th>split2_test_score</th>\n",
       "      <th>split3_test_score</th>\n",
       "      <th>...</th>\n",
       "      <th>mean_test_score</th>\n",
       "      <th>std_test_score</th>\n",
       "      <th>rank_test_score</th>\n",
       "      <th>split0_train_score</th>\n",
       "      <th>split1_train_score</th>\n",
       "      <th>split2_train_score</th>\n",
       "      <th>split3_train_score</th>\n",
       "      <th>split4_train_score</th>\n",
       "      <th>mean_train_score</th>\n",
       "      <th>std_train_score</th>\n",
       "    </tr>\n",
       "  </thead>\n",
       "  <tbody>\n",
       "    <tr>\n",
       "      <td>0</td>\n",
       "      <td>0.015001</td>\n",
       "      <td>0.006449</td>\n",
       "      <td>0.003349</td>\n",
       "      <td>0.001087</td>\n",
       "      <td>0.0001</td>\n",
       "      <td>{'alpha': 0.0001}</td>\n",
       "      <td>-0.027158</td>\n",
       "      <td>-0.029521</td>\n",
       "      <td>-0.029771</td>\n",
       "      <td>-0.032029</td>\n",
       "      <td>...</td>\n",
       "      <td>-0.029299</td>\n",
       "      <td>0.001670</td>\n",
       "      <td>12</td>\n",
       "      <td>-0.016878</td>\n",
       "      <td>-0.016789</td>\n",
       "      <td>-0.017190</td>\n",
       "      <td>-0.017389</td>\n",
       "      <td>-0.016918</td>\n",
       "      <td>-0.017033</td>\n",
       "      <td>0.000223</td>\n",
       "    </tr>\n",
       "    <tr>\n",
       "      <td>1</td>\n",
       "      <td>0.009551</td>\n",
       "      <td>0.001351</td>\n",
       "      <td>0.001976</td>\n",
       "      <td>0.000053</td>\n",
       "      <td>0.001</td>\n",
       "      <td>{'alpha': 0.001}</td>\n",
       "      <td>-0.027087</td>\n",
       "      <td>-0.029516</td>\n",
       "      <td>-0.029736</td>\n",
       "      <td>-0.031832</td>\n",
       "      <td>...</td>\n",
       "      <td>-0.029253</td>\n",
       "      <td>0.001611</td>\n",
       "      <td>11</td>\n",
       "      <td>-0.016885</td>\n",
       "      <td>-0.016789</td>\n",
       "      <td>-0.017180</td>\n",
       "      <td>-0.017385</td>\n",
       "      <td>-0.016924</td>\n",
       "      <td>-0.017033</td>\n",
       "      <td>0.000218</td>\n",
       "    </tr>\n",
       "    <tr>\n",
       "      <td>2</td>\n",
       "      <td>0.010356</td>\n",
       "      <td>0.002286</td>\n",
       "      <td>0.002773</td>\n",
       "      <td>0.000482</td>\n",
       "      <td>0.01</td>\n",
       "      <td>{'alpha': 0.01}</td>\n",
       "      <td>-0.026749</td>\n",
       "      <td>-0.029440</td>\n",
       "      <td>-0.029770</td>\n",
       "      <td>-0.030395</td>\n",
       "      <td>...</td>\n",
       "      <td>-0.029063</td>\n",
       "      <td>0.001249</td>\n",
       "      <td>10</td>\n",
       "      <td>-0.017094</td>\n",
       "      <td>-0.016791</td>\n",
       "      <td>-0.017332</td>\n",
       "      <td>-0.017526</td>\n",
       "      <td>-0.017129</td>\n",
       "      <td>-0.017174</td>\n",
       "      <td>0.000247</td>\n",
       "    </tr>\n",
       "    <tr>\n",
       "      <td>3</td>\n",
       "      <td>0.008851</td>\n",
       "      <td>0.001198</td>\n",
       "      <td>0.002081</td>\n",
       "      <td>0.000357</td>\n",
       "      <td>0.05</td>\n",
       "      <td>{'alpha': 0.05}</td>\n",
       "      <td>-0.027389</td>\n",
       "      <td>-0.029215</td>\n",
       "      <td>-0.030475</td>\n",
       "      <td>-0.028255</td>\n",
       "      <td>...</td>\n",
       "      <td>-0.029376</td>\n",
       "      <td>0.001497</td>\n",
       "      <td>13</td>\n",
       "      <td>-0.018306</td>\n",
       "      <td>-0.016834</td>\n",
       "      <td>-0.018273</td>\n",
       "      <td>-0.018529</td>\n",
       "      <td>-0.018327</td>\n",
       "      <td>-0.018054</td>\n",
       "      <td>0.000616</td>\n",
       "    </tr>\n",
       "    <tr>\n",
       "      <td>4</td>\n",
       "      <td>0.007840</td>\n",
       "      <td>0.000102</td>\n",
       "      <td>0.001932</td>\n",
       "      <td>0.000035</td>\n",
       "      <td>0.1</td>\n",
       "      <td>{'alpha': 0.1}</td>\n",
       "      <td>-0.028067</td>\n",
       "      <td>-0.029125</td>\n",
       "      <td>-0.030824</td>\n",
       "      <td>-0.027875</td>\n",
       "      <td>...</td>\n",
       "      <td>-0.029733</td>\n",
       "      <td>0.001848</td>\n",
       "      <td>19</td>\n",
       "      <td>-0.019174</td>\n",
       "      <td>-0.016895</td>\n",
       "      <td>-0.019026</td>\n",
       "      <td>-0.019455</td>\n",
       "      <td>-0.019172</td>\n",
       "      <td>-0.018745</td>\n",
       "      <td>0.000935</td>\n",
       "    </tr>\n",
       "  </tbody>\n",
       "</table>\n",
       "<p>5 rows × 21 columns</p>\n",
       "</div>"
      ],
      "text/plain": [
       "   mean_fit_time  std_fit_time  mean_score_time  std_score_time param_alpha  \\\n",
       "0       0.015001      0.006449         0.003349        0.001087      0.0001   \n",
       "1       0.009551      0.001351         0.001976        0.000053       0.001   \n",
       "2       0.010356      0.002286         0.002773        0.000482        0.01   \n",
       "3       0.008851      0.001198         0.002081        0.000357        0.05   \n",
       "4       0.007840      0.000102         0.001932        0.000035         0.1   \n",
       "\n",
       "              params  split0_test_score  split1_test_score  split2_test_score  \\\n",
       "0  {'alpha': 0.0001}          -0.027158          -0.029521          -0.029771   \n",
       "1   {'alpha': 0.001}          -0.027087          -0.029516          -0.029736   \n",
       "2    {'alpha': 0.01}          -0.026749          -0.029440          -0.029770   \n",
       "3    {'alpha': 0.05}          -0.027389          -0.029215          -0.030475   \n",
       "4     {'alpha': 0.1}          -0.028067          -0.029125          -0.030824   \n",
       "\n",
       "   split3_test_score  ...  mean_test_score  std_test_score  rank_test_score  \\\n",
       "0          -0.032029  ...        -0.029299        0.001670               12   \n",
       "1          -0.031832  ...        -0.029253        0.001611               11   \n",
       "2          -0.030395  ...        -0.029063        0.001249               10   \n",
       "3          -0.028255  ...        -0.029376        0.001497               13   \n",
       "4          -0.027875  ...        -0.029733        0.001848               19   \n",
       "\n",
       "   split0_train_score  split1_train_score  split2_train_score  \\\n",
       "0           -0.016878           -0.016789           -0.017190   \n",
       "1           -0.016885           -0.016789           -0.017180   \n",
       "2           -0.017094           -0.016791           -0.017332   \n",
       "3           -0.018306           -0.016834           -0.018273   \n",
       "4           -0.019174           -0.016895           -0.019026   \n",
       "\n",
       "   split3_train_score  split4_train_score  mean_train_score  std_train_score  \n",
       "0           -0.017389           -0.016918         -0.017033         0.000223  \n",
       "1           -0.017385           -0.016924         -0.017033         0.000218  \n",
       "2           -0.017526           -0.017129         -0.017174         0.000247  \n",
       "3           -0.018529           -0.018327         -0.018054         0.000616  \n",
       "4           -0.019455           -0.019172         -0.018745         0.000935  \n",
       "\n",
       "[5 rows x 21 columns]"
      ]
     },
     "execution_count": 90,
     "metadata": {},
     "output_type": "execute_result"
    }
   ],
   "source": [
    "cv_results = pd.DataFrame(model_cv.cv_results_)\n",
    "cv_results = cv_results[cv_results['param_alpha']<=200]\n",
    "cv_results.head()"
   ]
  },
  {
   "cell_type": "code",
   "execution_count": 91,
   "metadata": {},
   "outputs": [
    {
     "data": {
      "image/png": "[encoded data removed]",
      "text/plain": [
       "<Figure size 432x288 with 1 Axes>"
      ]
     },
     "metadata": {
      "needs_background": "light"
     },
     "output_type": "display_data"
    }
   ],
   "source": [
    "# plotting mean test and train scoes with alpha \n",
    "cv_results['param_alpha'] = cv_results['param_alpha'].astype('int32')\n",
    "\n",
    "# plotting\n",
    "plt.plot(cv_results['param_alpha'], cv_results['mean_train_score'])\n",
    "plt.plot(cv_results['param_alpha'], cv_results['mean_test_score'])\n",
    "plt.xlabel('alpha')\n",
    "plt.ylabel('Negative Mean Absolute Error')\n",
    "plt.title(\"Negative Mean Absolute Error and alpha\")\n",
    "plt.legend(['train score', 'test score'], loc='upper left')\n",
    "plt.show()"
   ]
  },
  {
   "cell_type": "code",
   "execution_count": 145,
   "metadata": {},
   "outputs": [
    {
     "data": {
      "text/plain": [
       "array([[-1.65046268e-02,  6.49410217e-02,  4.17667512e-02,\n",
       "         2.40231959e-02,  8.85225434e-03,  1.89508546e-02,\n",
       "         3.15719046e-02,  1.10118410e-01,  1.24182838e-01,\n",
       "        -8.41583773e-03,  1.37814570e-01,  2.56625061e-02,\n",
       "         4.54981759e-03,  3.70082655e-02,  3.43020461e-03,\n",
       "        -9.45980924e-03, -4.21945120e-02,  3.08858709e-02,\n",
       "         1.79818629e-02,  5.56703151e-02,  9.15823127e-04,\n",
       "         1.66875142e-02,  2.29115210e-03, -1.47146295e-03,\n",
       "         2.61398087e-02,  1.47579454e-02,  6.60799636e-03,\n",
       "         3.38167661e-03,  9.72015449e-03,  2.83525761e-04,\n",
       "        -3.47806873e-02,  2.09628238e-02,  3.13096996e-02,\n",
       "         3.16744459e-02,  3.14084580e-02,  2.30611575e-03,\n",
       "        -2.26515218e-03,  7.90728403e-04,  3.07147337e-03,\n",
       "        -2.69347343e-02,  3.41534334e-03,  2.84176543e-02,\n",
       "         2.20543021e-02,  2.47592088e-02, -1.48800721e-02,\n",
       "         1.70830034e-02, -1.85208089e-02, -9.51432117e-03,\n",
       "        -3.18015145e-03,  4.05810571e-03,  9.09299571e-03,\n",
       "        -5.29993794e-03,  5.95945487e-03, -1.02172901e-02,\n",
       "        -6.20599639e-03, -3.31913618e-03,  3.62684064e-02,\n",
       "        -3.15543243e-02, -6.56820205e-03, -2.00601511e-02,\n",
       "        -2.28992974e-02, -2.44190822e-02, -1.03703515e-02,\n",
       "         1.18307603e-02, -2.16973015e-03,  6.85222013e-02,\n",
       "         4.42244210e-02, -1.75558711e-02,  3.69037084e-03,\n",
       "        -1.19210757e-02,  1.17582339e-03,  3.67375414e-02,\n",
       "         5.17762754e-02, -4.74215654e-03,  2.20606996e-02,\n",
       "        -8.52148297e-03,  1.64918166e-02,  1.82056894e-02,\n",
       "        -6.71582789e-03, -1.35606871e-02,  1.67590890e-02,\n",
       "        -2.47194854e-03, -4.31453749e-04,  3.81640891e-02,\n",
       "         2.63376027e-02,  5.32699357e-02, -1.72907496e-01,\n",
       "        -8.89308547e-03,  1.32753416e-02,  2.78579987e-02,\n",
       "        -2.54422481e-02, -1.83961014e-02, -3.40144027e-02,\n",
       "        -3.24312422e-02,  2.53158355e-02,  1.86666309e-02,\n",
       "        -1.01056418e-02, -1.36083694e-02, -1.26064508e-02,\n",
       "         2.16099606e-03, -1.24195593e-03, -1.87440343e-02,\n",
       "        -2.73737226e-02, -1.40554829e-02, -1.37335385e-03,\n",
       "         1.74731865e-02,  5.53213198e-02,  3.82494483e-02,\n",
       "         1.68792232e-02,  2.46200285e-02,  2.05101985e-02,\n",
       "         4.56990411e-02,  1.47095505e-01,  1.29237573e-03,\n",
       "        -6.71020075e-03,  2.78740467e-02, -9.99545570e-04,\n",
       "         5.83258342e-03, -3.12119968e-03, -2.55440352e-02,\n",
       "         3.24082169e-03,  5.07070038e-05,  9.95719570e-03,\n",
       "         8.98129670e-04,  1.05983242e-03,  8.77399954e-03,\n",
       "         1.03953841e-02,  1.29237573e-03,  1.41278842e-03,\n",
       "         1.30914662e-03, -9.99545570e-04,  6.55371173e-03,\n",
       "         7.49006724e-03,  4.01384157e-02,  3.31213436e-03,\n",
       "         0.00000000e+00,  1.45166469e-03, -1.39748626e-02,\n",
       "        -2.06334514e-02,  9.76736988e-03, -3.39605322e-03,\n",
       "        -1.75289408e-02,  2.53852854e-03,  8.32539355e-03,\n",
       "         3.60940003e-03,  1.09382059e-02, -2.64407489e-02,\n",
       "        -1.30768473e-02, -2.18355513e-02, -1.89718569e-02,\n",
       "        -2.22645270e-02,  0.00000000e+00, -2.21139152e-02,\n",
       "         1.25826642e-02,  7.30615892e-03, -5.57368970e-03,\n",
       "         2.41711860e-02,  3.49958451e-03, -2.90590377e-02,\n",
       "        -4.17837391e-02, -3.88751792e-02, -1.39409835e-02,\n",
       "         7.18102250e-03, -2.51813557e-02,  8.01573631e-03,\n",
       "        -1.39409835e-02,  2.67434538e-02, -6.25231712e-03,\n",
       "        -1.34098853e-02, -1.15006612e-02, -2.01645417e-03,\n",
       "         9.04836265e-03, -6.79928955e-03, -2.77020660e-03,\n",
       "        -1.39409835e-02, -1.00170062e-02, -2.07865296e-02,\n",
       "         3.30864373e-04, -5.41143053e-03, -1.34543261e-02,\n",
       "         2.68205562e-05, -8.09393860e-03, -3.12318775e-03,\n",
       "         2.70526096e-02,  6.12449798e-03, -1.77343726e-02,\n",
       "         1.66398659e-03, -5.94864053e-03, -8.37009014e-03,\n",
       "        -1.03216201e-02, -7.21290400e-03,  1.35864407e-02,\n",
       "         2.33205473e-03,  2.18073267e-02,  0.00000000e+00,\n",
       "         2.98538461e-03,  0.00000000e+00, -4.62527145e-02,\n",
       "        -4.75266328e-02, -5.07781231e-02, -1.50117659e-02,\n",
       "         1.98385405e-03,  3.37029932e-05,  4.61481527e-03,\n",
       "        -2.09665376e-02,  1.88141935e-02,  1.39407413e-02,\n",
       "         1.74287258e-02,  6.99553747e-03,  1.68106905e-02,\n",
       "         1.00819968e-02,  3.60548270e-03, -4.36481196e-03,\n",
       "         3.60548270e-03, -5.18892203e-03, -2.21749390e-02,\n",
       "         2.56218862e-02, -2.17695100e-02, -8.98177214e-03,\n",
       "         3.60548270e-03,  7.66400430e-04, -2.38270649e-02,\n",
       "        -1.14567499e-02,  7.21307951e-03,  3.60548270e-03,\n",
       "        -1.95892954e-04,  1.54733885e-04, -2.17129392e-03,\n",
       "         1.01556319e-02,  2.08429166e-03,  2.68045969e-03,\n",
       "         9.58753172e-04,  2.53553451e-03,  2.29239893e-03,\n",
       "         0.00000000e+00, -6.77657647e-03,  2.98182379e-03,\n",
       "        -4.47779391e-03, -7.31096800e-03,  5.21997793e-03,\n",
       "        -2.38651837e-03, -1.08591445e-04,  5.22958451e-03,\n",
       "         5.82222640e-05, -9.93136988e-03,  5.70991726e-04,\n",
       "         1.98199623e-02,  2.72405376e-02,  2.17054132e-02,\n",
       "         6.19834532e-03,  1.02340465e-02,  8.01313504e-03,\n",
       "        -1.36804077e-03,  2.98384914e-03,  1.23195852e-02,\n",
       "         1.79935241e-02, -8.54420101e-03,  4.70806885e-03,\n",
       "         8.01313504e-03, -1.01730462e-02, -1.02754883e-02,\n",
       "        -8.97728467e-03, -1.02986023e-04]])"
      ]
     },
     "execution_count": 145,
     "metadata": {},
     "output_type": "execute_result"
    }
   ],
   "source": [
    "alpha = 1\n",
    "ridge1 = Ridge(alpha=alpha)\n",
    "\n",
    "ridge1.fit(X_train, y_train)\n",
    "ridge1.coef_"
   ]
  },
  {
   "cell_type": "code",
   "execution_count": 146,
   "metadata": {},
   "outputs": [],
   "source": [
    "pred1 = ridge1.predict(X_test)# Use this model to predict the test data"
   ]
  },
  {
   "cell_type": "code",
   "execution_count": 147,
   "metadata": {},
   "outputs": [
    {
     "name": "stdout",
     "output_type": "stream",
     "text": [
      "0.0018271455494158267\n"
     ]
    }
   ],
   "source": [
    "print(mean_squared_error(y_test, pred1))"
   ]
  },
  {
   "cell_type": "code",
   "execution_count": 161,
   "metadata": {},
   "outputs": [
    {
     "data": {
      "text/plain": [
       "array([[-9.06515035e-03,  3.66863818e-02,  3.78225921e-02,\n",
       "         2.15464126e-02,  1.05737798e-02,  2.32096239e-02,\n",
       "         3.13275590e-02,  7.44238402e-02,  9.54659684e-02,\n",
       "        -7.35767539e-03,  9.74505896e-02,  2.51176586e-02,\n",
       "         2.94157002e-03,  4.36510263e-02,  1.00800589e-02,\n",
       "         1.38292364e-03, -2.98734949e-02,  4.13989446e-02,\n",
       "         2.46185906e-02,  4.69669341e-02,  1.95222712e-02,\n",
       "         1.98483224e-02,  2.55907004e-03, -4.69814288e-04,\n",
       "         1.97491950e-02,  1.13767432e-02,  8.27250378e-03,\n",
       "         1.64815442e-03,  1.05678593e-02, -3.49044485e-04,\n",
       "        -2.00695773e-02,  1.00059693e-02,  1.77586428e-02,\n",
       "         1.90152581e-02,  1.68483974e-02,  1.92728169e-03,\n",
       "        -1.06689956e-03,  2.82328729e-03,  4.39617111e-03,\n",
       "        -1.91832422e-02,  2.11585073e-03,  2.53081478e-02,\n",
       "         1.95036031e-02,  2.30770109e-02, -7.31862238e-03,\n",
       "         1.70713708e-02, -1.81845430e-02, -6.60742464e-03,\n",
       "        -3.47925599e-03,  5.28949860e-03,  7.13256892e-03,\n",
       "        -4.01548634e-03,  1.16334912e-03, -9.09432856e-03,\n",
       "        -3.71853628e-03, -6.70477967e-03,  3.38402906e-02,\n",
       "        -3.21556988e-02, -1.10033457e-02, -2.05310678e-02,\n",
       "        -2.12160870e-02, -2.43302645e-02, -1.28991000e-02,\n",
       "         5.08511983e-03, -3.04617785e-03,  6.80351033e-02,\n",
       "         4.12359256e-02, -1.67193555e-02,  2.26812392e-03,\n",
       "        -1.41149129e-02, -1.57169670e-03,  3.07325006e-02,\n",
       "         4.38513547e-02, -5.56200163e-03,  1.86132532e-02,\n",
       "        -9.62878873e-03,  1.50484318e-02,  1.34308240e-02,\n",
       "        -9.67909127e-03, -1.17727869e-02,  1.52175939e-02,\n",
       "        -2.88416975e-03, -6.67312152e-04,  2.06940335e-02,\n",
       "         1.81917725e-02,  2.68067847e-02, -7.89984063e-02,\n",
       "        -2.03417394e-03,  4.56620622e-03,  1.09875605e-02,\n",
       "        -2.41640019e-02, -1.77166194e-02, -3.11985016e-02,\n",
       "        -3.00779244e-02,  1.63343134e-02,  1.32278105e-02,\n",
       "        -2.72302957e-03, -6.46660054e-03, -1.03200145e-02,\n",
       "        -3.93837618e-03, -6.73990583e-03, -7.47968020e-03,\n",
       "        -1.18031952e-02, -6.93255650e-04,  5.23807145e-03,\n",
       "         9.09728531e-03,  1.16769006e-02,  1.08972947e-02,\n",
       "         4.93406171e-04,  2.52910472e-03, -5.41912989e-03,\n",
       "         1.80246739e-02,  8.45007790e-02,  9.36356013e-04,\n",
       "        -3.46976203e-03,  2.63840810e-02, -1.86649374e-03,\n",
       "         4.00509832e-03, -4.69815149e-03, -1.10902761e-02,\n",
       "         2.91442009e-04,  2.96558207e-04,  5.55268873e-03,\n",
       "        -1.96294347e-03, -1.07403553e-03,  5.73363408e-03,\n",
       "         6.25074132e-03,  9.36356013e-04, -1.71773545e-03,\n",
       "         2.41679947e-03, -1.86649374e-03,  5.50582514e-03,\n",
       "         7.01741836e-03,  3.22068080e-02,  3.37781977e-03,\n",
       "         0.00000000e+00,  8.72918770e-06, -6.49088511e-03,\n",
       "        -1.48970823e-02,  1.03942477e-02, -2.12029490e-03,\n",
       "        -1.51154365e-02,  1.51894286e-03,  6.07327106e-03,\n",
       "         1.46170659e-03,  7.86244270e-03, -2.61738298e-02,\n",
       "        -1.26787621e-02, -2.34041631e-02, -1.01417952e-02,\n",
       "        -1.14517017e-02,  0.00000000e+00, -1.13027997e-02,\n",
       "         1.00743443e-02,  6.22344705e-03, -4.17516175e-03,\n",
       "         1.47957801e-02,  4.69846650e-03, -2.83845726e-02,\n",
       "        -4.17223493e-02, -3.93324773e-02, -1.14134658e-02,\n",
       "         7.02509357e-03, -1.25115145e-02,  8.06902010e-03,\n",
       "        -1.14134658e-02,  2.80804604e-02, -6.14183900e-03,\n",
       "        -1.41733896e-02, -1.13128156e-02, -1.17878261e-03,\n",
       "         1.11858081e-02, -5.91296058e-03, -2.43529692e-03,\n",
       "        -1.14134658e-02, -1.00456800e-02, -1.42431266e-02,\n",
       "         2.16299520e-03, -2.13592140e-03, -8.25019645e-03,\n",
       "        -5.37116149e-03, -4.67759023e-03, -5.93103153e-03,\n",
       "         2.11435249e-02,  1.72565681e-03, -7.19650118e-03,\n",
       "        -3.83275232e-03, -7.24853304e-03, -8.53271236e-03,\n",
       "        -4.63376263e-03, -6.93602737e-03,  1.50266283e-02,\n",
       "         2.02588149e-03,  1.16565820e-02,  0.00000000e+00,\n",
       "         3.61870947e-03,  0.00000000e+00, -4.14625914e-02,\n",
       "        -4.41720976e-02, -4.87089219e-02, -1.14265989e-02,\n",
       "        -2.50059868e-04, -1.59410009e-03,  4.22182215e-03,\n",
       "        -9.23309435e-03,  1.63944571e-02,  9.37230492e-03,\n",
       "         9.16012120e-03,  4.05833213e-03,  2.32611909e-03,\n",
       "         4.15434194e-03,  2.68348625e-03, -5.47664573e-03,\n",
       "         2.68348625e-03, -6.63720194e-03, -1.88940515e-02,\n",
       "         2.23404236e-02, -7.73615437e-03, -8.11027091e-03,\n",
       "         2.68348625e-03,  4.58296013e-04, -1.51869503e-02,\n",
       "        -7.79066882e-03,  1.01192699e-02,  2.68348625e-03,\n",
       "         1.26814501e-03,  3.59824900e-04, -1.99233097e-03,\n",
       "         9.13819308e-03,  1.44369109e-04,  2.55071639e-03,\n",
       "         3.87735399e-04, -1.80894132e-03,  1.91832753e-03,\n",
       "         0.00000000e+00, -5.59374122e-03,  3.32056095e-03,\n",
       "        -3.81697021e-03, -6.13787537e-03,  5.46670378e-03,\n",
       "        -1.87350261e-03, -1.66387858e-04,  5.41278673e-03,\n",
       "        -9.52805687e-05, -9.62910693e-03,  1.15751937e-03,\n",
       "         1.43486563e-02,  1.44093194e-02,  1.67641830e-02,\n",
       "         2.22796453e-03,  4.90234326e-03,  7.02030853e-03,\n",
       "        -2.41437424e-03,  5.57182911e-04,  8.68828753e-03,\n",
       "         1.49291194e-02, -6.96885415e-03,  4.82789401e-03,\n",
       "         7.02030853e-03, -4.73422205e-03, -3.70194426e-03,\n",
       "        -3.36452504e-03,  2.10833850e-03]])"
      ]
     },
     "execution_count": 161,
     "metadata": {},
     "output_type": "execute_result"
    }
   ],
   "source": [
    "alpha = 3\n",
    "ridge2 = Ridge(alpha=alpha)\n",
    "\n",
    "ridge2.fit(X_train, y_train)\n",
    "ridge2.coef_"
   ]
  },
  {
   "cell_type": "code",
   "execution_count": 162,
   "metadata": {},
   "outputs": [
    {
     "name": "stdout",
     "output_type": "stream",
     "text": [
      "0.0017861212422101238\n"
     ]
    }
   ],
   "source": [
    "pred2 = ridge2.predict(X_test)           # Use this model to predict the test data\n",
    "print(mean_squared_error(y_test, pred2))"
   ]
  },
  {
   "cell_type": "code",
   "execution_count": 143,
   "metadata": {},
   "outputs": [
    {
     "data": {
      "text/plain": [
       "array([[-4.21615590e-03,  2.74479185e-02,  3.54952202e-02,\n",
       "         1.98696632e-02,  9.90903390e-03,  2.41603534e-02,\n",
       "         2.99818135e-02,  6.18870974e-02,  8.04657817e-02,\n",
       "        -5.89019779e-03,  8.14801463e-02,  2.36671068e-02,\n",
       "         2.03304383e-03,  4.46649481e-02,  1.28027928e-02,\n",
       "         5.93152629e-03, -2.33666853e-02,  4.31746771e-02,\n",
       "         2.79834719e-02,  4.37552649e-02,  2.55835527e-02,\n",
       "         2.05608319e-02,  3.89804858e-03,  1.25596724e-04,\n",
       "         1.57355306e-02,  9.60737645e-03,  7.56246956e-03,\n",
       "         9.73451608e-04,  1.10980874e-02, -4.21290841e-04,\n",
       "        -1.60896076e-02,  7.30199751e-03,  1.27653487e-02,\n",
       "         1.49437503e-02,  1.04958001e-02,  2.64079341e-03,\n",
       "        -4.14621106e-04,  3.29384564e-03,  4.49661112e-03,\n",
       "        -1.52744092e-02,  1.14602577e-03,  2.17975736e-02,\n",
       "         1.67571871e-02,  2.07601945e-02, -4.98893702e-03,\n",
       "         1.68996601e-02, -1.71907306e-02, -4.99733339e-03,\n",
       "        -3.52540248e-03,  5.69124504e-03,  5.24202026e-03,\n",
       "        -2.71353084e-03,  3.03838707e-04, -7.37541741e-03,\n",
       "        -2.17094203e-03, -8.26284448e-03,  3.21284942e-02,\n",
       "        -3.10773153e-02, -1.32377207e-02, -1.86094955e-02,\n",
       "        -1.85204544e-02, -2.31068059e-02, -1.33536382e-02,\n",
       "         2.79539277e-03, -2.90737432e-03,  6.57960302e-02,\n",
       "         3.88348537e-02, -1.45477830e-02,  1.54272642e-03,\n",
       "        -1.45140242e-02, -2.89222939e-03,  2.65679271e-02,\n",
       "         3.79479286e-02, -5.39060357e-03,  1.62062220e-02,\n",
       "        -9.48906392e-03,  1.45677976e-02,  1.13917345e-02,\n",
       "        -8.94845237e-03, -1.00285678e-02,  1.34516072e-02,\n",
       "        -2.61530415e-03, -9.85633750e-04,  1.36468032e-02,\n",
       "         1.49986260e-02,  1.85348039e-02, -5.15804047e-02,\n",
       "        -1.09205271e-03,  2.44708939e-03,  6.71376622e-03,\n",
       "        -2.19800332e-02, -1.63066427e-02, -2.89907865e-02,\n",
       "        -2.82152542e-02,  1.18098511e-02,  1.01789676e-02,\n",
       "        -5.45122136e-04, -3.41428690e-03, -8.33788015e-03,\n",
       "        -6.66125445e-03, -9.05719850e-03, -5.84901795e-03,\n",
       "        -7.41945620e-03,  2.33673479e-03,  5.39269019e-03,\n",
       "         5.98341747e-03,  1.92394433e-03,  6.28988987e-03,\n",
       "        -8.88227604e-04,  1.81673682e-04, -8.30801214e-03,\n",
       "         1.24080156e-02,  6.32816405e-02,  5.13596859e-04,\n",
       "        -2.81619391e-03,  2.47805972e-02, -2.33371829e-03,\n",
       "         3.38803628e-03, -5.21590913e-03, -6.55516715e-03,\n",
       "        -7.15796011e-04,  2.46219677e-04,  4.40925947e-03,\n",
       "        -2.96491516e-03, -1.78431081e-03,  4.45098046e-03,\n",
       "         4.46730936e-03,  5.13596859e-04, -2.45442348e-03,\n",
       "         3.00442780e-03, -2.33371829e-03,  5.00100140e-03,\n",
       "         6.29033263e-03,  2.68192046e-02,  2.73942674e-03,\n",
       "         0.00000000e+00, -1.02851339e-03, -4.18222032e-03,\n",
       "        -1.17606800e-02,  9.80660278e-03, -1.95630529e-03,\n",
       "        -1.40003601e-02,  1.12574544e-03,  4.89053018e-03,\n",
       "         1.03663281e-03,  6.20007194e-03, -2.41193027e-02,\n",
       "        -1.23540033e-02, -2.45340242e-02, -7.76312689e-03,\n",
       "        -7.52354975e-03,  0.00000000e+00, -7.44478359e-03,\n",
       "         7.93573029e-03,  5.57811130e-03, -4.18300223e-03,\n",
       "         1.05237598e-02,  4.02158798e-03, -2.61145059e-02,\n",
       "        -4.06046508e-02, -3.80546427e-02, -1.05198264e-02,\n",
       "         6.72073407e-03, -8.81528786e-03,  8.05801410e-03,\n",
       "        -1.05198264e-02,  2.87491492e-02, -6.03094723e-03,\n",
       "        -1.45138446e-02, -1.09278124e-02, -6.90493794e-04,\n",
       "         1.26116245e-02, -5.27190166e-03, -2.09533417e-03,\n",
       "        -1.05198264e-02, -9.87450532e-03, -1.08809708e-02,\n",
       "         2.74222387e-03, -7.95601334e-04, -5.97964512e-03,\n",
       "        -6.47081244e-03, -3.35900768e-03, -6.41111706e-03,\n",
       "         1.78390079e-02,  6.01762662e-04, -3.84603050e-03,\n",
       "        -4.27267941e-03, -7.66031105e-03, -8.53506026e-03,\n",
       "        -2.86302141e-03, -6.85917887e-03,  1.54274082e-02,\n",
       "         1.42617188e-03,  7.38055756e-03,  0.00000000e+00,\n",
       "         3.91856459e-03,  0.00000000e+00, -3.72800184e-02,\n",
       "        -4.14103121e-02, -4.64350825e-02, -9.32400908e-03,\n",
       "        -1.05663404e-03, -2.02355893e-03,  3.71678642e-03,\n",
       "        -6.41609524e-03,  1.54077264e-02,  8.34814698e-03,\n",
       "         6.12964045e-03,  4.29294414e-03, -2.32638155e-03,\n",
       "         2.22322544e-03,  2.00825883e-03, -6.03509366e-03,\n",
       "         2.00825883e-03, -7.60134183e-03, -1.64896315e-02,\n",
       "         1.95204051e-02, -4.23261951e-03, -7.04527143e-03,\n",
       "         2.00825883e-03, -9.88740943e-04, -1.12400858e-02,\n",
       "        -6.11351591e-03,  1.00952254e-02,  2.00825883e-03,\n",
       "         1.79297329e-03,  7.77344141e-04, -2.11731235e-03,\n",
       "         8.44475889e-03, -5.43074091e-04,  2.31082477e-03,\n",
       "         8.57558613e-04, -2.80446107e-03,  1.95949391e-03,\n",
       "         0.00000000e+00, -4.76893212e-03,  3.36000619e-03,\n",
       "        -3.50942261e-03, -5.14326438e-03,  5.65898589e-03,\n",
       "        -1.63033290e-03, -3.69664140e-04,  5.35408353e-03,\n",
       "         5.66865697e-05, -9.34573683e-03,  1.38694018e-03,\n",
       "         1.12564803e-02,  9.81726194e-03,  1.29866750e-02,\n",
       "         1.15883218e-03,  2.63887726e-03,  6.84887886e-03,\n",
       "        -2.47810033e-03, -4.56115999e-04,  6.38965867e-03,\n",
       "         1.22031812e-02, -6.09978391e-03,  4.67223734e-03,\n",
       "         6.84887886e-03, -2.68301742e-03, -1.06603648e-03,\n",
       "        -1.29332741e-03,  2.87796697e-03]])"
      ]
     },
     "execution_count": 143,
     "metadata": {},
     "output_type": "execute_result"
    }
   ],
   "source": [
    "alpha = 5\n",
    "ridge3 = Ridge(alpha=alpha)\n",
    "\n",
    "ridge3.fit(X_train, y_train)\n",
    "ridge3.coef_"
   ]
  },
  {
   "cell_type": "code",
   "execution_count": 144,
   "metadata": {},
   "outputs": [
    {
     "name": "stdout",
     "output_type": "stream",
     "text": [
      "0.0018021890993030344\n"
     ]
    }
   ],
   "source": [
    "pred3 = ridge3.predict(X_test)           # Use this model to predict the test data\n",
    "print(mean_squared_error(y_test, pred3))"
   ]
  },
  {
   "cell_type": "code",
   "execution_count": 148,
   "metadata": {},
   "outputs": [
    {
     "data": {
      "text/plain": [
       "array([[-7.63747605e-03,  3.36473723e-02,  3.71708574e-02,\n",
       "         2.10764610e-02,  1.04575956e-02,  2.35685506e-02,\n",
       "         3.10026474e-02,  7.03770103e-02,  9.09357500e-02,\n",
       "        -6.97615625e-03,  9.24067395e-02,  2.47669766e-02,\n",
       "         2.67571341e-03,  4.41386197e-02,  1.09479520e-02,\n",
       "         2.84669720e-03, -2.78971289e-02,  4.21598107e-02,\n",
       "         2.56303501e-02,  4.59327180e-02,  2.15967439e-02,\n",
       "         2.01357114e-02,  2.88937982e-03, -2.93080092e-04,\n",
       "         1.85633515e-02,  1.08348742e-02,  8.13896999e-03,\n",
       "         1.44399536e-03,  1.07192631e-02, -3.90112167e-04,\n",
       "        -1.87035727e-02,  9.03471178e-03,  1.61453943e-02,\n",
       "         1.76419572e-02,  1.48727160e-02,  2.13482160e-03,\n",
       "        -8.69324927e-04,  3.01120709e-03,  4.46286358e-03,\n",
       "        -1.80066892e-02,  1.84781418e-03,  2.43663881e-02,\n",
       "         1.87594034e-02,  2.24738693e-02, -6.53158405e-03,\n",
       "         1.70392352e-02, -1.79463657e-02, -6.10233446e-03,\n",
       "        -3.49941975e-03,  5.42889328e-03,  6.58194533e-03,\n",
       "        -3.61833924e-03,  8.30253799e-04, -8.62816640e-03,\n",
       "        -3.27094841e-03, -7.18713122e-03,  3.33884761e-02,\n",
       "        -3.19156226e-02, -1.16872979e-02, -2.00683376e-02,\n",
       "        -2.05017706e-02, -2.40530706e-02, -1.30873215e-02,\n",
       "         4.31423626e-03, -3.04841861e-03,  6.75235544e-02,\n",
       "         4.05579863e-02, -1.61573537e-02,  2.05233680e-03,\n",
       "        -1.42826067e-02, -1.98140649e-03,  2.95366873e-02,\n",
       "         4.22080443e-02, -5.56087694e-03,  1.79430811e-02,\n",
       "        -9.62582747e-03,  1.48984230e-02,  1.28139261e-02,\n",
       "        -9.58330988e-03, -1.12950240e-02,  1.47701068e-02,\n",
       "        -2.81896928e-03, -7.51138844e-04,  1.84220774e-02,\n",
       "         1.71785753e-02,  2.40298686e-02, -6.96946622e-02,\n",
       "        -1.66863951e-03,  3.81436328e-03,  9.48971642e-03,\n",
       "        -2.36186670e-02, -1.73882769e-02, -3.05947729e-02,\n",
       "        -2.95617773e-02,  1.49478535e-02,  1.23128310e-02,\n",
       "        -1.97562180e-03, -5.50323215e-03, -9.78572984e-03,\n",
       "        -4.80735188e-03, -7.49200566e-03, -6.79278894e-03,\n",
       "        -1.03189840e-02,  3.76939472e-04,  5.41873104e-03,\n",
       "         8.07665066e-03,  8.18703077e-03,  9.19133488e-03,\n",
       "        -1.23046224e-04,  1.54476147e-03, -6.70761996e-03,\n",
       "         1.60444903e-02,  7.76393208e-02,  8.02892216e-04,\n",
       "        -3.24211464e-03,  2.59644108e-02, -2.03643695e-03,\n",
       "         3.79326797e-03, -4.86814012e-03, -9.55573297e-03,\n",
       "        -4.21083905e-05,  2.99959924e-04,  5.15752495e-03,\n",
       "        -2.31225900e-03, -1.31352831e-03,  5.33180428e-03,\n",
       "         5.69032324e-03,  8.02892216e-04, -2.00360535e-03,\n",
       "         2.57950907e-03, -2.03643695e-03,  5.34430209e-03,\n",
       "         6.82501262e-03,  3.06585738e-02,  3.21893607e-03,\n",
       "         0.00000000e+00, -3.00052179e-04, -5.71900217e-03,\n",
       "        -1.39572781e-02,  1.02717083e-02, -2.04915729e-03,\n",
       "        -1.47823176e-02,  1.38680795e-03,  5.72699511e-03,\n",
       "         1.28461473e-03,  7.35604181e-03, -2.56780371e-02,\n",
       "        -1.26174274e-02, -2.37437968e-02, -9.28937659e-03,\n",
       "        -1.01779523e-02,  0.00000000e+00, -1.00448572e-02,\n",
       "         9.48293450e-03,  6.01867531e-03, -4.16226584e-03,\n",
       "         1.34529639e-02,  4.54710282e-03, -2.78466234e-02,\n",
       "        -4.14737414e-02, -3.90670687e-02, -1.11325358e-02,\n",
       "         6.94244883e-03, -1.12556407e-02,  8.06145979e-03,\n",
       "        -1.11325358e-02,  2.82858954e-02, -6.11591345e-03,\n",
       "        -1.42784258e-02, -1.12187225e-02, -1.03088593e-03,\n",
       "         1.15915084e-02, -5.73442839e-03, -2.34186344e-03,\n",
       "        -1.11325358e-02, -1.00031178e-02, -1.32221288e-02,\n",
       "         2.37035666e-03, -1.70400665e-03, -7.52565354e-03,\n",
       "        -5.77769030e-03, -4.25051204e-03, -6.14263904e-03,\n",
       "         2.01669596e-02,  1.32333589e-03, -6.04813377e-03,\n",
       "        -4.08326892e-03, -7.39759798e-03, -8.53590114e-03,\n",
       "        -4.03312985e-03, -6.90782445e-03,  1.51727830e-02,\n",
       "         1.87107864e-03,  1.02863767e-02,  0.00000000e+00,\n",
       "         3.70530320e-03,  0.00000000e+00, -4.03360558e-02,\n",
       "        -4.34314830e-02, -4.81192159e-02, -1.08037267e-02,\n",
       "        -5.15734123e-04, -1.74264420e-03,  4.08348192e-03,\n",
       "        -8.25955318e-03,  1.61020067e-02,  9.00080286e-03,\n",
       "         8.18350751e-03,  4.05247713e-03,  7.40316476e-04,\n",
       "         3.53018861e-03,  2.49824769e-03, -5.64166434e-03,\n",
       "         2.49824769e-03, -6.89924691e-03, -1.82254119e-02,\n",
       "         2.15500272e-02, -6.49138622e-03, -7.84039360e-03,\n",
       "         2.49824769e-03,  6.90577407e-05, -1.39764284e-02,\n",
       "        -7.28047514e-03,  1.01806813e-02,  2.49824769e-03,\n",
       "         1.44627098e-03,  4.62480396e-04, -2.01893322e-03,\n",
       "         8.94058577e-03, -8.05328544e-05,  2.48609827e-03,\n",
       "         5.02078540e-04, -2.18335357e-03,  1.95114402e-03,\n",
       "         0.00000000e+00, -5.36157998e-03,  3.34931180e-03,\n",
       "        -3.71776448e-03, -5.86416776e-03,  5.52036790e-03,\n",
       "        -1.79683266e-03, -2.16038632e-04,  5.41220658e-03,\n",
       "        -6.86263220e-05, -9.55020291e-03,  1.23794410e-03,\n",
       "         1.34223873e-02,  1.28900197e-02,  1.56774239e-02,\n",
       "         1.84304815e-03,  4.17404701e-03,  6.94079775e-03,\n",
       "        -2.47495695e-03,  2.33439751e-04,  8.00434401e-03,\n",
       "         1.41766524e-02, -6.71002758e-03,  4.79839198e-03,\n",
       "         6.94079775e-03, -4.06500387e-03, -2.86216501e-03,\n",
       "        -2.69116878e-03,  2.36133843e-03]])"
      ]
     },
     "execution_count": 148,
     "metadata": {},
     "output_type": "execute_result"
    }
   ],
   "source": [
    "alpha = 3.5\n",
    "ridge4 = Ridge(alpha=alpha)\n",
    "\n",
    "ridge4.fit(X_train, y_train)\n",
    "ridge4.coef_"
   ]
  },
  {
   "cell_type": "code",
   "execution_count": 150,
   "metadata": {},
   "outputs": [
    {
     "name": "stdout",
     "output_type": "stream",
     "text": [
      "0.0017880661399273536\n"
     ]
    }
   ],
   "source": [
    "pred4 = ridge4.predict(X_test)           # Use this model to predict the test data\n",
    "print(mean_squared_error(y_test, pred4))"
   ]
  },
  {
   "cell_type": "code",
   "execution_count": 165,
   "metadata": {},
   "outputs": [
    {
     "data": {
      "text/plain": [
       "array([[-9.06212357e-03,  3.66795701e-02,  3.78212231e-02,\n",
       "         2.15454334e-02,  1.05736162e-02,  2.32104661e-02,\n",
       "         3.13269370e-02,  7.44148325e-02,  9.54562157e-02,\n",
       "        -7.35691594e-03,  9.74394819e-02,  2.51169804e-02,\n",
       "         2.94100554e-03,  4.36522356e-02,  1.00819705e-02,\n",
       "         1.38615189e-03, -2.98692333e-02,  4.14007982e-02,\n",
       "         2.46207658e-02,  4.69646298e-02,  1.95269680e-02,\n",
       "         1.98490034e-02,  2.55970714e-03, -4.69438988e-04,\n",
       "         1.97466740e-02,  1.13755723e-02,  8.27230609e-03,\n",
       "         1.64771464e-03,  1.05681782e-02, -3.49149685e-04,\n",
       "        -2.00664525e-02,  1.00037143e-02,  1.77550584e-02,\n",
       "         1.90121580e-02,  1.68440813e-02,  1.92770259e-03,\n",
       "        -1.06647410e-03,  2.82373272e-03,  4.39634983e-03,\n",
       "        -1.91807083e-02,  2.11529426e-03,  2.53062343e-02,\n",
       "         1.95020856e-02,  2.30758018e-02, -7.31683947e-03,\n",
       "         1.70713146e-02, -1.81840848e-02, -6.60632612e-03,\n",
       "        -3.47930577e-03,  5.28981413e-03,  7.13141391e-03,\n",
       "        -4.01463898e-03,  1.16254767e-03, -9.09338308e-03,\n",
       "        -3.71759166e-03, -6.70582914e-03,  3.38393640e-02,\n",
       "        -3.21552620e-02, -1.10048223e-02, -2.05301920e-02,\n",
       "        -2.12146521e-02, -2.43297467e-02, -1.28995534e-02,\n",
       "         5.08338525e-03, -3.04622165e-03,  6.80341401e-02,\n",
       "         4.12345121e-02, -1.67182404e-02,  2.26766189e-03,\n",
       "        -1.41153166e-02, -1.57258662e-03,  3.07299876e-02,\n",
       "         4.38479410e-02, -5.56204183e-03,  1.86118601e-02,\n",
       "        -9.62882210e-03,  1.50480989e-02,  1.34294852e-02,\n",
       "        -9.67901265e-03, -1.17718068e-02,  1.52167044e-02,\n",
       "        -2.88404878e-03, -6.67477265e-04,  2.06890044e-02,\n",
       "         1.81895332e-02,  2.68005101e-02, -7.89772761e-02,\n",
       "        -2.03328711e-03,  4.56446508e-03,  1.09841078e-02,\n",
       "        -2.41629315e-02, -1.77159953e-02, -3.11972544e-02,\n",
       "        -3.00768540e-02,  1.63313143e-02,  1.32258484e-02,\n",
       "        -2.72132721e-03, -6.46448773e-03, -1.03189188e-02,\n",
       "        -3.94028276e-03, -6.74156741e-03, -7.47799246e-03,\n",
       "        -1.17998250e-02, -6.90771286e-04,  5.23861177e-03,\n",
       "         9.09500961e-03,  1.16687930e-02,  1.08932469e-02,\n",
       "         4.91828618e-04,  2.52664637e-03, -5.42237120e-03,\n",
       "         1.80200686e-02,  8.44855028e-02,  9.36068122e-04,\n",
       "        -3.46923203e-03,  2.63832350e-02, -1.86687954e-03,\n",
       "         4.00461978e-03, -4.69853176e-03, -1.10868028e-02,\n",
       "         2.90694202e-04,  2.96581042e-04,  5.55178022e-03,\n",
       "        -1.96373269e-03, -1.07457490e-03,  5.73275304e-03,\n",
       "         6.24951299e-03,  9.36068122e-04, -1.71840980e-03,\n",
       "         2.41713877e-03, -1.86687954e-03,  5.50547122e-03,\n",
       "         7.01702992e-03,  3.22035518e-02,  3.37751338e-03,\n",
       "         0.00000000e+00,  8.07368871e-06, -6.48914250e-03,\n",
       "        -1.48950669e-02,  1.03940367e-02, -2.12011700e-03,\n",
       "        -1.51147164e-02,  1.51864695e-03,  6.07252966e-03,\n",
       "         1.46128045e-03,  7.86135091e-03, -2.61728786e-02,\n",
       "        -1.26786524e-02, -2.34048850e-02, -1.01398251e-02,\n",
       "        -1.14488662e-02,  0.00000000e+00, -1.12999932e-02,\n",
       "         1.00731227e-02,  6.22300414e-03, -4.17510859e-03,\n",
       "         1.47928442e-02,  4.69820239e-03, -2.83835461e-02,\n",
       "        -4.17218897e-02, -3.93320104e-02, -1.14128446e-02,\n",
       "         7.02492491e-03, -1.25086591e-02,  8.06900139e-03,\n",
       "        -1.14128446e-02,  2.80809042e-02, -6.14178793e-03,\n",
       "        -1.41736180e-02, -1.13126323e-02, -1.17846593e-03,\n",
       "         1.11866594e-02, -5.91258917e-03, -2.43510595e-03,\n",
       "        -1.14128446e-02, -1.00455977e-02, -1.42409234e-02,\n",
       "         2.16346963e-03, -2.13496724e-03, -8.24860294e-03,\n",
       "        -5.37211726e-03, -4.67664243e-03, -5.93154794e-03,\n",
       "         2.11414399e-02,  1.72472539e-03, -7.19389329e-03,\n",
       "        -3.83341769e-03, -7.24887394e-03, -8.53272281e-03,\n",
       "        -4.63240092e-03, -6.93596244e-03,  1.50269642e-02,\n",
       "         2.02557376e-03,  1.16535619e-02,  0.00000000e+00,\n",
       "         3.61889426e-03,  0.00000000e+00, -4.14602854e-02,\n",
       "        -4.41705797e-02, -4.87077362e-02, -1.14252705e-02,\n",
       "        -2.50652242e-04, -1.59443998e-03,  4.22153710e-03,\n",
       "        -9.23085596e-03,  1.63938237e-02,  9.37143716e-03,\n",
       "         9.15795268e-03,  4.05823245e-03,  2.32253333e-03,\n",
       "         4.15294642e-03,  2.68310174e-03, -5.47699927e-03,\n",
       "         2.68310174e-03, -6.63774448e-03, -1.88926645e-02,\n",
       "         2.23387826e-02, -7.73327371e-03, -8.10973617e-03,\n",
       "         2.68310174e-03,  4.57516986e-04, -1.51843232e-02,\n",
       "        -7.78956449e-03,  1.01194789e-02,  2.68310174e-03,\n",
       "         1.26854428e-03,  3.60024440e-04, -1.99237616e-03,\n",
       "         9.13777779e-03,  1.43867695e-04,  2.55058614e-03,\n",
       "         3.87949172e-04, -1.80981943e-03,  1.91840567e-03,\n",
       "         0.00000000e+00, -5.59325560e-03,  3.32063561e-03,\n",
       "        -3.81675214e-03, -6.13731000e-03,  5.46681534e-03,\n",
       "        -1.87333520e-03, -1.66483773e-04,  5.41279872e-03,\n",
       "        -9.52390613e-05, -9.62894307e-03,  1.15770069e-03,\n",
       "         1.43466728e-02,  1.44059179e-02,  1.67619058e-02,\n",
       "         2.22707304e-03,  4.90073715e-03,  7.02011300e-03,\n",
       "        -2.41454331e-03,  5.56469166e-04,  8.68683127e-03,\n",
       "         1.49275712e-02, -6.96830012e-03,  4.82784521e-03,\n",
       "         7.02011300e-03, -4.73273595e-03, -3.70009317e-03,\n",
       "        -3.36302756e-03,  2.10890254e-03]])"
      ]
     },
     "execution_count": 165,
     "metadata": {},
     "output_type": "execute_result"
    }
   ],
   "source": [
    "alpha = 3.001\n",
    "ridge5 = Ridge(alpha=alpha)\n",
    "\n",
    "ridge5.fit(X_train, y_train)\n",
    "ridge5.coef_"
   ]
  },
  {
   "cell_type": "code",
   "execution_count": 166,
   "metadata": {},
   "outputs": [
    {
     "name": "stdout",
     "output_type": "stream",
     "text": [
      "0.001786123042196561\n"
     ]
    }
   ],
   "source": [
    "pred5 = ridge5.predict(X_test)           # Use this model to predict the test data\n",
    "print(mean_squared_error(y_test, pred5))"
   ]
  },
  {
   "cell_type": "markdown",
   "metadata": {},
   "source": [
    "The optimal alpha is 3. Let's double it."
   ]
  },
  {
   "cell_type": "code",
   "execution_count": 210,
   "metadata": {},
   "outputs": [
    {
     "data": {
      "text/plain": [
       "array([[-2.47689127e-03,  2.47048673e-02,  3.45324371e-02,\n",
       "         1.91981610e-02,  9.50475833e-03,  2.43285601e-02,\n",
       "         2.93283062e-02,  5.79773178e-02,  7.52301423e-02,\n",
       "        -5.25581853e-03,  7.63016327e-02,  2.29512169e-02,\n",
       "         1.69950353e-03,  4.45804024e-02,  1.36480221e-02,\n",
       "         7.29586833e-03, -2.11279452e-02,  4.32944749e-02,\n",
       "         2.91619872e-02,  4.27253707e-02,  2.71541556e-02,\n",
       "         2.06307492e-02,  4.51417378e-03,  3.32459786e-04,\n",
       "         1.42937764e-02,  9.01285448e-03,  7.16794259e-03,\n",
       "         7.43071943e-04,  1.13056182e-02, -3.99581936e-04,\n",
       "        -1.49974585e-02,  6.65688142e-03,  1.12297432e-02,\n",
       "         1.38259742e-02,  8.38710013e-03,  2.86588894e-03,\n",
       "        -1.88779011e-04,  3.35099705e-03,  4.45254892e-03,\n",
       "        -1.38931296e-02,  7.43543713e-04,  2.03151639e-02,\n",
       "         1.56234904e-02,  1.97308664e-02, -4.33835716e-03,\n",
       "         1.67771169e-02, -1.66949061e-02, -4.48843945e-03,\n",
       "        -3.52926126e-03,  5.78577081e-03,  4.56278067e-03,\n",
       "        -2.28881486e-03,  1.29617139e-04, -6.67823927e-03,\n",
       "        -1.59084668e-03, -8.77853645e-03,  3.13442478e-02,\n",
       "        -3.05029436e-02, -1.39795774e-02, -1.76997147e-02,\n",
       "        -1.73802950e-02, -2.24505301e-02, -1.33946558e-02,\n",
       "         2.17192411e-03, -2.75304166e-03,  6.45961712e-02,\n",
       "         3.78909714e-02, -1.35943795e-02,  1.28273339e-03,\n",
       "        -1.45385921e-02, -3.32102734e-03,  2.49842154e-02,\n",
       "         3.55623092e-02, -5.20501317e-03,  1.52348184e-02,\n",
       "        -9.35898792e-03,  1.43960532e-02,  1.06618469e-02,\n",
       "        -8.43963616e-03, -9.31790071e-03,  1.26305572e-02,\n",
       "        -2.49397953e-03, -1.11123788e-03,  1.14981888e-02,\n",
       "         1.39609998e-02,  1.61915275e-02, -4.39909577e-02,\n",
       "        -8.97566679e-04,  1.91986313e-03,  5.61114550e-03,\n",
       "        -2.09547714e-02, -1.55778004e-02, -2.80611063e-02,\n",
       "        -2.74526037e-02,  1.02886236e-02,  9.10561190e-03,\n",
       "         3.58509488e-05, -2.44550803e-03, -7.48510600e-03,\n",
       "        -7.48364193e-03, -9.73109542e-03, -5.66011756e-03,\n",
       "        -6.19931460e-03,  3.12528685e-03,  5.20142425e-03,\n",
       "         5.06751572e-03, -4.29697822e-04,  5.22921453e-03,\n",
       "        -1.04458005e-03, -1.77174312e-04, -8.54516806e-03,\n",
       "         1.09334683e-02,  5.67309355e-02,  3.86861679e-04,\n",
       "        -2.63290438e-03,  2.40683848e-02, -2.41985404e-03,\n",
       "         3.23345930e-03, -5.36778833e-03, -5.30629427e-03,\n",
       "        -1.00636775e-03,  1.83734861e-04,  4.09589422e-03,\n",
       "        -3.19253840e-03, -1.97663360e-03,  4.02931318e-03,\n",
       "         3.89026058e-03,  3.86861679e-04, -2.57038206e-03,\n",
       "         3.24485375e-03, -2.41985404e-03,  4.85085474e-03,\n",
       "         5.97316764e-03,  2.47736160e-02,  2.44917593e-03,\n",
       "         0.00000000e+00, -1.38835389e-03, -3.52078557e-03,\n",
       "        -1.06521438e-02,  9.47945596e-03, -1.93638696e-03,\n",
       "        -1.35845944e-02,  1.02126875e-03,  4.43434520e-03,\n",
       "         1.00048976e-03,  5.63520453e-03, -2.31192805e-02,\n",
       "        -1.21258700e-02, -2.49112724e-02, -7.20669770e-03,\n",
       "        -6.32285782e-03,  0.00000000e+00, -6.28019622e-03,\n",
       "         7.06926265e-03,  5.39536410e-03, -4.19641684e-03,\n",
       "         9.16067206e-03,  3.69373575e-03, -2.49768085e-02,\n",
       "        -3.99933438e-02, -3.73156961e-02, -1.02185478e-02,\n",
       "         6.59185905e-03, -7.79022477e-03,  8.06542525e-03,\n",
       "        -1.02185478e-02,  2.89670878e-02, -5.96748665e-03,\n",
       "        -1.46275078e-02, -1.07391860e-02, -5.27686484e-04,\n",
       "         1.31667940e-02, -5.01096250e-03, -1.96132294e-03,\n",
       "        -1.02185478e-02, -9.79532431e-03, -9.72051362e-03,\n",
       "         2.86633008e-03, -3.91812454e-04, -5.27962775e-03,\n",
       "        -6.70805919e-03, -2.95913860e-03, -6.42342838e-03,\n",
       "         1.66312186e-02,  3.34409633e-04, -2.96073229e-03,\n",
       "        -4.19981575e-03, -7.73926842e-03, -8.53357669e-03,\n",
       "        -2.37623306e-03, -6.84545567e-03,  1.55016585e-02,\n",
       "         1.15960954e-03,  6.07388644e-03,  0.00000000e+00,\n",
       "         4.03667346e-03,  0.00000000e+00, -3.54935029e-02,\n",
       "        -4.02072924e-02, -4.54058426e-02, -8.56645921e-03,\n",
       "        -1.28599107e-03, -2.13478220e-03,  3.50505240e-03,\n",
       "        -5.65223066e-03,  1.50287312e-02,  8.10953027e-03,\n",
       "         5.19209100e-03,  4.51093498e-03, -3.54634305e-03,\n",
       "         1.60894106e-03,  1.72143083e-03, -6.24099381e-03,\n",
       "         1.72143083e-03, -8.01644387e-03, -1.55215375e-02,\n",
       "         1.84059393e-02, -3.36801233e-03, -6.55359120e-03,\n",
       "         1.72143083e-03, -1.56556763e-03, -9.90166106e-03,\n",
       "        -5.53236840e-03,  9.96239539e-03,  1.72143083e-03,\n",
       "         1.92409764e-03,  9.76445297e-04, -2.18145752e-03,\n",
       "         8.17199479e-03, -7.45364666e-04,  2.21323351e-03,\n",
       "         1.07023543e-03, -2.99340477e-03,  1.90276931e-03,\n",
       "         0.00000000e+00, -4.43826251e-03,  3.32813040e-03,\n",
       "        -3.41988677e-03, -4.73253213e-03,  5.73621337e-03,\n",
       "        -1.55472489e-03, -4.66932416e-04,  5.28708841e-03,\n",
       "         1.59209062e-04, -9.22911791e-03,  1.43642469e-03,\n",
       "         1.01697594e-02,  8.49252013e-03,  1.15776182e-02,\n",
       "         9.10276926e-04,  1.95741440e-03,  6.85475012e-03,\n",
       "        -2.41147604e-03, -7.71356864e-04,  5.58004913e-03,\n",
       "         1.11123703e-02, -5.78765989e-03,  4.57290891e-03,\n",
       "         6.85475012e-03, -2.08667850e-03, -2.41966205e-04,\n",
       "        -6.71189042e-04,  3.09843608e-03]])"
      ]
     },
     "execution_count": 210,
     "metadata": {},
     "output_type": "execute_result"
    }
   ],
   "source": [
    "alpha = 6\n",
    "ridgex2 = Ridge(alpha=alpha)\n",
    "\n",
    "ridgex2.fit(X_train, y_train)\n",
    "ridgex2.coef_"
   ]
  },
  {
   "cell_type": "code",
   "execution_count": 211,
   "metadata": {},
   "outputs": [
    {
     "name": "stdout",
     "output_type": "stream",
     "text": [
      "0.0018155246901181226\n"
     ]
    }
   ],
   "source": [
    "predx2 = ridgex2.predict(X_test)           # Use this model to predict the test data\n",
    "print(mean_squared_error(y_test, predx2))"
   ]
  },
  {
   "cell_type": "markdown",
   "metadata": {},
   "source": [
    "## Lasso"
   ]
  },
  {
   "cell_type": "code",
   "execution_count": 169,
   "metadata": {},
   "outputs": [
    {
     "name": "stdout",
     "output_type": "stream",
     "text": [
      "Fitting 5 folds for each of 28 candidates, totalling 140 fits\n"
     ]
    },
    {
     "name": "stderr",
     "output_type": "stream",
     "text": [
      "[Parallel(n_jobs=1)]: Using backend SequentialBackend with 1 concurrent workers.\n",
      "[Parallel(n_jobs=1)]: Done 140 out of 140 | elapsed:    2.0s finished\n"
     ]
    },
    {
     "data": {
      "text/plain": [
       "GridSearchCV(cv=5, error_score='raise-deprecating',\n",
       "             estimator=Lasso(alpha=1.0, copy_X=True, fit_intercept=True,\n",
       "                             max_iter=1000, normalize=False, positive=False,\n",
       "                             precompute=False, random_state=None,\n",
       "                             selection='cyclic', tol=0.0001, warm_start=False),\n",
       "             iid='warn', n_jobs=None,\n",
       "             param_grid={'alpha': [0.0001, 0.001, 0.01, 0.05, 0.1, 0.2, 0.3,\n",
       "                                   0.4, 0.5, 0.6, 0.7, 0.8, 0.9, 1.0, 2.0, 3.0,\n",
       "                                   4.0, 5.0, 6.0, 7.0, 8.0, 9.0, 10.0, 20, 50,\n",
       "                                   100, 500, 1000]},\n",
       "             pre_dispatch='2*n_jobs', refit=True, return_train_score=True,\n",
       "             scoring='neg_mean_absolute_error', verbose=1)"
      ]
     },
     "execution_count": 169,
     "metadata": {},
     "output_type": "execute_result"
    }
   ],
   "source": [
    "lasso = Lasso()\n",
    "\n",
    "# cross validation\n",
    "model_cv = GridSearchCV(estimator = lasso, \n",
    "                        param_grid = params, \n",
    "                        scoring= 'neg_mean_absolute_error', \n",
    "                        cv = folds, \n",
    "                        return_train_score=True,\n",
    "                        verbose = 1)            \n",
    "\n",
    "model_cv.fit(X_train, y_train) "
   ]
  },
  {
   "cell_type": "code",
   "execution_count": 178,
   "metadata": {},
   "outputs": [
    {
     "data": {
      "text/html": [
       "<div>\n",
       "<style scoped>\n",
       "    .dataframe tbody tr th:only-of-type {\n",
       "        vertical-align: middle;\n",
       "    }\n",
       "\n",
       "    .dataframe tbody tr th {\n",
       "        vertical-align: top;\n",
       "    }\n",
       "\n",
       "    .dataframe thead th {\n",
       "        text-align: right;\n",
       "    }\n",
       "</style>\n",
       "<table border=\"1\" class=\"dataframe\">\n",
       "  <thead>\n",
       "    <tr style=\"text-align: right;\">\n",
       "      <th></th>\n",
       "      <th>mean_fit_time</th>\n",
       "      <th>std_fit_time</th>\n",
       "      <th>mean_score_time</th>\n",
       "      <th>std_score_time</th>\n",
       "      <th>param_alpha</th>\n",
       "      <th>params</th>\n",
       "      <th>split0_test_score</th>\n",
       "      <th>split1_test_score</th>\n",
       "      <th>split2_test_score</th>\n",
       "      <th>split3_test_score</th>\n",
       "      <th>...</th>\n",
       "      <th>mean_test_score</th>\n",
       "      <th>std_test_score</th>\n",
       "      <th>rank_test_score</th>\n",
       "      <th>split0_train_score</th>\n",
       "      <th>split1_train_score</th>\n",
       "      <th>split2_train_score</th>\n",
       "      <th>split3_train_score</th>\n",
       "      <th>split4_train_score</th>\n",
       "      <th>mean_train_score</th>\n",
       "      <th>std_train_score</th>\n",
       "    </tr>\n",
       "  </thead>\n",
       "  <tbody>\n",
       "    <tr>\n",
       "      <td>0</td>\n",
       "      <td>0.065351</td>\n",
       "      <td>0.015324</td>\n",
       "      <td>0.002522</td>\n",
       "      <td>0.000624</td>\n",
       "      <td>0.0001</td>\n",
       "      <td>{'alpha': 0.0001}</td>\n",
       "      <td>-0.024676</td>\n",
       "      <td>-0.027804</td>\n",
       "      <td>-0.030492</td>\n",
       "      <td>-0.025080</td>\n",
       "      <td>...</td>\n",
       "      <td>-0.027084</td>\n",
       "      <td>0.002099</td>\n",
       "      <td>1</td>\n",
       "      <td>-0.022117</td>\n",
       "      <td>-0.018986</td>\n",
       "      <td>-0.021516</td>\n",
       "      <td>-0.022326</td>\n",
       "      <td>-0.022337</td>\n",
       "      <td>-0.021456</td>\n",
       "      <td>0.001271</td>\n",
       "    </tr>\n",
       "    <tr>\n",
       "      <td>1</td>\n",
       "      <td>0.010725</td>\n",
       "      <td>0.000563</td>\n",
       "      <td>0.002086</td>\n",
       "      <td>0.000131</td>\n",
       "      <td>0.001</td>\n",
       "      <td>{'alpha': 0.001}</td>\n",
       "      <td>-0.027458</td>\n",
       "      <td>-0.035482</td>\n",
       "      <td>-0.033767</td>\n",
       "      <td>-0.030118</td>\n",
       "      <td>...</td>\n",
       "      <td>-0.032007</td>\n",
       "      <td>0.002864</td>\n",
       "      <td>2</td>\n",
       "      <td>-0.030351</td>\n",
       "      <td>-0.028714</td>\n",
       "      <td>-0.028934</td>\n",
       "      <td>-0.029993</td>\n",
       "      <td>-0.030352</td>\n",
       "      <td>-0.029669</td>\n",
       "      <td>0.000706</td>\n",
       "    </tr>\n",
       "    <tr>\n",
       "      <td>2</td>\n",
       "      <td>0.007474</td>\n",
       "      <td>0.000161</td>\n",
       "      <td>0.001955</td>\n",
       "      <td>0.000062</td>\n",
       "      <td>0.01</td>\n",
       "      <td>{'alpha': 0.01}</td>\n",
       "      <td>-0.054742</td>\n",
       "      <td>-0.060942</td>\n",
       "      <td>-0.058535</td>\n",
       "      <td>-0.051584</td>\n",
       "      <td>...</td>\n",
       "      <td>-0.057467</td>\n",
       "      <td>0.003792</td>\n",
       "      <td>3</td>\n",
       "      <td>-0.057742</td>\n",
       "      <td>-0.055420</td>\n",
       "      <td>-0.056559</td>\n",
       "      <td>-0.057565</td>\n",
       "      <td>-0.056581</td>\n",
       "      <td>-0.056773</td>\n",
       "      <td>0.000834</td>\n",
       "    </tr>\n",
       "    <tr>\n",
       "      <td>3</td>\n",
       "      <td>0.006006</td>\n",
       "      <td>0.000090</td>\n",
       "      <td>0.001955</td>\n",
       "      <td>0.000097</td>\n",
       "      <td>0.05</td>\n",
       "      <td>{'alpha': 0.05}</td>\n",
       "      <td>-0.080163</td>\n",
       "      <td>-0.083497</td>\n",
       "      <td>-0.077215</td>\n",
       "      <td>-0.075374</td>\n",
       "      <td>...</td>\n",
       "      <td>-0.079964</td>\n",
       "      <td>0.003289</td>\n",
       "      <td>4</td>\n",
       "      <td>-0.080493</td>\n",
       "      <td>-0.078356</td>\n",
       "      <td>-0.080482</td>\n",
       "      <td>-0.080665</td>\n",
       "      <td>-0.079347</td>\n",
       "      <td>-0.079869</td>\n",
       "      <td>0.000890</td>\n",
       "    </tr>\n",
       "    <tr>\n",
       "      <td>4</td>\n",
       "      <td>0.007261</td>\n",
       "      <td>0.001183</td>\n",
       "      <td>0.002366</td>\n",
       "      <td>0.000620</td>\n",
       "      <td>0.1</td>\n",
       "      <td>{'alpha': 0.1}</td>\n",
       "      <td>-0.080163</td>\n",
       "      <td>-0.083497</td>\n",
       "      <td>-0.077215</td>\n",
       "      <td>-0.075374</td>\n",
       "      <td>...</td>\n",
       "      <td>-0.079964</td>\n",
       "      <td>0.003289</td>\n",
       "      <td>4</td>\n",
       "      <td>-0.080493</td>\n",
       "      <td>-0.078356</td>\n",
       "      <td>-0.080482</td>\n",
       "      <td>-0.080665</td>\n",
       "      <td>-0.079347</td>\n",
       "      <td>-0.079869</td>\n",
       "      <td>0.000890</td>\n",
       "    </tr>\n",
       "  </tbody>\n",
       "</table>\n",
       "<p>5 rows × 21 columns</p>\n",
       "</div>"
      ],
      "text/plain": [
       "   mean_fit_time  std_fit_time  mean_score_time  std_score_time param_alpha  \\\n",
       "0       0.065351      0.015324         0.002522        0.000624      0.0001   \n",
       "1       0.010725      0.000563         0.002086        0.000131       0.001   \n",
       "2       0.007474      0.000161         0.001955        0.000062        0.01   \n",
       "3       0.006006      0.000090         0.001955        0.000097        0.05   \n",
       "4       0.007261      0.001183         0.002366        0.000620         0.1   \n",
       "\n",
       "              params  split0_test_score  split1_test_score  split2_test_score  \\\n",
       "0  {'alpha': 0.0001}          -0.024676          -0.027804          -0.030492   \n",
       "1   {'alpha': 0.001}          -0.027458          -0.035482          -0.033767   \n",
       "2    {'alpha': 0.01}          -0.054742          -0.060942          -0.058535   \n",
       "3    {'alpha': 0.05}          -0.080163          -0.083497          -0.077215   \n",
       "4     {'alpha': 0.1}          -0.080163          -0.083497          -0.077215   \n",
       "\n",
       "   split3_test_score  ...  mean_test_score  std_test_score  rank_test_score  \\\n",
       "0          -0.025080  ...        -0.027084        0.002099                1   \n",
       "1          -0.030118  ...        -0.032007        0.002864                2   \n",
       "2          -0.051584  ...        -0.057467        0.003792                3   \n",
       "3          -0.075374  ...        -0.079964        0.003289                4   \n",
       "4          -0.075374  ...        -0.079964        0.003289                4   \n",
       "\n",
       "   split0_train_score  split1_train_score  split2_train_score  \\\n",
       "0           -0.022117           -0.018986           -0.021516   \n",
       "1           -0.030351           -0.028714           -0.028934   \n",
       "2           -0.057742           -0.055420           -0.056559   \n",
       "3           -0.080493           -0.078356           -0.080482   \n",
       "4           -0.080493           -0.078356           -0.080482   \n",
       "\n",
       "   split3_train_score  split4_train_score  mean_train_score  std_train_score  \n",
       "0           -0.022326           -0.022337         -0.021456         0.001271  \n",
       "1           -0.029993           -0.030352         -0.029669         0.000706  \n",
       "2           -0.057565           -0.056581         -0.056773         0.000834  \n",
       "3           -0.080665           -0.079347         -0.079869         0.000890  \n",
       "4           -0.080665           -0.079347         -0.079869         0.000890  \n",
       "\n",
       "[5 rows x 21 columns]"
      ]
     },
     "execution_count": 178,
     "metadata": {},
     "output_type": "execute_result"
    }
   ],
   "source": [
    "cv_results = pd.DataFrame(model_cv.cv_results_)\n",
    "cv_results = cv_results[cv_results['param_alpha']<=1]\n",
    "cv_results.head()"
   ]
  },
  {
   "cell_type": "code",
   "execution_count": 188,
   "metadata": {},
   "outputs": [
    {
     "data": {
      "image/png": "[encoded data removed]",
      "text/plain": [
       "<Figure size 432x288 with 1 Axes>"
      ]
     },
     "metadata": {
      "needs_background": "light"
     },
     "output_type": "display_data"
    }
   ],
   "source": [
    "# plotting mean test and train scores with alpha \n",
    "cv_results['param_alpha'] = cv_results['param_alpha'].astype('float32')\n",
    "\n",
    "# plotting\n",
    "plt.plot(np.log10(cv_results['param_alpha']), cv_results['mean_train_score'])\n",
    "plt.plot(np.log10(cv_results['param_alpha']), cv_results['mean_test_score'])\n",
    "plt.xlabel('log10(alpha)')\n",
    "plt.ylabel('Negative Mean Absolute Error')\n",
    "\n",
    "plt.title(\"Negative Mean Absolute Error and alpha\")\n",
    "plt.legend(['train score', 'test score'], loc='upper left')\n",
    "plt.show()"
   ]
  },
  {
   "cell_type": "code",
   "execution_count": 189,
   "metadata": {},
   "outputs": [
    {
     "data": {
      "text/plain": [
       "Lasso(alpha=-3, copy_X=True, fit_intercept=True, max_iter=1000, normalize=False,\n",
       "      positive=False, precompute=False, random_state=None, selection='cyclic',\n",
       "      tol=0.0001, warm_start=False)"
      ]
     },
     "execution_count": 189,
     "metadata": {},
     "output_type": "execute_result"
    }
   ],
   "source": [
    "alpha =-3\n",
    "\n",
    "lasso = Lasso(alpha=alpha)\n",
    "        \n",
    "lasso.fit(X_train, y_train) "
   ]
  },
  {
   "cell_type": "code",
   "execution_count": 190,
   "metadata": {},
   "outputs": [
    {
     "data": {
      "text/plain": [
       "array([ 3.72586165e+03, -9.02406975e+03, -2.54547774e+03,  8.06009992e+05,\n",
       "        2.13422432e+05,  3.32290331e+05, -8.68126811e+05,  5.16557740e+05,\n",
       "        2.38307665e+05,  6.72709595e+04, -6.19907317e+05, -1.67284226e+03,\n",
       "       -1.65600460e+03, -1.59893184e+03, -1.84389663e+03, -4.37047638e+03,\n",
       "        1.39669173e+04,  2.24022041e+03, -1.12853100e+03, -9.30411491e+02,\n",
       "        1.19587942e+03,  7.85527927e+02,  6.46598269e+02, -7.12854983e+02,\n",
       "       -4.85600949e+03, -1.62009310e+03,  1.13676128e+04,  2.19425382e+05,\n",
       "       -1.18854447e+02, -5.06743261e+02, -1.26556243e+04, -3.34414993e+03,\n",
       "       -2.23078201e+03, -2.73147831e+03, -5.31591495e+03, -1.26970363e+04,\n",
       "       -1.35456917e+03, -1.52425071e+03,  6.74133016e+02,  3.77687775e+03,\n",
       "        1.78827713e+02, -2.60627620e+03, -2.48562177e+03, -1.18461808e+03,\n",
       "        1.50960279e+04,  5.73894802e+02,  3.84372991e+02, -3.38387082e+03,\n",
       "        6.48916372e+01,  7.72415470e+02, -4.31475081e+02,  1.96151081e+04,\n",
       "        1.15981764e+04,  1.68947152e+04,  1.42884914e+04,  9.96901533e+03,\n",
       "        1.32310636e+04,  1.32790390e+04,  1.07528104e+04,  1.64217377e+04,\n",
       "        1.30003754e+04,  1.06943998e+04,  1.26605991e+04,  1.22164707e+04,\n",
       "        1.23080621e+04,  1.04661606e+04,  8.48646064e+03,  1.38633375e+04,\n",
       "        1.49186407e+04,  1.25305253e+04,  1.05232957e+04,  9.66565784e+03,\n",
       "        9.18078710e+03,  1.02846886e+04,  1.12299862e+04, -1.64854336e+03,\n",
       "       -1.26597079e+03, -3.36190820e+03, -2.43137865e+03, -5.92322864e+02,\n",
       "       -3.41235985e+03, -2.48502715e+03, -3.82209780e+03,  2.74372501e+04,\n",
       "        1.90368905e+04,  3.25244269e+04,  1.45626384e+04,  1.30716316e+05,\n",
       "        2.22526465e+04,  2.94505483e+04, -4.47234111e+03, -3.48029390e+03,\n",
       "        2.85752317e+03,  3.37950849e+03,  8.09608185e+02, -1.54445979e+03,\n",
       "        6.15907781e+03,  1.22942677e+03,  1.54722785e+03, -8.72136195e+02,\n",
       "       -9.88352221e+02,  2.23453364e+04,  1.86352173e+04,  2.24570078e+04,\n",
       "        2.63228256e+04,  2.60581236e+04,  5.27463039e+04,  8.29344793e+04,\n",
       "        7.64996100e+04,  5.60152586e+04,  7.02942212e+04,  5.00729303e+04,\n",
       "        5.31279865e+04,  6.09921362e+06,  4.91339160e+04,  3.65042531e+04,\n",
       "       -6.13956589e+06,  3.69764191e+04,  3.32439265e+04,  3.98750716e+04,\n",
       "        3.28267768e+04,  3.28037868e+04,  3.79574029e+04,  3.58739479e+04,\n",
       "        2.92745597e+04,  3.31190813e+04,  3.45411763e+04, -6.10641841e+06,\n",
       "       -4.04582476e+04, -3.76829430e+04,  6.15566643e+06, -3.93216922e+04,\n",
       "       -3.39352351e+04, -3.68748952e+04, -3.44838836e+04,  0.00000000e+00,\n",
       "       -3.42695287e+04, -3.85189837e+04, -3.37921812e+04, -3.03079951e+04,\n",
       "       -3.41647320e+04, -3.46198712e+04, -1.08592055e+03, -1.18323499e+03,\n",
       "       -9.42289440e+02, -2.22853420e+03, -1.52276402e+04, -1.56323982e+03,\n",
       "       -1.57336332e+03,  8.93757965e+03,  1.13879797e+04,  0.00000000e+00,\n",
       "        1.19044793e+04,  1.03257083e+03,  1.45707392e+01, -2.51415427e+03,\n",
       "       -4.62739799e+03,  2.88567989e+03,  1.91378377e+03,  4.67519353e+02,\n",
       "        5.23649952e+02,  2.12017623e+05, -1.41010910e+03,  2.76182211e+04,\n",
       "       -9.75085667e+02, -2.18352639e+05,  8.19248978e+02,  3.76595788e+02,\n",
       "        3.56121117e+02,  6.58703409e+03, -4.87871746e+02, -1.15450669e+03,\n",
       "       -1.47328742e+03, -6.12139983e+02, -6.76793611e+03, -8.85465193e+02,\n",
       "       -2.21114670e+03, -3.81035359e+03, -3.58728449e+03, -3.84166540e+03,\n",
       "        4.66592524e+03, -1.50767451e+03, -1.47898575e+04, -1.19192995e+04,\n",
       "       -1.34859079e+04, -1.09560791e+04, -9.24326010e+03, -1.34641182e+03,\n",
       "       -2.15043640e+02, -3.99048205e+03, -1.22253635e+02,  6.94336290e+02,\n",
       "        6.38693278e+02,  9.83624238e+03,  0.00000000e+00,  1.57609626e+03,\n",
       "        0.00000000e+00,  2.37435479e+03,  7.78459859e+02,  9.59489583e+02,\n",
       "        7.59381893e+03,  4.37174102e+03,  7.24985113e+03,  2.25605665e+03,\n",
       "        1.84229464e+04,  6.80740975e+03, -1.84616282e+04, -2.29347313e+04,\n",
       "       -1.83278335e+04, -2.22580255e+04, -1.99136427e+04,  9.31231447e+04,\n",
       "       -3.14226159e+02, -1.12074729e+05,  7.91261279e+02,  1.00781995e+05,\n",
       "        1.01223108e+05,  1.06383329e+05,  9.84016965e+04,  2.08630921e+05,\n",
       "       -9.99522611e+04, -1.02225530e+05, -1.07256731e+05, -9.96307836e+04,\n",
       "       -2.09446167e+05, -5.02338262e+02,  5.22331028e+02,  5.49515825e+02,\n",
       "        6.95832595e+02, -1.79087272e+03,  6.03902015e+02,  2.26531297e+05,\n",
       "        2.16390908e+05,  2.17825228e+05,  0.00000000e+00,  4.95437675e+02,\n",
       "        8.77429299e+02,  6.79758518e+02,  1.33021929e+03, -1.29826740e+02,\n",
       "        8.03611272e+02,  1.14076294e+03,  1.17549876e+03,  4.45468300e+02,\n",
       "        8.93950900e+02,  8.10963506e+02, -1.87380465e+03, -3.39827232e+03,\n",
       "        4.52984859e+03,  1.52101630e+03,  3.30543484e+03,  8.36037563e+04,\n",
       "        5.00682613e+03,  1.29864879e+03,  1.18749507e+04,  2.02853018e+03,\n",
       "       -5.48182853e+02,  3.23008520e+02, -8.14228459e+04, -1.95193116e+03,\n",
       "       -3.17393375e+03, -3.36940056e+03,  2.29877385e+03])"
      ]
     },
     "execution_count": 190,
     "metadata": {},
     "output_type": "execute_result"
    }
   ],
   "source": [
    "lasso.coef_"
   ]
  },
  {
   "cell_type": "code",
   "execution_count": 191,
   "metadata": {},
   "outputs": [
    {
     "name": "stdout",
     "output_type": "stream",
     "text": [
      "168506587576.35117\n"
     ]
    }
   ],
   "source": [
    "pred = lasso.predict(X_test)           # Use this model to predict the test data\n",
    "print(mean_squared_error(y_test, pred))"
   ]
  },
  {
   "cell_type": "markdown",
   "metadata": {},
   "source": [
    "## Elastic Net"
   ]
  },
  {
   "cell_type": "code",
   "execution_count": null,
   "metadata": {},
   "outputs": [],
   "source": []
  },
  {
   "cell_type": "code",
   "execution_count": 99,
   "metadata": {},
   "outputs": [
    {
     "name": "stdout",
     "output_type": "stream",
     "text": [
      "Fitting 5 folds for each of 28 candidates, totalling 140 fits\n"
     ]
    },
    {
     "name": "stderr",
     "output_type": "stream",
     "text": [
      "[Parallel(n_jobs=1)]: Using backend SequentialBackend with 1 concurrent workers.\n",
      "[Parallel(n_jobs=1)]: Done 140 out of 140 | elapsed:    2.4s finished\n"
     ]
    },
    {
     "data": {
      "text/plain": [
       "GridSearchCV(cv=5, error_score='raise-deprecating',\n",
       "             estimator=ElasticNet(alpha=1.0, copy_X=True, fit_intercept=True,\n",
       "                                  l1_ratio=0.5, max_iter=1000, normalize=False,\n",
       "                                  positive=False, precompute=False,\n",
       "                                  random_state=None, selection='cyclic',\n",
       "                                  tol=0.0001, warm_start=False),\n",
       "             iid='warn', n_jobs=None,\n",
       "             param_grid={'alpha': [0.0001, 0.001, 0.01, 0.05, 0.1, 0.2, 0.3,\n",
       "                                   0.4, 0.5, 0.6, 0.7, 0.8, 0.9, 1.0, 2.0, 3.0,\n",
       "                                   4.0, 5.0, 6.0, 7.0, 8.0, 9.0, 10.0, 20, 50,\n",
       "                                   100, 500, 1000]},\n",
       "             pre_dispatch='2*n_jobs', refit=True, return_train_score=True,\n",
       "             scoring='neg_mean_absolute_error', verbose=1)"
      ]
     },
     "execution_count": 99,
     "metadata": {},
     "output_type": "execute_result"
    }
   ],
   "source": [
    "elasticnet = ElasticNet()\n",
    "\n",
    "# cross validation\n",
    "model_cv = GridSearchCV(estimator = elasticnet, \n",
    "                        param_grid = params, \n",
    "                        scoring= 'neg_mean_absolute_error', \n",
    "                        cv = folds, \n",
    "                        return_train_score=True,\n",
    "                        verbose = 1)            \n",
    "\n",
    "model_cv.fit(X_train, y_train) "
   ]
  },
  {
   "cell_type": "code",
   "execution_count": 100,
   "metadata": {},
   "outputs": [
    {
     "data": {
      "text/html": [
       "<div>\n",
       "<style scoped>\n",
       "    .dataframe tbody tr th:only-of-type {\n",
       "        vertical-align: middle;\n",
       "    }\n",
       "\n",
       "    .dataframe tbody tr th {\n",
       "        vertical-align: top;\n",
       "    }\n",
       "\n",
       "    .dataframe thead th {\n",
       "        text-align: right;\n",
       "    }\n",
       "</style>\n",
       "<table border=\"1\" class=\"dataframe\">\n",
       "  <thead>\n",
       "    <tr style=\"text-align: right;\">\n",
       "      <th></th>\n",
       "      <th>mean_fit_time</th>\n",
       "      <th>std_fit_time</th>\n",
       "      <th>mean_score_time</th>\n",
       "      <th>std_score_time</th>\n",
       "      <th>param_alpha</th>\n",
       "      <th>params</th>\n",
       "      <th>split0_test_score</th>\n",
       "      <th>split1_test_score</th>\n",
       "      <th>split2_test_score</th>\n",
       "      <th>split3_test_score</th>\n",
       "      <th>...</th>\n",
       "      <th>mean_test_score</th>\n",
       "      <th>std_test_score</th>\n",
       "      <th>rank_test_score</th>\n",
       "      <th>split0_train_score</th>\n",
       "      <th>split1_train_score</th>\n",
       "      <th>split2_train_score</th>\n",
       "      <th>split3_train_score</th>\n",
       "      <th>split4_train_score</th>\n",
       "      <th>mean_train_score</th>\n",
       "      <th>std_train_score</th>\n",
       "    </tr>\n",
       "  </thead>\n",
       "  <tbody>\n",
       "    <tr>\n",
       "      <td>0</td>\n",
       "      <td>0.115884</td>\n",
       "      <td>0.031810</td>\n",
       "      <td>0.002594</td>\n",
       "      <td>0.000884</td>\n",
       "      <td>0.0001</td>\n",
       "      <td>{'alpha': 0.0001}</td>\n",
       "      <td>-0.025713</td>\n",
       "      <td>-0.027929</td>\n",
       "      <td>-0.030112</td>\n",
       "      <td>-0.025746</td>\n",
       "      <td>...</td>\n",
       "      <td>-0.027904</td>\n",
       "      <td>0.001943</td>\n",
       "      <td>1</td>\n",
       "      <td>-0.020938</td>\n",
       "      <td>-0.018127</td>\n",
       "      <td>-0.020635</td>\n",
       "      <td>-0.021035</td>\n",
       "      <td>-0.021457</td>\n",
       "      <td>-0.020438</td>\n",
       "      <td>0.001185</td>\n",
       "    </tr>\n",
       "    <tr>\n",
       "      <td>1</td>\n",
       "      <td>0.022070</td>\n",
       "      <td>0.001991</td>\n",
       "      <td>0.002110</td>\n",
       "      <td>0.000268</td>\n",
       "      <td>0.001</td>\n",
       "      <td>{'alpha': 0.001}</td>\n",
       "      <td>-0.024617</td>\n",
       "      <td>-0.031388</td>\n",
       "      <td>-0.030766</td>\n",
       "      <td>-0.027019</td>\n",
       "      <td>...</td>\n",
       "      <td>-0.028588</td>\n",
       "      <td>0.002498</td>\n",
       "      <td>2</td>\n",
       "      <td>-0.026596</td>\n",
       "      <td>-0.024340</td>\n",
       "      <td>-0.025055</td>\n",
       "      <td>-0.026478</td>\n",
       "      <td>-0.026629</td>\n",
       "      <td>-0.025820</td>\n",
       "      <td>0.000945</td>\n",
       "    </tr>\n",
       "    <tr>\n",
       "      <td>2</td>\n",
       "      <td>0.012634</td>\n",
       "      <td>0.002441</td>\n",
       "      <td>0.003013</td>\n",
       "      <td>0.001032</td>\n",
       "      <td>0.01</td>\n",
       "      <td>{'alpha': 0.01}</td>\n",
       "      <td>-0.043294</td>\n",
       "      <td>-0.051605</td>\n",
       "      <td>-0.046937</td>\n",
       "      <td>-0.042459</td>\n",
       "      <td>...</td>\n",
       "      <td>-0.047083</td>\n",
       "      <td>0.003812</td>\n",
       "      <td>3</td>\n",
       "      <td>-0.047211</td>\n",
       "      <td>-0.045377</td>\n",
       "      <td>-0.045719</td>\n",
       "      <td>-0.046900</td>\n",
       "      <td>-0.046171</td>\n",
       "      <td>-0.046276</td>\n",
       "      <td>0.000692</td>\n",
       "    </tr>\n",
       "    <tr>\n",
       "      <td>3</td>\n",
       "      <td>0.007400</td>\n",
       "      <td>0.001209</td>\n",
       "      <td>0.002816</td>\n",
       "      <td>0.000429</td>\n",
       "      <td>0.05</td>\n",
       "      <td>{'alpha': 0.05}</td>\n",
       "      <td>-0.072985</td>\n",
       "      <td>-0.077280</td>\n",
       "      <td>-0.071154</td>\n",
       "      <td>-0.067498</td>\n",
       "      <td>...</td>\n",
       "      <td>-0.073244</td>\n",
       "      <td>0.003747</td>\n",
       "      <td>4</td>\n",
       "      <td>-0.073621</td>\n",
       "      <td>-0.072232</td>\n",
       "      <td>-0.072946</td>\n",
       "      <td>-0.074050</td>\n",
       "      <td>-0.072596</td>\n",
       "      <td>-0.073089</td>\n",
       "      <td>0.000664</td>\n",
       "    </tr>\n",
       "    <tr>\n",
       "      <td>4</td>\n",
       "      <td>0.008084</td>\n",
       "      <td>0.001247</td>\n",
       "      <td>0.002706</td>\n",
       "      <td>0.000524</td>\n",
       "      <td>0.1</td>\n",
       "      <td>{'alpha': 0.1}</td>\n",
       "      <td>-0.080163</td>\n",
       "      <td>-0.083497</td>\n",
       "      <td>-0.077215</td>\n",
       "      <td>-0.075374</td>\n",
       "      <td>...</td>\n",
       "      <td>-0.079964</td>\n",
       "      <td>0.003289</td>\n",
       "      <td>5</td>\n",
       "      <td>-0.080493</td>\n",
       "      <td>-0.078356</td>\n",
       "      <td>-0.080482</td>\n",
       "      <td>-0.080665</td>\n",
       "      <td>-0.079347</td>\n",
       "      <td>-0.079869</td>\n",
       "      <td>0.000890</td>\n",
       "    </tr>\n",
       "  </tbody>\n",
       "</table>\n",
       "<p>5 rows × 21 columns</p>\n",
       "</div>"
      ],
      "text/plain": [
       "   mean_fit_time  std_fit_time  mean_score_time  std_score_time param_alpha  \\\n",
       "0       0.115884      0.031810         0.002594        0.000884      0.0001   \n",
       "1       0.022070      0.001991         0.002110        0.000268       0.001   \n",
       "2       0.012634      0.002441         0.003013        0.001032        0.01   \n",
       "3       0.007400      0.001209         0.002816        0.000429        0.05   \n",
       "4       0.008084      0.001247         0.002706        0.000524         0.1   \n",
       "\n",
       "              params  split0_test_score  split1_test_score  split2_test_score  \\\n",
       "0  {'alpha': 0.0001}          -0.025713          -0.027929          -0.030112   \n",
       "1   {'alpha': 0.001}          -0.024617          -0.031388          -0.030766   \n",
       "2    {'alpha': 0.01}          -0.043294          -0.051605          -0.046937   \n",
       "3    {'alpha': 0.05}          -0.072985          -0.077280          -0.071154   \n",
       "4     {'alpha': 0.1}          -0.080163          -0.083497          -0.077215   \n",
       "\n",
       "   split3_test_score  ...  mean_test_score  std_test_score  rank_test_score  \\\n",
       "0          -0.025746  ...        -0.027904        0.001943                1   \n",
       "1          -0.027019  ...        -0.028588        0.002498                2   \n",
       "2          -0.042459  ...        -0.047083        0.003812                3   \n",
       "3          -0.067498  ...        -0.073244        0.003747                4   \n",
       "4          -0.075374  ...        -0.079964        0.003289                5   \n",
       "\n",
       "   split0_train_score  split1_train_score  split2_train_score  \\\n",
       "0           -0.020938           -0.018127           -0.020635   \n",
       "1           -0.026596           -0.024340           -0.025055   \n",
       "2           -0.047211           -0.045377           -0.045719   \n",
       "3           -0.073621           -0.072232           -0.072946   \n",
       "4           -0.080493           -0.078356           -0.080482   \n",
       "\n",
       "   split3_train_score  split4_train_score  mean_train_score  std_train_score  \n",
       "0           -0.021035           -0.021457         -0.020438         0.001185  \n",
       "1           -0.026478           -0.026629         -0.025820         0.000945  \n",
       "2           -0.046900           -0.046171         -0.046276         0.000692  \n",
       "3           -0.074050           -0.072596         -0.073089         0.000664  \n",
       "4           -0.080665           -0.079347         -0.079869         0.000890  \n",
       "\n",
       "[5 rows x 21 columns]"
      ]
     },
     "execution_count": 100,
     "metadata": {},
     "output_type": "execute_result"
    }
   ],
   "source": [
    "cv_results = pd.DataFrame(model_cv.cv_results_)\n",
    "cv_results.head()"
   ]
  },
  {
   "cell_type": "code",
   "execution_count": 200,
   "metadata": {},
   "outputs": [
    {
     "data": {
      "image/png": "[encoded data removed]",
      "text/plain": [
       "<Figure size 432x288 with 1 Axes>"
      ]
     },
     "metadata": {
      "needs_background": "light"
     },
     "output_type": "display_data"
    }
   ],
   "source": [
    "# plotting mean test and train scores with alpha \n",
    "cv_results['param_alpha'] = cv_results['param_alpha'].astype('float32')\n",
    "\n",
    "# plotting\n",
    "plt.plot(np.log10(cv_results['param_alpha']), cv_results['mean_train_score'])\n",
    "plt.plot(np.log10(cv_results['param_alpha']), cv_results['mean_test_score'])\n",
    "plt.xlabel('log10(alpha)')\n",
    "plt.ylabel('Negative Mean Absolute Error')\n",
    "\n",
    "plt.title(\"Negative Mean Absolute Error and alpha\")\n",
    "plt.legend(['train score', 'test score'], loc='upper left')\n",
    "plt.show()"
   ]
  },
  {
   "cell_type": "code",
   "execution_count": 194,
   "metadata": {},
   "outputs": [
    {
     "data": {
      "text/plain": [
       "ElasticNet(alpha=-3, copy_X=True, fit_intercept=True, l1_ratio=0.5,\n",
       "           max_iter=1000, normalize=False, positive=False, precompute=False,\n",
       "           random_state=None, selection='cyclic', tol=0.0001, warm_start=False)"
      ]
     },
     "execution_count": 194,
     "metadata": {},
     "output_type": "execute_result"
    }
   ],
   "source": [
    "alpha = -3\n",
    "\n",
    "elasticnet = ElasticNet(alpha=alpha)\n",
    "        \n",
    "elasticnet.fit(X_train, y_train) "
   ]
  },
  {
   "cell_type": "code",
   "execution_count": 195,
   "metadata": {},
   "outputs": [
    {
     "data": {
      "text/plain": [
       "array([0., 0., 0., 0., 0., 0., 0., 0., 0., 0., 0., 0., 0., 0., 0., 0., 0.,\n",
       "       0., 0., 0., 0., 0., 0., 0., 0., 0., 0., 0., 0., 0., 0., 0., 0., 0.,\n",
       "       0., 0., 0., 0., 0., 0., 0., 0., 0., 0., 0., 0., 0., 0., 0., 0., 0.,\n",
       "       0., 0., 0., 0., 0., 0., 0., 0., 0., 0., 0., 0., 0., 0., 0., 0., 0.,\n",
       "       0., 0., 0., 0., 0., 0., 0., 0., 0., 0., 0., 0., 0., 0., 0., 0., 0.,\n",
       "       0., 0., 0., 0., 0., 0., 0., 0., 0., 0., 0., 0., 0., 0., 0., 0., 0.,\n",
       "       0., 0., 0., 0., 0., 0., 0., 0., 0., 0., 0., 0., 0., 0., 0., 0., 0.,\n",
       "       0., 0., 0., 0., 0., 0., 0., 0., 0., 0., 0., 0., 0., 0., 0., 0., 0.,\n",
       "       0., 0., 0., 0., 0., 0., 0., 0., 0., 0., 0., 0., 0., 0., 0., 0., 0.,\n",
       "       0., 0., 0., 0., 0., 0., 0., 0., 0., 0., 0., 0., 0., 0., 0., 0., 0.,\n",
       "       0., 0., 0., 0., 0., 0., 0., 0., 0., 0., 0., 0., 0., 0., 0., 0., 0.,\n",
       "       0., 0., 0., 0., 0., 0., 0., 0., 0., 0., 0., 0., 0., 0., 0., 0., 0.,\n",
       "       0., 0., 0., 0., 0., 0., 0., 0., 0., 0., 0., 0., 0., 0., 0., 0., 0.,\n",
       "       0., 0., 0., 0., 0., 0., 0., 0., 0., 0., 0., 0., 0., 0., 0., 0., 0.,\n",
       "       0., 0., 0., 0., 0., 0., 0., 0., 0., 0., 0., 0., 0., 0., 0., 0., 0.,\n",
       "       0., 0., 0., 0., 0., 0., 0., 0.])"
      ]
     },
     "execution_count": 195,
     "metadata": {},
     "output_type": "execute_result"
    }
   ],
   "source": [
    "elasticnet.coef_"
   ]
  },
  {
   "cell_type": "markdown",
   "metadata": {},
   "source": [
    "## Forward Feature election"
   ]
  },
  {
   "cell_type": "code",
   "execution_count": 196,
   "metadata": {},
   "outputs": [],
   "source": [
    "def calculate_aic(n, mse, num_params):\n",
    "    aic = n * np.log(mse) + 2 * num_params\n",
    "    return aic\n",
    "\n",
    "def calculate_bic(n, mse, num_params):\n",
    "    bic = n * np.log(mse) + np.log(n) * num_params\n",
    "    return bic"
   ]
  },
  {
   "cell_type": "code",
   "execution_count": 208,
   "metadata": {},
   "outputs": [
    {
     "name": "stdout",
     "output_type": "stream",
     "text": [
      "Selected features:  ['GrLivArea'] \n",
      "AIC:  -5264.616521384639 \n",
      "BIC:  -5254.759445748309\n",
      "Selected features:  ['GrLivArea', 'Age_Of House'] \n",
      "AIC:  -5601.150722399549 \n",
      "BIC:  -5591.293646763219\n",
      "Selected features:  ['GrLivArea', 'Age_Of House', 'TotalBsmtSF'] \n",
      "AIC:  -5769.453648791345 \n",
      "BIC:  -5759.596573155015\n",
      "Selected features:  ['GrLivArea', 'Age_Of House', 'TotalBsmtSF', 'Neighborhood_NridgHt'] \n",
      "AIC:  -5875.1446207141 \n",
      "BIC:  -5865.28754507777\n",
      "Selected features:  ['GrLivArea', 'Age_Of House', 'TotalBsmtSF', 'Neighborhood_NridgHt', 'Neighborhood_StoneBr'] \n",
      "AIC:  -5989.293923651674 \n",
      "BIC:  -5979.436848015344\n",
      "Selected features:  ['GrLivArea', 'Age_Of House', 'TotalBsmtSF', 'Neighborhood_NridgHt', 'Neighborhood_StoneBr', 'GarageCars'] \n",
      "AIC:  -6047.377564489746 \n",
      "BIC:  -6037.520488853416\n",
      "Selected features:  ['GrLivArea', 'Age_Of House', 'TotalBsmtSF', 'Neighborhood_NridgHt', 'Neighborhood_StoneBr', 'GarageCars', 'BsmtFinSF1'] \n",
      "AIC:  -6099.025817724632 \n",
      "BIC:  -6089.168742088303\n",
      "Selected features:  ['GrLivArea', 'Age_Of House', 'TotalBsmtSF', 'Neighborhood_NridgHt', 'Neighborhood_StoneBr', 'GarageCars', 'BsmtFinSF1', 'KitchenQual_TA'] \n",
      "AIC:  -6165.067513281114 \n",
      "BIC:  -6155.210437644784\n",
      "Selected features:  ['GrLivArea', 'Age_Of House', 'TotalBsmtSF', 'Neighborhood_NridgHt', 'Neighborhood_StoneBr', 'GarageCars', 'BsmtFinSF1', 'KitchenQual_TA', 'KitchenQual_Gd'] \n",
      "AIC:  -6213.875136076709 \n",
      "BIC:  -6204.0180604403795\n",
      "Selected features:  ['GrLivArea', 'Age_Of House', 'TotalBsmtSF', 'Neighborhood_NridgHt', 'Neighborhood_StoneBr', 'GarageCars', 'BsmtFinSF1', 'KitchenQual_TA', 'KitchenQual_Gd', 'KitchenQual_Fa'] \n",
      "AIC:  -6256.661375317346 \n",
      "BIC:  -6246.804299681016\n",
      "Selected features:  ['GrLivArea', 'Age_Of House', 'TotalBsmtSF', 'Neighborhood_NridgHt', 'Neighborhood_StoneBr', 'GarageCars', 'BsmtFinSF1', 'KitchenQual_TA', 'KitchenQual_Gd', 'KitchenQual_Fa', 'BldgType_TwnhsE'] \n",
      "AIC:  -6294.500180176768 \n",
      "BIC:  -6284.643104540438\n",
      "Selected features:  ['GrLivArea', 'Age_Of House', 'TotalBsmtSF', 'Neighborhood_NridgHt', 'Neighborhood_StoneBr', 'GarageCars', 'BsmtFinSF1', 'KitchenQual_TA', 'KitchenQual_Gd', 'KitchenQual_Fa', 'BldgType_TwnhsE', 'Neighborhood_Crawfor'] \n",
      "AIC:  -6333.1611572562415 \n",
      "BIC:  -6323.304081619912\n",
      "Selected features:  ['GrLivArea', 'Age_Of House', 'TotalBsmtSF', 'Neighborhood_NridgHt', 'Neighborhood_StoneBr', 'GarageCars', 'BsmtFinSF1', 'KitchenQual_TA', 'KitchenQual_Gd', 'KitchenQual_Fa', 'BldgType_TwnhsE', 'Neighborhood_Crawfor', 'KitchenAbvGr'] \n",
      "AIC:  -6364.658972665928 \n",
      "BIC:  -6354.801897029598\n",
      "Selected features:  ['GrLivArea', 'Age_Of House', 'TotalBsmtSF', 'Neighborhood_NridgHt', 'Neighborhood_StoneBr', 'GarageCars', 'BsmtFinSF1', 'KitchenQual_TA', 'KitchenQual_Gd', 'KitchenQual_Fa', 'BldgType_TwnhsE', 'Neighborhood_Crawfor', 'KitchenAbvGr', 'SaleType_New'] \n",
      "AIC:  -6387.760172389045 \n",
      "BIC:  -6377.903096752715\n",
      "Selected features:  ['GrLivArea', 'Age_Of House', 'TotalBsmtSF', 'Neighborhood_NridgHt', 'Neighborhood_StoneBr', 'GarageCars', 'BsmtFinSF1', 'KitchenQual_TA', 'KitchenQual_Gd', 'KitchenQual_Fa', 'BldgType_TwnhsE', 'Neighborhood_Crawfor', 'KitchenAbvGr', 'SaleType_New', 'SaleCondition_Normal'] \n",
      "AIC:  -6413.766333136842 \n",
      "BIC:  -6403.9092575005125\n",
      "Selected features:  ['GrLivArea', 'Age_Of House', 'TotalBsmtSF', 'Neighborhood_NridgHt', 'Neighborhood_StoneBr', 'GarageCars', 'BsmtFinSF1', 'KitchenQual_TA', 'KitchenQual_Gd', 'KitchenQual_Fa', 'BldgType_TwnhsE', 'Neighborhood_Crawfor', 'KitchenAbvGr', 'SaleType_New', 'SaleCondition_Normal', 'LotShape_IR2'] \n",
      "AIC:  -6436.2964985585495 \n",
      "BIC:  -6426.43942292222\n",
      "Selected features:  ['GrLivArea', 'Age_Of House', 'TotalBsmtSF', 'Neighborhood_NridgHt', 'Neighborhood_StoneBr', 'GarageCars', 'BsmtFinSF1', 'KitchenQual_TA', 'KitchenQual_Gd', 'KitchenQual_Fa', 'BldgType_TwnhsE', 'Neighborhood_Crawfor', 'KitchenAbvGr', 'SaleType_New', 'SaleCondition_Normal', 'LotShape_IR2', 'MasVnrArea'] \n",
      "AIC:  -6456.121856963923 \n",
      "BIC:  -6446.2647813275935\n",
      "Selected features:  ['GrLivArea', 'Age_Of House', 'TotalBsmtSF', 'Neighborhood_NridgHt', 'Neighborhood_StoneBr', 'GarageCars', 'BsmtFinSF1', 'KitchenQual_TA', 'KitchenQual_Gd', 'KitchenQual_Fa', 'BldgType_TwnhsE', 'Neighborhood_Crawfor', 'KitchenAbvGr', 'SaleType_New', 'SaleCondition_Normal', 'LotShape_IR2', 'MasVnrArea', 'ScreenPorch'] \n",
      "AIC:  -6475.037898122822 \n",
      "BIC:  -6465.180822486493\n",
      "Selected features:  ['GrLivArea', 'Age_Of House', 'TotalBsmtSF', 'Neighborhood_NridgHt', 'Neighborhood_StoneBr', 'GarageCars', 'BsmtFinSF1', 'KitchenQual_TA', 'KitchenQual_Gd', 'KitchenQual_Fa', 'BldgType_TwnhsE', 'Neighborhood_Crawfor', 'KitchenAbvGr', 'SaleType_New', 'SaleCondition_Normal', 'LotShape_IR2', 'MasVnrArea', 'ScreenPorch', 'Functional_Typ'] \n",
      "AIC:  -6489.137276633917 \n",
      "BIC:  -6479.280200997588\n",
      "Selected features:  ['GrLivArea', 'Age_Of House', 'TotalBsmtSF', 'Neighborhood_NridgHt', 'Neighborhood_StoneBr', 'GarageCars', 'BsmtFinSF1', 'KitchenQual_TA', 'KitchenQual_Gd', 'KitchenQual_Fa', 'BldgType_TwnhsE', 'Neighborhood_Crawfor', 'KitchenAbvGr', 'SaleType_New', 'SaleCondition_Normal', 'LotShape_IR2', 'MasVnrArea', 'ScreenPorch', 'Functional_Typ', 'RoofStyle_Gable'] \n",
      "AIC:  -6502.66015055654 \n",
      "BIC:  -6492.803074920211\n",
      "Selected features:  ['GrLivArea', 'Age_Of House', 'TotalBsmtSF', 'Neighborhood_NridgHt', 'Neighborhood_StoneBr', 'GarageCars', 'BsmtFinSF1', 'KitchenQual_TA', 'KitchenQual_Gd', 'KitchenQual_Fa', 'BldgType_TwnhsE', 'Neighborhood_Crawfor', 'KitchenAbvGr', 'SaleType_New', 'SaleCondition_Normal', 'LotShape_IR2', 'MasVnrArea', 'ScreenPorch', 'Functional_Typ', 'RoofStyle_Gable', 'BedroomAbvGr'] \n",
      "AIC:  -6513.512190069253 \n",
      "BIC:  -6503.655114432923\n",
      "Selected features:  ['GrLivArea', 'Age_Of House', 'TotalBsmtSF', 'Neighborhood_NridgHt', 'Neighborhood_StoneBr', 'GarageCars', 'BsmtFinSF1', 'KitchenQual_TA', 'KitchenQual_Gd', 'KitchenQual_Fa', 'BldgType_TwnhsE', 'Neighborhood_Crawfor', 'KitchenAbvGr', 'SaleType_New', 'SaleCondition_Normal', 'LotShape_IR2', 'MasVnrArea', 'ScreenPorch', 'Functional_Typ', 'RoofStyle_Gable', 'BedroomAbvGr', 'WoodDeckSF'] \n",
      "AIC:  -6522.976815478925 \n",
      "BIC:  -6513.119739842596\n",
      "Selected features:  ['GrLivArea', 'Age_Of House', 'TotalBsmtSF', 'Neighborhood_NridgHt', 'Neighborhood_StoneBr', 'GarageCars', 'BsmtFinSF1', 'KitchenQual_TA', 'KitchenQual_Gd', 'KitchenQual_Fa', 'BldgType_TwnhsE', 'Neighborhood_Crawfor', 'KitchenAbvGr', 'SaleType_New', 'SaleCondition_Normal', 'LotShape_IR2', 'MasVnrArea', 'ScreenPorch', 'Functional_Typ', 'RoofStyle_Gable', 'BedroomAbvGr', 'WoodDeckSF', 'ExterQual_TA'] \n",
      "AIC:  -6534.164336862706 \n",
      "BIC:  -6524.307261226376\n",
      "Selected features:  ['GrLivArea', 'Age_Of House', 'TotalBsmtSF', 'Neighborhood_NridgHt', 'Neighborhood_StoneBr', 'GarageCars', 'BsmtFinSF1', 'KitchenQual_TA', 'KitchenQual_Gd', 'KitchenQual_Fa', 'BldgType_TwnhsE', 'Neighborhood_Crawfor', 'KitchenAbvGr', 'SaleType_New', 'SaleCondition_Normal', 'LotShape_IR2', 'MasVnrArea', 'ScreenPorch', 'Functional_Typ', 'RoofStyle_Gable', 'BedroomAbvGr', 'WoodDeckSF', 'ExterQual_TA', 'BsmtExposure_Gd'] \n",
      "AIC:  -6546.040359568563 \n",
      "BIC:  -6536.183283932233\n",
      "Selected features:  ['GrLivArea', 'Age_Of House', 'TotalBsmtSF', 'Neighborhood_NridgHt', 'Neighborhood_StoneBr', 'GarageCars', 'BsmtFinSF1', 'KitchenQual_TA', 'KitchenQual_Gd', 'KitchenQual_Fa', 'BldgType_TwnhsE', 'Neighborhood_Crawfor', 'KitchenAbvGr', 'SaleType_New', 'SaleCondition_Normal', 'LotShape_IR2', 'MasVnrArea', 'ScreenPorch', 'Functional_Typ', 'RoofStyle_Gable', 'BedroomAbvGr', 'WoodDeckSF', 'ExterQual_TA', 'BsmtExposure_Gd', 'Street_Pave'] \n",
      "AIC:  -6558.132772744873 \n",
      "BIC:  -6548.275697108544\n",
      "Selected features:  ['GrLivArea', 'Age_Of House', 'TotalBsmtSF', 'Neighborhood_NridgHt', 'Neighborhood_StoneBr', 'GarageCars', 'BsmtFinSF1', 'KitchenQual_TA', 'KitchenQual_Gd', 'KitchenQual_Fa', 'BldgType_TwnhsE', 'Neighborhood_Crawfor', 'KitchenAbvGr', 'SaleType_New', 'SaleCondition_Normal', 'LotShape_IR2', 'MasVnrArea', 'ScreenPorch', 'Functional_Typ', 'RoofStyle_Gable', 'BedroomAbvGr', 'WoodDeckSF', 'ExterQual_TA', 'BsmtExposure_Gd', 'Street_Pave', 'TotRmsAbvGrd'] \n",
      "AIC:  -6567.131447781062 \n",
      "BIC:  -6557.274372144732\n",
      "Selected features:  ['GrLivArea', 'Age_Of House', 'TotalBsmtSF', 'Neighborhood_NridgHt', 'Neighborhood_StoneBr', 'GarageCars', 'BsmtFinSF1', 'KitchenQual_TA', 'KitchenQual_Gd', 'KitchenQual_Fa', 'BldgType_TwnhsE', 'Neighborhood_Crawfor', 'KitchenAbvGr', 'SaleType_New', 'SaleCondition_Normal', 'LotShape_IR2', 'MasVnrArea', 'ScreenPorch', 'Functional_Typ', 'RoofStyle_Gable', 'BedroomAbvGr', 'WoodDeckSF', 'ExterQual_TA', 'BsmtExposure_Gd', 'Street_Pave', 'TotRmsAbvGrd', 'MSZoning_FV'] \n",
      "AIC:  -6577.649440299612 \n",
      "BIC:  -6567.792364663283\n"
     ]
    },
    {
     "name": "stdout",
     "output_type": "stream",
     "text": [
      "Selected features:  ['GrLivArea', 'Age_Of House', 'TotalBsmtSF', 'Neighborhood_NridgHt', 'Neighborhood_StoneBr', 'GarageCars', 'BsmtFinSF1', 'KitchenQual_TA', 'KitchenQual_Gd', 'KitchenQual_Fa', 'BldgType_TwnhsE', 'Neighborhood_Crawfor', 'KitchenAbvGr', 'SaleType_New', 'SaleCondition_Normal', 'LotShape_IR2', 'MasVnrArea', 'ScreenPorch', 'Functional_Typ', 'RoofStyle_Gable', 'BedroomAbvGr', 'WoodDeckSF', 'ExterQual_TA', 'BsmtExposure_Gd', 'Street_Pave', 'TotRmsAbvGrd', 'MSZoning_FV', 'Fireplaces'] \n",
      "AIC:  -6585.986521721486 \n",
      "BIC:  -6576.129446085156\n",
      "Selected features:  ['GrLivArea', 'Age_Of House', 'TotalBsmtSF', 'Neighborhood_NridgHt', 'Neighborhood_StoneBr', 'GarageCars', 'BsmtFinSF1', 'KitchenQual_TA', 'KitchenQual_Gd', 'KitchenQual_Fa', 'BldgType_TwnhsE', 'Neighborhood_Crawfor', 'KitchenAbvGr', 'SaleType_New', 'SaleCondition_Normal', 'LotShape_IR2', 'MasVnrArea', 'ScreenPorch', 'Functional_Typ', 'RoofStyle_Gable', 'BedroomAbvGr', 'WoodDeckSF', 'ExterQual_TA', 'BsmtExposure_Gd', 'Street_Pave', 'TotRmsAbvGrd', 'MSZoning_FV', 'Fireplaces', 'RoofMatl_Tar&Grv'] \n",
      "AIC:  -6593.612850498198 \n",
      "BIC:  -6583.755774861868\n",
      "Selected features:  ['GrLivArea', 'Age_Of House', 'TotalBsmtSF', 'Neighborhood_NridgHt', 'Neighborhood_StoneBr', 'GarageCars', 'BsmtFinSF1', 'KitchenQual_TA', 'KitchenQual_Gd', 'KitchenQual_Fa', 'BldgType_TwnhsE', 'Neighborhood_Crawfor', 'KitchenAbvGr', 'SaleType_New', 'SaleCondition_Normal', 'LotShape_IR2', 'MasVnrArea', 'ScreenPorch', 'Functional_Typ', 'RoofStyle_Gable', 'BedroomAbvGr', 'WoodDeckSF', 'ExterQual_TA', 'BsmtExposure_Gd', 'Street_Pave', 'TotRmsAbvGrd', 'MSZoning_FV', 'Fireplaces', 'RoofMatl_Tar&Grv', 'Exterior2nd_ImStucc'] \n",
      "AIC:  -6600.480581180457 \n",
      "BIC:  -6590.6235055441275\n",
      "Selected features:  ['GrLivArea', 'Age_Of House', 'TotalBsmtSF', 'Neighborhood_NridgHt', 'Neighborhood_StoneBr', 'GarageCars', 'BsmtFinSF1', 'KitchenQual_TA', 'KitchenQual_Gd', 'KitchenQual_Fa', 'BldgType_TwnhsE', 'Neighborhood_Crawfor', 'KitchenAbvGr', 'SaleType_New', 'SaleCondition_Normal', 'LotShape_IR2', 'MasVnrArea', 'ScreenPorch', 'Functional_Typ', 'RoofStyle_Gable', 'BedroomAbvGr', 'WoodDeckSF', 'ExterQual_TA', 'BsmtExposure_Gd', 'Street_Pave', 'TotRmsAbvGrd', 'MSZoning_FV', 'Fireplaces', 'RoofMatl_Tar&Grv', 'Exterior2nd_ImStucc', 'BsmtExposure_Gd'] \n",
      "AIC:  -6618.56904309668 \n",
      "BIC:  -6608.71196746035\n",
      "Selected features:  ['GrLivArea', 'Age_Of House', 'TotalBsmtSF', 'Neighborhood_NridgHt', 'Neighborhood_StoneBr', 'GarageCars', 'BsmtFinSF1', 'KitchenQual_TA', 'KitchenQual_Gd', 'KitchenQual_Fa', 'BldgType_TwnhsE', 'Neighborhood_Crawfor', 'KitchenAbvGr', 'SaleType_New', 'SaleCondition_Normal', 'LotShape_IR2', 'MasVnrArea', 'ScreenPorch', 'Functional_Typ', 'RoofStyle_Gable', 'BedroomAbvGr', 'WoodDeckSF', 'ExterQual_TA', 'BsmtExposure_Gd', 'Street_Pave', 'TotRmsAbvGrd', 'MSZoning_FV', 'Fireplaces', 'RoofMatl_Tar&Grv', 'Exterior2nd_ImStucc', 'BsmtExposure_Gd', 'BsmtCond_TA'] \n",
      "AIC:  -6627.036140857268 \n",
      "BIC:  -6617.179065220938\n",
      "Selected features:  ['GrLivArea', 'Age_Of House', 'TotalBsmtSF', 'Neighborhood_NridgHt', 'Neighborhood_StoneBr', 'GarageCars', 'BsmtFinSF1', 'KitchenQual_TA', 'KitchenQual_Gd', 'KitchenQual_Fa', 'BldgType_TwnhsE', 'Neighborhood_Crawfor', 'KitchenAbvGr', 'SaleType_New', 'SaleCondition_Normal', 'LotShape_IR2', 'MasVnrArea', 'ScreenPorch', 'Functional_Typ', 'RoofStyle_Gable', 'BedroomAbvGr', 'WoodDeckSF', 'ExterQual_TA', 'BsmtExposure_Gd', 'Street_Pave', 'TotRmsAbvGrd', 'MSZoning_FV', 'Fireplaces', 'RoofMatl_Tar&Grv', 'Exterior2nd_ImStucc', 'BsmtExposure_Gd', 'BsmtCond_TA', 'BedroomAbvGr'] \n",
      "AIC:  -6641.061132791555 \n",
      "BIC:  -6631.204057155225\n",
      "\n",
      "\n",
      "Final r-squared:  0.8748929953339928\n"
     ]
    }
   ],
   "source": [
    "features = X_train.columns\n",
    "\n",
    "regression = LinearRegression()\n",
    "\n",
    "selected_features = []\n",
    "min_aic = np.inf\n",
    "for step in range(0, 33, 1):\n",
    "    for feature in features:\n",
    "        testing_features = selected_features + [feature]\n",
    "        regression.fit(X_train[testing_features], y_train)\n",
    "        y_pred = regression.predict(X_test[testing_features])\n",
    "        mse = metrics.mean_squared_error(y_test, y_pred)\n",
    "        num_params = len(regression.coef_) + 1  # features and intercept\n",
    "        n = X_train.shape[0]\n",
    "        aic = calculate_aic(n, mse, num_params)\n",
    "        bic = calculate_bic(n, mse, num_params)\n",
    "        if aic < min_aic:\n",
    "            min_aic = aic\n",
    "            current_bic = bic\n",
    "            best_feature = feature\n",
    "    selected_features = selected_features + [best_feature]\n",
    "    print(\"Selected features: \", selected_features, \"\\nAIC: \", min_aic, \"\\nBIC: \", current_bic)\n",
    "\n",
    "y_pred = regression.predict(X_test[selected_features])\n",
    "print(\"\\n\\nFinal r-squared: \", metrics.r2_score(y_test, y_pred))"
   ]
  },
  {
   "cell_type": "code",
   "execution_count": 209,
   "metadata": {},
   "outputs": [
    {
     "data": {
      "text/plain": [
       "array([[ 3.99821601e-01, -6.99379815e-02,  8.95710220e-02,\n",
       "         4.11172125e-02,  5.34896041e-02,  7.45728981e-02,\n",
       "         5.33017932e-02, -7.23722058e-02, -6.04749597e-02,\n",
       "        -7.33236947e-02, -2.91079728e-02,  4.70501038e-02,\n",
       "        -1.24128179e-01,  1.86910942e-02,  1.01201770e-02,\n",
       "         1.16310379e-02,  4.01910243e-02,  2.62951261e-02,\n",
       "         2.93327543e-02, -7.87240224e-03, -2.67769176e-02,\n",
       "         4.44085024e-02, -2.07867663e-02, -4.75198646e+12,\n",
       "         4.66158657e-02,  1.99301926e-02,  1.74816233e-02,\n",
       "         2.48017326e-02, -2.34885298e-02,  3.72393887e-02,\n",
       "         4.75198646e+12,  4.69740648e-03,  9.38678808e-03]])"
      ]
     },
     "execution_count": 209,
     "metadata": {},
     "output_type": "execute_result"
    }
   ],
   "source": [
    "regression.coef_"
   ]
  },
  {
   "cell_type": "code",
   "execution_count": null,
   "metadata": {},
   "outputs": [],
   "source": [
    "##Got Stuck after Lasso..."
   ]
  },
  {
   "cell_type": "code",
   "execution_count": null,
   "metadata": {},
   "outputs": [],
   "source": []
  }
 ],
 "metadata": {
  "kernelspec": {
   "display_name": "Python 3.7.4 64-bit ('notebook': conda)",
   "language": "python",
   "name": "python37464bitnotebookconda8f2e860ae60f404ab6dde2886cbdd999"
  },
  "language_info": {
   "codemirror_mode": {
    "name": "ipython",
    "version": 3
   },
   "file_extension": ".py",
   "mimetype": "text/x-python",
   "name": "python",
   "nbconvert_exporter": "python",
   "pygments_lexer": "ipython3",
   "version": "3.7.4"
  }
 },
 "nbformat": 4,
 "nbformat_minor": 2
}
